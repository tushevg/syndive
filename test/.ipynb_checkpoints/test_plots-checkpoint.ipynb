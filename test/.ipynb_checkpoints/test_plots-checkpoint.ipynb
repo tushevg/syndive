{
 "cells": [
  {
   "cell_type": "code",
   "execution_count": 1,
   "id": "821b764f-3099-481c-ac77-da137994d09d",
   "metadata": {},
   "outputs": [],
   "source": [
    "import sqlite3\n",
    "import pandas as pd\n",
    "import numpy as np\n",
    "import plotly.express as px\n",
    "import random\n",
    "import re\n",
    "from plotly.subplots import make_subplots"
   ]
  },
  {
   "cell_type": "code",
   "execution_count": 2,
   "id": "e9a0e38a-2159-4631-a8b8-677dd6aa6915",
   "metadata": {
    "tags": []
   },
   "outputs": [],
   "source": [
    "### --- HELPER FUNCTIONS --- ###\n",
    "def dbquery_find_list(search_list: list,\n",
    "                      db_column: str,\n",
    "                      db_table: str,\n",
    "                      db_file: str) -> pd.DataFrame:\n",
    "    query = f\"SELECT * FROM {db_table} WHERE {db_column} IN ({','.join(['?']*len(search_list))}) ORDER BY {db_column} ASC\"\n",
    "    conn = sqlite3.connect(db_file)\n",
    "    df = pd.read_sql(query, conn, params=search_list)\n",
    "    conn.close()\n",
    "    return df"
   ]
  },
  {
   "cell_type": "code",
   "execution_count": 5,
   "id": "8d1daedd-5998-4741-b312-9e5875d3e76f",
   "metadata": {
    "tags": []
   },
   "outputs": [],
   "source": [
    "### --- ALLOCATE DATA --- ###\n",
    "db_file = '../data/mpibr_synprot.db'\n",
    "query_list = ['Dlg4','Gad1', 'Gad2', \n",
    "               'Shank1', 'Slc17a7', 'Slc32a1', \n",
    "               'Slc6a3', 'Th', 'Camk2a']\n",
    "df_info = dbquery_find_list(query_list, 'gene', 'info', db_file)\n",
    "df_enriched = dbquery_find_list(df_info['protein'].to_list(), 'protein', 'enriched', db_file)\n",
    "df_expressed = dbquery_find_list(df_info['protein'].to_list(), 'protein', 'expressed', db_file)"
   ]
  },
  {
   "cell_type": "code",
   "execution_count": 8,
   "id": "cce9fbc7-39d3-489b-9de6-0f1ac191bb50",
   "metadata": {
    "tags": []
   },
   "outputs": [
    {
     "name": "stdout",
     "output_type": "stream",
     "text": [
      "0 Camk2a\n",
      "1 Dlg4\n",
      "2 Gad1\n",
      "3 Gad2\n",
      "4 Shank1\n",
      "5 Slc17a7\n",
      "6 Slc32a1\n",
      "7 Slc6a3\n",
      "8 Th\n",
      "['Camk2a', 'Dlg4', 'Gad1', 'Gad2', 'Shank1', 'Slc17a7', 'Slc32a1', 'Slc6a3', 'Th']\n"
     ]
    },
    {
     "data": {
      "application/vnd.plotly.v1+json": {
       "config": {
        "plotlyServerURL": "https://plot.ly"
       },
       "data": [
        {
         "customdata": [
          [
           "Cortex",
           "Camk2a-cre"
          ],
          [
           "Hippocampus",
           "Camk2a-cre"
          ],
          [
           "Striatum",
           "Camk2a-cre"
          ],
          [
           "OlfactoryBulb",
           "Camk2a-cre"
          ],
          [
           "Cortex",
           "Camk2a-cre"
          ],
          [
           "Hippocampus",
           "Camk2a-cre"
          ],
          [
           "Striatum",
           "Camk2a-cre"
          ],
          [
           "OlfactoryBulb",
           "Camk2a-cre"
          ],
          [
           "OlfactoryBulb",
           "Camk2a-cre"
          ],
          [
           "OlfactoryBulb",
           "Camk2a-cre"
          ],
          [
           "Cortex",
           "Camk2a-cre"
          ],
          [
           "Hippocampus",
           "Camk2a-cre"
          ],
          [
           "OlfactoryBulb",
           "Camk2a-cre"
          ],
          [
           "Cortex",
           "Camk2a-cre"
          ],
          [
           "Hippocampus",
           "Camk2a-cre"
          ],
          [
           "Striatum",
           "Camk2a-cre"
          ],
          [
           "OlfactoryBulb",
           "Camk2a-cre"
          ],
          [
           "OlfactoryBulb",
           "Camk2a-cre"
          ]
         ],
         "hovertemplate": "<b>%{hovertext}</b><br><br>mouse line=%{customdata[1]}<br>region=%{customdata[0]}<extra></extra>",
         "hovertext": [
          "Camk2a",
          "Camk2a",
          "Camk2a",
          "Camk2a",
          "Dlg4",
          "Dlg4",
          "Dlg4",
          "Dlg4",
          "Gad1",
          "Gad2",
          "Shank1",
          "Shank1",
          "Shank1",
          "Slc17a7",
          "Slc17a7",
          "Slc17a7",
          "Slc17a7",
          "Slc32a1"
         ],
         "legendgroup": "Camk2a-cre",
         "marker": {
          "color": "#1E90FF",
          "opacity": 0.8,
          "symbol": "circle"
         },
         "mode": "markers",
         "name": "Camk2a-cre",
         "orientation": "h",
         "showlegend": true,
         "type": "scatter",
         "x": [
          1.7,
          2.7,
          4.7,
          3.7,
          1.7,
          2.7,
          4.7,
          3.7,
          3.7,
          3.7,
          1.7,
          2.7,
          3.7,
          1.7,
          2.7,
          4.7,
          3.7,
          3.7
         ],
         "xaxis": "x",
         "y": [
          "Camk2a",
          "Camk2a",
          "Camk2a",
          "Camk2a",
          "Dlg4",
          "Dlg4",
          "Dlg4",
          "Dlg4",
          "Gad1",
          "Gad2",
          "Shank1",
          "Shank1",
          "Shank1",
          "Slc17a7",
          "Slc17a7",
          "Slc17a7",
          "Slc17a7",
          "Slc32a1"
         ],
         "yaxis": "y"
        },
        {
         "customdata": [
          [
           "Striatum",
           "Dat1-cre"
          ],
          [
           "Striatum",
           "Dat1-cre"
          ]
         ],
         "hovertemplate": "<b>%{hovertext}</b><br><br>mouse line=%{customdata[1]}<br>region=%{customdata[0]}<extra></extra>",
         "hovertext": [
          "Slc6a3",
          "Th"
         ],
         "legendgroup": "Dat1-cre",
         "marker": {
          "color": "#00BFFF",
          "opacity": 0.8,
          "symbol": "circle"
         },
         "mode": "markers",
         "name": "Dat1-cre",
         "orientation": "h",
         "showlegend": true,
         "type": "scatter",
         "x": [
          4.8,
          4.8
         ],
         "xaxis": "x",
         "y": [
          "Slc6a3",
          "Th"
         ],
         "yaxis": "y"
        },
        {
         "customdata": [
          [
           "Hippocampus",
           "Syn1-cre"
          ],
          [
           "Cortex",
           "Syn1-cre"
          ],
          [
           "Striatum",
           "Syn1-cre"
          ],
          [
           "Cerebellum",
           "Syn1-cre"
          ],
          [
           "OlfactoryBulb",
           "Syn1-cre"
          ],
          [
           "Hippocampus",
           "Syn1-cre"
          ],
          [
           "Cortex",
           "Syn1-cre"
          ],
          [
           "Striatum",
           "Syn1-cre"
          ],
          [
           "Cerebellum",
           "Syn1-cre"
          ],
          [
           "OlfactoryBulb",
           "Syn1-cre"
          ],
          [
           "Hippocampus",
           "Syn1-cre"
          ],
          [
           "Cortex",
           "Syn1-cre"
          ],
          [
           "Cerebellum",
           "Syn1-cre"
          ],
          [
           "OlfactoryBulb",
           "Syn1-cre"
          ],
          [
           "Cortex",
           "Syn1-cre"
          ],
          [
           "Cerebellum",
           "Syn1-cre"
          ],
          [
           "OlfactoryBulb",
           "Syn1-cre"
          ],
          [
           "Hippocampus",
           "Syn1-cre"
          ],
          [
           "Cortex",
           "Syn1-cre"
          ],
          [
           "OlfactoryBulb",
           "Syn1-cre"
          ],
          [
           "Cortex",
           "Syn1-cre"
          ],
          [
           "Striatum",
           "Syn1-cre"
          ],
          [
           "OlfactoryBulb",
           "Syn1-cre"
          ],
          [
           "Hippocampus",
           "Syn1-cre"
          ],
          [
           "Cortex",
           "Syn1-cre"
          ],
          [
           "Cerebellum",
           "Syn1-cre"
          ],
          [
           "OlfactoryBulb",
           "Syn1-cre"
          ],
          [
           "Hippocampus",
           "Syn1-cre"
          ],
          [
           "OlfactoryBulb",
           "Syn1-cre"
          ]
         ],
         "hovertemplate": "<b>%{hovertext}</b><br><br>mouse line=%{customdata[1]}<br>region=%{customdata[0]}<extra></extra>",
         "hovertext": [
          "Camk2a",
          "Camk2a",
          "Camk2a",
          "Camk2a",
          "Camk2a",
          "Dlg4",
          "Dlg4",
          "Dlg4",
          "Dlg4",
          "Dlg4",
          "Gad1",
          "Gad1",
          "Gad1",
          "Gad1",
          "Gad2",
          "Gad2",
          "Gad2",
          "Shank1",
          "Shank1",
          "Shank1",
          "Slc17a7",
          "Slc17a7",
          "Slc17a7",
          "Slc32a1",
          "Slc32a1",
          "Slc32a1",
          "Slc32a1",
          "Th",
          "Th"
         ],
         "legendgroup": "Syn1-cre",
         "marker": {
          "color": "#32CD32",
          "opacity": 0.8,
          "symbol": "circle"
         },
         "mode": "markers",
         "name": "Syn1-cre",
         "orientation": "h",
         "showlegend": true,
         "type": "scatter",
         "x": [
          2.9,
          1.9,
          4.9,
          0.9,
          3.9,
          2.9,
          1.9,
          4.9,
          0.9,
          3.9,
          2.9,
          1.9,
          0.9,
          3.9,
          1.9,
          0.9,
          3.9,
          2.9,
          1.9,
          3.9,
          1.9,
          4.9,
          3.9,
          2.9,
          1.9,
          0.9,
          3.9,
          2.9,
          3.9
         ],
         "xaxis": "x",
         "y": [
          "Camk2a",
          "Camk2a",
          "Camk2a",
          "Camk2a",
          "Camk2a",
          "Dlg4",
          "Dlg4",
          "Dlg4",
          "Dlg4",
          "Dlg4",
          "Gad1",
          "Gad1",
          "Gad1",
          "Gad1",
          "Gad2",
          "Gad2",
          "Gad2",
          "Shank1",
          "Shank1",
          "Shank1",
          "Slc17a7",
          "Slc17a7",
          "Slc17a7",
          "Slc32a1",
          "Slc32a1",
          "Slc32a1",
          "Slc32a1",
          "Th",
          "Th"
         ],
         "yaxis": "y"
        },
        {
         "customdata": [
          [
           "Cerebellum",
           "Gad2-cre"
          ],
          [
           "Cerebellum",
           "Gad2-cre"
          ],
          [
           "Striatum",
           "Gad2-cre"
          ],
          [
           "Hippocampus",
           "Gad2-cre"
          ],
          [
           "Cortex",
           "Gad2-cre"
          ],
          [
           "Cerebellum",
           "Gad2-cre"
          ],
          [
           "OlfactoryBulb",
           "Gad2-cre"
          ],
          [
           "Striatum",
           "Gad2-cre"
          ],
          [
           "Hippocampus",
           "Gad2-cre"
          ],
          [
           "Cortex",
           "Gad2-cre"
          ],
          [
           "Cerebellum",
           "Gad2-cre"
          ],
          [
           "OlfactoryBulb",
           "Gad2-cre"
          ],
          [
           "Striatum",
           "Gad2-cre"
          ],
          [
           "Striatum",
           "Gad2-cre"
          ],
          [
           "Hippocampus",
           "Gad2-cre"
          ],
          [
           "Cortex",
           "Gad2-cre"
          ],
          [
           "Cerebellum",
           "Gad2-cre"
          ],
          [
           "OlfactoryBulb",
           "Gad2-cre"
          ],
          [
           "Striatum",
           "Gad2-cre"
          ],
          [
           "Cortex",
           "Gad2-cre"
          ],
          [
           "OlfactoryBulb",
           "Gad2-cre"
          ]
         ],
         "hovertemplate": "<b>%{hovertext}</b><br><br>mouse line=%{customdata[1]}<br>region=%{customdata[0]}<extra></extra>",
         "hovertext": [
          "Camk2a",
          "Dlg4",
          "Dlg4",
          "Gad1",
          "Gad1",
          "Gad1",
          "Gad1",
          "Gad1",
          "Gad2",
          "Gad2",
          "Gad2",
          "Gad2",
          "Gad2",
          "Shank1",
          "Slc32a1",
          "Slc32a1",
          "Slc32a1",
          "Slc32a1",
          "Slc32a1",
          "Slc6a3",
          "Th"
         ],
         "legendgroup": "Gad2-cre",
         "marker": {
          "color": "#FF6347",
          "opacity": 0.8,
          "symbol": "circle"
         },
         "mode": "markers",
         "name": "Gad2-cre",
         "orientation": "h",
         "showlegend": true,
         "type": "scatter",
         "x": [
          1,
          1,
          5,
          3,
          2,
          1,
          4,
          5,
          3,
          2,
          1,
          4,
          5,
          5,
          3,
          2,
          1,
          4,
          5,
          2,
          4
         ],
         "xaxis": "x",
         "y": [
          "Camk2a",
          "Dlg4",
          "Dlg4",
          "Gad1",
          "Gad1",
          "Gad1",
          "Gad1",
          "Gad1",
          "Gad2",
          "Gad2",
          "Gad2",
          "Gad2",
          "Gad2",
          "Shank1",
          "Slc32a1",
          "Slc32a1",
          "Slc32a1",
          "Slc32a1",
          "Slc32a1",
          "Slc6a3",
          "Th"
         ],
         "yaxis": "y"
        },
        {
         "customdata": [
          [
           "Cortex",
           "PV-cre"
          ],
          [
           "Cortex",
           "PV-cre"
          ],
          [
           "Cortex",
           "PV-cre"
          ]
         ],
         "hovertemplate": "<b>%{hovertext}</b><br><br>mouse line=%{customdata[1]}<br>region=%{customdata[0]}<extra></extra>",
         "hovertext": [
          "Gad1",
          "Gad2",
          "Slc32a1"
         ],
         "legendgroup": "PV-cre",
         "marker": {
          "color": "#9400D3",
          "opacity": 0.8,
          "symbol": "circle"
         },
         "mode": "markers",
         "name": "PV-cre",
         "orientation": "h",
         "showlegend": true,
         "type": "scatter",
         "x": [
          2.1,
          2.1,
          2.1
         ],
         "xaxis": "x",
         "y": [
          "Gad1",
          "Gad2",
          "Slc32a1"
         ],
         "yaxis": "y"
        },
        {
         "customdata": [
          [
           "Cortex",
           "SST-cre"
          ],
          [
           "Cortex",
           "SST-cre"
          ],
          [
           "Cortex",
           "SST-cre"
          ]
         ],
         "hovertemplate": "<b>%{hovertext}</b><br><br>mouse line=%{customdata[1]}<br>region=%{customdata[0]}<extra></extra>",
         "hovertext": [
          "Gad1",
          "Gad2",
          "Slc32a1"
         ],
         "legendgroup": "SST-cre",
         "marker": {
          "color": "#FFD700",
          "opacity": 0.8,
          "symbol": "circle"
         },
         "mode": "markers",
         "name": "SST-cre",
         "orientation": "h",
         "showlegend": true,
         "type": "scatter",
         "x": [
          2.2,
          2.2,
          2.2
         ],
         "xaxis": "x",
         "y": [
          "Gad1",
          "Gad2",
          "Slc32a1"
         ],
         "yaxis": "y"
        },
        {
         "customdata": [
          [
           "Cortex",
           "VIP-cre"
          ],
          [
           "Cortex",
           "VIP-cre"
          ],
          [
           "Cortex",
           "VIP-cre"
          ]
         ],
         "hovertemplate": "<b>%{hovertext}</b><br><br>mouse line=%{customdata[1]}<br>region=%{customdata[0]}<extra></extra>",
         "hovertext": [
          "Gad1",
          "Gad2",
          "Slc32a1"
         ],
         "legendgroup": "VIP-cre",
         "marker": {
          "color": "#FFA500",
          "opacity": 0.8,
          "symbol": "circle"
         },
         "mode": "markers",
         "name": "VIP-cre",
         "orientation": "h",
         "showlegend": true,
         "type": "scatter",
         "x": [
          2.3000000000000003,
          2.3000000000000003,
          2.3000000000000003
         ],
         "xaxis": "x",
         "y": [
          "Gad1",
          "Gad2",
          "Slc32a1"
         ],
         "yaxis": "y"
        }
       ],
       "layout": {
        "autosize": true,
        "legend": {
         "title": {
          "text": "mouse line"
         },
         "tracegroupgap": 0
        },
        "shapes": [
         {
          "line": {
           "color": "grey",
           "width": 0.5
          },
          "type": "line",
          "x0": 0.5,
          "x1": 0.5,
          "xref": "x",
          "y0": 0,
          "y1": 1,
          "yref": "y domain"
         },
         {
          "line": {
           "color": "grey",
           "width": 0.5
          },
          "type": "line",
          "x0": 1.5,
          "x1": 1.5,
          "xref": "x",
          "y0": 0,
          "y1": 1,
          "yref": "y domain"
         },
         {
          "line": {
           "color": "grey",
           "width": 0.5
          },
          "type": "line",
          "x0": 2.5,
          "x1": 2.5,
          "xref": "x",
          "y0": 0,
          "y1": 1,
          "yref": "y domain"
         },
         {
          "line": {
           "color": "grey",
           "width": 0.5
          },
          "type": "line",
          "x0": 3.5,
          "x1": 3.5,
          "xref": "x",
          "y0": 0,
          "y1": 1,
          "yref": "y domain"
         },
         {
          "line": {
           "color": "grey",
           "width": 0.5
          },
          "type": "line",
          "x0": 4.5,
          "x1": 4.5,
          "xref": "x",
          "y0": 0,
          "y1": 1,
          "yref": "y domain"
         },
         {
          "line": {
           "color": "grey",
           "width": 0.5
          },
          "type": "line",
          "x0": 5.5,
          "x1": 5.5,
          "xref": "x",
          "y0": 0,
          "y1": 1,
          "yref": "y domain"
         }
        ],
        "template": {
         "data": {
          "bar": [
           {
            "error_x": {
             "color": "#2a3f5f"
            },
            "error_y": {
             "color": "#2a3f5f"
            },
            "marker": {
             "line": {
              "color": "white",
              "width": 0.5
             },
             "pattern": {
              "fillmode": "overlay",
              "size": 10,
              "solidity": 0.2
             }
            },
            "type": "bar"
           }
          ],
          "barpolar": [
           {
            "marker": {
             "line": {
              "color": "white",
              "width": 0.5
             },
             "pattern": {
              "fillmode": "overlay",
              "size": 10,
              "solidity": 0.2
             }
            },
            "type": "barpolar"
           }
          ],
          "carpet": [
           {
            "aaxis": {
             "endlinecolor": "#2a3f5f",
             "gridcolor": "#C8D4E3",
             "linecolor": "#C8D4E3",
             "minorgridcolor": "#C8D4E3",
             "startlinecolor": "#2a3f5f"
            },
            "baxis": {
             "endlinecolor": "#2a3f5f",
             "gridcolor": "#C8D4E3",
             "linecolor": "#C8D4E3",
             "minorgridcolor": "#C8D4E3",
             "startlinecolor": "#2a3f5f"
            },
            "type": "carpet"
           }
          ],
          "choropleth": [
           {
            "colorbar": {
             "outlinewidth": 0,
             "ticks": ""
            },
            "type": "choropleth"
           }
          ],
          "contour": [
           {
            "colorbar": {
             "outlinewidth": 0,
             "ticks": ""
            },
            "colorscale": [
             [
              0,
              "#0d0887"
             ],
             [
              0.1111111111111111,
              "#46039f"
             ],
             [
              0.2222222222222222,
              "#7201a8"
             ],
             [
              0.3333333333333333,
              "#9c179e"
             ],
             [
              0.4444444444444444,
              "#bd3786"
             ],
             [
              0.5555555555555556,
              "#d8576b"
             ],
             [
              0.6666666666666666,
              "#ed7953"
             ],
             [
              0.7777777777777778,
              "#fb9f3a"
             ],
             [
              0.8888888888888888,
              "#fdca26"
             ],
             [
              1,
              "#f0f921"
             ]
            ],
            "type": "contour"
           }
          ],
          "contourcarpet": [
           {
            "colorbar": {
             "outlinewidth": 0,
             "ticks": ""
            },
            "type": "contourcarpet"
           }
          ],
          "heatmap": [
           {
            "colorbar": {
             "outlinewidth": 0,
             "ticks": ""
            },
            "colorscale": [
             [
              0,
              "#0d0887"
             ],
             [
              0.1111111111111111,
              "#46039f"
             ],
             [
              0.2222222222222222,
              "#7201a8"
             ],
             [
              0.3333333333333333,
              "#9c179e"
             ],
             [
              0.4444444444444444,
              "#bd3786"
             ],
             [
              0.5555555555555556,
              "#d8576b"
             ],
             [
              0.6666666666666666,
              "#ed7953"
             ],
             [
              0.7777777777777778,
              "#fb9f3a"
             ],
             [
              0.8888888888888888,
              "#fdca26"
             ],
             [
              1,
              "#f0f921"
             ]
            ],
            "type": "heatmap"
           }
          ],
          "heatmapgl": [
           {
            "colorbar": {
             "outlinewidth": 0,
             "ticks": ""
            },
            "colorscale": [
             [
              0,
              "#0d0887"
             ],
             [
              0.1111111111111111,
              "#46039f"
             ],
             [
              0.2222222222222222,
              "#7201a8"
             ],
             [
              0.3333333333333333,
              "#9c179e"
             ],
             [
              0.4444444444444444,
              "#bd3786"
             ],
             [
              0.5555555555555556,
              "#d8576b"
             ],
             [
              0.6666666666666666,
              "#ed7953"
             ],
             [
              0.7777777777777778,
              "#fb9f3a"
             ],
             [
              0.8888888888888888,
              "#fdca26"
             ],
             [
              1,
              "#f0f921"
             ]
            ],
            "type": "heatmapgl"
           }
          ],
          "histogram": [
           {
            "marker": {
             "pattern": {
              "fillmode": "overlay",
              "size": 10,
              "solidity": 0.2
             }
            },
            "type": "histogram"
           }
          ],
          "histogram2d": [
           {
            "colorbar": {
             "outlinewidth": 0,
             "ticks": ""
            },
            "colorscale": [
             [
              0,
              "#0d0887"
             ],
             [
              0.1111111111111111,
              "#46039f"
             ],
             [
              0.2222222222222222,
              "#7201a8"
             ],
             [
              0.3333333333333333,
              "#9c179e"
             ],
             [
              0.4444444444444444,
              "#bd3786"
             ],
             [
              0.5555555555555556,
              "#d8576b"
             ],
             [
              0.6666666666666666,
              "#ed7953"
             ],
             [
              0.7777777777777778,
              "#fb9f3a"
             ],
             [
              0.8888888888888888,
              "#fdca26"
             ],
             [
              1,
              "#f0f921"
             ]
            ],
            "type": "histogram2d"
           }
          ],
          "histogram2dcontour": [
           {
            "colorbar": {
             "outlinewidth": 0,
             "ticks": ""
            },
            "colorscale": [
             [
              0,
              "#0d0887"
             ],
             [
              0.1111111111111111,
              "#46039f"
             ],
             [
              0.2222222222222222,
              "#7201a8"
             ],
             [
              0.3333333333333333,
              "#9c179e"
             ],
             [
              0.4444444444444444,
              "#bd3786"
             ],
             [
              0.5555555555555556,
              "#d8576b"
             ],
             [
              0.6666666666666666,
              "#ed7953"
             ],
             [
              0.7777777777777778,
              "#fb9f3a"
             ],
             [
              0.8888888888888888,
              "#fdca26"
             ],
             [
              1,
              "#f0f921"
             ]
            ],
            "type": "histogram2dcontour"
           }
          ],
          "mesh3d": [
           {
            "colorbar": {
             "outlinewidth": 0,
             "ticks": ""
            },
            "type": "mesh3d"
           }
          ],
          "parcoords": [
           {
            "line": {
             "colorbar": {
              "outlinewidth": 0,
              "ticks": ""
             }
            },
            "type": "parcoords"
           }
          ],
          "pie": [
           {
            "automargin": true,
            "type": "pie"
           }
          ],
          "scatter": [
           {
            "fillpattern": {
             "fillmode": "overlay",
             "size": 10,
             "solidity": 0.2
            },
            "type": "scatter"
           }
          ],
          "scatter3d": [
           {
            "line": {
             "colorbar": {
              "outlinewidth": 0,
              "ticks": ""
             }
            },
            "marker": {
             "colorbar": {
              "outlinewidth": 0,
              "ticks": ""
             }
            },
            "type": "scatter3d"
           }
          ],
          "scattercarpet": [
           {
            "marker": {
             "colorbar": {
              "outlinewidth": 0,
              "ticks": ""
             }
            },
            "type": "scattercarpet"
           }
          ],
          "scattergeo": [
           {
            "marker": {
             "colorbar": {
              "outlinewidth": 0,
              "ticks": ""
             }
            },
            "type": "scattergeo"
           }
          ],
          "scattergl": [
           {
            "marker": {
             "colorbar": {
              "outlinewidth": 0,
              "ticks": ""
             }
            },
            "type": "scattergl"
           }
          ],
          "scattermapbox": [
           {
            "marker": {
             "colorbar": {
              "outlinewidth": 0,
              "ticks": ""
             }
            },
            "type": "scattermapbox"
           }
          ],
          "scatterpolar": [
           {
            "marker": {
             "colorbar": {
              "outlinewidth": 0,
              "ticks": ""
             }
            },
            "type": "scatterpolar"
           }
          ],
          "scatterpolargl": [
           {
            "marker": {
             "colorbar": {
              "outlinewidth": 0,
              "ticks": ""
             }
            },
            "type": "scatterpolargl"
           }
          ],
          "scatterternary": [
           {
            "marker": {
             "colorbar": {
              "outlinewidth": 0,
              "ticks": ""
             }
            },
            "type": "scatterternary"
           }
          ],
          "surface": [
           {
            "colorbar": {
             "outlinewidth": 0,
             "ticks": ""
            },
            "colorscale": [
             [
              0,
              "#0d0887"
             ],
             [
              0.1111111111111111,
              "#46039f"
             ],
             [
              0.2222222222222222,
              "#7201a8"
             ],
             [
              0.3333333333333333,
              "#9c179e"
             ],
             [
              0.4444444444444444,
              "#bd3786"
             ],
             [
              0.5555555555555556,
              "#d8576b"
             ],
             [
              0.6666666666666666,
              "#ed7953"
             ],
             [
              0.7777777777777778,
              "#fb9f3a"
             ],
             [
              0.8888888888888888,
              "#fdca26"
             ],
             [
              1,
              "#f0f921"
             ]
            ],
            "type": "surface"
           }
          ],
          "table": [
           {
            "cells": {
             "fill": {
              "color": "#EBF0F8"
             },
             "line": {
              "color": "white"
             }
            },
            "header": {
             "fill": {
              "color": "#C8D4E3"
             },
             "line": {
              "color": "white"
             }
            },
            "type": "table"
           }
          ]
         },
         "layout": {
          "annotationdefaults": {
           "arrowcolor": "#2a3f5f",
           "arrowhead": 0,
           "arrowwidth": 1
          },
          "autotypenumbers": "strict",
          "coloraxis": {
           "colorbar": {
            "outlinewidth": 0,
            "ticks": ""
           }
          },
          "colorscale": {
           "diverging": [
            [
             0,
             "#8e0152"
            ],
            [
             0.1,
             "#c51b7d"
            ],
            [
             0.2,
             "#de77ae"
            ],
            [
             0.3,
             "#f1b6da"
            ],
            [
             0.4,
             "#fde0ef"
            ],
            [
             0.5,
             "#f7f7f7"
            ],
            [
             0.6,
             "#e6f5d0"
            ],
            [
             0.7,
             "#b8e186"
            ],
            [
             0.8,
             "#7fbc41"
            ],
            [
             0.9,
             "#4d9221"
            ],
            [
             1,
             "#276419"
            ]
           ],
           "sequential": [
            [
             0,
             "#0d0887"
            ],
            [
             0.1111111111111111,
             "#46039f"
            ],
            [
             0.2222222222222222,
             "#7201a8"
            ],
            [
             0.3333333333333333,
             "#9c179e"
            ],
            [
             0.4444444444444444,
             "#bd3786"
            ],
            [
             0.5555555555555556,
             "#d8576b"
            ],
            [
             0.6666666666666666,
             "#ed7953"
            ],
            [
             0.7777777777777778,
             "#fb9f3a"
            ],
            [
             0.8888888888888888,
             "#fdca26"
            ],
            [
             1,
             "#f0f921"
            ]
           ],
           "sequentialminus": [
            [
             0,
             "#0d0887"
            ],
            [
             0.1111111111111111,
             "#46039f"
            ],
            [
             0.2222222222222222,
             "#7201a8"
            ],
            [
             0.3333333333333333,
             "#9c179e"
            ],
            [
             0.4444444444444444,
             "#bd3786"
            ],
            [
             0.5555555555555556,
             "#d8576b"
            ],
            [
             0.6666666666666666,
             "#ed7953"
            ],
            [
             0.7777777777777778,
             "#fb9f3a"
            ],
            [
             0.8888888888888888,
             "#fdca26"
            ],
            [
             1,
             "#f0f921"
            ]
           ]
          },
          "colorway": [
           "#636efa",
           "#EF553B",
           "#00cc96",
           "#ab63fa",
           "#FFA15A",
           "#19d3f3",
           "#FF6692",
           "#B6E880",
           "#FF97FF",
           "#FECB52"
          ],
          "font": {
           "color": "#2a3f5f"
          },
          "geo": {
           "bgcolor": "white",
           "lakecolor": "white",
           "landcolor": "white",
           "showlakes": true,
           "showland": true,
           "subunitcolor": "#C8D4E3"
          },
          "hoverlabel": {
           "align": "left"
          },
          "hovermode": "closest",
          "mapbox": {
           "style": "light"
          },
          "paper_bgcolor": "white",
          "plot_bgcolor": "white",
          "polar": {
           "angularaxis": {
            "gridcolor": "#EBF0F8",
            "linecolor": "#EBF0F8",
            "ticks": ""
           },
           "bgcolor": "white",
           "radialaxis": {
            "gridcolor": "#EBF0F8",
            "linecolor": "#EBF0F8",
            "ticks": ""
           }
          },
          "scene": {
           "xaxis": {
            "backgroundcolor": "white",
            "gridcolor": "#DFE8F3",
            "gridwidth": 2,
            "linecolor": "#EBF0F8",
            "showbackground": true,
            "ticks": "",
            "zerolinecolor": "#EBF0F8"
           },
           "yaxis": {
            "backgroundcolor": "white",
            "gridcolor": "#DFE8F3",
            "gridwidth": 2,
            "linecolor": "#EBF0F8",
            "showbackground": true,
            "ticks": "",
            "zerolinecolor": "#EBF0F8"
           },
           "zaxis": {
            "backgroundcolor": "white",
            "gridcolor": "#DFE8F3",
            "gridwidth": 2,
            "linecolor": "#EBF0F8",
            "showbackground": true,
            "ticks": "",
            "zerolinecolor": "#EBF0F8"
           }
          },
          "shapedefaults": {
           "line": {
            "color": "#2a3f5f"
           }
          },
          "ternary": {
           "aaxis": {
            "gridcolor": "#DFE8F3",
            "linecolor": "#A2B1C6",
            "ticks": ""
           },
           "baxis": {
            "gridcolor": "#DFE8F3",
            "linecolor": "#A2B1C6",
            "ticks": ""
           },
           "bgcolor": "white",
           "caxis": {
            "gridcolor": "#DFE8F3",
            "linecolor": "#A2B1C6",
            "ticks": ""
           }
          },
          "title": {
           "x": 0.05
          },
          "xaxis": {
           "automargin": true,
           "gridcolor": "#EBF0F8",
           "linecolor": "#EBF0F8",
           "ticks": "",
           "title": {
            "standoff": 15
           },
           "zerolinecolor": "#EBF0F8",
           "zerolinewidth": 2
          },
          "yaxis": {
           "automargin": true,
           "gridcolor": "#EBF0F8",
           "linecolor": "#EBF0F8",
           "ticks": "",
           "title": {
            "standoff": 15
           },
           "zerolinecolor": "#EBF0F8",
           "zerolinewidth": 2
          }
         }
        },
        "title": {
         "text": "Synaptic Enrichment"
        },
        "xaxis": {
         "anchor": "y",
         "domain": [
          0,
          1
         ],
         "range": [
          0.3,
          5.7
         ],
         "tickmode": "array",
         "ticktext": [
          "Cerebellum",
          "Cortex",
          "Hippocampus",
          "OlfactoryBulb",
          "Striatum"
         ],
         "tickvals": [
          1,
          2,
          3,
          4,
          5
         ],
         "title": {
          "text": ""
         },
         "type": "linear"
        },
        "yaxis": {
         "anchor": "x",
         "domain": [
          0,
          1
         ],
         "range": [
          -1.5,
          9.5
         ],
         "tickmode": "array",
         "ticktext": [
          "Camk2a",
          "Dlg4",
          "Gad1",
          "Gad2",
          "Shank1",
          "Slc17a7",
          "Slc32a1",
          "Slc6a3",
          "Th"
         ],
         "tickvals": [
          0,
          1,
          2,
          3,
          4,
          5,
          6,
          7,
          8
         ],
         "title": {
          "text": "gene"
         },
         "type": "category"
        }
       }
      },
      "image/png": "[encoded data removed]",
      "text/html": [
       "<div>                            <div id=\"d111757c-e41f-4821-b425-ddc31bcc2d30\" class=\"plotly-graph-div\" style=\"height:525px; width:100%;\"></div>            <script type=\"text/javascript\">                require([\"plotly\"], function(Plotly) {                    window.PLOTLYENV=window.PLOTLYENV || {};                                    if (document.getElementById(\"d111757c-e41f-4821-b425-ddc31bcc2d30\")) {                    Plotly.newPlot(                        \"d111757c-e41f-4821-b425-ddc31bcc2d30\",                        [{\"customdata\":[[\"Cortex\",\"Camk2a-cre\"],[\"Hippocampus\",\"Camk2a-cre\"],[\"Striatum\",\"Camk2a-cre\"],[\"OlfactoryBulb\",\"Camk2a-cre\"],[\"Cortex\",\"Camk2a-cre\"],[\"Hippocampus\",\"Camk2a-cre\"],[\"Striatum\",\"Camk2a-cre\"],[\"OlfactoryBulb\",\"Camk2a-cre\"],[\"OlfactoryBulb\",\"Camk2a-cre\"],[\"OlfactoryBulb\",\"Camk2a-cre\"],[\"Cortex\",\"Camk2a-cre\"],[\"Hippocampus\",\"Camk2a-cre\"],[\"OlfactoryBulb\",\"Camk2a-cre\"],[\"Cortex\",\"Camk2a-cre\"],[\"Hippocampus\",\"Camk2a-cre\"],[\"Striatum\",\"Camk2a-cre\"],[\"OlfactoryBulb\",\"Camk2a-cre\"],[\"OlfactoryBulb\",\"Camk2a-cre\"]],\"hovertemplate\":\"<b>%{hovertext}</b><br><br>mouse line=%{customdata[1]}<br>region=%{customdata[0]}<extra></extra>\",\"hovertext\":[\"Camk2a\",\"Camk2a\",\"Camk2a\",\"Camk2a\",\"Dlg4\",\"Dlg4\",\"Dlg4\",\"Dlg4\",\"Gad1\",\"Gad2\",\"Shank1\",\"Shank1\",\"Shank1\",\"Slc17a7\",\"Slc17a7\",\"Slc17a7\",\"Slc17a7\",\"Slc32a1\"],\"legendgroup\":\"Camk2a-cre\",\"marker\":{\"color\":\"#1E90FF\",\"opacity\":0.8,\"symbol\":\"circle\"},\"mode\":\"markers\",\"name\":\"Camk2a-cre\",\"orientation\":\"h\",\"showlegend\":true,\"x\":[1.7,2.7,4.7,3.7,1.7,2.7,4.7,3.7,3.7,3.7,1.7,2.7,3.7,1.7,2.7,4.7,3.7,3.7],\"xaxis\":\"x\",\"y\":[\"Camk2a\",\"Camk2a\",\"Camk2a\",\"Camk2a\",\"Dlg4\",\"Dlg4\",\"Dlg4\",\"Dlg4\",\"Gad1\",\"Gad2\",\"Shank1\",\"Shank1\",\"Shank1\",\"Slc17a7\",\"Slc17a7\",\"Slc17a7\",\"Slc17a7\",\"Slc32a1\"],\"yaxis\":\"y\",\"type\":\"scatter\"},{\"customdata\":[[\"Striatum\",\"Dat1-cre\"],[\"Striatum\",\"Dat1-cre\"]],\"hovertemplate\":\"<b>%{hovertext}</b><br><br>mouse line=%{customdata[1]}<br>region=%{customdata[0]}<extra></extra>\",\"hovertext\":[\"Slc6a3\",\"Th\"],\"legendgroup\":\"Dat1-cre\",\"marker\":{\"color\":\"#00BFFF\",\"opacity\":0.8,\"symbol\":\"circle\"},\"mode\":\"markers\",\"name\":\"Dat1-cre\",\"orientation\":\"h\",\"showlegend\":true,\"x\":[4.8,4.8],\"xaxis\":\"x\",\"y\":[\"Slc6a3\",\"Th\"],\"yaxis\":\"y\",\"type\":\"scatter\"},{\"customdata\":[[\"Hippocampus\",\"Syn1-cre\"],[\"Cortex\",\"Syn1-cre\"],[\"Striatum\",\"Syn1-cre\"],[\"Cerebellum\",\"Syn1-cre\"],[\"OlfactoryBulb\",\"Syn1-cre\"],[\"Hippocampus\",\"Syn1-cre\"],[\"Cortex\",\"Syn1-cre\"],[\"Striatum\",\"Syn1-cre\"],[\"Cerebellum\",\"Syn1-cre\"],[\"OlfactoryBulb\",\"Syn1-cre\"],[\"Hippocampus\",\"Syn1-cre\"],[\"Cortex\",\"Syn1-cre\"],[\"Cerebellum\",\"Syn1-cre\"],[\"OlfactoryBulb\",\"Syn1-cre\"],[\"Cortex\",\"Syn1-cre\"],[\"Cerebellum\",\"Syn1-cre\"],[\"OlfactoryBulb\",\"Syn1-cre\"],[\"Hippocampus\",\"Syn1-cre\"],[\"Cortex\",\"Syn1-cre\"],[\"OlfactoryBulb\",\"Syn1-cre\"],[\"Cortex\",\"Syn1-cre\"],[\"Striatum\",\"Syn1-cre\"],[\"OlfactoryBulb\",\"Syn1-cre\"],[\"Hippocampus\",\"Syn1-cre\"],[\"Cortex\",\"Syn1-cre\"],[\"Cerebellum\",\"Syn1-cre\"],[\"OlfactoryBulb\",\"Syn1-cre\"],[\"Hippocampus\",\"Syn1-cre\"],[\"OlfactoryBulb\",\"Syn1-cre\"]],\"hovertemplate\":\"<b>%{hovertext}</b><br><br>mouse line=%{customdata[1]}<br>region=%{customdata[0]}<extra></extra>\",\"hovertext\":[\"Camk2a\",\"Camk2a\",\"Camk2a\",\"Camk2a\",\"Camk2a\",\"Dlg4\",\"Dlg4\",\"Dlg4\",\"Dlg4\",\"Dlg4\",\"Gad1\",\"Gad1\",\"Gad1\",\"Gad1\",\"Gad2\",\"Gad2\",\"Gad2\",\"Shank1\",\"Shank1\",\"Shank1\",\"Slc17a7\",\"Slc17a7\",\"Slc17a7\",\"Slc32a1\",\"Slc32a1\",\"Slc32a1\",\"Slc32a1\",\"Th\",\"Th\"],\"legendgroup\":\"Syn1-cre\",\"marker\":{\"color\":\"#32CD32\",\"opacity\":0.8,\"symbol\":\"circle\"},\"mode\":\"markers\",\"name\":\"Syn1-cre\",\"orientation\":\"h\",\"showlegend\":true,\"x\":[2.9,1.9,4.9,0.9,3.9,2.9,1.9,4.9,0.9,3.9,2.9,1.9,0.9,3.9,1.9,0.9,3.9,2.9,1.9,3.9,1.9,4.9,3.9,2.9,1.9,0.9,3.9,2.9,3.9],\"xaxis\":\"x\",\"y\":[\"Camk2a\",\"Camk2a\",\"Camk2a\",\"Camk2a\",\"Camk2a\",\"Dlg4\",\"Dlg4\",\"Dlg4\",\"Dlg4\",\"Dlg4\",\"Gad1\",\"Gad1\",\"Gad1\",\"Gad1\",\"Gad2\",\"Gad2\",\"Gad2\",\"Shank1\",\"Shank1\",\"Shank1\",\"Slc17a7\",\"Slc17a7\",\"Slc17a7\",\"Slc32a1\",\"Slc32a1\",\"Slc32a1\",\"Slc32a1\",\"Th\",\"Th\"],\"yaxis\":\"y\",\"type\":\"scatter\"},{\"customdata\":[[\"Cerebellum\",\"Gad2-cre\"],[\"Cerebellum\",\"Gad2-cre\"],[\"Striatum\",\"Gad2-cre\"],[\"Hippocampus\",\"Gad2-cre\"],[\"Cortex\",\"Gad2-cre\"],[\"Cerebellum\",\"Gad2-cre\"],[\"OlfactoryBulb\",\"Gad2-cre\"],[\"Striatum\",\"Gad2-cre\"],[\"Hippocampus\",\"Gad2-cre\"],[\"Cortex\",\"Gad2-cre\"],[\"Cerebellum\",\"Gad2-cre\"],[\"OlfactoryBulb\",\"Gad2-cre\"],[\"Striatum\",\"Gad2-cre\"],[\"Striatum\",\"Gad2-cre\"],[\"Hippocampus\",\"Gad2-cre\"],[\"Cortex\",\"Gad2-cre\"],[\"Cerebellum\",\"Gad2-cre\"],[\"OlfactoryBulb\",\"Gad2-cre\"],[\"Striatum\",\"Gad2-cre\"],[\"Cortex\",\"Gad2-cre\"],[\"OlfactoryBulb\",\"Gad2-cre\"]],\"hovertemplate\":\"<b>%{hovertext}</b><br><br>mouse line=%{customdata[1]}<br>region=%{customdata[0]}<extra></extra>\",\"hovertext\":[\"Camk2a\",\"Dlg4\",\"Dlg4\",\"Gad1\",\"Gad1\",\"Gad1\",\"Gad1\",\"Gad1\",\"Gad2\",\"Gad2\",\"Gad2\",\"Gad2\",\"Gad2\",\"Shank1\",\"Slc32a1\",\"Slc32a1\",\"Slc32a1\",\"Slc32a1\",\"Slc32a1\",\"Slc6a3\",\"Th\"],\"legendgroup\":\"Gad2-cre\",\"marker\":{\"color\":\"#FF6347\",\"opacity\":0.8,\"symbol\":\"circle\"},\"mode\":\"markers\",\"name\":\"Gad2-cre\",\"orientation\":\"h\",\"showlegend\":true,\"x\":[1.0,1.0,5.0,3.0,2.0,1.0,4.0,5.0,3.0,2.0,1.0,4.0,5.0,5.0,3.0,2.0,1.0,4.0,5.0,2.0,4.0],\"xaxis\":\"x\",\"y\":[\"Camk2a\",\"Dlg4\",\"Dlg4\",\"Gad1\",\"Gad1\",\"Gad1\",\"Gad1\",\"Gad1\",\"Gad2\",\"Gad2\",\"Gad2\",\"Gad2\",\"Gad2\",\"Shank1\",\"Slc32a1\",\"Slc32a1\",\"Slc32a1\",\"Slc32a1\",\"Slc32a1\",\"Slc6a3\",\"Th\"],\"yaxis\":\"y\",\"type\":\"scatter\"},{\"customdata\":[[\"Cortex\",\"PV-cre\"],[\"Cortex\",\"PV-cre\"],[\"Cortex\",\"PV-cre\"]],\"hovertemplate\":\"<b>%{hovertext}</b><br><br>mouse line=%{customdata[1]}<br>region=%{customdata[0]}<extra></extra>\",\"hovertext\":[\"Gad1\",\"Gad2\",\"Slc32a1\"],\"legendgroup\":\"PV-cre\",\"marker\":{\"color\":\"#9400D3\",\"opacity\":0.8,\"symbol\":\"circle\"},\"mode\":\"markers\",\"name\":\"PV-cre\",\"orientation\":\"h\",\"showlegend\":true,\"x\":[2.1,2.1,2.1],\"xaxis\":\"x\",\"y\":[\"Gad1\",\"Gad2\",\"Slc32a1\"],\"yaxis\":\"y\",\"type\":\"scatter\"},{\"customdata\":[[\"Cortex\",\"SST-cre\"],[\"Cortex\",\"SST-cre\"],[\"Cortex\",\"SST-cre\"]],\"hovertemplate\":\"<b>%{hovertext}</b><br><br>mouse line=%{customdata[1]}<br>region=%{customdata[0]}<extra></extra>\",\"hovertext\":[\"Gad1\",\"Gad2\",\"Slc32a1\"],\"legendgroup\":\"SST-cre\",\"marker\":{\"color\":\"#FFD700\",\"opacity\":0.8,\"symbol\":\"circle\"},\"mode\":\"markers\",\"name\":\"SST-cre\",\"orientation\":\"h\",\"showlegend\":true,\"x\":[2.2,2.2,2.2],\"xaxis\":\"x\",\"y\":[\"Gad1\",\"Gad2\",\"Slc32a1\"],\"yaxis\":\"y\",\"type\":\"scatter\"},{\"customdata\":[[\"Cortex\",\"VIP-cre\"],[\"Cortex\",\"VIP-cre\"],[\"Cortex\",\"VIP-cre\"]],\"hovertemplate\":\"<b>%{hovertext}</b><br><br>mouse line=%{customdata[1]}<br>region=%{customdata[0]}<extra></extra>\",\"hovertext\":[\"Gad1\",\"Gad2\",\"Slc32a1\"],\"legendgroup\":\"VIP-cre\",\"marker\":{\"color\":\"#FFA500\",\"opacity\":0.8,\"symbol\":\"circle\"},\"mode\":\"markers\",\"name\":\"VIP-cre\",\"orientation\":\"h\",\"showlegend\":true,\"x\":[2.3000000000000003,2.3000000000000003,2.3000000000000003],\"xaxis\":\"x\",\"y\":[\"Gad1\",\"Gad2\",\"Slc32a1\"],\"yaxis\":\"y\",\"type\":\"scatter\"}],                        {\"template\":{\"data\":{\"barpolar\":[{\"marker\":{\"line\":{\"color\":\"white\",\"width\":0.5},\"pattern\":{\"fillmode\":\"overlay\",\"size\":10,\"solidity\":0.2}},\"type\":\"barpolar\"}],\"bar\":[{\"error_x\":{\"color\":\"#2a3f5f\"},\"error_y\":{\"color\":\"#2a3f5f\"},\"marker\":{\"line\":{\"color\":\"white\",\"width\":0.5},\"pattern\":{\"fillmode\":\"overlay\",\"size\":10,\"solidity\":0.2}},\"type\":\"bar\"}],\"carpet\":[{\"aaxis\":{\"endlinecolor\":\"#2a3f5f\",\"gridcolor\":\"#C8D4E3\",\"linecolor\":\"#C8D4E3\",\"minorgridcolor\":\"#C8D4E3\",\"startlinecolor\":\"#2a3f5f\"},\"baxis\":{\"endlinecolor\":\"#2a3f5f\",\"gridcolor\":\"#C8D4E3\",\"linecolor\":\"#C8D4E3\",\"minorgridcolor\":\"#C8D4E3\",\"startlinecolor\":\"#2a3f5f\"},\"type\":\"carpet\"}],\"choropleth\":[{\"colorbar\":{\"outlinewidth\":0,\"ticks\":\"\"},\"type\":\"choropleth\"}],\"contourcarpet\":[{\"colorbar\":{\"outlinewidth\":0,\"ticks\":\"\"},\"type\":\"contourcarpet\"}],\"contour\":[{\"colorbar\":{\"outlinewidth\":0,\"ticks\":\"\"},\"colorscale\":[[0.0,\"#0d0887\"],[0.1111111111111111,\"#46039f\"],[0.2222222222222222,\"#7201a8\"],[0.3333333333333333,\"#9c179e\"],[0.4444444444444444,\"#bd3786\"],[0.5555555555555556,\"#d8576b\"],[0.6666666666666666,\"#ed7953\"],[0.7777777777777778,\"#fb9f3a\"],[0.8888888888888888,\"#fdca26\"],[1.0,\"#f0f921\"]],\"type\":\"contour\"}],\"heatmapgl\":[{\"colorbar\":{\"outlinewidth\":0,\"ticks\":\"\"},\"colorscale\":[[0.0,\"#0d0887\"],[0.1111111111111111,\"#46039f\"],[0.2222222222222222,\"#7201a8\"],[0.3333333333333333,\"#9c179e\"],[0.4444444444444444,\"#bd3786\"],[0.5555555555555556,\"#d8576b\"],[0.6666666666666666,\"#ed7953\"],[0.7777777777777778,\"#fb9f3a\"],[0.8888888888888888,\"#fdca26\"],[1.0,\"#f0f921\"]],\"type\":\"heatmapgl\"}],\"heatmap\":[{\"colorbar\":{\"outlinewidth\":0,\"ticks\":\"\"},\"colorscale\":[[0.0,\"#0d0887\"],[0.1111111111111111,\"#46039f\"],[0.2222222222222222,\"#7201a8\"],[0.3333333333333333,\"#9c179e\"],[0.4444444444444444,\"#bd3786\"],[0.5555555555555556,\"#d8576b\"],[0.6666666666666666,\"#ed7953\"],[0.7777777777777778,\"#fb9f3a\"],[0.8888888888888888,\"#fdca26\"],[1.0,\"#f0f921\"]],\"type\":\"heatmap\"}],\"histogram2dcontour\":[{\"colorbar\":{\"outlinewidth\":0,\"ticks\":\"\"},\"colorscale\":[[0.0,\"#0d0887\"],[0.1111111111111111,\"#46039f\"],[0.2222222222222222,\"#7201a8\"],[0.3333333333333333,\"#9c179e\"],[0.4444444444444444,\"#bd3786\"],[0.5555555555555556,\"#d8576b\"],[0.6666666666666666,\"#ed7953\"],[0.7777777777777778,\"#fb9f3a\"],[0.8888888888888888,\"#fdca26\"],[1.0,\"#f0f921\"]],\"type\":\"histogram2dcontour\"}],\"histogram2d\":[{\"colorbar\":{\"outlinewidth\":0,\"ticks\":\"\"},\"colorscale\":[[0.0,\"#0d0887\"],[0.1111111111111111,\"#46039f\"],[0.2222222222222222,\"#7201a8\"],[0.3333333333333333,\"#9c179e\"],[0.4444444444444444,\"#bd3786\"],[0.5555555555555556,\"#d8576b\"],[0.6666666666666666,\"#ed7953\"],[0.7777777777777778,\"#fb9f3a\"],[0.8888888888888888,\"#fdca26\"],[1.0,\"#f0f921\"]],\"type\":\"histogram2d\"}],\"histogram\":[{\"marker\":{\"pattern\":{\"fillmode\":\"overlay\",\"size\":10,\"solidity\":0.2}},\"type\":\"histogram\"}],\"mesh3d\":[{\"colorbar\":{\"outlinewidth\":0,\"ticks\":\"\"},\"type\":\"mesh3d\"}],\"parcoords\":[{\"line\":{\"colorbar\":{\"outlinewidth\":0,\"ticks\":\"\"}},\"type\":\"parcoords\"}],\"pie\":[{\"automargin\":true,\"type\":\"pie\"}],\"scatter3d\":[{\"line\":{\"colorbar\":{\"outlinewidth\":0,\"ticks\":\"\"}},\"marker\":{\"colorbar\":{\"outlinewidth\":0,\"ticks\":\"\"}},\"type\":\"scatter3d\"}],\"scattercarpet\":[{\"marker\":{\"colorbar\":{\"outlinewidth\":0,\"ticks\":\"\"}},\"type\":\"scattercarpet\"}],\"scattergeo\":[{\"marker\":{\"colorbar\":{\"outlinewidth\":0,\"ticks\":\"\"}},\"type\":\"scattergeo\"}],\"scattergl\":[{\"marker\":{\"colorbar\":{\"outlinewidth\":0,\"ticks\":\"\"}},\"type\":\"scattergl\"}],\"scattermapbox\":[{\"marker\":{\"colorbar\":{\"outlinewidth\":0,\"ticks\":\"\"}},\"type\":\"scattermapbox\"}],\"scatterpolargl\":[{\"marker\":{\"colorbar\":{\"outlinewidth\":0,\"ticks\":\"\"}},\"type\":\"scatterpolargl\"}],\"scatterpolar\":[{\"marker\":{\"colorbar\":{\"outlinewidth\":0,\"ticks\":\"\"}},\"type\":\"scatterpolar\"}],\"scatter\":[{\"fillpattern\":{\"fillmode\":\"overlay\",\"size\":10,\"solidity\":0.2},\"type\":\"scatter\"}],\"scatterternary\":[{\"marker\":{\"colorbar\":{\"outlinewidth\":0,\"ticks\":\"\"}},\"type\":\"scatterternary\"}],\"surface\":[{\"colorbar\":{\"outlinewidth\":0,\"ticks\":\"\"},\"colorscale\":[[0.0,\"#0d0887\"],[0.1111111111111111,\"#46039f\"],[0.2222222222222222,\"#7201a8\"],[0.3333333333333333,\"#9c179e\"],[0.4444444444444444,\"#bd3786\"],[0.5555555555555556,\"#d8576b\"],[0.6666666666666666,\"#ed7953\"],[0.7777777777777778,\"#fb9f3a\"],[0.8888888888888888,\"#fdca26\"],[1.0,\"#f0f921\"]],\"type\":\"surface\"}],\"table\":[{\"cells\":{\"fill\":{\"color\":\"#EBF0F8\"},\"line\":{\"color\":\"white\"}},\"header\":{\"fill\":{\"color\":\"#C8D4E3\"},\"line\":{\"color\":\"white\"}},\"type\":\"table\"}]},\"layout\":{\"annotationdefaults\":{\"arrowcolor\":\"#2a3f5f\",\"arrowhead\":0,\"arrowwidth\":1},\"autotypenumbers\":\"strict\",\"coloraxis\":{\"colorbar\":{\"outlinewidth\":0,\"ticks\":\"\"}},\"colorscale\":{\"diverging\":[[0,\"#8e0152\"],[0.1,\"#c51b7d\"],[0.2,\"#de77ae\"],[0.3,\"#f1b6da\"],[0.4,\"#fde0ef\"],[0.5,\"#f7f7f7\"],[0.6,\"#e6f5d0\"],[0.7,\"#b8e186\"],[0.8,\"#7fbc41\"],[0.9,\"#4d9221\"],[1,\"#276419\"]],\"sequential\":[[0.0,\"#0d0887\"],[0.1111111111111111,\"#46039f\"],[0.2222222222222222,\"#7201a8\"],[0.3333333333333333,\"#9c179e\"],[0.4444444444444444,\"#bd3786\"],[0.5555555555555556,\"#d8576b\"],[0.6666666666666666,\"#ed7953\"],[0.7777777777777778,\"#fb9f3a\"],[0.8888888888888888,\"#fdca26\"],[1.0,\"#f0f921\"]],\"sequentialminus\":[[0.0,\"#0d0887\"],[0.1111111111111111,\"#46039f\"],[0.2222222222222222,\"#7201a8\"],[0.3333333333333333,\"#9c179e\"],[0.4444444444444444,\"#bd3786\"],[0.5555555555555556,\"#d8576b\"],[0.6666666666666666,\"#ed7953\"],[0.7777777777777778,\"#fb9f3a\"],[0.8888888888888888,\"#fdca26\"],[1.0,\"#f0f921\"]]},\"colorway\":[\"#636efa\",\"#EF553B\",\"#00cc96\",\"#ab63fa\",\"#FFA15A\",\"#19d3f3\",\"#FF6692\",\"#B6E880\",\"#FF97FF\",\"#FECB52\"],\"font\":{\"color\":\"#2a3f5f\"},\"geo\":{\"bgcolor\":\"white\",\"lakecolor\":\"white\",\"landcolor\":\"white\",\"showlakes\":true,\"showland\":true,\"subunitcolor\":\"#C8D4E3\"},\"hoverlabel\":{\"align\":\"left\"},\"hovermode\":\"closest\",\"mapbox\":{\"style\":\"light\"},\"paper_bgcolor\":\"white\",\"plot_bgcolor\":\"white\",\"polar\":{\"angularaxis\":{\"gridcolor\":\"#EBF0F8\",\"linecolor\":\"#EBF0F8\",\"ticks\":\"\"},\"bgcolor\":\"white\",\"radialaxis\":{\"gridcolor\":\"#EBF0F8\",\"linecolor\":\"#EBF0F8\",\"ticks\":\"\"}},\"scene\":{\"xaxis\":{\"backgroundcolor\":\"white\",\"gridcolor\":\"#DFE8F3\",\"gridwidth\":2,\"linecolor\":\"#EBF0F8\",\"showbackground\":true,\"ticks\":\"\",\"zerolinecolor\":\"#EBF0F8\"},\"yaxis\":{\"backgroundcolor\":\"white\",\"gridcolor\":\"#DFE8F3\",\"gridwidth\":2,\"linecolor\":\"#EBF0F8\",\"showbackground\":true,\"ticks\":\"\",\"zerolinecolor\":\"#EBF0F8\"},\"zaxis\":{\"backgroundcolor\":\"white\",\"gridcolor\":\"#DFE8F3\",\"gridwidth\":2,\"linecolor\":\"#EBF0F8\",\"showbackground\":true,\"ticks\":\"\",\"zerolinecolor\":\"#EBF0F8\"}},\"shapedefaults\":{\"line\":{\"color\":\"#2a3f5f\"}},\"ternary\":{\"aaxis\":{\"gridcolor\":\"#DFE8F3\",\"linecolor\":\"#A2B1C6\",\"ticks\":\"\"},\"baxis\":{\"gridcolor\":\"#DFE8F3\",\"linecolor\":\"#A2B1C6\",\"ticks\":\"\"},\"bgcolor\":\"white\",\"caxis\":{\"gridcolor\":\"#DFE8F3\",\"linecolor\":\"#A2B1C6\",\"ticks\":\"\"}},\"title\":{\"x\":0.05},\"xaxis\":{\"automargin\":true,\"gridcolor\":\"#EBF0F8\",\"linecolor\":\"#EBF0F8\",\"ticks\":\"\",\"title\":{\"standoff\":15},\"zerolinecolor\":\"#EBF0F8\",\"zerolinewidth\":2},\"yaxis\":{\"automargin\":true,\"gridcolor\":\"#EBF0F8\",\"linecolor\":\"#EBF0F8\",\"ticks\":\"\",\"title\":{\"standoff\":15},\"zerolinecolor\":\"#EBF0F8\",\"zerolinewidth\":2}}},\"xaxis\":{\"anchor\":\"y\",\"domain\":[0.0,1.0],\"title\":{\"text\":\"\"},\"tickmode\":\"array\",\"tickvals\":[1,2,3,4,5],\"ticktext\":[\"Cerebellum\",\"Cortex\",\"Hippocampus\",\"OlfactoryBulb\",\"Striatum\"],\"range\":[0.3,5.7]},\"yaxis\":{\"anchor\":\"x\",\"domain\":[0.0,1.0],\"title\":{\"text\":\"gene\"},\"tickmode\":\"array\",\"tickvals\":[0,1,2,3,4,5,6,7,8],\"ticktext\":[\"Camk2a\",\"Dlg4\",\"Gad1\",\"Gad2\",\"Shank1\",\"Slc17a7\",\"Slc32a1\",\"Slc6a3\",\"Th\"],\"range\":[-1.5,9.5]},\"legend\":{\"title\":{\"text\":\"mouse line\"},\"tracegroupgap\":0},\"title\":{\"text\":\"Synaptic Enrichment\"},\"shapes\":[{\"line\":{\"color\":\"grey\",\"width\":0.5},\"type\":\"line\",\"x0\":0.5,\"x1\":0.5,\"xref\":\"x\",\"y0\":0,\"y1\":1,\"yref\":\"y domain\"},{\"line\":{\"color\":\"grey\",\"width\":0.5},\"type\":\"line\",\"x0\":1.5,\"x1\":1.5,\"xref\":\"x\",\"y0\":0,\"y1\":1,\"yref\":\"y domain\"},{\"line\":{\"color\":\"grey\",\"width\":0.5},\"type\":\"line\",\"x0\":2.5,\"x1\":2.5,\"xref\":\"x\",\"y0\":0,\"y1\":1,\"yref\":\"y domain\"},{\"line\":{\"color\":\"grey\",\"width\":0.5},\"type\":\"line\",\"x0\":3.5,\"x1\":3.5,\"xref\":\"x\",\"y0\":0,\"y1\":1,\"yref\":\"y domain\"},{\"line\":{\"color\":\"grey\",\"width\":0.5},\"type\":\"line\",\"x0\":4.5,\"x1\":4.5,\"xref\":\"x\",\"y0\":0,\"y1\":1,\"yref\":\"y domain\"},{\"line\":{\"color\":\"grey\",\"width\":0.5},\"type\":\"line\",\"x0\":5.5,\"x1\":5.5,\"xref\":\"x\",\"y0\":0,\"y1\":1,\"yref\":\"y domain\"}]},                        {\"responsive\": true}                    ).then(function(){\n",
       "                            \n",
       "var gd = document.getElementById('d111757c-e41f-4821-b425-ddc31bcc2d30');\n",
       "var x = new MutationObserver(function (mutations, observer) {{\n",
       "        var display = window.getComputedStyle(gd).display;\n",
       "        if (!display || display === 'none') {{\n",
       "            console.log([gd, 'removed!']);\n",
       "            Plotly.purge(gd);\n",
       "            observer.disconnect();\n",
       "        }}\n",
       "}});\n",
       "\n",
       "// Listen for the removal of the full notebook cells\n",
       "var notebookContainer = gd.closest('#notebook-container');\n",
       "if (notebookContainer) {{\n",
       "    x.observe(notebookContainer, {childList: true});\n",
       "}}\n",
       "\n",
       "// Listen for the clearing of the current output cell\n",
       "var outputEl = gd.closest('.output');\n",
       "if (outputEl) {{\n",
       "    x.observe(outputEl, {childList: true});\n",
       "}}\n",
       "\n",
       "                        })                };                });            </script>        </div>"
      ]
     },
     "metadata": {},
     "output_type": "display_data"
    }
   ],
   "source": [
    "### --- PLOT ENRICHMENT --- ###\n",
    "df = df_enriched.set_index('protein')\n",
    "\n",
    "list_brain = []\n",
    "list_mouse = []\n",
    "for key in df.columns:\n",
    "    brain, mouse = str.split(key, sep='.')\n",
    "    if mouse != \"Unsorted\":\n",
    "        mouse = mouse + \"-cre\"\n",
    "    list_brain.append(brain)\n",
    "    list_mouse.append(mouse)\n",
    "#list_unq_brain = sorted(set(list_brain))\n",
    "#list_unq_mouse = sorted(set(list_mouse), reverse=True)\n",
    "list_unq_brain = ['Cerebellum', 'Cortex', 'Hippocampus', 'OlfactoryBulb', 'Striatum']\n",
    "list_unq_mouse = ['Camk2a-cre', 'Dat1-cre', 'Syn1-cre', 'Gad2-cre', 'PV-cre', 'SST-cre', 'VIP-cre']\n",
    "\n",
    "value_x_step = 0.1\n",
    "value_x_min = -0.3\n",
    "\n",
    "label_x = list_unq_brain\n",
    "label_y = []\n",
    "label_gene = []\n",
    "label_mouse = []\n",
    "label_brain = []\n",
    "value_x = []\n",
    "value_y = []\n",
    "for value_y_tick, row_info in df_info.iterrows():\n",
    "    label_y.append(row_info['gene'])\n",
    "    print(value_y_tick, row_info['gene'])\n",
    "    row_enriched = df.loc[row_info['protein']]\n",
    "    for key, value in row_enriched.items():\n",
    "        if value == 1:\n",
    "            brain, mouse = str.split(key, sep='.')\n",
    "            if mouse != \"Unsorted\":\n",
    "                mouse = mouse + \"-cre\"\n",
    "            value_x_shift = list_unq_mouse.index(mouse)\n",
    "            value_x_tick = list_unq_brain.index(brain) + 1\n",
    "            value_x_point = value_x_tick + (value_x_min + value_x_step * value_x_shift)\n",
    "            value_x.append(value_x_point)\n",
    "            value_y.append(value_y_tick + 1)\n",
    "            label_mouse.append(mouse)\n",
    "            label_gene.append(row_info['gene'])\n",
    "            label_brain.append(brain)\n",
    "\n",
    "df = pd.DataFrame({'x': value_x, 'gene': value_y, 'mouse line': label_mouse, 'gene': label_gene, 'region': label_brain})\n",
    "\n",
    "color_map = {'Camk2a-cre': '#1E90FF', \n",
    "             'Dat1-cre': '#00BFFF',\n",
    "             'Syn1-cre': '#32CD32',\n",
    "             'Gad2-cre': '#FF6347',\n",
    "             'PV-cre': '#9400D3',\n",
    "             'SST-cre': '#FFD700',\n",
    "             'VIP-cre': '#FFA500'}\n",
    "\n",
    "print(label_y)\n",
    "\n",
    "fig = px.scatter(df, x='x', y='gene', color='mouse line', opacity=0.8,\n",
    "                 title='Synaptic Enrichment',\n",
    "                 category_orders={'mouse line': list_unq_mouse},\n",
    "                 color_discrete_map=color_map,\n",
    "                 template='plotly_white',\n",
    "                 hover_name = 'gene',\n",
    "                 hover_data={'region':True,'x':False,'mouse line':True, 'gene':False})\n",
    "\n",
    "fig.update_layout(xaxis=dict(tickmode=\"array\", tickvals=np.arange(0, len(label_x)) + 1,\n",
    "                              ticktext=label_x),\n",
    "                  yaxis=dict(tickmode=\"array\", tickvals=np.arange(0, len(label_y)),\n",
    "                              ticktext=label_y),\n",
    "                  xaxis_range=[0.3, 5.7],\n",
    "                  yaxis_range=[-1.5, len(label_y) + 0.5],\n",
    "                  xaxis_title='',\n",
    "                  yaxis_title='gene',\n",
    "                 )\n",
    "\n",
    "for vidx in range(len(label_x)+1):\n",
    "    fig.add_vline(x=vidx + .5, line_color='grey', line_width=0.5)\n",
    "\n",
    "\n",
    "fig.show()"
   ]
  },
  {
   "cell_type": "code",
   "execution_count": 20,
   "id": "fe893f95-e99c-4069-9e6c-3d2b89c2dce5",
   "metadata": {
    "tags": []
   },
   "outputs": [
    {
     "data": {
      "application/vnd.plotly.v1+json": {
       "config": {
        "plotlyServerURL": "https://plot.ly"
       },
       "data": [
        {
         "alignmentgroup": "True",
         "hovertemplate": "cell type=Unsorted<br>regions=%{x}<br>values=%{y}<extra></extra>",
         "legendgroup": "Unsorted",
         "marker": {
          "color": "#708090"
         },
         "name": "Unsorted",
         "notched": false,
         "offsetgroup": "Unsorted",
         "orientation": "v",
         "showlegend": true,
         "type": "box",
         "x": [
          "OlfactoryBulb",
          "OlfactoryBulb",
          "OlfactoryBulb",
          "OlfactoryBulb",
          "OlfactoryBulb",
          "OlfactoryBulb",
          "OlfactoryBulb",
          "OlfactoryBulb",
          "OlfactoryBulb",
          "OlfactoryBulb",
          "OlfactoryBulb",
          "OlfactoryBulb",
          "OlfactoryBulb",
          "OlfactoryBulb",
          "OlfactoryBulb",
          "OlfactoryBulb",
          "OlfactoryBulb",
          "Cerebellum",
          "Cerebellum",
          "Cerebellum",
          "Cerebellum",
          "Cerebellum",
          "Cerebellum",
          "Cerebellum",
          "Cerebellum",
          "Cerebellum",
          "Cerebellum",
          "Cerebellum",
          "Cerebellum",
          "Cerebellum",
          "Cortex",
          "Cortex",
          "Cortex",
          "Cortex",
          "Cortex",
          "Cortex",
          "Cortex",
          "Cortex",
          "Cortex",
          "Cortex",
          "Cortex",
          "Cortex",
          "Cortex",
          "Cortex",
          "Cortex",
          "Cortex",
          "Cortex",
          "Cortex",
          "Cortex",
          "Cortex",
          "Cortex",
          "Cortex",
          "Hippocampus",
          "Hippocampus",
          "Hippocampus",
          "Hippocampus",
          "Hippocampus",
          "Hippocampus",
          "Hippocampus",
          "Hippocampus",
          "Hippocampus",
          "Hippocampus",
          "Hippocampus",
          "Hippocampus",
          "Hippocampus",
          "Hippocampus",
          "Hippocampus",
          "Hippocampus",
          "Hippocampus",
          "Hippocampus",
          "Hippocampus",
          "Hippocampus",
          "Hippocampus",
          "Striatum",
          "Striatum",
          "Striatum",
          "Striatum",
          "Striatum",
          "Striatum",
          "Striatum",
          "Striatum",
          "Striatum",
          "Striatum",
          "Striatum",
          "Striatum",
          "Striatum",
          "Striatum",
          "Striatum",
          "Striatum",
          "Striatum",
          "Striatum",
          "Striatum",
          "Striatum",
          "Striatum",
          "Striatum",
          "Striatum",
          "Striatum",
          "Striatum",
          "Striatum",
          "Striatum",
          "Striatum",
          "Striatum",
          "Striatum",
          "Cortex",
          "Cortex",
          "Cortex",
          "Cortex",
          "Cortex",
          "Cortex",
          "Cortex",
          "Cortex",
          "Cortex",
          "Cortex",
          "Cortex",
          "Cortex",
          "Cortex",
          "Cortex",
          "Cortex",
          "Cortex",
          "Cortex",
          "Cortex",
          "Cortex",
          "Cortex",
          "Cortex",
          "Cortex",
          "Cortex",
          "Cortex",
          "Cortex",
          "Cortex",
          "Cortex",
          "Cortex",
          "Cortex"
         ],
         "x0": " ",
         "xaxis": "x",
         "y": [
          14.4877851893828,
          14.9257964479185,
          15.1250387993925,
          14.6491944097893,
          14.4952908373009,
          15.1159501147239,
          14.7763255349356,
          14.9571641931596,
          14.7100778329247,
          14.5219866886479,
          14.8572205238685,
          14.9246350507161,
          15.0565312012409,
          14.9907303747828,
          14.8004051206127,
          14.7807529627378,
          14.6108141890683,
          12.1019868198167,
          12.6626595585289,
          12.4973741378879,
          12.9693139764724,
          11.8113339475508,
          12.1691979473079,
          12.7842922750667,
          12.6067758748786,
          12.7451394767815,
          12.5631813625155,
          12.5554581774238,
          11.9503672240433,
          12.1529676102267,
          15.9495545376196,
          15.9926606904895,
          16.3494755796536,
          16.4824346884196,
          16.3773254141106,
          16.471758285394,
          16.7338775847133,
          16.5176050871153,
          16.1596110809435,
          16.3962270197846,
          16.4844596834477,
          16.4635854711206,
          16.3734413203836,
          16.5235910116465,
          16.656931475575,
          16.4155710072183,
          16.6957363303649,
          16.4239155920875,
          16.5290297478111,
          16.5755302678038,
          16.383066897306,
          16.6535444176147,
          16.0514150574306,
          16.6687289813319,
          16.3014042403277,
          16.8547362624524,
          16.8945982501706,
          16.5408659273257,
          16.7533219983217,
          16.7712348656774,
          16.3822361739323,
          16.6955670865934,
          16.4315568692807,
          16.4726313332172,
          16.8084866350682,
          16.8170398914843,
          16.3387466170851,
          16.8147753003344,
          16.5003088341928,
          16.6378406743743,
          16.8247228018752,
          16.8009108354031,
          16.8347307790965,
          15.6217442316099,
          15.9049916148402,
          15.881189467083,
          15.882587858356,
          16.4288790032884,
          16.1381163827991,
          15.9216399210476,
          16.5654144900334,
          16.2072587051671,
          15.6741938104514,
          16.5353156461292,
          16.1426897009913,
          15.957763174353,
          16.0452306344482,
          16.0584282969852,
          16.2271660601907,
          16.0468096975696,
          15.7880087776954,
          16.1805910617055,
          15.9821346537089,
          16.1380112797816,
          16.1882896374553,
          16.2790454833692,
          15.9834174964582,
          15.5961796768721,
          15.5483705403547,
          15.6732472719009,
          16.3308012970768,
          16.3213723658962,
          16.1330530247145,
          13.2814071188956,
          13.6353346318676,
          13.6590693877371,
          12.3972580850058,
          13.5845493483659,
          13.1557532005055,
          12.9464655311965,
          12.876072690668,
          13.3646954462026,
          13.5402166696022,
          13.3886691561933,
          13.3561219693455,
          13.2497007436213,
          13.0841899983278,
          13.6007174135848,
          13.3299794119595,
          12.6291247903651,
          13.181477853612,
          13.2102768991456,
          13.0633277012151,
          13.8428623653349,
          13.4201990014414,
          12.8577693381174,
          13.3486066915365,
          13.543238723337,
          13.0171980982161,
          13.387976719279,
          13.3427752692828,
          12.8429724999544
         ],
         "y0": " ",
         "yaxis": "y"
        },
        {
         "alignmentgroup": "True",
         "hovertemplate": "cell type=Camk2a<br>regions=%{x}<br>values=%{y}<extra></extra>",
         "legendgroup": "Camk2a",
         "marker": {
          "color": "#1E90FF"
         },
         "name": "Camk2a",
         "notched": false,
         "offsetgroup": "Camk2a",
         "orientation": "v",
         "showlegend": true,
         "type": "box",
         "x": [
          "OlfactoryBulb",
          "OlfactoryBulb",
          "OlfactoryBulb",
          "OlfactoryBulb",
          "OlfactoryBulb",
          "Cortex",
          "Cortex",
          "Cortex",
          "Cortex",
          "Cortex",
          "Cortex",
          "Hippocampus",
          "Hippocampus",
          "Hippocampus",
          "Hippocampus",
          "Hippocampus",
          "Hippocampus",
          "Hippocampus",
          "Striatum",
          "Striatum",
          "Striatum",
          "Striatum",
          "Striatum",
          "Striatum",
          "Striatum"
         ],
         "x0": " ",
         "xaxis": "x",
         "y": [
          15.9527557585252,
          15.9751069871885,
          15.8294410607995,
          15.9122700555479,
          15.9458420571394,
          16.8347470916413,
          16.755934710322,
          16.82192261428,
          16.9698435864642,
          16.8456310862273,
          16.9006620668688,
          16.5322161801666,
          16.7378529963891,
          17.1047586067179,
          17.0567882865744,
          16.9687422010401,
          16.7640816917376,
          16.9246243892634,
          16.7392137962715,
          16.4796130227046,
          16.4782699327577,
          16.5646253486383,
          16.7505632580393,
          16.5008163389848,
          16.6489550903446
         ],
         "y0": " ",
         "yaxis": "y"
        },
        {
         "alignmentgroup": "True",
         "hovertemplate": "cell type=Dat1<br>regions=%{x}<br>values=%{y}<extra></extra>",
         "legendgroup": "Dat1",
         "marker": {
          "color": "#00BFFF"
         },
         "name": "Dat1",
         "notched": false,
         "offsetgroup": "Dat1",
         "orientation": "v",
         "showlegend": true,
         "type": "box",
         "x": [
          "Striatum",
          "Striatum",
          "Striatum",
          "Striatum",
          "Striatum",
          "Striatum",
          "Striatum",
          "Striatum",
          "Striatum"
         ],
         "x0": " ",
         "xaxis": "x",
         "y": [
          14.465944262871,
          15.1181317682273,
          14.9650210233064,
          14.5405669513072,
          14.7385105113124,
          15.1635079121756,
          13.8354229704904,
          15.0540707387736,
          14.3327309113667
         ],
         "y0": " ",
         "yaxis": "y"
        },
        {
         "alignmentgroup": "True",
         "hovertemplate": "cell type=Syn1<br>regions=%{x}<br>values=%{y}<extra></extra>",
         "legendgroup": "Syn1",
         "marker": {
          "color": "#32CD32"
         },
         "name": "Syn1",
         "notched": false,
         "offsetgroup": "Syn1",
         "orientation": "v",
         "showlegend": true,
         "type": "box",
         "x": [
          "OlfactoryBulb",
          "OlfactoryBulb",
          "OlfactoryBulb",
          "OlfactoryBulb",
          "OlfactoryBulb",
          "OlfactoryBulb",
          "Cerebellum",
          "Cerebellum",
          "Cerebellum",
          "Cerebellum",
          "Cerebellum",
          "Cerebellum",
          "Cortex",
          "Cortex",
          "Cortex",
          "Cortex",
          "Cortex",
          "Cortex",
          "Cortex",
          "Hippocampus",
          "Hippocampus",
          "Hippocampus",
          "Hippocampus",
          "Hippocampus",
          "Hippocampus",
          "Striatum",
          "Striatum",
          "Striatum",
          "Striatum",
          "Striatum",
          "Striatum"
         ],
         "x0": " ",
         "xaxis": "x",
         "y": [
          15.3271118021873,
          15.2111572800621,
          15.2232169515494,
          15.6026586283044,
          15.558716792051,
          15.5625073285103,
          14.0873776806795,
          12.0293410020601,
          13.1117491933449,
          12.9809753361526,
          13.1912859234993,
          13.0015799698529,
          16.8522133099756,
          16.5498517820282,
          16.3682673813893,
          16.7674917626162,
          16.7312743462626,
          17.0364102623102,
          16.6308190233525,
          16.4213938940536,
          16.9774313752858,
          16.8552575948485,
          16.6500220034691,
          16.9972392533895,
          17.0649572068402,
          16.4412700049656,
          16.3352333354905,
          16.118250213796,
          16.5867727619728,
          16.5564288453529,
          16.4118674811528
         ],
         "y0": " ",
         "yaxis": "y"
        },
        {
         "alignmentgroup": "True",
         "hovertemplate": "cell type=Gad2<br>regions=%{x}<br>values=%{y}<extra></extra>",
         "legendgroup": "Gad2",
         "marker": {
          "color": "#FF6347"
         },
         "name": "Gad2",
         "notched": false,
         "offsetgroup": "Gad2",
         "orientation": "v",
         "showlegend": true,
         "type": "box",
         "x": [
          "OlfactoryBulb",
          "OlfactoryBulb",
          "OlfactoryBulb",
          "OlfactoryBulb",
          "OlfactoryBulb",
          "Cerebellum",
          "Cerebellum",
          "Cerebellum",
          "Cerebellum",
          "Cerebellum",
          "Cerebellum",
          "Cerebellum",
          "Cortex",
          "Cortex",
          "Cortex",
          "Cortex",
          "Cortex",
          "Cortex",
          "Hippocampus",
          "Hippocampus",
          "Hippocampus",
          "Hippocampus",
          "Hippocampus",
          "Hippocampus",
          "Hippocampus",
          "Striatum",
          "Striatum",
          "Striatum",
          "Striatum",
          "Striatum",
          "Striatum",
          "Striatum",
          "Cortex",
          "Cortex",
          "Cortex",
          "Cortex",
          "Cortex",
          "Cortex",
          "Cortex"
         ],
         "x0": " ",
         "xaxis": "x",
         "y": [
          15.5704029446672,
          15.0750075224718,
          15.5036231841317,
          15.3636734668912,
          15.1261470654121,
          12.6896354356031,
          13.1502266168285,
          13.0451844637109,
          12.4309672868928,
          12.9556512955854,
          12.1677986257747,
          12.383271938037,
          15.710414213325,
          16.0412380527297,
          16.2247048946238,
          15.8344029122863,
          16.039042487532,
          16.3493682841588,
          14.6764885821378,
          16.3497584891718,
          15.9753780095927,
          15.8357868225894,
          15.954564932692,
          15.8120912194611,
          15.9884651324448,
          15.5062062115498,
          16.390472884953,
          16.5533041656673,
          16.0692312062246,
          16.539460213956,
          16.2485024478278,
          16.4698414508208,
          13.4660427304691,
          13.0991387651215,
          13.2689117156319,
          12.9438165976952,
          12.3827929399766,
          12.4706786240037,
          12.8391197083108
         ],
         "y0": " ",
         "yaxis": "y"
        },
        {
         "alignmentgroup": "True",
         "hovertemplate": "cell type=PV<br>regions=%{x}<br>values=%{y}<extra></extra>",
         "legendgroup": "PV",
         "marker": {
          "color": "#9400D3"
         },
         "name": "PV",
         "notched": false,
         "offsetgroup": "PV",
         "orientation": "v",
         "showlegend": true,
         "type": "box",
         "x": [
          "Cortex",
          "Cortex",
          "Cortex",
          "Cortex",
          "Cortex",
          "Cortex",
          "Cortex"
         ],
         "x0": " ",
         "xaxis": "x",
         "y": [
          12.7881560678475,
          12.3555703459884,
          12.2881556859414,
          12.1125612143829,
          11.8839236603368,
          12.4702985221006,
          12.8439996652991
         ],
         "y0": " ",
         "yaxis": "y"
        },
        {
         "alignmentgroup": "True",
         "hovertemplate": "cell type=SST<br>regions=%{x}<br>values=%{y}<extra></extra>",
         "legendgroup": "SST",
         "marker": {
          "color": "#FFD700"
         },
         "name": "SST",
         "notched": false,
         "offsetgroup": "SST",
         "orientation": "v",
         "showlegend": true,
         "type": "box",
         "x": [
          "Cortex",
          "Cortex",
          "Cortex",
          "Cortex",
          "Cortex",
          "Cortex",
          "Cortex"
         ],
         "x0": " ",
         "xaxis": "x",
         "y": [
          13.224560268923,
          12.7284498350973,
          13.2044413036403,
          12.9416557184611,
          12.5072778279437,
          13.3290355299272,
          13.2853469628678
         ],
         "y0": " ",
         "yaxis": "y"
        },
        {
         "alignmentgroup": "True",
         "hovertemplate": "cell type=VIP<br>regions=%{x}<br>values=%{y}<extra></extra>",
         "legendgroup": "VIP",
         "marker": {
          "color": "#FFA500"
         },
         "name": "VIP",
         "notched": false,
         "offsetgroup": "VIP",
         "orientation": "v",
         "showlegend": true,
         "type": "box",
         "x": [
          "Cortex",
          "Cortex",
          "Cortex",
          "Cortex",
          "Cortex",
          "Cortex",
          "Cortex",
          "Cortex"
         ],
         "x0": " ",
         "xaxis": "x",
         "y": [
          13.5474373007733,
          12.8760190345486,
          13.32056225651,
          12.7459829157208,
          13.1710805431969,
          12.8433489988348,
          12.7855808704244,
          12.5303586082888
         ],
         "y0": " ",
         "yaxis": "y"
        }
       ],
       "layout": {
        "autosize": true,
        "boxmode": "group",
        "legend": {
         "title": {
          "text": "cell type"
         },
         "tracegroupgap": 0
        },
        "margin": {
         "t": 60
        },
        "shapes": [
         {
          "line": {
           "color": "grey",
           "width": 0.5
          },
          "type": "line",
          "x0": 0.5,
          "x1": 0.5,
          "xref": "x",
          "y0": 0,
          "y1": 1,
          "yref": "y domain"
         },
         {
          "line": {
           "color": "grey",
           "width": 0.5
          },
          "type": "line",
          "x0": 1.5,
          "x1": 1.5,
          "xref": "x",
          "y0": 0,
          "y1": 1,
          "yref": "y domain"
         },
         {
          "line": {
           "color": "grey",
           "width": 0.5
          },
          "type": "line",
          "x0": 2.5,
          "x1": 2.5,
          "xref": "x",
          "y0": 0,
          "y1": 1,
          "yref": "y domain"
         },
         {
          "line": {
           "color": "grey",
           "width": 0.5
          },
          "type": "line",
          "x0": 3.5,
          "x1": 3.5,
          "xref": "x",
          "y0": 0,
          "y1": 1,
          "yref": "y domain"
         }
        ],
        "template": {
         "data": {
          "bar": [
           {
            "error_x": {
             "color": "#2a3f5f"
            },
            "error_y": {
             "color": "#2a3f5f"
            },
            "marker": {
             "line": {
              "color": "white",
              "width": 0.5
             },
             "pattern": {
              "fillmode": "overlay",
              "size": 10,
              "solidity": 0.2
             }
            },
            "type": "bar"
           }
          ],
          "barpolar": [
           {
            "marker": {
             "line": {
              "color": "white",
              "width": 0.5
             },
             "pattern": {
              "fillmode": "overlay",
              "size": 10,
              "solidity": 0.2
             }
            },
            "type": "barpolar"
           }
          ],
          "carpet": [
           {
            "aaxis": {
             "endlinecolor": "#2a3f5f",
             "gridcolor": "#C8D4E3",
             "linecolor": "#C8D4E3",
             "minorgridcolor": "#C8D4E3",
             "startlinecolor": "#2a3f5f"
            },
            "baxis": {
             "endlinecolor": "#2a3f5f",
             "gridcolor": "#C8D4E3",
             "linecolor": "#C8D4E3",
             "minorgridcolor": "#C8D4E3",
             "startlinecolor": "#2a3f5f"
            },
            "type": "carpet"
           }
          ],
          "choropleth": [
           {
            "colorbar": {
             "outlinewidth": 0,
             "ticks": ""
            },
            "type": "choropleth"
           }
          ],
          "contour": [
           {
            "colorbar": {
             "outlinewidth": 0,
             "ticks": ""
            },
            "colorscale": [
             [
              0,
              "#0d0887"
             ],
             [
              0.1111111111111111,
              "#46039f"
             ],
             [
              0.2222222222222222,
              "#7201a8"
             ],
             [
              0.3333333333333333,
              "#9c179e"
             ],
             [
              0.4444444444444444,
              "#bd3786"
             ],
             [
              0.5555555555555556,
              "#d8576b"
             ],
             [
              0.6666666666666666,
              "#ed7953"
             ],
             [
              0.7777777777777778,
              "#fb9f3a"
             ],
             [
              0.8888888888888888,
              "#fdca26"
             ],
             [
              1,
              "#f0f921"
             ]
            ],
            "type": "contour"
           }
          ],
          "contourcarpet": [
           {
            "colorbar": {
             "outlinewidth": 0,
             "ticks": ""
            },
            "type": "contourcarpet"
           }
          ],
          "heatmap": [
           {
            "colorbar": {
             "outlinewidth": 0,
             "ticks": ""
            },
            "colorscale": [
             [
              0,
              "#0d0887"
             ],
             [
              0.1111111111111111,
              "#46039f"
             ],
             [
              0.2222222222222222,
              "#7201a8"
             ],
             [
              0.3333333333333333,
              "#9c179e"
             ],
             [
              0.4444444444444444,
              "#bd3786"
             ],
             [
              0.5555555555555556,
              "#d8576b"
             ],
             [
              0.6666666666666666,
              "#ed7953"
             ],
             [
              0.7777777777777778,
              "#fb9f3a"
             ],
             [
              0.8888888888888888,
              "#fdca26"
             ],
             [
              1,
              "#f0f921"
             ]
            ],
            "type": "heatmap"
           }
          ],
          "heatmapgl": [
           {
            "colorbar": {
             "outlinewidth": 0,
             "ticks": ""
            },
            "colorscale": [
             [
              0,
              "#0d0887"
             ],
             [
              0.1111111111111111,
              "#46039f"
             ],
             [
              0.2222222222222222,
              "#7201a8"
             ],
             [
              0.3333333333333333,
              "#9c179e"
             ],
             [
              0.4444444444444444,
              "#bd3786"
             ],
             [
              0.5555555555555556,
              "#d8576b"
             ],
             [
              0.6666666666666666,
              "#ed7953"
             ],
             [
              0.7777777777777778,
              "#fb9f3a"
             ],
             [
              0.8888888888888888,
              "#fdca26"
             ],
             [
              1,
              "#f0f921"
             ]
            ],
            "type": "heatmapgl"
           }
          ],
          "histogram": [
           {
            "marker": {
             "pattern": {
              "fillmode": "overlay",
              "size": 10,
              "solidity": 0.2
             }
            },
            "type": "histogram"
           }
          ],
          "histogram2d": [
           {
            "colorbar": {
             "outlinewidth": 0,
             "ticks": ""
            },
            "colorscale": [
             [
              0,
              "#0d0887"
             ],
             [
              0.1111111111111111,
              "#46039f"
             ],
             [
              0.2222222222222222,
              "#7201a8"
             ],
             [
              0.3333333333333333,
              "#9c179e"
             ],
             [
              0.4444444444444444,
              "#bd3786"
             ],
             [
              0.5555555555555556,
              "#d8576b"
             ],
             [
              0.6666666666666666,
              "#ed7953"
             ],
             [
              0.7777777777777778,
              "#fb9f3a"
             ],
             [
              0.8888888888888888,
              "#fdca26"
             ],
             [
              1,
              "#f0f921"
             ]
            ],
            "type": "histogram2d"
           }
          ],
          "histogram2dcontour": [
           {
            "colorbar": {
             "outlinewidth": 0,
             "ticks": ""
            },
            "colorscale": [
             [
              0,
              "#0d0887"
             ],
             [
              0.1111111111111111,
              "#46039f"
             ],
             [
              0.2222222222222222,
              "#7201a8"
             ],
             [
              0.3333333333333333,
              "#9c179e"
             ],
             [
              0.4444444444444444,
              "#bd3786"
             ],
             [
              0.5555555555555556,
              "#d8576b"
             ],
             [
              0.6666666666666666,
              "#ed7953"
             ],
             [
              0.7777777777777778,
              "#fb9f3a"
             ],
             [
              0.8888888888888888,
              "#fdca26"
             ],
             [
              1,
              "#f0f921"
             ]
            ],
            "type": "histogram2dcontour"
           }
          ],
          "mesh3d": [
           {
            "colorbar": {
             "outlinewidth": 0,
             "ticks": ""
            },
            "type": "mesh3d"
           }
          ],
          "parcoords": [
           {
            "line": {
             "colorbar": {
              "outlinewidth": 0,
              "ticks": ""
             }
            },
            "type": "parcoords"
           }
          ],
          "pie": [
           {
            "automargin": true,
            "type": "pie"
           }
          ],
          "scatter": [
           {
            "fillpattern": {
             "fillmode": "overlay",
             "size": 10,
             "solidity": 0.2
            },
            "type": "scatter"
           }
          ],
          "scatter3d": [
           {
            "line": {
             "colorbar": {
              "outlinewidth": 0,
              "ticks": ""
             }
            },
            "marker": {
             "colorbar": {
              "outlinewidth": 0,
              "ticks": ""
             }
            },
            "type": "scatter3d"
           }
          ],
          "scattercarpet": [
           {
            "marker": {
             "colorbar": {
              "outlinewidth": 0,
              "ticks": ""
             }
            },
            "type": "scattercarpet"
           }
          ],
          "scattergeo": [
           {
            "marker": {
             "colorbar": {
              "outlinewidth": 0,
              "ticks": ""
             }
            },
            "type": "scattergeo"
           }
          ],
          "scattergl": [
           {
            "marker": {
             "colorbar": {
              "outlinewidth": 0,
              "ticks": ""
             }
            },
            "type": "scattergl"
           }
          ],
          "scattermapbox": [
           {
            "marker": {
             "colorbar": {
              "outlinewidth": 0,
              "ticks": ""
             }
            },
            "type": "scattermapbox"
           }
          ],
          "scatterpolar": [
           {
            "marker": {
             "colorbar": {
              "outlinewidth": 0,
              "ticks": ""
             }
            },
            "type": "scatterpolar"
           }
          ],
          "scatterpolargl": [
           {
            "marker": {
             "colorbar": {
              "outlinewidth": 0,
              "ticks": ""
             }
            },
            "type": "scatterpolargl"
           }
          ],
          "scatterternary": [
           {
            "marker": {
             "colorbar": {
              "outlinewidth": 0,
              "ticks": ""
             }
            },
            "type": "scatterternary"
           }
          ],
          "surface": [
           {
            "colorbar": {
             "outlinewidth": 0,
             "ticks": ""
            },
            "colorscale": [
             [
              0,
              "#0d0887"
             ],
             [
              0.1111111111111111,
              "#46039f"
             ],
             [
              0.2222222222222222,
              "#7201a8"
             ],
             [
              0.3333333333333333,
              "#9c179e"
             ],
             [
              0.4444444444444444,
              "#bd3786"
             ],
             [
              0.5555555555555556,
              "#d8576b"
             ],
             [
              0.6666666666666666,
              "#ed7953"
             ],
             [
              0.7777777777777778,
              "#fb9f3a"
             ],
             [
              0.8888888888888888,
              "#fdca26"
             ],
             [
              1,
              "#f0f921"
             ]
            ],
            "type": "surface"
           }
          ],
          "table": [
           {
            "cells": {
             "fill": {
              "color": "#EBF0F8"
             },
             "line": {
              "color": "white"
             }
            },
            "header": {
             "fill": {
              "color": "#C8D4E3"
             },
             "line": {
              "color": "white"
             }
            },
            "type": "table"
           }
          ]
         },
         "layout": {
          "annotationdefaults": {
           "arrowcolor": "#2a3f5f",
           "arrowhead": 0,
           "arrowwidth": 1
          },
          "autotypenumbers": "strict",
          "coloraxis": {
           "colorbar": {
            "outlinewidth": 0,
            "ticks": ""
           }
          },
          "colorscale": {
           "diverging": [
            [
             0,
             "#8e0152"
            ],
            [
             0.1,
             "#c51b7d"
            ],
            [
             0.2,
             "#de77ae"
            ],
            [
             0.3,
             "#f1b6da"
            ],
            [
             0.4,
             "#fde0ef"
            ],
            [
             0.5,
             "#f7f7f7"
            ],
            [
             0.6,
             "#e6f5d0"
            ],
            [
             0.7,
             "#b8e186"
            ],
            [
             0.8,
             "#7fbc41"
            ],
            [
             0.9,
             "#4d9221"
            ],
            [
             1,
             "#276419"
            ]
           ],
           "sequential": [
            [
             0,
             "#0d0887"
            ],
            [
             0.1111111111111111,
             "#46039f"
            ],
            [
             0.2222222222222222,
             "#7201a8"
            ],
            [
             0.3333333333333333,
             "#9c179e"
            ],
            [
             0.4444444444444444,
             "#bd3786"
            ],
            [
             0.5555555555555556,
             "#d8576b"
            ],
            [
             0.6666666666666666,
             "#ed7953"
            ],
            [
             0.7777777777777778,
             "#fb9f3a"
            ],
            [
             0.8888888888888888,
             "#fdca26"
            ],
            [
             1,
             "#f0f921"
            ]
           ],
           "sequentialminus": [
            [
             0,
             "#0d0887"
            ],
            [
             0.1111111111111111,
             "#46039f"
            ],
            [
             0.2222222222222222,
             "#7201a8"
            ],
            [
             0.3333333333333333,
             "#9c179e"
            ],
            [
             0.4444444444444444,
             "#bd3786"
            ],
            [
             0.5555555555555556,
             "#d8576b"
            ],
            [
             0.6666666666666666,
             "#ed7953"
            ],
            [
             0.7777777777777778,
             "#fb9f3a"
            ],
            [
             0.8888888888888888,
             "#fdca26"
            ],
            [
             1,
             "#f0f921"
            ]
           ]
          },
          "colorway": [
           "#636efa",
           "#EF553B",
           "#00cc96",
           "#ab63fa",
           "#FFA15A",
           "#19d3f3",
           "#FF6692",
           "#B6E880",
           "#FF97FF",
           "#FECB52"
          ],
          "font": {
           "color": "#2a3f5f"
          },
          "geo": {
           "bgcolor": "white",
           "lakecolor": "white",
           "landcolor": "white",
           "showlakes": true,
           "showland": true,
           "subunitcolor": "#C8D4E3"
          },
          "hoverlabel": {
           "align": "left"
          },
          "hovermode": "closest",
          "mapbox": {
           "style": "light"
          },
          "paper_bgcolor": "white",
          "plot_bgcolor": "white",
          "polar": {
           "angularaxis": {
            "gridcolor": "#EBF0F8",
            "linecolor": "#EBF0F8",
            "ticks": ""
           },
           "bgcolor": "white",
           "radialaxis": {
            "gridcolor": "#EBF0F8",
            "linecolor": "#EBF0F8",
            "ticks": ""
           }
          },
          "scene": {
           "xaxis": {
            "backgroundcolor": "white",
            "gridcolor": "#DFE8F3",
            "gridwidth": 2,
            "linecolor": "#EBF0F8",
            "showbackground": true,
            "ticks": "",
            "zerolinecolor": "#EBF0F8"
           },
           "yaxis": {
            "backgroundcolor": "white",
            "gridcolor": "#DFE8F3",
            "gridwidth": 2,
            "linecolor": "#EBF0F8",
            "showbackground": true,
            "ticks": "",
            "zerolinecolor": "#EBF0F8"
           },
           "zaxis": {
            "backgroundcolor": "white",
            "gridcolor": "#DFE8F3",
            "gridwidth": 2,
            "linecolor": "#EBF0F8",
            "showbackground": true,
            "ticks": "",
            "zerolinecolor": "#EBF0F8"
           }
          },
          "shapedefaults": {
           "line": {
            "color": "#2a3f5f"
           }
          },
          "ternary": {
           "aaxis": {
            "gridcolor": "#DFE8F3",
            "linecolor": "#A2B1C6",
            "ticks": ""
           },
           "baxis": {
            "gridcolor": "#DFE8F3",
            "linecolor": "#A2B1C6",
            "ticks": ""
           },
           "bgcolor": "white",
           "caxis": {
            "gridcolor": "#DFE8F3",
            "linecolor": "#A2B1C6",
            "ticks": ""
           }
          },
          "title": {
           "x": 0.05
          },
          "xaxis": {
           "automargin": true,
           "gridcolor": "#EBF0F8",
           "linecolor": "#EBF0F8",
           "ticks": "",
           "title": {
            "standoff": 15
           },
           "zerolinecolor": "#EBF0F8",
           "zerolinewidth": 2
          },
          "yaxis": {
           "automargin": true,
           "gridcolor": "#EBF0F8",
           "linecolor": "#EBF0F8",
           "ticks": "",
           "title": {
            "standoff": 15
           },
           "zerolinecolor": "#EBF0F8",
           "zerolinewidth": 2
          }
         }
        },
        "xaxis": {
         "anchor": "y",
         "autorange": true,
         "categoryarray": [
          "Cerebellum",
          "Cortex",
          "Hippocampus",
          "OlfactoryBulb",
          "Striatum"
         ],
         "categoryorder": "array",
         "domain": [
          0,
          1
         ],
         "range": [
          -0.5216763005780347,
          4.521676300578035
         ],
         "title": {
          "text": ""
         },
         "type": "category"
        },
        "yaxis": {
         "anchor": "x",
         "autorange": true,
         "domain": [
          0,
          1
         ],
         "range": [
          11.517254799819295,
          17.398837754449406
         ],
         "title": {
          "text": "protein expression [iBAQ]"
         },
         "type": "linear"
        }
       }
      },
      "image/png": "[encoded data removed]",
      "text/html": [
       "<div>                            <div id=\"e4e268db-c558-4e66-8bc5-2ef0453c7fd9\" class=\"plotly-graph-div\" style=\"height:525px; width:100%;\"></div>            <script type=\"text/javascript\">                require([\"plotly\"], function(Plotly) {                    window.PLOTLYENV=window.PLOTLYENV || {};                                    if (document.getElementById(\"e4e268db-c558-4e66-8bc5-2ef0453c7fd9\")) {                    Plotly.newPlot(                        \"e4e268db-c558-4e66-8bc5-2ef0453c7fd9\",                        [{\"alignmentgroup\":\"True\",\"hovertemplate\":\"cell type=Unsorted<br>regions=%{x}<br>values=%{y}<extra></extra>\",\"legendgroup\":\"Unsorted\",\"marker\":{\"color\":\"#708090\"},\"name\":\"Unsorted\",\"notched\":false,\"offsetgroup\":\"Unsorted\",\"orientation\":\"v\",\"showlegend\":true,\"x\":[\"OlfactoryBulb\",\"OlfactoryBulb\",\"OlfactoryBulb\",\"OlfactoryBulb\",\"OlfactoryBulb\",\"OlfactoryBulb\",\"OlfactoryBulb\",\"OlfactoryBulb\",\"OlfactoryBulb\",\"OlfactoryBulb\",\"OlfactoryBulb\",\"OlfactoryBulb\",\"OlfactoryBulb\",\"OlfactoryBulb\",\"OlfactoryBulb\",\"OlfactoryBulb\",\"OlfactoryBulb\",\"Cerebellum\",\"Cerebellum\",\"Cerebellum\",\"Cerebellum\",\"Cerebellum\",\"Cerebellum\",\"Cerebellum\",\"Cerebellum\",\"Cerebellum\",\"Cerebellum\",\"Cerebellum\",\"Cerebellum\",\"Cerebellum\",\"Cortex\",\"Cortex\",\"Cortex\",\"Cortex\",\"Cortex\",\"Cortex\",\"Cortex\",\"Cortex\",\"Cortex\",\"Cortex\",\"Cortex\",\"Cortex\",\"Cortex\",\"Cortex\",\"Cortex\",\"Cortex\",\"Cortex\",\"Cortex\",\"Cortex\",\"Cortex\",\"Cortex\",\"Cortex\",\"Hippocampus\",\"Hippocampus\",\"Hippocampus\",\"Hippocampus\",\"Hippocampus\",\"Hippocampus\",\"Hippocampus\",\"Hippocampus\",\"Hippocampus\",\"Hippocampus\",\"Hippocampus\",\"Hippocampus\",\"Hippocampus\",\"Hippocampus\",\"Hippocampus\",\"Hippocampus\",\"Hippocampus\",\"Hippocampus\",\"Hippocampus\",\"Hippocampus\",\"Hippocampus\",\"Striatum\",\"Striatum\",\"Striatum\",\"Striatum\",\"Striatum\",\"Striatum\",\"Striatum\",\"Striatum\",\"Striatum\",\"Striatum\",\"Striatum\",\"Striatum\",\"Striatum\",\"Striatum\",\"Striatum\",\"Striatum\",\"Striatum\",\"Striatum\",\"Striatum\",\"Striatum\",\"Striatum\",\"Striatum\",\"Striatum\",\"Striatum\",\"Striatum\",\"Striatum\",\"Striatum\",\"Striatum\",\"Striatum\",\"Striatum\",\"Cortex\",\"Cortex\",\"Cortex\",\"Cortex\",\"Cortex\",\"Cortex\",\"Cortex\",\"Cortex\",\"Cortex\",\"Cortex\",\"Cortex\",\"Cortex\",\"Cortex\",\"Cortex\",\"Cortex\",\"Cortex\",\"Cortex\",\"Cortex\",\"Cortex\",\"Cortex\",\"Cortex\",\"Cortex\",\"Cortex\",\"Cortex\",\"Cortex\",\"Cortex\",\"Cortex\",\"Cortex\",\"Cortex\"],\"x0\":\" \",\"xaxis\":\"x\",\"y\":[14.4877851893828,14.9257964479185,15.1250387993925,14.6491944097893,14.4952908373009,15.1159501147239,14.7763255349356,14.9571641931596,14.7100778329247,14.5219866886479,14.8572205238685,14.9246350507161,15.0565312012409,14.9907303747828,14.8004051206127,14.7807529627378,14.6108141890683,12.1019868198167,12.6626595585289,12.4973741378879,12.9693139764724,11.8113339475508,12.1691979473079,12.7842922750667,12.6067758748786,12.7451394767815,12.5631813625155,12.5554581774238,11.9503672240433,12.1529676102267,15.9495545376196,15.9926606904895,16.3494755796536,16.4824346884196,16.3773254141106,16.471758285394,16.7338775847133,16.5176050871153,16.1596110809435,16.3962270197846,16.4844596834477,16.4635854711206,16.3734413203836,16.5235910116465,16.656931475575,16.4155710072183,16.6957363303649,16.4239155920875,16.5290297478111,16.5755302678038,16.383066897306,16.6535444176147,16.0514150574306,16.6687289813319,16.3014042403277,16.8547362624524,16.8945982501706,16.5408659273257,16.7533219983217,16.7712348656774,16.3822361739323,16.6955670865934,16.4315568692807,16.4726313332172,16.8084866350682,16.8170398914843,16.3387466170851,16.8147753003344,16.5003088341928,16.6378406743743,16.8247228018752,16.8009108354031,16.8347307790965,15.6217442316099,15.9049916148402,15.881189467083,15.882587858356,16.4288790032884,16.1381163827991,15.9216399210476,16.5654144900334,16.2072587051671,15.6741938104514,16.5353156461292,16.1426897009913,15.957763174353,16.0452306344482,16.0584282969852,16.2271660601907,16.0468096975696,15.7880087776954,16.1805910617055,15.9821346537089,16.1380112797816,16.1882896374553,16.2790454833692,15.9834174964582,15.5961796768721,15.5483705403547,15.6732472719009,16.3308012970768,16.3213723658962,16.1330530247145,13.2814071188956,13.6353346318676,13.6590693877371,12.3972580850058,13.5845493483659,13.1557532005055,12.9464655311965,12.876072690668,13.3646954462026,13.5402166696022,13.3886691561933,13.3561219693455,13.2497007436213,13.0841899983278,13.6007174135848,13.3299794119595,12.6291247903651,13.181477853612,13.2102768991456,13.0633277012151,13.8428623653349,13.4201990014414,12.8577693381174,13.3486066915365,13.543238723337,13.0171980982161,13.387976719279,13.3427752692828,12.8429724999544],\"y0\":\" \",\"yaxis\":\"y\",\"type\":\"box\"},{\"alignmentgroup\":\"True\",\"hovertemplate\":\"cell type=Camk2a<br>regions=%{x}<br>values=%{y}<extra></extra>\",\"legendgroup\":\"Camk2a\",\"marker\":{\"color\":\"#1E90FF\"},\"name\":\"Camk2a\",\"notched\":false,\"offsetgroup\":\"Camk2a\",\"orientation\":\"v\",\"showlegend\":true,\"x\":[\"OlfactoryBulb\",\"OlfactoryBulb\",\"OlfactoryBulb\",\"OlfactoryBulb\",\"OlfactoryBulb\",\"Cortex\",\"Cortex\",\"Cortex\",\"Cortex\",\"Cortex\",\"Cortex\",\"Hippocampus\",\"Hippocampus\",\"Hippocampus\",\"Hippocampus\",\"Hippocampus\",\"Hippocampus\",\"Hippocampus\",\"Striatum\",\"Striatum\",\"Striatum\",\"Striatum\",\"Striatum\",\"Striatum\",\"Striatum\"],\"x0\":\" \",\"xaxis\":\"x\",\"y\":[15.9527557585252,15.9751069871885,15.8294410607995,15.9122700555479,15.9458420571394,16.8347470916413,16.755934710322,16.82192261428,16.9698435864642,16.8456310862273,16.9006620668688,16.5322161801666,16.7378529963891,17.1047586067179,17.0567882865744,16.9687422010401,16.7640816917376,16.9246243892634,16.7392137962715,16.4796130227046,16.4782699327577,16.5646253486383,16.7505632580393,16.5008163389848,16.6489550903446],\"y0\":\" \",\"yaxis\":\"y\",\"type\":\"box\"},{\"alignmentgroup\":\"True\",\"hovertemplate\":\"cell type=Dat1<br>regions=%{x}<br>values=%{y}<extra></extra>\",\"legendgroup\":\"Dat1\",\"marker\":{\"color\":\"#00BFFF\"},\"name\":\"Dat1\",\"notched\":false,\"offsetgroup\":\"Dat1\",\"orientation\":\"v\",\"showlegend\":true,\"x\":[\"Striatum\",\"Striatum\",\"Striatum\",\"Striatum\",\"Striatum\",\"Striatum\",\"Striatum\",\"Striatum\",\"Striatum\"],\"x0\":\" \",\"xaxis\":\"x\",\"y\":[14.465944262871,15.1181317682273,14.9650210233064,14.5405669513072,14.7385105113124,15.1635079121756,13.8354229704904,15.0540707387736,14.3327309113667],\"y0\":\" \",\"yaxis\":\"y\",\"type\":\"box\"},{\"alignmentgroup\":\"True\",\"hovertemplate\":\"cell type=Syn1<br>regions=%{x}<br>values=%{y}<extra></extra>\",\"legendgroup\":\"Syn1\",\"marker\":{\"color\":\"#32CD32\"},\"name\":\"Syn1\",\"notched\":false,\"offsetgroup\":\"Syn1\",\"orientation\":\"v\",\"showlegend\":true,\"x\":[\"OlfactoryBulb\",\"OlfactoryBulb\",\"OlfactoryBulb\",\"OlfactoryBulb\",\"OlfactoryBulb\",\"OlfactoryBulb\",\"Cerebellum\",\"Cerebellum\",\"Cerebellum\",\"Cerebellum\",\"Cerebellum\",\"Cerebellum\",\"Cortex\",\"Cortex\",\"Cortex\",\"Cortex\",\"Cortex\",\"Cortex\",\"Cortex\",\"Hippocampus\",\"Hippocampus\",\"Hippocampus\",\"Hippocampus\",\"Hippocampus\",\"Hippocampus\",\"Striatum\",\"Striatum\",\"Striatum\",\"Striatum\",\"Striatum\",\"Striatum\"],\"x0\":\" \",\"xaxis\":\"x\",\"y\":[15.3271118021873,15.2111572800621,15.2232169515494,15.6026586283044,15.558716792051,15.5625073285103,14.0873776806795,12.0293410020601,13.1117491933449,12.9809753361526,13.1912859234993,13.0015799698529,16.8522133099756,16.5498517820282,16.3682673813893,16.7674917626162,16.7312743462626,17.0364102623102,16.6308190233525,16.4213938940536,16.9774313752858,16.8552575948485,16.6500220034691,16.9972392533895,17.0649572068402,16.4412700049656,16.3352333354905,16.118250213796,16.5867727619728,16.5564288453529,16.4118674811528],\"y0\":\" \",\"yaxis\":\"y\",\"type\":\"box\"},{\"alignmentgroup\":\"True\",\"hovertemplate\":\"cell type=Gad2<br>regions=%{x}<br>values=%{y}<extra></extra>\",\"legendgroup\":\"Gad2\",\"marker\":{\"color\":\"#FF6347\"},\"name\":\"Gad2\",\"notched\":false,\"offsetgroup\":\"Gad2\",\"orientation\":\"v\",\"showlegend\":true,\"x\":[\"OlfactoryBulb\",\"OlfactoryBulb\",\"OlfactoryBulb\",\"OlfactoryBulb\",\"OlfactoryBulb\",\"Cerebellum\",\"Cerebellum\",\"Cerebellum\",\"Cerebellum\",\"Cerebellum\",\"Cerebellum\",\"Cerebellum\",\"Cortex\",\"Cortex\",\"Cortex\",\"Cortex\",\"Cortex\",\"Cortex\",\"Hippocampus\",\"Hippocampus\",\"Hippocampus\",\"Hippocampus\",\"Hippocampus\",\"Hippocampus\",\"Hippocampus\",\"Striatum\",\"Striatum\",\"Striatum\",\"Striatum\",\"Striatum\",\"Striatum\",\"Striatum\",\"Cortex\",\"Cortex\",\"Cortex\",\"Cortex\",\"Cortex\",\"Cortex\",\"Cortex\"],\"x0\":\" \",\"xaxis\":\"x\",\"y\":[15.5704029446672,15.0750075224718,15.5036231841317,15.3636734668912,15.1261470654121,12.6896354356031,13.1502266168285,13.0451844637109,12.4309672868928,12.9556512955854,12.1677986257747,12.383271938037,15.710414213325,16.0412380527297,16.2247048946238,15.8344029122863,16.039042487532,16.3493682841588,14.6764885821378,16.3497584891718,15.9753780095927,15.8357868225894,15.954564932692,15.8120912194611,15.9884651324448,15.5062062115498,16.390472884953,16.5533041656673,16.0692312062246,16.539460213956,16.2485024478278,16.4698414508208,13.4660427304691,13.0991387651215,13.2689117156319,12.9438165976952,12.3827929399766,12.4706786240037,12.8391197083108],\"y0\":\" \",\"yaxis\":\"y\",\"type\":\"box\"},{\"alignmentgroup\":\"True\",\"hovertemplate\":\"cell type=PV<br>regions=%{x}<br>values=%{y}<extra></extra>\",\"legendgroup\":\"PV\",\"marker\":{\"color\":\"#9400D3\"},\"name\":\"PV\",\"notched\":false,\"offsetgroup\":\"PV\",\"orientation\":\"v\",\"showlegend\":true,\"x\":[\"Cortex\",\"Cortex\",\"Cortex\",\"Cortex\",\"Cortex\",\"Cortex\",\"Cortex\"],\"x0\":\" \",\"xaxis\":\"x\",\"y\":[12.7881560678475,12.3555703459884,12.2881556859414,12.1125612143829,11.8839236603368,12.4702985221006,12.8439996652991],\"y0\":\" \",\"yaxis\":\"y\",\"type\":\"box\"},{\"alignmentgroup\":\"True\",\"hovertemplate\":\"cell type=SST<br>regions=%{x}<br>values=%{y}<extra></extra>\",\"legendgroup\":\"SST\",\"marker\":{\"color\":\"#FFD700\"},\"name\":\"SST\",\"notched\":false,\"offsetgroup\":\"SST\",\"orientation\":\"v\",\"showlegend\":true,\"x\":[\"Cortex\",\"Cortex\",\"Cortex\",\"Cortex\",\"Cortex\",\"Cortex\",\"Cortex\"],\"x0\":\" \",\"xaxis\":\"x\",\"y\":[13.224560268923,12.7284498350973,13.2044413036403,12.9416557184611,12.5072778279437,13.3290355299272,13.2853469628678],\"y0\":\" \",\"yaxis\":\"y\",\"type\":\"box\"},{\"alignmentgroup\":\"True\",\"hovertemplate\":\"cell type=VIP<br>regions=%{x}<br>values=%{y}<extra></extra>\",\"legendgroup\":\"VIP\",\"marker\":{\"color\":\"#FFA500\"},\"name\":\"VIP\",\"notched\":false,\"offsetgroup\":\"VIP\",\"orientation\":\"v\",\"showlegend\":true,\"x\":[\"Cortex\",\"Cortex\",\"Cortex\",\"Cortex\",\"Cortex\",\"Cortex\",\"Cortex\",\"Cortex\"],\"x0\":\" \",\"xaxis\":\"x\",\"y\":[13.5474373007733,12.8760190345486,13.32056225651,12.7459829157208,13.1710805431969,12.8433489988348,12.7855808704244,12.5303586082888],\"y0\":\" \",\"yaxis\":\"y\",\"type\":\"box\"}],                        {\"template\":{\"data\":{\"barpolar\":[{\"marker\":{\"line\":{\"color\":\"white\",\"width\":0.5},\"pattern\":{\"fillmode\":\"overlay\",\"size\":10,\"solidity\":0.2}},\"type\":\"barpolar\"}],\"bar\":[{\"error_x\":{\"color\":\"#2a3f5f\"},\"error_y\":{\"color\":\"#2a3f5f\"},\"marker\":{\"line\":{\"color\":\"white\",\"width\":0.5},\"pattern\":{\"fillmode\":\"overlay\",\"size\":10,\"solidity\":0.2}},\"type\":\"bar\"}],\"carpet\":[{\"aaxis\":{\"endlinecolor\":\"#2a3f5f\",\"gridcolor\":\"#C8D4E3\",\"linecolor\":\"#C8D4E3\",\"minorgridcolor\":\"#C8D4E3\",\"startlinecolor\":\"#2a3f5f\"},\"baxis\":{\"endlinecolor\":\"#2a3f5f\",\"gridcolor\":\"#C8D4E3\",\"linecolor\":\"#C8D4E3\",\"minorgridcolor\":\"#C8D4E3\",\"startlinecolor\":\"#2a3f5f\"},\"type\":\"carpet\"}],\"choropleth\":[{\"colorbar\":{\"outlinewidth\":0,\"ticks\":\"\"},\"type\":\"choropleth\"}],\"contourcarpet\":[{\"colorbar\":{\"outlinewidth\":0,\"ticks\":\"\"},\"type\":\"contourcarpet\"}],\"contour\":[{\"colorbar\":{\"outlinewidth\":0,\"ticks\":\"\"},\"colorscale\":[[0.0,\"#0d0887\"],[0.1111111111111111,\"#46039f\"],[0.2222222222222222,\"#7201a8\"],[0.3333333333333333,\"#9c179e\"],[0.4444444444444444,\"#bd3786\"],[0.5555555555555556,\"#d8576b\"],[0.6666666666666666,\"#ed7953\"],[0.7777777777777778,\"#fb9f3a\"],[0.8888888888888888,\"#fdca26\"],[1.0,\"#f0f921\"]],\"type\":\"contour\"}],\"heatmapgl\":[{\"colorbar\":{\"outlinewidth\":0,\"ticks\":\"\"},\"colorscale\":[[0.0,\"#0d0887\"],[0.1111111111111111,\"#46039f\"],[0.2222222222222222,\"#7201a8\"],[0.3333333333333333,\"#9c179e\"],[0.4444444444444444,\"#bd3786\"],[0.5555555555555556,\"#d8576b\"],[0.6666666666666666,\"#ed7953\"],[0.7777777777777778,\"#fb9f3a\"],[0.8888888888888888,\"#fdca26\"],[1.0,\"#f0f921\"]],\"type\":\"heatmapgl\"}],\"heatmap\":[{\"colorbar\":{\"outlinewidth\":0,\"ticks\":\"\"},\"colorscale\":[[0.0,\"#0d0887\"],[0.1111111111111111,\"#46039f\"],[0.2222222222222222,\"#7201a8\"],[0.3333333333333333,\"#9c179e\"],[0.4444444444444444,\"#bd3786\"],[0.5555555555555556,\"#d8576b\"],[0.6666666666666666,\"#ed7953\"],[0.7777777777777778,\"#fb9f3a\"],[0.8888888888888888,\"#fdca26\"],[1.0,\"#f0f921\"]],\"type\":\"heatmap\"}],\"histogram2dcontour\":[{\"colorbar\":{\"outlinewidth\":0,\"ticks\":\"\"},\"colorscale\":[[0.0,\"#0d0887\"],[0.1111111111111111,\"#46039f\"],[0.2222222222222222,\"#7201a8\"],[0.3333333333333333,\"#9c179e\"],[0.4444444444444444,\"#bd3786\"],[0.5555555555555556,\"#d8576b\"],[0.6666666666666666,\"#ed7953\"],[0.7777777777777778,\"#fb9f3a\"],[0.8888888888888888,\"#fdca26\"],[1.0,\"#f0f921\"]],\"type\":\"histogram2dcontour\"}],\"histogram2d\":[{\"colorbar\":{\"outlinewidth\":0,\"ticks\":\"\"},\"colorscale\":[[0.0,\"#0d0887\"],[0.1111111111111111,\"#46039f\"],[0.2222222222222222,\"#7201a8\"],[0.3333333333333333,\"#9c179e\"],[0.4444444444444444,\"#bd3786\"],[0.5555555555555556,\"#d8576b\"],[0.6666666666666666,\"#ed7953\"],[0.7777777777777778,\"#fb9f3a\"],[0.8888888888888888,\"#fdca26\"],[1.0,\"#f0f921\"]],\"type\":\"histogram2d\"}],\"histogram\":[{\"marker\":{\"pattern\":{\"fillmode\":\"overlay\",\"size\":10,\"solidity\":0.2}},\"type\":\"histogram\"}],\"mesh3d\":[{\"colorbar\":{\"outlinewidth\":0,\"ticks\":\"\"},\"type\":\"mesh3d\"}],\"parcoords\":[{\"line\":{\"colorbar\":{\"outlinewidth\":0,\"ticks\":\"\"}},\"type\":\"parcoords\"}],\"pie\":[{\"automargin\":true,\"type\":\"pie\"}],\"scatter3d\":[{\"line\":{\"colorbar\":{\"outlinewidth\":0,\"ticks\":\"\"}},\"marker\":{\"colorbar\":{\"outlinewidth\":0,\"ticks\":\"\"}},\"type\":\"scatter3d\"}],\"scattercarpet\":[{\"marker\":{\"colorbar\":{\"outlinewidth\":0,\"ticks\":\"\"}},\"type\":\"scattercarpet\"}],\"scattergeo\":[{\"marker\":{\"colorbar\":{\"outlinewidth\":0,\"ticks\":\"\"}},\"type\":\"scattergeo\"}],\"scattergl\":[{\"marker\":{\"colorbar\":{\"outlinewidth\":0,\"ticks\":\"\"}},\"type\":\"scattergl\"}],\"scattermapbox\":[{\"marker\":{\"colorbar\":{\"outlinewidth\":0,\"ticks\":\"\"}},\"type\":\"scattermapbox\"}],\"scatterpolargl\":[{\"marker\":{\"colorbar\":{\"outlinewidth\":0,\"ticks\":\"\"}},\"type\":\"scatterpolargl\"}],\"scatterpolar\":[{\"marker\":{\"colorbar\":{\"outlinewidth\":0,\"ticks\":\"\"}},\"type\":\"scatterpolar\"}],\"scatter\":[{\"fillpattern\":{\"fillmode\":\"overlay\",\"size\":10,\"solidity\":0.2},\"type\":\"scatter\"}],\"scatterternary\":[{\"marker\":{\"colorbar\":{\"outlinewidth\":0,\"ticks\":\"\"}},\"type\":\"scatterternary\"}],\"surface\":[{\"colorbar\":{\"outlinewidth\":0,\"ticks\":\"\"},\"colorscale\":[[0.0,\"#0d0887\"],[0.1111111111111111,\"#46039f\"],[0.2222222222222222,\"#7201a8\"],[0.3333333333333333,\"#9c179e\"],[0.4444444444444444,\"#bd3786\"],[0.5555555555555556,\"#d8576b\"],[0.6666666666666666,\"#ed7953\"],[0.7777777777777778,\"#fb9f3a\"],[0.8888888888888888,\"#fdca26\"],[1.0,\"#f0f921\"]],\"type\":\"surface\"}],\"table\":[{\"cells\":{\"fill\":{\"color\":\"#EBF0F8\"},\"line\":{\"color\":\"white\"}},\"header\":{\"fill\":{\"color\":\"#C8D4E3\"},\"line\":{\"color\":\"white\"}},\"type\":\"table\"}]},\"layout\":{\"annotationdefaults\":{\"arrowcolor\":\"#2a3f5f\",\"arrowhead\":0,\"arrowwidth\":1},\"autotypenumbers\":\"strict\",\"coloraxis\":{\"colorbar\":{\"outlinewidth\":0,\"ticks\":\"\"}},\"colorscale\":{\"diverging\":[[0,\"#8e0152\"],[0.1,\"#c51b7d\"],[0.2,\"#de77ae\"],[0.3,\"#f1b6da\"],[0.4,\"#fde0ef\"],[0.5,\"#f7f7f7\"],[0.6,\"#e6f5d0\"],[0.7,\"#b8e186\"],[0.8,\"#7fbc41\"],[0.9,\"#4d9221\"],[1,\"#276419\"]],\"sequential\":[[0.0,\"#0d0887\"],[0.1111111111111111,\"#46039f\"],[0.2222222222222222,\"#7201a8\"],[0.3333333333333333,\"#9c179e\"],[0.4444444444444444,\"#bd3786\"],[0.5555555555555556,\"#d8576b\"],[0.6666666666666666,\"#ed7953\"],[0.7777777777777778,\"#fb9f3a\"],[0.8888888888888888,\"#fdca26\"],[1.0,\"#f0f921\"]],\"sequentialminus\":[[0.0,\"#0d0887\"],[0.1111111111111111,\"#46039f\"],[0.2222222222222222,\"#7201a8\"],[0.3333333333333333,\"#9c179e\"],[0.4444444444444444,\"#bd3786\"],[0.5555555555555556,\"#d8576b\"],[0.6666666666666666,\"#ed7953\"],[0.7777777777777778,\"#fb9f3a\"],[0.8888888888888888,\"#fdca26\"],[1.0,\"#f0f921\"]]},\"colorway\":[\"#636efa\",\"#EF553B\",\"#00cc96\",\"#ab63fa\",\"#FFA15A\",\"#19d3f3\",\"#FF6692\",\"#B6E880\",\"#FF97FF\",\"#FECB52\"],\"font\":{\"color\":\"#2a3f5f\"},\"geo\":{\"bgcolor\":\"white\",\"lakecolor\":\"white\",\"landcolor\":\"white\",\"showlakes\":true,\"showland\":true,\"subunitcolor\":\"#C8D4E3\"},\"hoverlabel\":{\"align\":\"left\"},\"hovermode\":\"closest\",\"mapbox\":{\"style\":\"light\"},\"paper_bgcolor\":\"white\",\"plot_bgcolor\":\"white\",\"polar\":{\"angularaxis\":{\"gridcolor\":\"#EBF0F8\",\"linecolor\":\"#EBF0F8\",\"ticks\":\"\"},\"bgcolor\":\"white\",\"radialaxis\":{\"gridcolor\":\"#EBF0F8\",\"linecolor\":\"#EBF0F8\",\"ticks\":\"\"}},\"scene\":{\"xaxis\":{\"backgroundcolor\":\"white\",\"gridcolor\":\"#DFE8F3\",\"gridwidth\":2,\"linecolor\":\"#EBF0F8\",\"showbackground\":true,\"ticks\":\"\",\"zerolinecolor\":\"#EBF0F8\"},\"yaxis\":{\"backgroundcolor\":\"white\",\"gridcolor\":\"#DFE8F3\",\"gridwidth\":2,\"linecolor\":\"#EBF0F8\",\"showbackground\":true,\"ticks\":\"\",\"zerolinecolor\":\"#EBF0F8\"},\"zaxis\":{\"backgroundcolor\":\"white\",\"gridcolor\":\"#DFE8F3\",\"gridwidth\":2,\"linecolor\":\"#EBF0F8\",\"showbackground\":true,\"ticks\":\"\",\"zerolinecolor\":\"#EBF0F8\"}},\"shapedefaults\":{\"line\":{\"color\":\"#2a3f5f\"}},\"ternary\":{\"aaxis\":{\"gridcolor\":\"#DFE8F3\",\"linecolor\":\"#A2B1C6\",\"ticks\":\"\"},\"baxis\":{\"gridcolor\":\"#DFE8F3\",\"linecolor\":\"#A2B1C6\",\"ticks\":\"\"},\"bgcolor\":\"white\",\"caxis\":{\"gridcolor\":\"#DFE8F3\",\"linecolor\":\"#A2B1C6\",\"ticks\":\"\"}},\"title\":{\"x\":0.05},\"xaxis\":{\"automargin\":true,\"gridcolor\":\"#EBF0F8\",\"linecolor\":\"#EBF0F8\",\"ticks\":\"\",\"title\":{\"standoff\":15},\"zerolinecolor\":\"#EBF0F8\",\"zerolinewidth\":2},\"yaxis\":{\"automargin\":true,\"gridcolor\":\"#EBF0F8\",\"linecolor\":\"#EBF0F8\",\"ticks\":\"\",\"title\":{\"standoff\":15},\"zerolinecolor\":\"#EBF0F8\",\"zerolinewidth\":2}}},\"xaxis\":{\"anchor\":\"y\",\"domain\":[0.0,1.0],\"title\":{\"text\":\"\"},\"categoryorder\":\"array\",\"categoryarray\":[\"Cerebellum\",\"Cortex\",\"Hippocampus\",\"OlfactoryBulb\",\"Striatum\"]},\"yaxis\":{\"anchor\":\"x\",\"domain\":[0.0,1.0],\"title\":{\"text\":\"protein expression [iBAQ]\"}},\"legend\":{\"title\":{\"text\":\"cell type\"},\"tracegroupgap\":0},\"margin\":{\"t\":60},\"boxmode\":\"group\",\"shapes\":[{\"line\":{\"color\":\"grey\",\"width\":0.5},\"type\":\"line\",\"x0\":0.5,\"x1\":0.5,\"xref\":\"x\",\"y0\":0,\"y1\":1,\"yref\":\"y domain\"},{\"line\":{\"color\":\"grey\",\"width\":0.5},\"type\":\"line\",\"x0\":1.5,\"x1\":1.5,\"xref\":\"x\",\"y0\":0,\"y1\":1,\"yref\":\"y domain\"},{\"line\":{\"color\":\"grey\",\"width\":0.5},\"type\":\"line\",\"x0\":2.5,\"x1\":2.5,\"xref\":\"x\",\"y0\":0,\"y1\":1,\"yref\":\"y domain\"},{\"line\":{\"color\":\"grey\",\"width\":0.5},\"type\":\"line\",\"x0\":3.5,\"x1\":3.5,\"xref\":\"x\",\"y0\":0,\"y1\":1,\"yref\":\"y domain\"}]},                        {\"responsive\": true}                    ).then(function(){\n",
       "                            \n",
       "var gd = document.getElementById('e4e268db-c558-4e66-8bc5-2ef0453c7fd9');\n",
       "var x = new MutationObserver(function (mutations, observer) {{\n",
       "        var display = window.getComputedStyle(gd).display;\n",
       "        if (!display || display === 'none') {{\n",
       "            console.log([gd, 'removed!']);\n",
       "            Plotly.purge(gd);\n",
       "            observer.disconnect();\n",
       "        }}\n",
       "}});\n",
       "\n",
       "// Listen for the removal of the full notebook cells\n",
       "var notebookContainer = gd.closest('#notebook-container');\n",
       "if (notebookContainer) {{\n",
       "    x.observe(notebookContainer, {childList: true});\n",
       "}}\n",
       "\n",
       "// Listen for the clearing of the current output cell\n",
       "var outputEl = gd.closest('.output');\n",
       "if (outputEl) {{\n",
       "    x.observe(outputEl, {childList: true});\n",
       "}}\n",
       "\n",
       "                        })                };                });            </script>        </div>"
      ]
     },
     "metadata": {},
     "output_type": "display_data"
    }
   ],
   "source": [
    "### --- PLOT EXPRESSION --- ###\n",
    "search_key='Camk2a'\n",
    "search_term = df_info['protein'].loc[df_info['gene'] == search_key].iloc[0]\n",
    "\n",
    "\n",
    "df = df_expressed.set_index('protein')\n",
    "index_row = random.randint(1, len(df)) - 1\n",
    "record = df.loc[search_term]\n",
    "\n",
    "list_regions = []\n",
    "list_celltypes = []\n",
    "list_values = []\n",
    "for key, value in record.items():\n",
    "    if value > 0:\n",
    "        key = re.sub(r'\\.\\d+$', '', key)\n",
    "        region, celltype = str.split(key, sep='.')\n",
    "        list_regions.append(region)\n",
    "        list_celltypes.append(celltype)\n",
    "        list_values.append(value)\n",
    "df = pd.DataFrame({'values': list_values, 'regions': list_regions, 'cell type': list_celltypes})\n",
    "\n",
    "\n",
    "list_unq_regions = ['Cerebellum', 'Cortex', 'Hippocampus', 'OlfactoryBulb', 'Striatum']\n",
    "list_unq_celltypes = ['Unsorted', 'Camk2a', 'Dat1', 'Syn1', 'Gad2', 'PV', 'SST', 'VIP']\n",
    "color_map = {'Unsorted': '#708090', \n",
    "             'Camk2a': '#1E90FF', \n",
    "             'Dat1': '#00BFFF',\n",
    "             'Syn1': '#32CD32',\n",
    "             'Gad2': '#FF6347',\n",
    "             'PV': '#9400D3',\n",
    "             'SST': '#FFD700',\n",
    "             'VIP': '#FFA500'}\n",
    "\n",
    "fig = px.box(df, x='regions', y='values', \n",
    "             color='cell type',\n",
    "             color_discrete_map=color_map,\n",
    "             category_orders={'regions': list_unq_regions, 'cell type': list_unq_celltypes},\n",
    "             template='plotly_white')\n",
    "\n",
    "for vidx in range(len(list_unq_regions) - 1):\n",
    "    fig.add_vline(x=vidx + .5, line_color='grey', line_width=0.5)\n",
    "\n",
    "    \n",
    "fig.update_layout(xaxis_title='',\n",
    "                  yaxis_title='protein expression [iBAQ]')\n",
    "    \n",
    "# # Show the plot\n",
    "fig.show()\n",
    "\n"
   ]
  },
  {
   "cell_type": "code",
   "execution_count": null,
   "id": "5d475995-7478-484f-8f47-00a419953aaa",
   "metadata": {},
   "outputs": [],
   "source": []
  }
 ],
 "metadata": {
  "kernelspec": {
   "display_name": "Python 3 (ipykernel)",
   "language": "python",
   "name": "python3"
  },
  "language_info": {
   "codemirror_mode": {
    "name": "ipython",
    "version": 3
   },
   "file_extension": ".py",
   "mimetype": "text/x-python",
   "name": "python",
   "nbconvert_exporter": "python",
   "pygments_lexer": "ipython3",
   "version": "3.11.3"
  }
 },
 "nbformat": 4,
 "nbformat_minor": 5
}
