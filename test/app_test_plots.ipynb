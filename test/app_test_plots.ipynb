{
 "cells": [
  {
   "cell_type": "code",
   "execution_count": 1,
   "metadata": {},
   "outputs": [],
   "source": [
    "import os\n",
    "import sys\n",
    "\n",
    "def path_is_in_pythonpath(path):\n",
    "    path = os.path.normcase(path)\n",
    "    return any(os.path.normcase(sp) == path for sp in sys.path)\n",
    "\n",
    "path_project = os.path.dirname(os.path.abspath(os.getcwd()))\n",
    "if not path_is_in_pythonpath(path_project):\n",
    "    sys.path.append(path_project)"
   ]
  },
  {
   "cell_type": "code",
   "execution_count": 2,
   "metadata": {},
   "outputs": [],
   "source": [
    "import plotly.express as px\n",
    "import plotly.graph_objects as go\n",
    "import pandas as pd\n",
    "import math\n",
    "import layouts.dbtools as db\n",
    "from layouts.ploters import plot_boxplot, plot_dotplot"
   ]
  },
  {
   "cell_type": "code",
   "execution_count": 3,
   "metadata": {},
   "outputs": [
    {
     "name": "stdout",
     "output_type": "stream",
     "text": [
      "Q8VBY2\n"
     ]
    }
   ],
   "source": [
    "# data\n",
    "db_file = '../data/mpibr_synprot.db'\n",
    "query_list = ['Camkk1', 'Gad1', 'Gad2', 'Slc32a1', 'Slc17a7',\n",
    "               'Shank1', 'Syt2', 'Th']\n",
    "df_info = db.listToDataFrame(search_list=query_list, db_column='gene',\n",
    "                             db_table='info', db_file=db_file)\n",
    "query_protein = df_info.loc[df_info['gene'] == query_list[0]].index[0]\n",
    "# query_protein = 'XXXXXX'\n",
    "print(query_protein)\n",
    "\n",
    "df_enriched = db.listToDataFrame(search_list=df_info.index.to_list(), \n",
    "                                 db_column='protein', db_table='enriched', db_file=db_file)\n",
    "df_expressed = db.listToDataFrame(search_list=df_info.index.to_list(),\n",
    "                                  db_column='protein', db_table='expressed', db_file=db_file)\n",
    "df_foldchange = db.listToDataFrame(search_list=df_info.index.to_list(),\n",
    "                                   db_column='protein', db_table='foldchange', db_file=db_file)\n"
   ]
  },
  {
   "cell_type": "code",
   "execution_count": 4,
   "metadata": {},
   "outputs": [
    {
     "data": {
      "application/vnd.plotly.v1+json": {
       "config": {
        "plotlyServerURL": "https://plot.ly"
       },
       "data": [
        {
         "alignmentgroup": "True",
         "hovertemplate": "cell type=Gad2-cre<br>regions=%{x}<br>values=%{y}<extra></extra>",
         "legendgroup": "Gad2-cre",
         "marker": {
          "color": "#E94879"
         },
         "name": "Gad2-cre",
         "notched": false,
         "offsetgroup": "Gad2-cre",
         "orientation": "v",
         "showlegend": true,
         "type": "box",
         "x": [
          "Cortical IN",
          "Cortical IN"
         ],
         "x0": " ",
         "xaxis": "x",
         "y": [
          10.4592499110445,
          10.4391775528048
         ],
         "y0": " ",
         "yaxis": "y"
        },
        {
         "alignmentgroup": "True",
         "hovertemplate": "cell type=Unsorted<br>regions=%{x}<br>values=%{y}<extra></extra>",
         "legendgroup": "Unsorted",
         "marker": {
          "color": "#708090"
         },
         "name": "Unsorted",
         "notched": false,
         "offsetgroup": "Unsorted",
         "orientation": "v",
         "showlegend": true,
         "type": "box",
         "x": [
          "Cortical IN",
          "Cortical IN",
          "Cortical IN",
          "Cortical IN",
          "Cortical IN"
         ],
         "x0": " ",
         "xaxis": "x",
         "y": [
          10.5573476441245,
          10.1533063391273,
          10.5646716734201,
          10.0154463324613,
          9.62550739155344
         ],
         "y0": " ",
         "yaxis": "y"
        },
        {
         "alignmentgroup": "True",
         "hovertemplate": "cell type=PV-cre<br>regions=%{x}<br>values=%{y}<extra></extra>",
         "legendgroup": "PV-cre",
         "marker": {
          "color": "#D15196"
         },
         "name": "PV-cre",
         "notched": false,
         "offsetgroup": "PV-cre",
         "orientation": "v",
         "showlegend": true,
         "type": "box",
         "x": [
          "Cortical IN",
          "Cortical IN"
         ],
         "x0": " ",
         "xaxis": "x",
         "y": [
          10.264493530625,
          9.66615954959148
         ],
         "y0": " ",
         "yaxis": "y"
        },
        {
         "alignmentgroup": "True",
         "hovertemplate": "cell type=SST-cre<br>regions=%{x}<br>values=%{y}<extra></extra>",
         "legendgroup": "SST-cre",
         "marker": {
          "color": "#F3A1AE"
         },
         "name": "SST-cre",
         "notched": false,
         "offsetgroup": "SST-cre",
         "orientation": "v",
         "showlegend": true,
         "type": "box",
         "x": [
          "Cortical IN",
          "Cortical IN"
         ],
         "x0": " ",
         "xaxis": "x",
         "y": [
          10.1483498477949,
          10.7407735918756
         ],
         "y0": " ",
         "yaxis": "y"
        },
        {
         "alignmentgroup": "True",
         "hovertemplate": "cell type=VIP-cre<br>regions=%{x}<br>values=%{y}<extra></extra>",
         "legendgroup": "VIP-cre",
         "marker": {
          "color": "#B77CA3"
         },
         "name": "VIP-cre",
         "notched": false,
         "offsetgroup": "VIP-cre",
         "orientation": "v",
         "showlegend": true,
         "type": "box",
         "x": [
          "Cortical IN"
         ],
         "x0": " ",
         "xaxis": "x",
         "y": [
          11.0448483298844
         ],
         "y0": " ",
         "yaxis": "y"
        }
       ],
       "layout": {
        "boxmode": "group",
        "legend": {
         "title": {
          "text": "cell type"
         },
         "tracegroupgap": 0
        },
        "shapes": [
         {
          "line": {
           "color": "grey",
           "width": 0.5
          },
          "type": "line",
          "x0": 0.5,
          "x1": 0.5,
          "xref": "x",
          "y0": 0,
          "y1": 1,
          "yref": "y domain"
         },
         {
          "line": {
           "color": "grey",
           "width": 0.5
          },
          "type": "line",
          "x0": 1.5,
          "x1": 1.5,
          "xref": "x",
          "y0": 0,
          "y1": 1,
          "yref": "y domain"
         },
         {
          "line": {
           "color": "grey",
           "width": 0.5
          },
          "type": "line",
          "x0": 2.5,
          "x1": 2.5,
          "xref": "x",
          "y0": 0,
          "y1": 1,
          "yref": "y domain"
         },
         {
          "line": {
           "color": "grey",
           "width": 0.5
          },
          "type": "line",
          "x0": 3.5,
          "x1": 3.5,
          "xref": "x",
          "y0": 0,
          "y1": 1,
          "yref": "y domain"
         },
         {
          "line": {
           "color": "grey",
           "width": 0.5
          },
          "type": "line",
          "x0": 4.5,
          "x1": 4.5,
          "xref": "x",
          "y0": 0,
          "y1": 1,
          "yref": "y domain"
         }
        ],
        "template": {
         "data": {
          "bar": [
           {
            "error_x": {
             "color": "#2a3f5f"
            },
            "error_y": {
             "color": "#2a3f5f"
            },
            "marker": {
             "line": {
              "color": "white",
              "width": 0.5
             },
             "pattern": {
              "fillmode": "overlay",
              "size": 10,
              "solidity": 0.2
             }
            },
            "type": "bar"
           }
          ],
          "barpolar": [
           {
            "marker": {
             "line": {
              "color": "white",
              "width": 0.5
             },
             "pattern": {
              "fillmode": "overlay",
              "size": 10,
              "solidity": 0.2
             }
            },
            "type": "barpolar"
           }
          ],
          "carpet": [
           {
            "aaxis": {
             "endlinecolor": "#2a3f5f",
             "gridcolor": "#C8D4E3",
             "linecolor": "#C8D4E3",
             "minorgridcolor": "#C8D4E3",
             "startlinecolor": "#2a3f5f"
            },
            "baxis": {
             "endlinecolor": "#2a3f5f",
             "gridcolor": "#C8D4E3",
             "linecolor": "#C8D4E3",
             "minorgridcolor": "#C8D4E3",
             "startlinecolor": "#2a3f5f"
            },
            "type": "carpet"
           }
          ],
          "choropleth": [
           {
            "colorbar": {
             "outlinewidth": 0,
             "ticks": ""
            },
            "type": "choropleth"
           }
          ],
          "contour": [
           {
            "colorbar": {
             "outlinewidth": 0,
             "ticks": ""
            },
            "colorscale": [
             [
              0,
              "#0d0887"
             ],
             [
              0.1111111111111111,
              "#46039f"
             ],
             [
              0.2222222222222222,
              "#7201a8"
             ],
             [
              0.3333333333333333,
              "#9c179e"
             ],
             [
              0.4444444444444444,
              "#bd3786"
             ],
             [
              0.5555555555555556,
              "#d8576b"
             ],
             [
              0.6666666666666666,
              "#ed7953"
             ],
             [
              0.7777777777777778,
              "#fb9f3a"
             ],
             [
              0.8888888888888888,
              "#fdca26"
             ],
             [
              1,
              "#f0f921"
             ]
            ],
            "type": "contour"
           }
          ],
          "contourcarpet": [
           {
            "colorbar": {
             "outlinewidth": 0,
             "ticks": ""
            },
            "type": "contourcarpet"
           }
          ],
          "heatmap": [
           {
            "colorbar": {
             "outlinewidth": 0,
             "ticks": ""
            },
            "colorscale": [
             [
              0,
              "#0d0887"
             ],
             [
              0.1111111111111111,
              "#46039f"
             ],
             [
              0.2222222222222222,
              "#7201a8"
             ],
             [
              0.3333333333333333,
              "#9c179e"
             ],
             [
              0.4444444444444444,
              "#bd3786"
             ],
             [
              0.5555555555555556,
              "#d8576b"
             ],
             [
              0.6666666666666666,
              "#ed7953"
             ],
             [
              0.7777777777777778,
              "#fb9f3a"
             ],
             [
              0.8888888888888888,
              "#fdca26"
             ],
             [
              1,
              "#f0f921"
             ]
            ],
            "type": "heatmap"
           }
          ],
          "heatmapgl": [
           {
            "colorbar": {
             "outlinewidth": 0,
             "ticks": ""
            },
            "colorscale": [
             [
              0,
              "#0d0887"
             ],
             [
              0.1111111111111111,
              "#46039f"
             ],
             [
              0.2222222222222222,
              "#7201a8"
             ],
             [
              0.3333333333333333,
              "#9c179e"
             ],
             [
              0.4444444444444444,
              "#bd3786"
             ],
             [
              0.5555555555555556,
              "#d8576b"
             ],
             [
              0.6666666666666666,
              "#ed7953"
             ],
             [
              0.7777777777777778,
              "#fb9f3a"
             ],
             [
              0.8888888888888888,
              "#fdca26"
             ],
             [
              1,
              "#f0f921"
             ]
            ],
            "type": "heatmapgl"
           }
          ],
          "histogram": [
           {
            "marker": {
             "pattern": {
              "fillmode": "overlay",
              "size": 10,
              "solidity": 0.2
             }
            },
            "type": "histogram"
           }
          ],
          "histogram2d": [
           {
            "colorbar": {
             "outlinewidth": 0,
             "ticks": ""
            },
            "colorscale": [
             [
              0,
              "#0d0887"
             ],
             [
              0.1111111111111111,
              "#46039f"
             ],
             [
              0.2222222222222222,
              "#7201a8"
             ],
             [
              0.3333333333333333,
              "#9c179e"
             ],
             [
              0.4444444444444444,
              "#bd3786"
             ],
             [
              0.5555555555555556,
              "#d8576b"
             ],
             [
              0.6666666666666666,
              "#ed7953"
             ],
             [
              0.7777777777777778,
              "#fb9f3a"
             ],
             [
              0.8888888888888888,
              "#fdca26"
             ],
             [
              1,
              "#f0f921"
             ]
            ],
            "type": "histogram2d"
           }
          ],
          "histogram2dcontour": [
           {
            "colorbar": {
             "outlinewidth": 0,
             "ticks": ""
            },
            "colorscale": [
             [
              0,
              "#0d0887"
             ],
             [
              0.1111111111111111,
              "#46039f"
             ],
             [
              0.2222222222222222,
              "#7201a8"
             ],
             [
              0.3333333333333333,
              "#9c179e"
             ],
             [
              0.4444444444444444,
              "#bd3786"
             ],
             [
              0.5555555555555556,
              "#d8576b"
             ],
             [
              0.6666666666666666,
              "#ed7953"
             ],
             [
              0.7777777777777778,
              "#fb9f3a"
             ],
             [
              0.8888888888888888,
              "#fdca26"
             ],
             [
              1,
              "#f0f921"
             ]
            ],
            "type": "histogram2dcontour"
           }
          ],
          "mesh3d": [
           {
            "colorbar": {
             "outlinewidth": 0,
             "ticks": ""
            },
            "type": "mesh3d"
           }
          ],
          "parcoords": [
           {
            "line": {
             "colorbar": {
              "outlinewidth": 0,
              "ticks": ""
             }
            },
            "type": "parcoords"
           }
          ],
          "pie": [
           {
            "automargin": true,
            "type": "pie"
           }
          ],
          "scatter": [
           {
            "fillpattern": {
             "fillmode": "overlay",
             "size": 10,
             "solidity": 0.2
            },
            "type": "scatter"
           }
          ],
          "scatter3d": [
           {
            "line": {
             "colorbar": {
              "outlinewidth": 0,
              "ticks": ""
             }
            },
            "marker": {
             "colorbar": {
              "outlinewidth": 0,
              "ticks": ""
             }
            },
            "type": "scatter3d"
           }
          ],
          "scattercarpet": [
           {
            "marker": {
             "colorbar": {
              "outlinewidth": 0,
              "ticks": ""
             }
            },
            "type": "scattercarpet"
           }
          ],
          "scattergeo": [
           {
            "marker": {
             "colorbar": {
              "outlinewidth": 0,
              "ticks": ""
             }
            },
            "type": "scattergeo"
           }
          ],
          "scattergl": [
           {
            "marker": {
             "colorbar": {
              "outlinewidth": 0,
              "ticks": ""
             }
            },
            "type": "scattergl"
           }
          ],
          "scattermapbox": [
           {
            "marker": {
             "colorbar": {
              "outlinewidth": 0,
              "ticks": ""
             }
            },
            "type": "scattermapbox"
           }
          ],
          "scatterpolar": [
           {
            "marker": {
             "colorbar": {
              "outlinewidth": 0,
              "ticks": ""
             }
            },
            "type": "scatterpolar"
           }
          ],
          "scatterpolargl": [
           {
            "marker": {
             "colorbar": {
              "outlinewidth": 0,
              "ticks": ""
             }
            },
            "type": "scatterpolargl"
           }
          ],
          "scatterternary": [
           {
            "marker": {
             "colorbar": {
              "outlinewidth": 0,
              "ticks": ""
             }
            },
            "type": "scatterternary"
           }
          ],
          "surface": [
           {
            "colorbar": {
             "outlinewidth": 0,
             "ticks": ""
            },
            "colorscale": [
             [
              0,
              "#0d0887"
             ],
             [
              0.1111111111111111,
              "#46039f"
             ],
             [
              0.2222222222222222,
              "#7201a8"
             ],
             [
              0.3333333333333333,
              "#9c179e"
             ],
             [
              0.4444444444444444,
              "#bd3786"
             ],
             [
              0.5555555555555556,
              "#d8576b"
             ],
             [
              0.6666666666666666,
              "#ed7953"
             ],
             [
              0.7777777777777778,
              "#fb9f3a"
             ],
             [
              0.8888888888888888,
              "#fdca26"
             ],
             [
              1,
              "#f0f921"
             ]
            ],
            "type": "surface"
           }
          ],
          "table": [
           {
            "cells": {
             "fill": {
              "color": "#EBF0F8"
             },
             "line": {
              "color": "white"
             }
            },
            "header": {
             "fill": {
              "color": "#C8D4E3"
             },
             "line": {
              "color": "white"
             }
            },
            "type": "table"
           }
          ]
         },
         "layout": {
          "annotationdefaults": {
           "arrowcolor": "#2a3f5f",
           "arrowhead": 0,
           "arrowwidth": 1
          },
          "autotypenumbers": "strict",
          "coloraxis": {
           "colorbar": {
            "outlinewidth": 0,
            "ticks": ""
           }
          },
          "colorscale": {
           "diverging": [
            [
             0,
             "#8e0152"
            ],
            [
             0.1,
             "#c51b7d"
            ],
            [
             0.2,
             "#de77ae"
            ],
            [
             0.3,
             "#f1b6da"
            ],
            [
             0.4,
             "#fde0ef"
            ],
            [
             0.5,
             "#f7f7f7"
            ],
            [
             0.6,
             "#e6f5d0"
            ],
            [
             0.7,
             "#b8e186"
            ],
            [
             0.8,
             "#7fbc41"
            ],
            [
             0.9,
             "#4d9221"
            ],
            [
             1,
             "#276419"
            ]
           ],
           "sequential": [
            [
             0,
             "#0d0887"
            ],
            [
             0.1111111111111111,
             "#46039f"
            ],
            [
             0.2222222222222222,
             "#7201a8"
            ],
            [
             0.3333333333333333,
             "#9c179e"
            ],
            [
             0.4444444444444444,
             "#bd3786"
            ],
            [
             0.5555555555555556,
             "#d8576b"
            ],
            [
             0.6666666666666666,
             "#ed7953"
            ],
            [
             0.7777777777777778,
             "#fb9f3a"
            ],
            [
             0.8888888888888888,
             "#fdca26"
            ],
            [
             1,
             "#f0f921"
            ]
           ],
           "sequentialminus": [
            [
             0,
             "#0d0887"
            ],
            [
             0.1111111111111111,
             "#46039f"
            ],
            [
             0.2222222222222222,
             "#7201a8"
            ],
            [
             0.3333333333333333,
             "#9c179e"
            ],
            [
             0.4444444444444444,
             "#bd3786"
            ],
            [
             0.5555555555555556,
             "#d8576b"
            ],
            [
             0.6666666666666666,
             "#ed7953"
            ],
            [
             0.7777777777777778,
             "#fb9f3a"
            ],
            [
             0.8888888888888888,
             "#fdca26"
            ],
            [
             1,
             "#f0f921"
            ]
           ]
          },
          "colorway": [
           "#636efa",
           "#EF553B",
           "#00cc96",
           "#ab63fa",
           "#FFA15A",
           "#19d3f3",
           "#FF6692",
           "#B6E880",
           "#FF97FF",
           "#FECB52"
          ],
          "font": {
           "color": "#2a3f5f"
          },
          "geo": {
           "bgcolor": "white",
           "lakecolor": "white",
           "landcolor": "white",
           "showlakes": true,
           "showland": true,
           "subunitcolor": "#C8D4E3"
          },
          "hoverlabel": {
           "align": "left"
          },
          "hovermode": "closest",
          "mapbox": {
           "style": "light"
          },
          "paper_bgcolor": "white",
          "plot_bgcolor": "white",
          "polar": {
           "angularaxis": {
            "gridcolor": "#EBF0F8",
            "linecolor": "#EBF0F8",
            "ticks": ""
           },
           "bgcolor": "white",
           "radialaxis": {
            "gridcolor": "#EBF0F8",
            "linecolor": "#EBF0F8",
            "ticks": ""
           }
          },
          "scene": {
           "xaxis": {
            "backgroundcolor": "white",
            "gridcolor": "#DFE8F3",
            "gridwidth": 2,
            "linecolor": "#EBF0F8",
            "showbackground": true,
            "ticks": "",
            "zerolinecolor": "#EBF0F8"
           },
           "yaxis": {
            "backgroundcolor": "white",
            "gridcolor": "#DFE8F3",
            "gridwidth": 2,
            "linecolor": "#EBF0F8",
            "showbackground": true,
            "ticks": "",
            "zerolinecolor": "#EBF0F8"
           },
           "zaxis": {
            "backgroundcolor": "white",
            "gridcolor": "#DFE8F3",
            "gridwidth": 2,
            "linecolor": "#EBF0F8",
            "showbackground": true,
            "ticks": "",
            "zerolinecolor": "#EBF0F8"
           }
          },
          "shapedefaults": {
           "line": {
            "color": "#2a3f5f"
           }
          },
          "ternary": {
           "aaxis": {
            "gridcolor": "#DFE8F3",
            "linecolor": "#A2B1C6",
            "ticks": ""
           },
           "baxis": {
            "gridcolor": "#DFE8F3",
            "linecolor": "#A2B1C6",
            "ticks": ""
           },
           "bgcolor": "white",
           "caxis": {
            "gridcolor": "#DFE8F3",
            "linecolor": "#A2B1C6",
            "ticks": ""
           }
          },
          "title": {
           "x": 0.05
          },
          "xaxis": {
           "automargin": true,
           "gridcolor": "#EBF0F8",
           "linecolor": "#EBF0F8",
           "ticks": "",
           "title": {
            "standoff": 15
           },
           "zerolinecolor": "#EBF0F8",
           "zerolinewidth": 2
          },
          "yaxis": {
           "automargin": true,
           "gridcolor": "#EBF0F8",
           "linecolor": "#EBF0F8",
           "ticks": "",
           "title": {
            "standoff": 15
           },
           "zerolinecolor": "#EBF0F8",
           "zerolinewidth": 2
          }
         }
        },
        "title": {
         "text": "Synaptic Abundance"
        },
        "xaxis": {
         "anchor": "y",
         "categoryarray": [
          "Cortex",
          "Cortical IN",
          "Hippocampus",
          "Striatum",
          "Cerebellum",
          "Olfactory Bulb"
         ],
         "categoryorder": "array",
         "domain": [
          0,
          1
         ],
         "range": [
          -0.5,
          5.5
         ],
         "title": {
          "text": ""
         }
        },
        "yaxis": {
         "anchor": "x",
         "domain": [
          0,
          1
         ],
         "title": {
          "text": "protein abundance"
         }
        }
       }
      }
     },
     "metadata": {},
     "output_type": "display_data"
    }
   ],
   "source": [
    "# plot expressed\n",
    "hf = plot_boxplot(df=df_expressed, \n",
    "                  key=query_protein)\n",
    "hf.show()"
   ]
  },
  {
   "cell_type": "code",
   "execution_count": 5,
   "metadata": {},
   "outputs": [
    {
     "data": {
      "application/vnd.plotly.v1+json": {
       "config": {
        "plotlyServerURL": "https://plot.ly"
       },
       "data": [
        {
         "alignmentgroup": "True",
         "hovertemplate": "cell type=Camk2a-cre<br>regions=%{x}<br>values=%{y}<extra></extra>",
         "legendgroup": "Camk2a-cre",
         "marker": {
          "color": "#C3BE04"
         },
         "name": "Camk2a-cre",
         "notched": false,
         "offsetgroup": "Camk2a-cre",
         "orientation": "v",
         "showlegend": true,
         "type": "box",
         "x": [
          "Cortex",
          "Cortical IN",
          "Hippocampus",
          "Striatum",
          "Cerebellum",
          "Olfactory Bulb"
         ],
         "x0": " ",
         "xaxis": "x",
         "y": [
          0,
          0,
          0,
          0,
          0,
          0
         ],
         "y0": " ",
         "yaxis": "y"
        },
        {
         "alignmentgroup": "True",
         "hovertemplate": "cell type=Dat1-cre<br>regions=%{x}<br>values=%{y}<extra></extra>",
         "legendgroup": "Dat1-cre",
         "marker": {
          "color": "#409E36"
         },
         "name": "Dat1-cre",
         "notched": false,
         "offsetgroup": "Dat1-cre",
         "orientation": "v",
         "showlegend": true,
         "type": "box",
         "x": [
          "Cortex",
          "Cortical IN",
          "Hippocampus",
          "Striatum",
          "Cerebellum",
          "Olfactory Bulb"
         ],
         "x0": " ",
         "xaxis": "x",
         "y": [
          0,
          0,
          0,
          0,
          0,
          0
         ],
         "y0": " ",
         "yaxis": "y"
        },
        {
         "alignmentgroup": "True",
         "hovertemplate": "cell type=Syn1-cre<br>regions=%{x}<br>values=%{y}<extra></extra>",
         "legendgroup": "Syn1-cre",
         "marker": {
          "color": "#AAD4AC"
         },
         "name": "Syn1-cre",
         "notched": false,
         "offsetgroup": "Syn1-cre",
         "orientation": "v",
         "showlegend": true,
         "type": "box",
         "x": [
          "Cortex",
          "Cortical IN",
          "Hippocampus",
          "Striatum",
          "Cerebellum",
          "Olfactory Bulb"
         ],
         "x0": " ",
         "xaxis": "x",
         "y": [
          0,
          0,
          0,
          0,
          0,
          0
         ],
         "y0": " ",
         "yaxis": "y"
        },
        {
         "alignmentgroup": "True",
         "hovertemplate": "cell type=Gad2-cre<br>regions=%{x}<br>values=%{y}<extra></extra>",
         "legendgroup": "Gad2-cre",
         "marker": {
          "color": "#E94879"
         },
         "name": "Gad2-cre",
         "notched": false,
         "offsetgroup": "Gad2-cre",
         "orientation": "v",
         "showlegend": true,
         "type": "box",
         "x": [
          "Cortex",
          "Cortical IN",
          "Hippocampus",
          "Striatum",
          "Cerebellum",
          "Olfactory Bulb"
         ],
         "x0": " ",
         "xaxis": "x",
         "y": [
          0,
          0,
          0,
          0,
          0,
          0
         ],
         "y0": " ",
         "yaxis": "y"
        },
        {
         "alignmentgroup": "True",
         "hovertemplate": "cell type=PV-cre<br>regions=%{x}<br>values=%{y}<extra></extra>",
         "legendgroup": "PV-cre",
         "marker": {
          "color": "#D15196"
         },
         "name": "PV-cre",
         "notched": false,
         "offsetgroup": "PV-cre",
         "orientation": "v",
         "showlegend": true,
         "type": "box",
         "x": [
          "Cortex",
          "Cortical IN",
          "Hippocampus",
          "Striatum",
          "Cerebellum",
          "Olfactory Bulb"
         ],
         "x0": " ",
         "xaxis": "x",
         "y": [
          0,
          0,
          0,
          0,
          0,
          0
         ],
         "y0": " ",
         "yaxis": "y"
        },
        {
         "alignmentgroup": "True",
         "hovertemplate": "cell type=SST-cre<br>regions=%{x}<br>values=%{y}<extra></extra>",
         "legendgroup": "SST-cre",
         "marker": {
          "color": "#F3A1AE"
         },
         "name": "SST-cre",
         "notched": false,
         "offsetgroup": "SST-cre",
         "orientation": "v",
         "showlegend": true,
         "type": "box",
         "x": [
          "Cortex",
          "Cortical IN",
          "Hippocampus",
          "Striatum",
          "Cerebellum",
          "Olfactory Bulb"
         ],
         "x0": " ",
         "xaxis": "x",
         "y": [
          0,
          0,
          0,
          0,
          0,
          0
         ],
         "y0": " ",
         "yaxis": "y"
        },
        {
         "alignmentgroup": "True",
         "hovertemplate": "cell type=VIP-cre<br>regions=%{x}<br>values=%{y}<extra></extra>",
         "legendgroup": "VIP-cre",
         "marker": {
          "color": "#B77CA3"
         },
         "name": "VIP-cre",
         "notched": false,
         "offsetgroup": "VIP-cre",
         "orientation": "v",
         "showlegend": true,
         "type": "box",
         "x": [
          "Cortex",
          "Cortical IN",
          "Hippocampus",
          "Striatum",
          "Cerebellum",
          "Olfactory Bulb"
         ],
         "x0": " ",
         "xaxis": "x",
         "y": [
          0,
          0,
          0,
          0,
          0,
          0
         ],
         "y0": " ",
         "yaxis": "y"
        }
       ],
       "layout": {
        "boxmode": "group",
        "legend": {
         "title": {
          "text": "cell type"
         },
         "tracegroupgap": 0
        },
        "shapes": [
         {
          "line": {
           "color": "grey",
           "width": 0.5
          },
          "type": "line",
          "x0": 0.5,
          "x1": 0.5,
          "xref": "x",
          "y0": 0,
          "y1": 1,
          "yref": "y domain"
         },
         {
          "line": {
           "color": "grey",
           "width": 0.5
          },
          "type": "line",
          "x0": 1.5,
          "x1": 1.5,
          "xref": "x",
          "y0": 0,
          "y1": 1,
          "yref": "y domain"
         },
         {
          "line": {
           "color": "grey",
           "width": 0.5
          },
          "type": "line",
          "x0": 2.5,
          "x1": 2.5,
          "xref": "x",
          "y0": 0,
          "y1": 1,
          "yref": "y domain"
         },
         {
          "line": {
           "color": "grey",
           "width": 0.5
          },
          "type": "line",
          "x0": 3.5,
          "x1": 3.5,
          "xref": "x",
          "y0": 0,
          "y1": 1,
          "yref": "y domain"
         },
         {
          "line": {
           "color": "grey",
           "width": 0.5
          },
          "type": "line",
          "x0": 4.5,
          "x1": 4.5,
          "xref": "x",
          "y0": 0,
          "y1": 1,
          "yref": "y domain"
         }
        ],
        "template": {
         "data": {
          "bar": [
           {
            "error_x": {
             "color": "#2a3f5f"
            },
            "error_y": {
             "color": "#2a3f5f"
            },
            "marker": {
             "line": {
              "color": "white",
              "width": 0.5
             },
             "pattern": {
              "fillmode": "overlay",
              "size": 10,
              "solidity": 0.2
             }
            },
            "type": "bar"
           }
          ],
          "barpolar": [
           {
            "marker": {
             "line": {
              "color": "white",
              "width": 0.5
             },
             "pattern": {
              "fillmode": "overlay",
              "size": 10,
              "solidity": 0.2
             }
            },
            "type": "barpolar"
           }
          ],
          "carpet": [
           {
            "aaxis": {
             "endlinecolor": "#2a3f5f",
             "gridcolor": "#C8D4E3",
             "linecolor": "#C8D4E3",
             "minorgridcolor": "#C8D4E3",
             "startlinecolor": "#2a3f5f"
            },
            "baxis": {
             "endlinecolor": "#2a3f5f",
             "gridcolor": "#C8D4E3",
             "linecolor": "#C8D4E3",
             "minorgridcolor": "#C8D4E3",
             "startlinecolor": "#2a3f5f"
            },
            "type": "carpet"
           }
          ],
          "choropleth": [
           {
            "colorbar": {
             "outlinewidth": 0,
             "ticks": ""
            },
            "type": "choropleth"
           }
          ],
          "contour": [
           {
            "colorbar": {
             "outlinewidth": 0,
             "ticks": ""
            },
            "colorscale": [
             [
              0,
              "#0d0887"
             ],
             [
              0.1111111111111111,
              "#46039f"
             ],
             [
              0.2222222222222222,
              "#7201a8"
             ],
             [
              0.3333333333333333,
              "#9c179e"
             ],
             [
              0.4444444444444444,
              "#bd3786"
             ],
             [
              0.5555555555555556,
              "#d8576b"
             ],
             [
              0.6666666666666666,
              "#ed7953"
             ],
             [
              0.7777777777777778,
              "#fb9f3a"
             ],
             [
              0.8888888888888888,
              "#fdca26"
             ],
             [
              1,
              "#f0f921"
             ]
            ],
            "type": "contour"
           }
          ],
          "contourcarpet": [
           {
            "colorbar": {
             "outlinewidth": 0,
             "ticks": ""
            },
            "type": "contourcarpet"
           }
          ],
          "heatmap": [
           {
            "colorbar": {
             "outlinewidth": 0,
             "ticks": ""
            },
            "colorscale": [
             [
              0,
              "#0d0887"
             ],
             [
              0.1111111111111111,
              "#46039f"
             ],
             [
              0.2222222222222222,
              "#7201a8"
             ],
             [
              0.3333333333333333,
              "#9c179e"
             ],
             [
              0.4444444444444444,
              "#bd3786"
             ],
             [
              0.5555555555555556,
              "#d8576b"
             ],
             [
              0.6666666666666666,
              "#ed7953"
             ],
             [
              0.7777777777777778,
              "#fb9f3a"
             ],
             [
              0.8888888888888888,
              "#fdca26"
             ],
             [
              1,
              "#f0f921"
             ]
            ],
            "type": "heatmap"
           }
          ],
          "heatmapgl": [
           {
            "colorbar": {
             "outlinewidth": 0,
             "ticks": ""
            },
            "colorscale": [
             [
              0,
              "#0d0887"
             ],
             [
              0.1111111111111111,
              "#46039f"
             ],
             [
              0.2222222222222222,
              "#7201a8"
             ],
             [
              0.3333333333333333,
              "#9c179e"
             ],
             [
              0.4444444444444444,
              "#bd3786"
             ],
             [
              0.5555555555555556,
              "#d8576b"
             ],
             [
              0.6666666666666666,
              "#ed7953"
             ],
             [
              0.7777777777777778,
              "#fb9f3a"
             ],
             [
              0.8888888888888888,
              "#fdca26"
             ],
             [
              1,
              "#f0f921"
             ]
            ],
            "type": "heatmapgl"
           }
          ],
          "histogram": [
           {
            "marker": {
             "pattern": {
              "fillmode": "overlay",
              "size": 10,
              "solidity": 0.2
             }
            },
            "type": "histogram"
           }
          ],
          "histogram2d": [
           {
            "colorbar": {
             "outlinewidth": 0,
             "ticks": ""
            },
            "colorscale": [
             [
              0,
              "#0d0887"
             ],
             [
              0.1111111111111111,
              "#46039f"
             ],
             [
              0.2222222222222222,
              "#7201a8"
             ],
             [
              0.3333333333333333,
              "#9c179e"
             ],
             [
              0.4444444444444444,
              "#bd3786"
             ],
             [
              0.5555555555555556,
              "#d8576b"
             ],
             [
              0.6666666666666666,
              "#ed7953"
             ],
             [
              0.7777777777777778,
              "#fb9f3a"
             ],
             [
              0.8888888888888888,
              "#fdca26"
             ],
             [
              1,
              "#f0f921"
             ]
            ],
            "type": "histogram2d"
           }
          ],
          "histogram2dcontour": [
           {
            "colorbar": {
             "outlinewidth": 0,
             "ticks": ""
            },
            "colorscale": [
             [
              0,
              "#0d0887"
             ],
             [
              0.1111111111111111,
              "#46039f"
             ],
             [
              0.2222222222222222,
              "#7201a8"
             ],
             [
              0.3333333333333333,
              "#9c179e"
             ],
             [
              0.4444444444444444,
              "#bd3786"
             ],
             [
              0.5555555555555556,
              "#d8576b"
             ],
             [
              0.6666666666666666,
              "#ed7953"
             ],
             [
              0.7777777777777778,
              "#fb9f3a"
             ],
             [
              0.8888888888888888,
              "#fdca26"
             ],
             [
              1,
              "#f0f921"
             ]
            ],
            "type": "histogram2dcontour"
           }
          ],
          "mesh3d": [
           {
            "colorbar": {
             "outlinewidth": 0,
             "ticks": ""
            },
            "type": "mesh3d"
           }
          ],
          "parcoords": [
           {
            "line": {
             "colorbar": {
              "outlinewidth": 0,
              "ticks": ""
             }
            },
            "type": "parcoords"
           }
          ],
          "pie": [
           {
            "automargin": true,
            "type": "pie"
           }
          ],
          "scatter": [
           {
            "fillpattern": {
             "fillmode": "overlay",
             "size": 10,
             "solidity": 0.2
            },
            "type": "scatter"
           }
          ],
          "scatter3d": [
           {
            "line": {
             "colorbar": {
              "outlinewidth": 0,
              "ticks": ""
             }
            },
            "marker": {
             "colorbar": {
              "outlinewidth": 0,
              "ticks": ""
             }
            },
            "type": "scatter3d"
           }
          ],
          "scattercarpet": [
           {
            "marker": {
             "colorbar": {
              "outlinewidth": 0,
              "ticks": ""
             }
            },
            "type": "scattercarpet"
           }
          ],
          "scattergeo": [
           {
            "marker": {
             "colorbar": {
              "outlinewidth": 0,
              "ticks": ""
             }
            },
            "type": "scattergeo"
           }
          ],
          "scattergl": [
           {
            "marker": {
             "colorbar": {
              "outlinewidth": 0,
              "ticks": ""
             }
            },
            "type": "scattergl"
           }
          ],
          "scattermapbox": [
           {
            "marker": {
             "colorbar": {
              "outlinewidth": 0,
              "ticks": ""
             }
            },
            "type": "scattermapbox"
           }
          ],
          "scatterpolar": [
           {
            "marker": {
             "colorbar": {
              "outlinewidth": 0,
              "ticks": ""
             }
            },
            "type": "scatterpolar"
           }
          ],
          "scatterpolargl": [
           {
            "marker": {
             "colorbar": {
              "outlinewidth": 0,
              "ticks": ""
             }
            },
            "type": "scatterpolargl"
           }
          ],
          "scatterternary": [
           {
            "marker": {
             "colorbar": {
              "outlinewidth": 0,
              "ticks": ""
             }
            },
            "type": "scatterternary"
           }
          ],
          "surface": [
           {
            "colorbar": {
             "outlinewidth": 0,
             "ticks": ""
            },
            "colorscale": [
             [
              0,
              "#0d0887"
             ],
             [
              0.1111111111111111,
              "#46039f"
             ],
             [
              0.2222222222222222,
              "#7201a8"
             ],
             [
              0.3333333333333333,
              "#9c179e"
             ],
             [
              0.4444444444444444,
              "#bd3786"
             ],
             [
              0.5555555555555556,
              "#d8576b"
             ],
             [
              0.6666666666666666,
              "#ed7953"
             ],
             [
              0.7777777777777778,
              "#fb9f3a"
             ],
             [
              0.8888888888888888,
              "#fdca26"
             ],
             [
              1,
              "#f0f921"
             ]
            ],
            "type": "surface"
           }
          ],
          "table": [
           {
            "cells": {
             "fill": {
              "color": "#EBF0F8"
             },
             "line": {
              "color": "white"
             }
            },
            "header": {
             "fill": {
              "color": "#C8D4E3"
             },
             "line": {
              "color": "white"
             }
            },
            "type": "table"
           }
          ]
         },
         "layout": {
          "annotationdefaults": {
           "arrowcolor": "#2a3f5f",
           "arrowhead": 0,
           "arrowwidth": 1
          },
          "autotypenumbers": "strict",
          "coloraxis": {
           "colorbar": {
            "outlinewidth": 0,
            "ticks": ""
           }
          },
          "colorscale": {
           "diverging": [
            [
             0,
             "#8e0152"
            ],
            [
             0.1,
             "#c51b7d"
            ],
            [
             0.2,
             "#de77ae"
            ],
            [
             0.3,
             "#f1b6da"
            ],
            [
             0.4,
             "#fde0ef"
            ],
            [
             0.5,
             "#f7f7f7"
            ],
            [
             0.6,
             "#e6f5d0"
            ],
            [
             0.7,
             "#b8e186"
            ],
            [
             0.8,
             "#7fbc41"
            ],
            [
             0.9,
             "#4d9221"
            ],
            [
             1,
             "#276419"
            ]
           ],
           "sequential": [
            [
             0,
             "#0d0887"
            ],
            [
             0.1111111111111111,
             "#46039f"
            ],
            [
             0.2222222222222222,
             "#7201a8"
            ],
            [
             0.3333333333333333,
             "#9c179e"
            ],
            [
             0.4444444444444444,
             "#bd3786"
            ],
            [
             0.5555555555555556,
             "#d8576b"
            ],
            [
             0.6666666666666666,
             "#ed7953"
            ],
            [
             0.7777777777777778,
             "#fb9f3a"
            ],
            [
             0.8888888888888888,
             "#fdca26"
            ],
            [
             1,
             "#f0f921"
            ]
           ],
           "sequentialminus": [
            [
             0,
             "#0d0887"
            ],
            [
             0.1111111111111111,
             "#46039f"
            ],
            [
             0.2222222222222222,
             "#7201a8"
            ],
            [
             0.3333333333333333,
             "#9c179e"
            ],
            [
             0.4444444444444444,
             "#bd3786"
            ],
            [
             0.5555555555555556,
             "#d8576b"
            ],
            [
             0.6666666666666666,
             "#ed7953"
            ],
            [
             0.7777777777777778,
             "#fb9f3a"
            ],
            [
             0.8888888888888888,
             "#fdca26"
            ],
            [
             1,
             "#f0f921"
            ]
           ]
          },
          "colorway": [
           "#636efa",
           "#EF553B",
           "#00cc96",
           "#ab63fa",
           "#FFA15A",
           "#19d3f3",
           "#FF6692",
           "#B6E880",
           "#FF97FF",
           "#FECB52"
          ],
          "font": {
           "color": "#2a3f5f"
          },
          "geo": {
           "bgcolor": "white",
           "lakecolor": "white",
           "landcolor": "white",
           "showlakes": true,
           "showland": true,
           "subunitcolor": "#C8D4E3"
          },
          "hoverlabel": {
           "align": "left"
          },
          "hovermode": "closest",
          "mapbox": {
           "style": "light"
          },
          "paper_bgcolor": "white",
          "plot_bgcolor": "white",
          "polar": {
           "angularaxis": {
            "gridcolor": "#EBF0F8",
            "linecolor": "#EBF0F8",
            "ticks": ""
           },
           "bgcolor": "white",
           "radialaxis": {
            "gridcolor": "#EBF0F8",
            "linecolor": "#EBF0F8",
            "ticks": ""
           }
          },
          "scene": {
           "xaxis": {
            "backgroundcolor": "white",
            "gridcolor": "#DFE8F3",
            "gridwidth": 2,
            "linecolor": "#EBF0F8",
            "showbackground": true,
            "ticks": "",
            "zerolinecolor": "#EBF0F8"
           },
           "yaxis": {
            "backgroundcolor": "white",
            "gridcolor": "#DFE8F3",
            "gridwidth": 2,
            "linecolor": "#EBF0F8",
            "showbackground": true,
            "ticks": "",
            "zerolinecolor": "#EBF0F8"
           },
           "zaxis": {
            "backgroundcolor": "white",
            "gridcolor": "#DFE8F3",
            "gridwidth": 2,
            "linecolor": "#EBF0F8",
            "showbackground": true,
            "ticks": "",
            "zerolinecolor": "#EBF0F8"
           }
          },
          "shapedefaults": {
           "line": {
            "color": "#2a3f5f"
           }
          },
          "ternary": {
           "aaxis": {
            "gridcolor": "#DFE8F3",
            "linecolor": "#A2B1C6",
            "ticks": ""
           },
           "baxis": {
            "gridcolor": "#DFE8F3",
            "linecolor": "#A2B1C6",
            "ticks": ""
           },
           "bgcolor": "white",
           "caxis": {
            "gridcolor": "#DFE8F3",
            "linecolor": "#A2B1C6",
            "ticks": ""
           }
          },
          "title": {
           "x": 0.05
          },
          "xaxis": {
           "automargin": true,
           "gridcolor": "#EBF0F8",
           "linecolor": "#EBF0F8",
           "ticks": "",
           "title": {
            "standoff": 15
           },
           "zerolinecolor": "#EBF0F8",
           "zerolinewidth": 2
          },
          "yaxis": {
           "automargin": true,
           "gridcolor": "#EBF0F8",
           "linecolor": "#EBF0F8",
           "ticks": "",
           "title": {
            "standoff": 15
           },
           "zerolinecolor": "#EBF0F8",
           "zerolinewidth": 2
          }
         }
        },
        "title": {
         "text": "Synaptic Abundance"
        },
        "xaxis": {
         "anchor": "y",
         "categoryarray": [
          "Cortex",
          "Cortical IN",
          "Hippocampus",
          "Striatum",
          "Cerebellum",
          "Olfactory Bulb"
         ],
         "categoryorder": "array",
         "domain": [
          0,
          1
         ],
         "range": [
          -0.5,
          5.5
         ],
         "title": {
          "text": ""
         }
        },
        "yaxis": {
         "anchor": "x",
         "domain": [
          0,
          1
         ],
         "title": {
          "text": "fold change"
         }
        }
       }
      }
     },
     "metadata": {},
     "output_type": "display_data"
    }
   ],
   "source": [
    "# plot foldchange\n",
    "hf = plot_boxplot(df=df_foldchange, \n",
    "                  key=query_protein,\n",
    "                  label_yaxis='fold change')\n",
    "hf.show()"
   ]
  },
  {
   "cell_type": "code",
   "execution_count": 6,
   "metadata": {},
   "outputs": [
    {
     "data": {
      "application/vnd.plotly.v1+json": {
       "config": {
        "plotlyServerURL": "https://plot.ly"
       },
       "data": [
        {
         "customdata": [
          [
           "Olfactory Bulb",
           "Camk2a-cre",
           "P48318",
           "Gad1"
          ],
          [
           "Olfactory Bulb",
           "Camk2a-cre",
           "P48320",
           "Gad2"
          ],
          [
           "Cortex",
           "Camk2a-cre",
           "D3YZU1",
           "Shank1"
          ],
          [
           "Hippocampus",
           "Camk2a-cre",
           "D3YZU1",
           "Shank1"
          ],
          [
           "Olfactory Bulb",
           "Camk2a-cre",
           "D3YZU1",
           "Shank1"
          ],
          [
           "Cortex",
           "Camk2a-cre",
           "Q3TXX4",
           "Slc17a7"
          ],
          [
           "Hippocampus",
           "Camk2a-cre",
           "Q3TXX4",
           "Slc17a7"
          ],
          [
           "Striatum",
           "Camk2a-cre",
           "Q3TXX4",
           "Slc17a7"
          ],
          [
           "Olfactory Bulb",
           "Camk2a-cre",
           "Q3TXX4",
           "Slc17a7"
          ],
          [
           "Olfactory Bulb",
           "Camk2a-cre",
           "O35633",
           "Slc32a1"
          ],
          [
           "Olfactory Bulb",
           "Camk2a-cre",
           "P46097",
           "Syt2"
          ]
         ],
         "hovertemplate": "<b>%{hovertext}</b><br><br>mouse line=%{customdata[1]}<br>region=%{customdata[0]}<br>protein=%{customdata[2]}<extra></extra>",
         "hovertext": [
          "Gad1",
          "Gad2",
          "Shank1",
          "Shank1",
          "Shank1",
          "Slc17a7",
          "Slc17a7",
          "Slc17a7",
          "Slc17a7",
          "Slc32a1",
          "Syt2"
         ],
         "legendgroup": "Camk2a-cre",
         "marker": {
          "color": "#C3BE04",
          "opacity": 0.8,
          "symbol": "circle"
         },
         "mode": "markers",
         "name": "Camk2a-cre",
         "orientation": "v",
         "showlegend": true,
         "type": "scatter",
         "x": [
          5.7,
          5.7,
          0.7,
          2.7,
          5.7,
          0.7,
          2.7,
          3.7,
          5.7,
          5.7,
          5.7
         ],
         "xaxis": "x",
         "y": [
          1,
          2,
          3,
          3,
          3,
          4,
          4,
          4,
          4,
          5,
          6
         ],
         "yaxis": "y"
        },
        {
         "customdata": [
          [
           "Striatum",
           "Dat1-cre",
           "P24529",
           "Th"
          ]
         ],
         "hovertemplate": "<b>%{hovertext}</b><br><br>mouse line=%{customdata[1]}<br>region=%{customdata[0]}<br>protein=%{customdata[2]}<extra></extra>",
         "hovertext": [
          "Th"
         ],
         "legendgroup": "Dat1-cre",
         "marker": {
          "color": "#409E36",
          "opacity": 0.8,
          "symbol": "circle"
         },
         "mode": "markers",
         "name": "Dat1-cre",
         "orientation": "v",
         "showlegend": true,
         "type": "scatter",
         "x": [
          3.8
         ],
         "xaxis": "x",
         "y": [
          7
         ],
         "yaxis": "y"
        },
        {
         "customdata": [
          [
           "Hippocampus",
           "Syn1-cre",
           "P48318",
           "Gad1"
          ],
          [
           "Cortex",
           "Syn1-cre",
           "P48318",
           "Gad1"
          ],
          [
           "Cerebellum",
           "Syn1-cre",
           "P48318",
           "Gad1"
          ],
          [
           "Olfactory Bulb",
           "Syn1-cre",
           "P48318",
           "Gad1"
          ],
          [
           "Cortex",
           "Syn1-cre",
           "P48320",
           "Gad2"
          ],
          [
           "Cerebellum",
           "Syn1-cre",
           "P48320",
           "Gad2"
          ],
          [
           "Olfactory Bulb",
           "Syn1-cre",
           "P48320",
           "Gad2"
          ],
          [
           "Hippocampus",
           "Syn1-cre",
           "D3YZU1",
           "Shank1"
          ],
          [
           "Cortex",
           "Syn1-cre",
           "D3YZU1",
           "Shank1"
          ],
          [
           "Olfactory Bulb",
           "Syn1-cre",
           "D3YZU1",
           "Shank1"
          ],
          [
           "Cortex",
           "Syn1-cre",
           "Q3TXX4",
           "Slc17a7"
          ],
          [
           "Striatum",
           "Syn1-cre",
           "Q3TXX4",
           "Slc17a7"
          ],
          [
           "Olfactory Bulb",
           "Syn1-cre",
           "Q3TXX4",
           "Slc17a7"
          ],
          [
           "Hippocampus",
           "Syn1-cre",
           "O35633",
           "Slc32a1"
          ],
          [
           "Cortex",
           "Syn1-cre",
           "O35633",
           "Slc32a1"
          ],
          [
           "Cerebellum",
           "Syn1-cre",
           "O35633",
           "Slc32a1"
          ],
          [
           "Olfactory Bulb",
           "Syn1-cre",
           "O35633",
           "Slc32a1"
          ],
          [
           "Cortex",
           "Syn1-cre",
           "P46097",
           "Syt2"
          ],
          [
           "Cerebellum",
           "Syn1-cre",
           "P46097",
           "Syt2"
          ],
          [
           "Olfactory Bulb",
           "Syn1-cre",
           "P46097",
           "Syt2"
          ],
          [
           "Hippocampus",
           "Syn1-cre",
           "P24529",
           "Th"
          ],
          [
           "Olfactory Bulb",
           "Syn1-cre",
           "P24529",
           "Th"
          ]
         ],
         "hovertemplate": "<b>%{hovertext}</b><br><br>mouse line=%{customdata[1]}<br>region=%{customdata[0]}<br>protein=%{customdata[2]}<extra></extra>",
         "hovertext": [
          "Gad1",
          "Gad1",
          "Gad1",
          "Gad1",
          "Gad2",
          "Gad2",
          "Gad2",
          "Shank1",
          "Shank1",
          "Shank1",
          "Slc17a7",
          "Slc17a7",
          "Slc17a7",
          "Slc32a1",
          "Slc32a1",
          "Slc32a1",
          "Slc32a1",
          "Syt2",
          "Syt2",
          "Syt2",
          "Th",
          "Th"
         ],
         "legendgroup": "Syn1-cre",
         "marker": {
          "color": "#AAD4AC",
          "opacity": 0.8,
          "symbol": "circle"
         },
         "mode": "markers",
         "name": "Syn1-cre",
         "orientation": "v",
         "showlegend": true,
         "type": "scatter",
         "x": [
          2.9,
          0.9,
          4.9,
          5.9,
          0.9,
          4.9,
          5.9,
          2.9,
          0.9,
          5.9,
          0.9,
          3.9,
          5.9,
          2.9,
          0.9,
          4.9,
          5.9,
          0.9,
          4.9,
          5.9,
          2.9,
          5.9
         ],
         "xaxis": "x",
         "y": [
          1,
          1,
          1,
          1,
          2,
          2,
          2,
          3,
          3,
          3,
          4,
          4,
          4,
          5,
          5,
          5,
          5,
          6,
          6,
          6,
          7,
          7
         ],
         "yaxis": "y"
        },
        {
         "customdata": [
          [
           "Cortical IN",
           "Gad2-cre",
           "P48318",
           "Gad1"
          ],
          [
           "Cortex",
           "Gad2-cre",
           "P48318",
           "Gad1"
          ],
          [
           "Hippocampus",
           "Gad2-cre",
           "P48318",
           "Gad1"
          ],
          [
           "Cerebellum",
           "Gad2-cre",
           "P48318",
           "Gad1"
          ],
          [
           "Olfactory Bulb",
           "Gad2-cre",
           "P48318",
           "Gad1"
          ],
          [
           "Striatum",
           "Gad2-cre",
           "P48318",
           "Gad1"
          ],
          [
           "Cortical IN",
           "Gad2-cre",
           "P48320",
           "Gad2"
          ],
          [
           "Cortex",
           "Gad2-cre",
           "P48320",
           "Gad2"
          ],
          [
           "Hippocampus",
           "Gad2-cre",
           "P48320",
           "Gad2"
          ],
          [
           "Cerebellum",
           "Gad2-cre",
           "P48320",
           "Gad2"
          ],
          [
           "Olfactory Bulb",
           "Gad2-cre",
           "P48320",
           "Gad2"
          ],
          [
           "Striatum",
           "Gad2-cre",
           "P48320",
           "Gad2"
          ],
          [
           "Striatum",
           "Gad2-cre",
           "D3YZU1",
           "Shank1"
          ],
          [
           "Cortical IN",
           "Gad2-cre",
           "O35633",
           "Slc32a1"
          ],
          [
           "Cortex",
           "Gad2-cre",
           "O35633",
           "Slc32a1"
          ],
          [
           "Hippocampus",
           "Gad2-cre",
           "O35633",
           "Slc32a1"
          ],
          [
           "Cerebellum",
           "Gad2-cre",
           "O35633",
           "Slc32a1"
          ],
          [
           "Olfactory Bulb",
           "Gad2-cre",
           "O35633",
           "Slc32a1"
          ],
          [
           "Striatum",
           "Gad2-cre",
           "O35633",
           "Slc32a1"
          ],
          [
           "Cortical IN",
           "Gad2-cre",
           "P46097",
           "Syt2"
          ],
          [
           "Cortex",
           "Gad2-cre",
           "P46097",
           "Syt2"
          ],
          [
           "Hippocampus",
           "Gad2-cre",
           "P46097",
           "Syt2"
          ],
          [
           "Cerebellum",
           "Gad2-cre",
           "P46097",
           "Syt2"
          ],
          [
           "Olfactory Bulb",
           "Gad2-cre",
           "P46097",
           "Syt2"
          ],
          [
           "Striatum",
           "Gad2-cre",
           "P46097",
           "Syt2"
          ],
          [
           "Olfactory Bulb",
           "Gad2-cre",
           "P24529",
           "Th"
          ]
         ],
         "hovertemplate": "<b>%{hovertext}</b><br><br>mouse line=%{customdata[1]}<br>region=%{customdata[0]}<br>protein=%{customdata[2]}<extra></extra>",
         "hovertext": [
          "Gad1",
          "Gad1",
          "Gad1",
          "Gad1",
          "Gad1",
          "Gad1",
          "Gad2",
          "Gad2",
          "Gad2",
          "Gad2",
          "Gad2",
          "Gad2",
          "Shank1",
          "Slc32a1",
          "Slc32a1",
          "Slc32a1",
          "Slc32a1",
          "Slc32a1",
          "Slc32a1",
          "Syt2",
          "Syt2",
          "Syt2",
          "Syt2",
          "Syt2",
          "Syt2",
          "Th"
         ],
         "legendgroup": "Gad2-cre",
         "marker": {
          "color": "#E94879",
          "opacity": 0.8,
          "symbol": "circle"
         },
         "mode": "markers",
         "name": "Gad2-cre",
         "orientation": "v",
         "showlegend": true,
         "type": "scatter",
         "x": [
          2,
          1,
          3,
          5,
          6,
          4,
          2,
          1,
          3,
          5,
          6,
          4,
          4,
          2,
          1,
          3,
          5,
          6,
          4,
          2,
          1,
          3,
          5,
          6,
          4,
          6
         ],
         "xaxis": "x",
         "y": [
          1,
          1,
          1,
          1,
          1,
          1,
          2,
          2,
          2,
          2,
          2,
          2,
          3,
          5,
          5,
          5,
          5,
          5,
          5,
          6,
          6,
          6,
          6,
          6,
          6,
          7
         ],
         "yaxis": "y"
        },
        {
         "customdata": [
          [
           "Cortical IN",
           "PV-cre",
           "P48318",
           "Gad1"
          ],
          [
           "Cortical IN",
           "PV-cre",
           "P48320",
           "Gad2"
          ],
          [
           "Cortical IN",
           "PV-cre",
           "O35633",
           "Slc32a1"
          ],
          [
           "Cortical IN",
           "PV-cre",
           "P46097",
           "Syt2"
          ]
         ],
         "hovertemplate": "<b>%{hovertext}</b><br><br>mouse line=%{customdata[1]}<br>region=%{customdata[0]}<br>protein=%{customdata[2]}<extra></extra>",
         "hovertext": [
          "Gad1",
          "Gad2",
          "Slc32a1",
          "Syt2"
         ],
         "legendgroup": "PV-cre",
         "marker": {
          "color": "#D15196",
          "opacity": 0.8,
          "symbol": "circle"
         },
         "mode": "markers",
         "name": "PV-cre",
         "orientation": "v",
         "showlegend": true,
         "type": "scatter",
         "x": [
          2.1,
          2.1,
          2.1,
          2.1
         ],
         "xaxis": "x",
         "y": [
          1,
          2,
          5,
          6
         ],
         "yaxis": "y"
        },
        {
         "customdata": [
          [
           "Cortical IN",
           "SST-cre",
           "P48318",
           "Gad1"
          ],
          [
           "Cortical IN",
           "SST-cre",
           "P48320",
           "Gad2"
          ],
          [
           "Cortical IN",
           "SST-cre",
           "O35633",
           "Slc32a1"
          ]
         ],
         "hovertemplate": "<b>%{hovertext}</b><br><br>mouse line=%{customdata[1]}<br>region=%{customdata[0]}<br>protein=%{customdata[2]}<extra></extra>",
         "hovertext": [
          "Gad1",
          "Gad2",
          "Slc32a1"
         ],
         "legendgroup": "SST-cre",
         "marker": {
          "color": "#F3A1AE",
          "opacity": 0.8,
          "symbol": "circle"
         },
         "mode": "markers",
         "name": "SST-cre",
         "orientation": "v",
         "showlegend": true,
         "type": "scatter",
         "x": [
          2.2,
          2.2,
          2.2
         ],
         "xaxis": "x",
         "y": [
          1,
          2,
          5
         ],
         "yaxis": "y"
        },
        {
         "customdata": [
          [
           "Cortical IN",
           "VIP-cre",
           "P48318",
           "Gad1"
          ],
          [
           "Cortical IN",
           "VIP-cre",
           "P48320",
           "Gad2"
          ],
          [
           "Cortical IN",
           "VIP-cre",
           "O35633",
           "Slc32a1"
          ]
         ],
         "hovertemplate": "<b>%{hovertext}</b><br><br>mouse line=%{customdata[1]}<br>region=%{customdata[0]}<br>protein=%{customdata[2]}<extra></extra>",
         "hovertext": [
          "Gad1",
          "Gad2",
          "Slc32a1"
         ],
         "legendgroup": "VIP-cre",
         "marker": {
          "color": "#B77CA3",
          "opacity": 0.8,
          "symbol": "circle"
         },
         "mode": "markers",
         "name": "VIP-cre",
         "orientation": "v",
         "showlegend": true,
         "type": "scatter",
         "x": [
          2.3,
          2.3,
          2.3
         ],
         "xaxis": "x",
         "y": [
          1,
          2,
          5
         ],
         "yaxis": "y"
        },
        {
         "customdata": [
          [
           "Cortex",
           "Not enriched",
           "Q8VBY2",
           "Camkk1"
          ],
          [
           "Cortical IN",
           "Not enriched",
           "Q8VBY2",
           "Camkk1"
          ],
          [
           "Hippocampus",
           "Not enriched",
           "Q8VBY2",
           "Camkk1"
          ],
          [
           "Striatum",
           "Not enriched",
           "Q8VBY2",
           "Camkk1"
          ],
          [
           "Cerebellum",
           "Not enriched",
           "Q8VBY2",
           "Camkk1"
          ],
          [
           "Olfactory Bulb",
           "Not enriched",
           "Q8VBY2",
           "Camkk1"
          ],
          [
           "Cortical IN",
           "Not enriched",
           "D3YZU1",
           "Shank1"
          ],
          [
           "Cerebellum",
           "Not enriched",
           "D3YZU1",
           "Shank1"
          ],
          [
           "Cortical IN",
           "Not enriched",
           "Q3TXX4",
           "Slc17a7"
          ],
          [
           "Cerebellum",
           "Not enriched",
           "Q3TXX4",
           "Slc17a7"
          ],
          [
           "Cortex",
           "Not enriched",
           "P24529",
           "Th"
          ],
          [
           "Cortical IN",
           "Not enriched",
           "P24529",
           "Th"
          ],
          [
           "Cerebellum",
           "Not enriched",
           "P24529",
           "Th"
          ]
         ],
         "hovertemplate": "<b>%{hovertext}</b><br><br>mouse line=%{customdata[1]}<br>region=%{customdata[0]}<br>protein=%{customdata[2]}<extra></extra>",
         "hovertext": [
          "Camkk1",
          "Camkk1",
          "Camkk1",
          "Camkk1",
          "Camkk1",
          "Camkk1",
          "Shank1",
          "Shank1",
          "Slc17a7",
          "Slc17a7",
          "Th",
          "Th",
          "Th"
         ],
         "legendgroup": "Not enriched",
         "marker": {
          "color": "#DCDCDC",
          "opacity": 0.8,
          "symbol": "circle"
         },
         "mode": "markers",
         "name": "Not enriched",
         "orientation": "v",
         "showlegend": true,
         "type": "scatter",
         "x": [
          1,
          2,
          3,
          4,
          5,
          6,
          2,
          5,
          2,
          5,
          1,
          2,
          5
         ],
         "xaxis": "x",
         "y": [
          0,
          0,
          0,
          0,
          0,
          0,
          3,
          3,
          4,
          4,
          7,
          7,
          7
         ],
         "yaxis": "y"
        }
       ],
       "layout": {
        "legend": {
         "title": {
          "text": "mouse line"
         },
         "tracegroupgap": 0
        },
        "margin": {
         "t": 60
        },
        "shapes": [
         {
          "line": {
           "color": "grey",
           "width": 0.5
          },
          "type": "line",
          "x0": 0.5,
          "x1": 0.5,
          "xref": "x",
          "y0": 0,
          "y1": 1,
          "yref": "y domain"
         },
         {
          "line": {
           "color": "grey",
           "width": 0.5
          },
          "type": "line",
          "x0": 1.5,
          "x1": 1.5,
          "xref": "x",
          "y0": 0,
          "y1": 1,
          "yref": "y domain"
         },
         {
          "line": {
           "color": "grey",
           "width": 0.5
          },
          "type": "line",
          "x0": 2.5,
          "x1": 2.5,
          "xref": "x",
          "y0": 0,
          "y1": 1,
          "yref": "y domain"
         },
         {
          "line": {
           "color": "grey",
           "width": 0.5
          },
          "type": "line",
          "x0": 3.5,
          "x1": 3.5,
          "xref": "x",
          "y0": 0,
          "y1": 1,
          "yref": "y domain"
         },
         {
          "line": {
           "color": "grey",
           "width": 0.5
          },
          "type": "line",
          "x0": 4.5,
          "x1": 4.5,
          "xref": "x",
          "y0": 0,
          "y1": 1,
          "yref": "y domain"
         },
         {
          "line": {
           "color": "grey",
           "width": 0.5
          },
          "type": "line",
          "x0": 5.5,
          "x1": 5.5,
          "xref": "x",
          "y0": 0,
          "y1": 1,
          "yref": "y domain"
         },
         {
          "line": {
           "color": "grey",
           "width": 0.5
          },
          "type": "line",
          "x0": 6.5,
          "x1": 6.5,
          "xref": "x",
          "y0": 0,
          "y1": 1,
          "yref": "y domain"
         }
        ],
        "template": {
         "data": {
          "bar": [
           {
            "error_x": {
             "color": "#2a3f5f"
            },
            "error_y": {
             "color": "#2a3f5f"
            },
            "marker": {
             "line": {
              "color": "white",
              "width": 0.5
             },
             "pattern": {
              "fillmode": "overlay",
              "size": 10,
              "solidity": 0.2
             }
            },
            "type": "bar"
           }
          ],
          "barpolar": [
           {
            "marker": {
             "line": {
              "color": "white",
              "width": 0.5
             },
             "pattern": {
              "fillmode": "overlay",
              "size": 10,
              "solidity": 0.2
             }
            },
            "type": "barpolar"
           }
          ],
          "carpet": [
           {
            "aaxis": {
             "endlinecolor": "#2a3f5f",
             "gridcolor": "#C8D4E3",
             "linecolor": "#C8D4E3",
             "minorgridcolor": "#C8D4E3",
             "startlinecolor": "#2a3f5f"
            },
            "baxis": {
             "endlinecolor": "#2a3f5f",
             "gridcolor": "#C8D4E3",
             "linecolor": "#C8D4E3",
             "minorgridcolor": "#C8D4E3",
             "startlinecolor": "#2a3f5f"
            },
            "type": "carpet"
           }
          ],
          "choropleth": [
           {
            "colorbar": {
             "outlinewidth": 0,
             "ticks": ""
            },
            "type": "choropleth"
           }
          ],
          "contour": [
           {
            "colorbar": {
             "outlinewidth": 0,
             "ticks": ""
            },
            "colorscale": [
             [
              0,
              "#0d0887"
             ],
             [
              0.1111111111111111,
              "#46039f"
             ],
             [
              0.2222222222222222,
              "#7201a8"
             ],
             [
              0.3333333333333333,
              "#9c179e"
             ],
             [
              0.4444444444444444,
              "#bd3786"
             ],
             [
              0.5555555555555556,
              "#d8576b"
             ],
             [
              0.6666666666666666,
              "#ed7953"
             ],
             [
              0.7777777777777778,
              "#fb9f3a"
             ],
             [
              0.8888888888888888,
              "#fdca26"
             ],
             [
              1,
              "#f0f921"
             ]
            ],
            "type": "contour"
           }
          ],
          "contourcarpet": [
           {
            "colorbar": {
             "outlinewidth": 0,
             "ticks": ""
            },
            "type": "contourcarpet"
           }
          ],
          "heatmap": [
           {
            "colorbar": {
             "outlinewidth": 0,
             "ticks": ""
            },
            "colorscale": [
             [
              0,
              "#0d0887"
             ],
             [
              0.1111111111111111,
              "#46039f"
             ],
             [
              0.2222222222222222,
              "#7201a8"
             ],
             [
              0.3333333333333333,
              "#9c179e"
             ],
             [
              0.4444444444444444,
              "#bd3786"
             ],
             [
              0.5555555555555556,
              "#d8576b"
             ],
             [
              0.6666666666666666,
              "#ed7953"
             ],
             [
              0.7777777777777778,
              "#fb9f3a"
             ],
             [
              0.8888888888888888,
              "#fdca26"
             ],
             [
              1,
              "#f0f921"
             ]
            ],
            "type": "heatmap"
           }
          ],
          "heatmapgl": [
           {
            "colorbar": {
             "outlinewidth": 0,
             "ticks": ""
            },
            "colorscale": [
             [
              0,
              "#0d0887"
             ],
             [
              0.1111111111111111,
              "#46039f"
             ],
             [
              0.2222222222222222,
              "#7201a8"
             ],
             [
              0.3333333333333333,
              "#9c179e"
             ],
             [
              0.4444444444444444,
              "#bd3786"
             ],
             [
              0.5555555555555556,
              "#d8576b"
             ],
             [
              0.6666666666666666,
              "#ed7953"
             ],
             [
              0.7777777777777778,
              "#fb9f3a"
             ],
             [
              0.8888888888888888,
              "#fdca26"
             ],
             [
              1,
              "#f0f921"
             ]
            ],
            "type": "heatmapgl"
           }
          ],
          "histogram": [
           {
            "marker": {
             "pattern": {
              "fillmode": "overlay",
              "size": 10,
              "solidity": 0.2
             }
            },
            "type": "histogram"
           }
          ],
          "histogram2d": [
           {
            "colorbar": {
             "outlinewidth": 0,
             "ticks": ""
            },
            "colorscale": [
             [
              0,
              "#0d0887"
             ],
             [
              0.1111111111111111,
              "#46039f"
             ],
             [
              0.2222222222222222,
              "#7201a8"
             ],
             [
              0.3333333333333333,
              "#9c179e"
             ],
             [
              0.4444444444444444,
              "#bd3786"
             ],
             [
              0.5555555555555556,
              "#d8576b"
             ],
             [
              0.6666666666666666,
              "#ed7953"
             ],
             [
              0.7777777777777778,
              "#fb9f3a"
             ],
             [
              0.8888888888888888,
              "#fdca26"
             ],
             [
              1,
              "#f0f921"
             ]
            ],
            "type": "histogram2d"
           }
          ],
          "histogram2dcontour": [
           {
            "colorbar": {
             "outlinewidth": 0,
             "ticks": ""
            },
            "colorscale": [
             [
              0,
              "#0d0887"
             ],
             [
              0.1111111111111111,
              "#46039f"
             ],
             [
              0.2222222222222222,
              "#7201a8"
             ],
             [
              0.3333333333333333,
              "#9c179e"
             ],
             [
              0.4444444444444444,
              "#bd3786"
             ],
             [
              0.5555555555555556,
              "#d8576b"
             ],
             [
              0.6666666666666666,
              "#ed7953"
             ],
             [
              0.7777777777777778,
              "#fb9f3a"
             ],
             [
              0.8888888888888888,
              "#fdca26"
             ],
             [
              1,
              "#f0f921"
             ]
            ],
            "type": "histogram2dcontour"
           }
          ],
          "mesh3d": [
           {
            "colorbar": {
             "outlinewidth": 0,
             "ticks": ""
            },
            "type": "mesh3d"
           }
          ],
          "parcoords": [
           {
            "line": {
             "colorbar": {
              "outlinewidth": 0,
              "ticks": ""
             }
            },
            "type": "parcoords"
           }
          ],
          "pie": [
           {
            "automargin": true,
            "type": "pie"
           }
          ],
          "scatter": [
           {
            "fillpattern": {
             "fillmode": "overlay",
             "size": 10,
             "solidity": 0.2
            },
            "type": "scatter"
           }
          ],
          "scatter3d": [
           {
            "line": {
             "colorbar": {
              "outlinewidth": 0,
              "ticks": ""
             }
            },
            "marker": {
             "colorbar": {
              "outlinewidth": 0,
              "ticks": ""
             }
            },
            "type": "scatter3d"
           }
          ],
          "scattercarpet": [
           {
            "marker": {
             "colorbar": {
              "outlinewidth": 0,
              "ticks": ""
             }
            },
            "type": "scattercarpet"
           }
          ],
          "scattergeo": [
           {
            "marker": {
             "colorbar": {
              "outlinewidth": 0,
              "ticks": ""
             }
            },
            "type": "scattergeo"
           }
          ],
          "scattergl": [
           {
            "marker": {
             "colorbar": {
              "outlinewidth": 0,
              "ticks": ""
             }
            },
            "type": "scattergl"
           }
          ],
          "scattermapbox": [
           {
            "marker": {
             "colorbar": {
              "outlinewidth": 0,
              "ticks": ""
             }
            },
            "type": "scattermapbox"
           }
          ],
          "scatterpolar": [
           {
            "marker": {
             "colorbar": {
              "outlinewidth": 0,
              "ticks": ""
             }
            },
            "type": "scatterpolar"
           }
          ],
          "scatterpolargl": [
           {
            "marker": {
             "colorbar": {
              "outlinewidth": 0,
              "ticks": ""
             }
            },
            "type": "scatterpolargl"
           }
          ],
          "scatterternary": [
           {
            "marker": {
             "colorbar": {
              "outlinewidth": 0,
              "ticks": ""
             }
            },
            "type": "scatterternary"
           }
          ],
          "surface": [
           {
            "colorbar": {
             "outlinewidth": 0,
             "ticks": ""
            },
            "colorscale": [
             [
              0,
              "#0d0887"
             ],
             [
              0.1111111111111111,
              "#46039f"
             ],
             [
              0.2222222222222222,
              "#7201a8"
             ],
             [
              0.3333333333333333,
              "#9c179e"
             ],
             [
              0.4444444444444444,
              "#bd3786"
             ],
             [
              0.5555555555555556,
              "#d8576b"
             ],
             [
              0.6666666666666666,
              "#ed7953"
             ],
             [
              0.7777777777777778,
              "#fb9f3a"
             ],
             [
              0.8888888888888888,
              "#fdca26"
             ],
             [
              1,
              "#f0f921"
             ]
            ],
            "type": "surface"
           }
          ],
          "table": [
           {
            "cells": {
             "fill": {
              "color": "#EBF0F8"
             },
             "line": {
              "color": "white"
             }
            },
            "header": {
             "fill": {
              "color": "#C8D4E3"
             },
             "line": {
              "color": "white"
             }
            },
            "type": "table"
           }
          ]
         },
         "layout": {
          "annotationdefaults": {
           "arrowcolor": "#2a3f5f",
           "arrowhead": 0,
           "arrowwidth": 1
          },
          "autotypenumbers": "strict",
          "coloraxis": {
           "colorbar": {
            "outlinewidth": 0,
            "ticks": ""
           }
          },
          "colorscale": {
           "diverging": [
            [
             0,
             "#8e0152"
            ],
            [
             0.1,
             "#c51b7d"
            ],
            [
             0.2,
             "#de77ae"
            ],
            [
             0.3,
             "#f1b6da"
            ],
            [
             0.4,
             "#fde0ef"
            ],
            [
             0.5,
             "#f7f7f7"
            ],
            [
             0.6,
             "#e6f5d0"
            ],
            [
             0.7,
             "#b8e186"
            ],
            [
             0.8,
             "#7fbc41"
            ],
            [
             0.9,
             "#4d9221"
            ],
            [
             1,
             "#276419"
            ]
           ],
           "sequential": [
            [
             0,
             "#0d0887"
            ],
            [
             0.1111111111111111,
             "#46039f"
            ],
            [
             0.2222222222222222,
             "#7201a8"
            ],
            [
             0.3333333333333333,
             "#9c179e"
            ],
            [
             0.4444444444444444,
             "#bd3786"
            ],
            [
             0.5555555555555556,
             "#d8576b"
            ],
            [
             0.6666666666666666,
             "#ed7953"
            ],
            [
             0.7777777777777778,
             "#fb9f3a"
            ],
            [
             0.8888888888888888,
             "#fdca26"
            ],
            [
             1,
             "#f0f921"
            ]
           ],
           "sequentialminus": [
            [
             0,
             "#0d0887"
            ],
            [
             0.1111111111111111,
             "#46039f"
            ],
            [
             0.2222222222222222,
             "#7201a8"
            ],
            [
             0.3333333333333333,
             "#9c179e"
            ],
            [
             0.4444444444444444,
             "#bd3786"
            ],
            [
             0.5555555555555556,
             "#d8576b"
            ],
            [
             0.6666666666666666,
             "#ed7953"
            ],
            [
             0.7777777777777778,
             "#fb9f3a"
            ],
            [
             0.8888888888888888,
             "#fdca26"
            ],
            [
             1,
             "#f0f921"
            ]
           ]
          },
          "colorway": [
           "#636efa",
           "#EF553B",
           "#00cc96",
           "#ab63fa",
           "#FFA15A",
           "#19d3f3",
           "#FF6692",
           "#B6E880",
           "#FF97FF",
           "#FECB52"
          ],
          "font": {
           "color": "#2a3f5f"
          },
          "geo": {
           "bgcolor": "white",
           "lakecolor": "white",
           "landcolor": "white",
           "showlakes": true,
           "showland": true,
           "subunitcolor": "#C8D4E3"
          },
          "hoverlabel": {
           "align": "left"
          },
          "hovermode": "closest",
          "mapbox": {
           "style": "light"
          },
          "paper_bgcolor": "white",
          "plot_bgcolor": "white",
          "polar": {
           "angularaxis": {
            "gridcolor": "#EBF0F8",
            "linecolor": "#EBF0F8",
            "ticks": ""
           },
           "bgcolor": "white",
           "radialaxis": {
            "gridcolor": "#EBF0F8",
            "linecolor": "#EBF0F8",
            "ticks": ""
           }
          },
          "scene": {
           "xaxis": {
            "backgroundcolor": "white",
            "gridcolor": "#DFE8F3",
            "gridwidth": 2,
            "linecolor": "#EBF0F8",
            "showbackground": true,
            "ticks": "",
            "zerolinecolor": "#EBF0F8"
           },
           "yaxis": {
            "backgroundcolor": "white",
            "gridcolor": "#DFE8F3",
            "gridwidth": 2,
            "linecolor": "#EBF0F8",
            "showbackground": true,
            "ticks": "",
            "zerolinecolor": "#EBF0F8"
           },
           "zaxis": {
            "backgroundcolor": "white",
            "gridcolor": "#DFE8F3",
            "gridwidth": 2,
            "linecolor": "#EBF0F8",
            "showbackground": true,
            "ticks": "",
            "zerolinecolor": "#EBF0F8"
           }
          },
          "shapedefaults": {
           "line": {
            "color": "#2a3f5f"
           }
          },
          "ternary": {
           "aaxis": {
            "gridcolor": "#DFE8F3",
            "linecolor": "#A2B1C6",
            "ticks": ""
           },
           "baxis": {
            "gridcolor": "#DFE8F3",
            "linecolor": "#A2B1C6",
            "ticks": ""
           },
           "bgcolor": "white",
           "caxis": {
            "gridcolor": "#DFE8F3",
            "linecolor": "#A2B1C6",
            "ticks": ""
           }
          },
          "title": {
           "x": 0.05
          },
          "xaxis": {
           "automargin": true,
           "gridcolor": "#EBF0F8",
           "linecolor": "#EBF0F8",
           "ticks": "",
           "title": {
            "standoff": 15
           },
           "zerolinecolor": "#EBF0F8",
           "zerolinewidth": 2
          },
          "yaxis": {
           "automargin": true,
           "gridcolor": "#EBF0F8",
           "linecolor": "#EBF0F8",
           "ticks": "",
           "title": {
            "standoff": 15
           },
           "zerolinecolor": "#EBF0F8",
           "zerolinewidth": 2
          }
         }
        },
        "title": {
         "text": "Synapse-Type Enrichment"
        },
        "xaxis": {
         "anchor": "y",
         "domain": [
          0,
          1
         ],
         "range": [
          0.3,
          6.7
         ],
         "tickmode": "array",
         "ticktext": [
          "Cortex",
          "Cortical IN",
          "Hippocampus",
          "Striatum",
          "Cerebellum",
          "Olfactory Bulb"
         ],
         "tickvals": [
          1,
          2,
          3,
          4,
          5,
          6
         ],
         "title": {
          "text": ""
         }
        },
        "yaxis": {
         "anchor": "x",
         "domain": [
          0,
          1
         ],
         "range": [
          -0.5,
          7.5
         ],
         "tickmode": "array",
         "ticktext": [
          "Camkk1",
          "Gad1",
          "Gad2",
          "Shank1",
          "Slc17a7",
          "Slc32a1",
          "Syt2",
          "Th"
         ],
         "tickvals": [
          0,
          1,
          2,
          3,
          4,
          5,
          6,
          7,
          8
         ],
         "title": {
          "text": "gene"
         }
        }
       }
      }
     },
     "metadata": {},
     "output_type": "display_data"
    }
   ],
   "source": [
    "# plot enrichment\n",
    "hf = plot_dotplot(df_info, df_enriched)\n",
    "hf.show()"
   ]
  }
 ],
 "metadata": {
  "kernelspec": {
   "display_name": "venv",
   "language": "python",
   "name": "python3"
  },
  "language_info": {
   "codemirror_mode": {
    "name": "ipython",
    "version": 3
   },
   "file_extension": ".py",
   "mimetype": "text/x-python",
   "name": "python",
   "nbconvert_exporter": "python",
   "pygments_lexer": "ipython3",
   "version": "3.11.4"
  },
  "orig_nbformat": 4
 },
 "nbformat": 4,
 "nbformat_minor": 2
}
