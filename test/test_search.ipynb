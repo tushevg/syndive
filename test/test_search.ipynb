{
 "cells": [
  {
   "cell_type": "code",
   "execution_count": 64,
   "id": "960c345d-d751-4187-b662-08ff762169d3",
   "metadata": {
    "tags": []
   },
   "outputs": [],
   "source": [
    "import pandas as pd\n",
    "from fast_autocomplete import AutoComplete\n",
    "from typing import Dict, Tuple"
   ]
  },
  {
   "cell_type": "code",
   "execution_count": 65,
   "id": "26d24ff0-82f3-4060-81ae-38dca2548aa5",
   "metadata": {
    "tags": []
   },
   "outputs": [],
   "source": [
    "## helper functions\n",
    "def load_searchInfo(file_info: str):\n",
    "    df = pd.read_csv(file_info, sep='\\t', index_col=0)\n",
    "    words = {}\n",
    "    for key, row in df.iterrows():\n",
    "        words.update({key: {'key':key}})\n",
    "        words.update({row['gene']: {'key':key}})\n",
    "        words.update({row['product']: {'key':key}})\n",
    "        \n",
    "        # skip empty note\n",
    "        if row['note'] == '<note>':\n",
    "            continue\n",
    "            \n",
    "        for note in str(row['note']).split(';'):\n",
    "            words.update({note: {'key':key}})\n",
    "    return df, words    "
   ]
  },
  {
   "cell_type": "code",
   "execution_count": 63,
   "id": "6add741f-7bca-4035-8977-19022e9a7fbb",
   "metadata": {
    "tags": []
   },
   "outputs": [
    {
     "name": "stdout",
     "output_type": "stream",
     "text": [
      "{'key': 'P11798'}\n"
     ]
    },
    {
     "ename": "AttributeError",
     "evalue": "'dict' object has no attribute 'loc'",
     "output_type": "error",
     "traceback": [
      "\u001b[0;31m---------------------------------------------------------------------------\u001b[0m",
      "\u001b[0;31mAttributeError\u001b[0m                            Traceback (most recent call last)",
      "Cell \u001b[0;32mIn[63], line 6\u001b[0m\n\u001b[1;32m      4\u001b[0m df, words \u001b[38;5;241m=\u001b[39m parse_search_info(file_info)\n\u001b[1;32m      5\u001b[0m \u001b[38;5;28mprint\u001b[39m(df[\u001b[38;5;124m'\u001b[39m\u001b[38;5;124mCamk2a\u001b[39m\u001b[38;5;124m'\u001b[39m])\n\u001b[0;32m----> 6\u001b[0m \u001b[38;5;28mprint\u001b[39m(\u001b[43mwords\u001b[49m\u001b[38;5;241;43m.\u001b[39;49m\u001b[43mloc\u001b[49m[\u001b[38;5;124m'\u001b[39m\u001b[38;5;124mP63323\u001b[39m\u001b[38;5;124m'\u001b[39m])\n\u001b[1;32m      7\u001b[0m \u001b[38;5;66;03m# for key, row in df.iterrows():\u001b[39;00m\n\u001b[1;32m      8\u001b[0m \u001b[38;5;66;03m#     print(key)\u001b[39;00m\n\u001b[1;32m      9\u001b[0m \u001b[38;5;66;03m#     break\u001b[39;00m\n",
      "\u001b[0;31mAttributeError\u001b[0m: 'dict' object has no attribute 'loc'"
     ]
    }
   ],
   "source": [
    "# read search terms\n",
    "file_info = '../data/tableInfo.tsv'\n",
    "#df = pd.read_csv(file_info, sep='\\t', index_col=0)\n",
    "df, words = load_searchInfo(file_info)\n",
    "print(df['Camk2a'])\n",
    "print(words.loc['P63323'])\n",
    "# for key, row in df.iterrows():\n",
    "#     print(key)\n",
    "#     break"
   ]
  },
  {
   "cell_type": "code",
   "execution_count": 11,
   "id": "47205d2d-0c6d-4550-aee0-84f5add2ea37",
   "metadata": {
    "tags": []
   },
   "outputs": [
    {
     "name": "stdout",
     "output_type": "stream",
     "text": [
      "{'protein': 'P11798', 'gene': 'Camk2a', 'count': 0}\n"
     ]
    }
   ],
   "source": [
    "## interact with JSON dictionary\n",
    "def autocomplete_export(words: Dict[str, Dict[str, str]], file_json: str):\n",
    "    with open(file_json, \"w\") as fp:\n",
    "        json.dump(words , fp)\n",
    "\n",
    "\n",
    "def autocomplete_load(file_json: str) -> Dict[str, Dict[str, str]]:\n",
    "    with open(file_json, 'r') as fp:\n",
    "        words = json.load(fp)\n",
    "    return words\n",
    "\n",
    "\n",
    "autocomplete_export(words, '../data/autocomplete_info.json')\n",
    "test = autocomplete_load('../data/autocomplete_info.json')\n",
    "print(test['Camk2a'])"
   ]
  },
  {
   "cell_type": "code",
   "execution_count": 29,
   "id": "aa20c39e-7501-400e-bfc0-6880c1314acf",
   "metadata": {
    "tags": []
   },
   "outputs": [
    {
     "name": "stdout",
     "output_type": "stream",
     "text": [
      "{'protein': 'P11798', 'gene': 'Camk2a', 'count': 0}\n",
      "0\n",
      "1\n",
      "{'protein': 'P11798', 'gene': 'Camk2a', 'count': 1}\n"
     ]
    }
   ],
   "source": [
    "autocomplete = AutoComplete(words=words)\n",
    "autocomplete.search(word='Camk', max_cost=3, size=10)\n",
    "print(autocomplete.words['Camk2a'])\n",
    "print(autocomplete.get_count_of_word('Camk2a'))\n",
    "autocomplete.words['Camk2a']['count'] += 1\n",
    "autocomplete.update_count_of_word(word='Camk2a', count=autocomplete.words['Camk2a']['count'])\n",
    "print(autocomplete.get_count_of_word('Camk2a'))\n",
    "print(autocomplete.words['Camk2a'])"
   ]
  },
  {
   "cell_type": "code",
   "execution_count": 34,
   "id": "15162e40-5570-46da-9a01-be67c963ed93",
   "metadata": {
    "tags": []
   },
   "outputs": [
    {
     "name": "stdout",
     "output_type": "stream",
     "text": [
      "['CALM', 'Calml3', 'Calmegin', 'Calmodulin-like protein 3', 'Calmodulin-binding protein P-57', 'Calmodulin regulator protein PCP4', 'Calmodulin-dependent calcineurin A subunit beta isoform', 'Calmodulin-regulated spectrin-associated protein 3']\n"
     ]
    }
   ],
   "source": [
    "# test sorting\n",
    "query = autocomplete.search(word='CALM', max_cost=3, size=10)\n",
    "list = []\n",
    "for sublist in query:\n",
    "    list.append(sublist[-1])\n",
    "#query = [item for sublist in query for item in sublist]\n",
    "print(list)\n",
    "#autocomplete_export(autocomplete.words, '../data/autocomplete_info_test.json')"
   ]
  }
 ],
 "metadata": {
  "kernelspec": {
   "display_name": "Python 3 (ipykernel)",
   "language": "python",
   "name": "python3"
  },
  "language_info": {
   "codemirror_mode": {
    "name": "ipython",
    "version": 3
   },
   "file_extension": ".py",
   "mimetype": "text/x-python",
   "name": "python",
   "nbconvert_exporter": "python",
   "pygments_lexer": "ipython3",
   "version": "3.11.3"
  }
 },
 "nbformat": 4,
 "nbformat_minor": 5
}
