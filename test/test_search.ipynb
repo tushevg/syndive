{
 "cells": [
  {
   "cell_type": "code",
   "execution_count": 16,
   "id": "960c345d-d751-4187-b662-08ff762169d3",
   "metadata": {
    "tags": []
   },
   "outputs": [],
   "source": [
    "import pandas as pd\n",
    "from fast_autocomplete import AutoComplete\n",
    "from typing import Dict, Tuple\n",
    "import json"
   ]
  },
  {
   "cell_type": "code",
   "execution_count": 2,
   "id": "26d24ff0-82f3-4060-81ae-38dca2548aa5",
   "metadata": {
    "tags": []
   },
   "outputs": [],
   "source": [
    "## helper functions\n",
    "def load_searchInfo(file_info: str):\n",
    "    df = pd.read_csv(file_info, sep='\\t', index_col=0)\n",
    "    words = {}\n",
    "    for key, row in df.iterrows():\n",
    "        words.update({key: {'key':key}})\n",
    "        words.update({row['gene']: {'key':key}})\n",
    "        words.update({row['product']: {'key':key}})\n",
    "        \n",
    "        # skip empty note\n",
    "        if row['note'] == '<note>':\n",
    "            continue\n",
    "            \n",
    "        for note in str(row['note']).split(';'):\n",
    "            words.update({note: {'key':key}})\n",
    "    return df, words    "
   ]
  },
  {
   "cell_type": "code",
   "execution_count": 14,
   "id": "6add741f-7bca-4035-8977-19022e9a7fbb",
   "metadata": {
    "tags": []
   },
   "outputs": [
    {
     "name": "stdout",
     "output_type": "stream",
     "text": [
      "Index(['gene', 'product', 'note', 'count'], dtype='object')\n",
      "gene                                                  Camk2a\n",
      "product    Calcium/calmodulin-dependent protein kinase ty...\n",
      "note       CaM kinase II subunit alpha;CaMK-II subunit alpha\n",
      "count                                                      0\n",
      "Name: P11798, dtype: object\n"
     ]
    }
   ],
   "source": [
    "# read search terms\n",
    "file_info = '../data/tableInfo.tsv'\n",
    "df, words = load_searchInfo(file_info)\n",
    "print(df.columns)\n",
    "print(df.loc['P11798'])"
   ]
  },
  {
   "cell_type": "code",
   "execution_count": 17,
   "id": "47205d2d-0c6d-4550-aee0-84f5add2ea37",
   "metadata": {
    "tags": []
   },
   "outputs": [
    {
     "name": "stdout",
     "output_type": "stream",
     "text": [
      "{'key': 'P11798'}\n"
     ]
    }
   ],
   "source": [
    "## interact with JSON dictionary\n",
    "def autocomplete_export(words: Dict[str, Dict[str, str]], file_json: str):\n",
    "    with open(file_json, \"w\") as fp:\n",
    "        json.dump(words , fp)\n",
    "\n",
    "\n",
    "def autocomplete_load(file_json: str) -> Dict[str, Dict[str, str]]:\n",
    "    with open(file_json, 'r') as fp:\n",
    "        words = json.load(fp)\n",
    "    return words\n",
    "\n",
    "\n",
    "autocomplete_export(words, '../data/autocomplete_info.json')\n",
    "test = autocomplete_load('../data/autocomplete_info.json')\n",
    "print(test['Camk2a'])"
   ]
  },
  {
   "cell_type": "code",
   "execution_count": 26,
   "id": "aa20c39e-7501-400e-bfc0-6880c1314acf",
   "metadata": {
    "tags": []
   },
   "outputs": [
    {
     "name": "stdout",
     "output_type": "stream",
     "text": [
      "[['Camkv'], ['CaMKN'], ['Camk4'], ['Camk1'], ['CaMK IV'], ['CaMKK 2'], ['CaMKK 1'], ['CaMKP-N'], ['Camk2g'], ['Camk2d']]\n",
      "{'key': 'P11798'}\n",
      "0\n"
     ]
    },
    {
     "name": "stderr",
     "output_type": "stream",
     "text": [
      "/var/folders/qg/n13yfy_n6819vdxtygv0w30m0000gp/T/ipykernel_2792/1236328468.py:8: SettingWithCopyWarning: \n",
      "A value is trying to be set on a copy of a slice from a DataFrame\n",
      "\n",
      "See the caveats in the documentation: https://pandas.pydata.org/pandas-docs/stable/user_guide/indexing.html#returning-a-view-versus-a-copy\n",
      "  df.loc[key]['count'] = new_count\n"
     ]
    }
   ],
   "source": [
    "autocomplete = AutoComplete(words=words)\n",
    "print(autocomplete.search(word='Camk', max_cost=3, size=10))\n",
    "print(autocomplete.words['Camk2a'])\n",
    "#print(autocomplete.get_count_of_word('Camk2a'))\n",
    "new_count = autocomplete.get_count_of_word('Camk2a') + 1\n",
    "autocomplete.update_count_of_word(word='Camk2a', count=new_count)\n",
    "key = autocomplete.words['Camk2a']['key']\n",
    "df.loc[key]['count'] = new_count\n",
    "print(df.loc[key]['count'])\n",
    "\n",
    "#print(autocomplete.get_count_of_word('Camk2a'))\n",
    "#print(autocomplete.words['Camk2a']['key'])"
   ]
  },
  {
   "cell_type": "code",
   "execution_count": 34,
   "id": "15162e40-5570-46da-9a01-be67c963ed93",
   "metadata": {
    "tags": []
   },
   "outputs": [
    {
     "name": "stdout",
     "output_type": "stream",
     "text": [
      "['CALM', 'Calml3', 'Calmegin', 'Calmodulin-like protein 3', 'Calmodulin-binding protein P-57', 'Calmodulin regulator protein PCP4', 'Calmodulin-dependent calcineurin A subunit beta isoform', 'Calmodulin-regulated spectrin-associated protein 3']\n"
     ]
    }
   ],
   "source": [
    "# test sorting\n",
    "query = autocomplete.search(word='CALM', max_cost=3, size=10)\n",
    "list = []\n",
    "for sublist in query:\n",
    "    list.append(sublist[-1])\n",
    "#query = [item for sublist in query for item in sublist]\n",
    "print(list)\n",
    "#autocomplete_export(autocomplete.words, '../data/autocomplete_info_test.json')"
   ]
  }
 ],
 "metadata": {
  "kernelspec": {
   "display_name": "Python 3 (ipykernel)",
   "language": "python",
   "name": "python3"
  },
  "language_info": {
   "codemirror_mode": {
    "name": "ipython",
    "version": 3
   },
   "file_extension": ".py",
   "mimetype": "text/x-python",
   "name": "python",
   "nbconvert_exporter": "python",
   "pygments_lexer": "ipython3",
   "version": "3.11.3"
  }
 },
 "nbformat": 4,
 "nbformat_minor": 5
}
