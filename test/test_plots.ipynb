{
 "cells": [
  {
   "cell_type": "code",
   "execution_count": 145,
   "id": "821b764f-3099-481c-ac77-da137994d09d",
   "metadata": {},
   "outputs": [],
   "source": [
    "import sqlite3\n",
    "import pandas as pd\n",
    "import numpy as np\n",
    "import plotly.express as px"
   ]
  },
  {
   "cell_type": "code",
   "execution_count": 146,
   "id": "e9a0e38a-2159-4631-a8b8-677dd6aa6915",
   "metadata": {
    "tags": []
   },
   "outputs": [],
   "source": [
    "### --- HELPER FUNCTIONS --- ###\n",
    "def dbquery_find_list(search_list: list,\n",
    "                      db_column: str,\n",
    "                      db_table: str,\n",
    "                      db_file: str) -> pd.DataFrame:\n",
    "    query = f\"SELECT * FROM {db_table} WHERE {db_column} IN ({','.join(['?']*len(search_list))}) ORDER BY {db_column} ASC\"\n",
    "    conn = sqlite3.connect(db_file)\n",
    "    df = pd.read_sql(query, conn, params=search_list)\n",
    "    conn.close()\n",
    "    return df"
   ]
  },
  {
   "cell_type": "code",
   "execution_count": 152,
   "id": "8d1daedd-5998-4741-b312-9e5875d3e76f",
   "metadata": {
    "tags": []
   },
   "outputs": [],
   "source": [
    "### --- ALLOCATE DATA --- ###\n",
    "db_file = '../data/mpibr_synprot.db'\n",
    "query_list = ['Dlg4','Gad1', 'Gad2', \n",
    "               'Shank1', 'Slc17a7', 'Slc32a', \n",
    "               'Slc6a3', 'Th', 'Camk2a']\n",
    "df_info = dbquery_find_list(query_list, 'gene', 'info', db_file)\n",
    "df_enriched = dbquery_find_list(df_info['protein'].to_list(), 'protein', 'enriched', db_file)\n",
    "df_expressed = dbquery_find_list(df_info['protein'].to_list(), 'protein', 'expressed', db_file)"
   ]
  },
  {
   "cell_type": "code",
   "execution_count": 187,
   "id": "cce9fbc7-39d3-489b-9de6-0f1ac191bb50",
   "metadata": {
    "tags": []
   },
   "outputs": [
    {
     "data": {
      "application/vnd.plotly.v1+json": {
       "config": {
        "plotlyServerURL": "https://plot.ly"
       },
       "data": [
        {
         "customdata": [
          [
           "Cerebellum"
          ],
          [
           "Cerebellum"
          ],
          [
           "Cerebellum"
          ],
          [
           "Cerebellum"
          ],
          [
           "Cerebellum"
          ],
          [
           "Cerebellum"
          ],
          [
           "Cerebellum"
          ],
          [
           "Cerebellum"
          ]
         ],
         "hovertemplate": "<b>%{hovertext}</b><br><br>region=%{customdata[0]}<br>mouse=%{y}<extra></extra>",
         "hovertext": [
          "Camk2a",
          "Camk2a",
          "Dlg4",
          "Dlg4",
          "Gad1",
          "Gad1",
          "Gad2",
          "Gad2"
         ],
         "legendgroup": "Cerebellum",
         "marker": {
          "color": "#636efa",
          "opacity": 0.8,
          "size": 8,
          "symbol": "circle"
         },
         "mode": "markers",
         "name": "Cerebellum",
         "orientation": "v",
         "showlegend": true,
         "type": "scatter",
         "x": [
          0.75,
          0.75,
          1.75,
          1.75,
          2.75,
          2.75,
          3.75,
          3.75
         ],
         "xaxis": "x",
         "y": [
          3,
          6,
          3,
          6,
          3,
          6,
          3,
          6
         ],
         "yaxis": "y"
        },
        {
         "customdata": [
          [
           "Cortex"
          ],
          [
           "Cortex"
          ],
          [
           "Cortex"
          ],
          [
           "Cortex"
          ],
          [
           "Cortex"
          ],
          [
           "Cortex"
          ],
          [
           "Cortex"
          ],
          [
           "Cortex"
          ],
          [
           "Cortex"
          ],
          [
           "Cortex"
          ],
          [
           "Cortex"
          ],
          [
           "Cortex"
          ],
          [
           "Cortex"
          ],
          [
           "Cortex"
          ],
          [
           "Cortex"
          ],
          [
           "Cortex"
          ],
          [
           "Cortex"
          ],
          [
           "Cortex"
          ],
          [
           "Cortex"
          ]
         ],
         "hovertemplate": "<b>%{hovertext}</b><br><br>region=%{customdata[0]}<br>mouse=%{y}<extra></extra>",
         "hovertext": [
          "Camk2a",
          "Camk2a",
          "Dlg4",
          "Dlg4",
          "Gad1",
          "Gad1",
          "Gad1",
          "Gad1",
          "Gad1",
          "Gad2",
          "Gad2",
          "Gad2",
          "Gad2",
          "Gad2",
          "Shank1",
          "Shank1",
          "Slc17a7",
          "Slc17a7",
          "Slc6a3"
         ],
         "legendgroup": "Cortex",
         "marker": {
          "color": "#EF553B",
          "opacity": 0.8,
          "size": 8,
          "symbol": "circle"
         },
         "mode": "markers",
         "name": "Cortex",
         "orientation": "v",
         "showlegend": true,
         "type": "scatter",
         "x": [
          0.875,
          0.875,
          1.875,
          1.875,
          2.875,
          2.875,
          2.875,
          2.875,
          2.875,
          3.875,
          3.875,
          3.875,
          3.875,
          3.875,
          4.875,
          4.875,
          5.875,
          5.875,
          6.875
         ],
         "xaxis": "x",
         "y": [
          1,
          6,
          1,
          6,
          5,
          4,
          7,
          6,
          3,
          5,
          4,
          7,
          6,
          3,
          1,
          6,
          1,
          6,
          3
         ],
         "yaxis": "y"
        },
        {
         "customdata": [
          [
           "Hippocampus"
          ],
          [
           "Hippocampus"
          ],
          [
           "Hippocampus"
          ],
          [
           "Hippocampus"
          ],
          [
           "Hippocampus"
          ],
          [
           "Hippocampus"
          ],
          [
           "Hippocampus"
          ],
          [
           "Hippocampus"
          ],
          [
           "Hippocampus"
          ],
          [
           "Hippocampus"
          ],
          [
           "Hippocampus"
          ]
         ],
         "hovertemplate": "<b>%{hovertext}</b><br><br>region=%{customdata[0]}<br>mouse=%{y}<extra></extra>",
         "hovertext": [
          "Camk2a",
          "Camk2a",
          "Dlg4",
          "Dlg4",
          "Gad1",
          "Gad1",
          "Gad2",
          "Shank1",
          "Shank1",
          "Slc17a7",
          "Th"
         ],
         "legendgroup": "Hippocampus",
         "marker": {
          "color": "#00cc96",
          "opacity": 0.8,
          "size": 8,
          "symbol": "circle"
         },
         "mode": "markers",
         "name": "Hippocampus",
         "orientation": "v",
         "showlegend": true,
         "type": "scatter",
         "x": [
          1,
          1,
          2,
          2,
          3,
          3,
          4,
          5,
          5,
          6,
          8
         ],
         "xaxis": "x",
         "y": [
          1,
          6,
          1,
          6,
          6,
          3,
          3,
          1,
          6,
          1,
          6
         ],
         "yaxis": "y"
        },
        {
         "customdata": [
          [
           "OlfactoryBulb"
          ],
          [
           "OlfactoryBulb"
          ],
          [
           "OlfactoryBulb"
          ],
          [
           "OlfactoryBulb"
          ],
          [
           "OlfactoryBulb"
          ],
          [
           "OlfactoryBulb"
          ],
          [
           "OlfactoryBulb"
          ],
          [
           "OlfactoryBulb"
          ],
          [
           "OlfactoryBulb"
          ],
          [
           "OlfactoryBulb"
          ],
          [
           "OlfactoryBulb"
          ],
          [
           "OlfactoryBulb"
          ],
          [
           "OlfactoryBulb"
          ],
          [
           "OlfactoryBulb"
          ],
          [
           "OlfactoryBulb"
          ],
          [
           "OlfactoryBulb"
          ]
         ],
         "hovertemplate": "<b>%{hovertext}</b><br><br>region=%{customdata[0]}<br>mouse=%{y}<extra></extra>",
         "hovertext": [
          "Camk2a",
          "Camk2a",
          "Dlg4",
          "Dlg4",
          "Gad1",
          "Gad1",
          "Gad1",
          "Gad2",
          "Gad2",
          "Gad2",
          "Shank1",
          "Shank1",
          "Slc17a7",
          "Slc17a7",
          "Th",
          "Th"
         ],
         "legendgroup": "OlfactoryBulb",
         "marker": {
          "color": "#ab63fa",
          "opacity": 0.8,
          "size": 8,
          "symbol": "circle"
         },
         "mode": "markers",
         "name": "OlfactoryBulb",
         "orientation": "v",
         "showlegend": true,
         "type": "scatter",
         "x": [
          1.125,
          1.125,
          2.125,
          2.125,
          3.125,
          3.125,
          3.125,
          4.125,
          4.125,
          4.125,
          5.125,
          5.125,
          6.125,
          6.125,
          8.125,
          8.125
         ],
         "xaxis": "x",
         "y": [
          1,
          6,
          1,
          6,
          1,
          3,
          6,
          1,
          3,
          6,
          1,
          6,
          1,
          6,
          3,
          6
         ],
         "yaxis": "y"
        },
        {
         "customdata": [
          [
           "Striatum"
          ],
          [
           "Striatum"
          ],
          [
           "Striatum"
          ],
          [
           "Striatum"
          ],
          [
           "Striatum"
          ],
          [
           "Striatum"
          ],
          [
           "Striatum"
          ],
          [
           "Striatum"
          ],
          [
           "Striatum"
          ],
          [
           "Striatum"
          ],
          [
           "Striatum"
          ],
          [
           "Striatum"
          ]
         ],
         "hovertemplate": "<b>%{hovertext}</b><br><br>region=%{customdata[0]}<br>mouse=%{y}<extra></extra>",
         "hovertext": [
          "Camk2a",
          "Camk2a",
          "Dlg4",
          "Dlg4",
          "Dlg4",
          "Gad1",
          "Gad2",
          "Shank1",
          "Slc17a7",
          "Slc17a7",
          "Slc6a3",
          "Th"
         ],
         "legendgroup": "Striatum",
         "marker": {
          "color": "#FFA15A",
          "opacity": 0.8,
          "size": 8,
          "symbol": "circle"
         },
         "mode": "markers",
         "name": "Striatum",
         "orientation": "v",
         "showlegend": true,
         "type": "scatter",
         "x": [
          1.25,
          1.25,
          2.25,
          2.25,
          2.25,
          3.25,
          4.25,
          5.25,
          6.25,
          6.25,
          7.25,
          8.25
         ],
         "xaxis": "x",
         "y": [
          1,
          6,
          1,
          6,
          3,
          3,
          3,
          3,
          1,
          6,
          2,
          2
         ],
         "yaxis": "y"
        }
       ],
       "layout": {
        "autosize": true,
        "legend": {
         "title": {
          "text": "region"
         },
         "tracegroupgap": 0
        },
        "margin": {
         "t": 60
        },
        "template": {
         "data": {
          "bar": [
           {
            "error_x": {
             "color": "#2a3f5f"
            },
            "error_y": {
             "color": "#2a3f5f"
            },
            "marker": {
             "line": {
              "color": "white",
              "width": 0.5
             },
             "pattern": {
              "fillmode": "overlay",
              "size": 10,
              "solidity": 0.2
             }
            },
            "type": "bar"
           }
          ],
          "barpolar": [
           {
            "marker": {
             "line": {
              "color": "white",
              "width": 0.5
             },
             "pattern": {
              "fillmode": "overlay",
              "size": 10,
              "solidity": 0.2
             }
            },
            "type": "barpolar"
           }
          ],
          "carpet": [
           {
            "aaxis": {
             "endlinecolor": "#2a3f5f",
             "gridcolor": "#C8D4E3",
             "linecolor": "#C8D4E3",
             "minorgridcolor": "#C8D4E3",
             "startlinecolor": "#2a3f5f"
            },
            "baxis": {
             "endlinecolor": "#2a3f5f",
             "gridcolor": "#C8D4E3",
             "linecolor": "#C8D4E3",
             "minorgridcolor": "#C8D4E3",
             "startlinecolor": "#2a3f5f"
            },
            "type": "carpet"
           }
          ],
          "choropleth": [
           {
            "colorbar": {
             "outlinewidth": 0,
             "ticks": ""
            },
            "type": "choropleth"
           }
          ],
          "contour": [
           {
            "colorbar": {
             "outlinewidth": 0,
             "ticks": ""
            },
            "colorscale": [
             [
              0,
              "#0d0887"
             ],
             [
              0.1111111111111111,
              "#46039f"
             ],
             [
              0.2222222222222222,
              "#7201a8"
             ],
             [
              0.3333333333333333,
              "#9c179e"
             ],
             [
              0.4444444444444444,
              "#bd3786"
             ],
             [
              0.5555555555555556,
              "#d8576b"
             ],
             [
              0.6666666666666666,
              "#ed7953"
             ],
             [
              0.7777777777777778,
              "#fb9f3a"
             ],
             [
              0.8888888888888888,
              "#fdca26"
             ],
             [
              1,
              "#f0f921"
             ]
            ],
            "type": "contour"
           }
          ],
          "contourcarpet": [
           {
            "colorbar": {
             "outlinewidth": 0,
             "ticks": ""
            },
            "type": "contourcarpet"
           }
          ],
          "heatmap": [
           {
            "colorbar": {
             "outlinewidth": 0,
             "ticks": ""
            },
            "colorscale": [
             [
              0,
              "#0d0887"
             ],
             [
              0.1111111111111111,
              "#46039f"
             ],
             [
              0.2222222222222222,
              "#7201a8"
             ],
             [
              0.3333333333333333,
              "#9c179e"
             ],
             [
              0.4444444444444444,
              "#bd3786"
             ],
             [
              0.5555555555555556,
              "#d8576b"
             ],
             [
              0.6666666666666666,
              "#ed7953"
             ],
             [
              0.7777777777777778,
              "#fb9f3a"
             ],
             [
              0.8888888888888888,
              "#fdca26"
             ],
             [
              1,
              "#f0f921"
             ]
            ],
            "type": "heatmap"
           }
          ],
          "heatmapgl": [
           {
            "colorbar": {
             "outlinewidth": 0,
             "ticks": ""
            },
            "colorscale": [
             [
              0,
              "#0d0887"
             ],
             [
              0.1111111111111111,
              "#46039f"
             ],
             [
              0.2222222222222222,
              "#7201a8"
             ],
             [
              0.3333333333333333,
              "#9c179e"
             ],
             [
              0.4444444444444444,
              "#bd3786"
             ],
             [
              0.5555555555555556,
              "#d8576b"
             ],
             [
              0.6666666666666666,
              "#ed7953"
             ],
             [
              0.7777777777777778,
              "#fb9f3a"
             ],
             [
              0.8888888888888888,
              "#fdca26"
             ],
             [
              1,
              "#f0f921"
             ]
            ],
            "type": "heatmapgl"
           }
          ],
          "histogram": [
           {
            "marker": {
             "pattern": {
              "fillmode": "overlay",
              "size": 10,
              "solidity": 0.2
             }
            },
            "type": "histogram"
           }
          ],
          "histogram2d": [
           {
            "colorbar": {
             "outlinewidth": 0,
             "ticks": ""
            },
            "colorscale": [
             [
              0,
              "#0d0887"
             ],
             [
              0.1111111111111111,
              "#46039f"
             ],
             [
              0.2222222222222222,
              "#7201a8"
             ],
             [
              0.3333333333333333,
              "#9c179e"
             ],
             [
              0.4444444444444444,
              "#bd3786"
             ],
             [
              0.5555555555555556,
              "#d8576b"
             ],
             [
              0.6666666666666666,
              "#ed7953"
             ],
             [
              0.7777777777777778,
              "#fb9f3a"
             ],
             [
              0.8888888888888888,
              "#fdca26"
             ],
             [
              1,
              "#f0f921"
             ]
            ],
            "type": "histogram2d"
           }
          ],
          "histogram2dcontour": [
           {
            "colorbar": {
             "outlinewidth": 0,
             "ticks": ""
            },
            "colorscale": [
             [
              0,
              "#0d0887"
             ],
             [
              0.1111111111111111,
              "#46039f"
             ],
             [
              0.2222222222222222,
              "#7201a8"
             ],
             [
              0.3333333333333333,
              "#9c179e"
             ],
             [
              0.4444444444444444,
              "#bd3786"
             ],
             [
              0.5555555555555556,
              "#d8576b"
             ],
             [
              0.6666666666666666,
              "#ed7953"
             ],
             [
              0.7777777777777778,
              "#fb9f3a"
             ],
             [
              0.8888888888888888,
              "#fdca26"
             ],
             [
              1,
              "#f0f921"
             ]
            ],
            "type": "histogram2dcontour"
           }
          ],
          "mesh3d": [
           {
            "colorbar": {
             "outlinewidth": 0,
             "ticks": ""
            },
            "type": "mesh3d"
           }
          ],
          "parcoords": [
           {
            "line": {
             "colorbar": {
              "outlinewidth": 0,
              "ticks": ""
             }
            },
            "type": "parcoords"
           }
          ],
          "pie": [
           {
            "automargin": true,
            "type": "pie"
           }
          ],
          "scatter": [
           {
            "fillpattern": {
             "fillmode": "overlay",
             "size": 10,
             "solidity": 0.2
            },
            "type": "scatter"
           }
          ],
          "scatter3d": [
           {
            "line": {
             "colorbar": {
              "outlinewidth": 0,
              "ticks": ""
             }
            },
            "marker": {
             "colorbar": {
              "outlinewidth": 0,
              "ticks": ""
             }
            },
            "type": "scatter3d"
           }
          ],
          "scattercarpet": [
           {
            "marker": {
             "colorbar": {
              "outlinewidth": 0,
              "ticks": ""
             }
            },
            "type": "scattercarpet"
           }
          ],
          "scattergeo": [
           {
            "marker": {
             "colorbar": {
              "outlinewidth": 0,
              "ticks": ""
             }
            },
            "type": "scattergeo"
           }
          ],
          "scattergl": [
           {
            "marker": {
             "colorbar": {
              "outlinewidth": 0,
              "ticks": ""
             }
            },
            "type": "scattergl"
           }
          ],
          "scattermapbox": [
           {
            "marker": {
             "colorbar": {
              "outlinewidth": 0,
              "ticks": ""
             }
            },
            "type": "scattermapbox"
           }
          ],
          "scatterpolar": [
           {
            "marker": {
             "colorbar": {
              "outlinewidth": 0,
              "ticks": ""
             }
            },
            "type": "scatterpolar"
           }
          ],
          "scatterpolargl": [
           {
            "marker": {
             "colorbar": {
              "outlinewidth": 0,
              "ticks": ""
             }
            },
            "type": "scatterpolargl"
           }
          ],
          "scatterternary": [
           {
            "marker": {
             "colorbar": {
              "outlinewidth": 0,
              "ticks": ""
             }
            },
            "type": "scatterternary"
           }
          ],
          "surface": [
           {
            "colorbar": {
             "outlinewidth": 0,
             "ticks": ""
            },
            "colorscale": [
             [
              0,
              "#0d0887"
             ],
             [
              0.1111111111111111,
              "#46039f"
             ],
             [
              0.2222222222222222,
              "#7201a8"
             ],
             [
              0.3333333333333333,
              "#9c179e"
             ],
             [
              0.4444444444444444,
              "#bd3786"
             ],
             [
              0.5555555555555556,
              "#d8576b"
             ],
             [
              0.6666666666666666,
              "#ed7953"
             ],
             [
              0.7777777777777778,
              "#fb9f3a"
             ],
             [
              0.8888888888888888,
              "#fdca26"
             ],
             [
              1,
              "#f0f921"
             ]
            ],
            "type": "surface"
           }
          ],
          "table": [
           {
            "cells": {
             "fill": {
              "color": "#EBF0F8"
             },
             "line": {
              "color": "white"
             }
            },
            "header": {
             "fill": {
              "color": "#C8D4E3"
             },
             "line": {
              "color": "white"
             }
            },
            "type": "table"
           }
          ]
         },
         "layout": {
          "annotationdefaults": {
           "arrowcolor": "#2a3f5f",
           "arrowhead": 0,
           "arrowwidth": 1
          },
          "autotypenumbers": "strict",
          "coloraxis": {
           "colorbar": {
            "outlinewidth": 0,
            "ticks": ""
           }
          },
          "colorscale": {
           "diverging": [
            [
             0,
             "#8e0152"
            ],
            [
             0.1,
             "#c51b7d"
            ],
            [
             0.2,
             "#de77ae"
            ],
            [
             0.3,
             "#f1b6da"
            ],
            [
             0.4,
             "#fde0ef"
            ],
            [
             0.5,
             "#f7f7f7"
            ],
            [
             0.6,
             "#e6f5d0"
            ],
            [
             0.7,
             "#b8e186"
            ],
            [
             0.8,
             "#7fbc41"
            ],
            [
             0.9,
             "#4d9221"
            ],
            [
             1,
             "#276419"
            ]
           ],
           "sequential": [
            [
             0,
             "#0d0887"
            ],
            [
             0.1111111111111111,
             "#46039f"
            ],
            [
             0.2222222222222222,
             "#7201a8"
            ],
            [
             0.3333333333333333,
             "#9c179e"
            ],
            [
             0.4444444444444444,
             "#bd3786"
            ],
            [
             0.5555555555555556,
             "#d8576b"
            ],
            [
             0.6666666666666666,
             "#ed7953"
            ],
            [
             0.7777777777777778,
             "#fb9f3a"
            ],
            [
             0.8888888888888888,
             "#fdca26"
            ],
            [
             1,
             "#f0f921"
            ]
           ],
           "sequentialminus": [
            [
             0,
             "#0d0887"
            ],
            [
             0.1111111111111111,
             "#46039f"
            ],
            [
             0.2222222222222222,
             "#7201a8"
            ],
            [
             0.3333333333333333,
             "#9c179e"
            ],
            [
             0.4444444444444444,
             "#bd3786"
            ],
            [
             0.5555555555555556,
             "#d8576b"
            ],
            [
             0.6666666666666666,
             "#ed7953"
            ],
            [
             0.7777777777777778,
             "#fb9f3a"
            ],
            [
             0.8888888888888888,
             "#fdca26"
            ],
            [
             1,
             "#f0f921"
            ]
           ]
          },
          "colorway": [
           "#636efa",
           "#EF553B",
           "#00cc96",
           "#ab63fa",
           "#FFA15A",
           "#19d3f3",
           "#FF6692",
           "#B6E880",
           "#FF97FF",
           "#FECB52"
          ],
          "font": {
           "color": "#2a3f5f"
          },
          "geo": {
           "bgcolor": "white",
           "lakecolor": "white",
           "landcolor": "white",
           "showlakes": true,
           "showland": true,
           "subunitcolor": "#C8D4E3"
          },
          "hoverlabel": {
           "align": "left"
          },
          "hovermode": "closest",
          "mapbox": {
           "style": "light"
          },
          "paper_bgcolor": "white",
          "plot_bgcolor": "white",
          "polar": {
           "angularaxis": {
            "gridcolor": "#EBF0F8",
            "linecolor": "#EBF0F8",
            "ticks": ""
           },
           "bgcolor": "white",
           "radialaxis": {
            "gridcolor": "#EBF0F8",
            "linecolor": "#EBF0F8",
            "ticks": ""
           }
          },
          "scene": {
           "xaxis": {
            "backgroundcolor": "white",
            "gridcolor": "#DFE8F3",
            "gridwidth": 2,
            "linecolor": "#EBF0F8",
            "showbackground": true,
            "ticks": "",
            "zerolinecolor": "#EBF0F8"
           },
           "yaxis": {
            "backgroundcolor": "white",
            "gridcolor": "#DFE8F3",
            "gridwidth": 2,
            "linecolor": "#EBF0F8",
            "showbackground": true,
            "ticks": "",
            "zerolinecolor": "#EBF0F8"
           },
           "zaxis": {
            "backgroundcolor": "white",
            "gridcolor": "#DFE8F3",
            "gridwidth": 2,
            "linecolor": "#EBF0F8",
            "showbackground": true,
            "ticks": "",
            "zerolinecolor": "#EBF0F8"
           }
          },
          "shapedefaults": {
           "line": {
            "color": "#2a3f5f"
           }
          },
          "ternary": {
           "aaxis": {
            "gridcolor": "#DFE8F3",
            "linecolor": "#A2B1C6",
            "ticks": ""
           },
           "baxis": {
            "gridcolor": "#DFE8F3",
            "linecolor": "#A2B1C6",
            "ticks": ""
           },
           "bgcolor": "white",
           "caxis": {
            "gridcolor": "#DFE8F3",
            "linecolor": "#A2B1C6",
            "ticks": ""
           }
          },
          "title": {
           "x": 0.05
          },
          "xaxis": {
           "automargin": true,
           "gridcolor": "#EBF0F8",
           "linecolor": "#EBF0F8",
           "ticks": "",
           "title": {
            "standoff": 15
           },
           "zerolinecolor": "#EBF0F8",
           "zerolinewidth": 2
          },
          "yaxis": {
           "automargin": true,
           "gridcolor": "#EBF0F8",
           "linecolor": "#EBF0F8",
           "ticks": "",
           "title": {
            "standoff": 15
           },
           "zerolinecolor": "#EBF0F8",
           "zerolinewidth": 2
          }
         }
        },
        "xaxis": {
         "anchor": "y",
         "autorange": true,
         "domain": [
          0,
          1
         ],
         "range": [
          0.27288553605106625,
          8.727114463948933
         ],
         "tickmode": "array",
         "ticktext": [
          "Camk2a",
          "Dlg4",
          "Gad1",
          "Gad2",
          "Shank1",
          "Slc17a7",
          "Slc6a3",
          "Th"
         ],
         "tickvals": [
          1,
          2,
          3,
          4,
          5,
          6,
          7,
          8
         ],
         "title": {
          "text": "gene"
         },
         "type": "linear"
        },
        "yaxis": {
         "anchor": "x",
         "autorange": true,
         "domain": [
          0,
          1
         ],
         "range": [
          0.4893617021276596,
          7.51063829787234
         ],
         "tickmode": "array",
         "ticktext": [
          "CAMK2A",
          "DAT",
          "GAD2",
          "PV",
          "SST",
          "SYN1",
          "VIP"
         ],
         "tickvals": [
          1,
          2,
          3,
          4,
          5,
          6,
          7
         ],
         "title": {
          "text": "mouse"
         },
         "type": "linear"
        }
       }
      },
      "image/png": "[encoded data removed]",
      "text/html": [
       "<div>                            <div id=\"d5989c5d-8e39-4699-bd84-4b90d9735bf2\" class=\"plotly-graph-div\" style=\"height:525px; width:100%;\"></div>            <script type=\"text/javascript\">                require([\"plotly\"], function(Plotly) {                    window.PLOTLYENV=window.PLOTLYENV || {};                                    if (document.getElementById(\"d5989c5d-8e39-4699-bd84-4b90d9735bf2\")) {                    Plotly.newPlot(                        \"d5989c5d-8e39-4699-bd84-4b90d9735bf2\",                        [{\"customdata\":[[\"Cerebellum\"],[\"Cerebellum\"],[\"Cerebellum\"],[\"Cerebellum\"],[\"Cerebellum\"],[\"Cerebellum\"],[\"Cerebellum\"],[\"Cerebellum\"]],\"hovertemplate\":\"<b>%{hovertext}</b><br><br>region=%{customdata[0]}<br>mouse=%{y}<extra></extra>\",\"hovertext\":[\"Camk2a\",\"Camk2a\",\"Dlg4\",\"Dlg4\",\"Gad1\",\"Gad1\",\"Gad2\",\"Gad2\"],\"legendgroup\":\"Cerebellum\",\"marker\":{\"color\":\"#636efa\",\"opacity\":0.8,\"symbol\":\"circle\",\"size\":8},\"mode\":\"markers\",\"name\":\"Cerebellum\",\"orientation\":\"v\",\"showlegend\":true,\"x\":[0.75,0.75,1.75,1.75,2.75,2.75,3.75,3.75],\"xaxis\":\"x\",\"y\":[3,6,3,6,3,6,3,6],\"yaxis\":\"y\",\"type\":\"scatter\"},{\"customdata\":[[\"Cortex\"],[\"Cortex\"],[\"Cortex\"],[\"Cortex\"],[\"Cortex\"],[\"Cortex\"],[\"Cortex\"],[\"Cortex\"],[\"Cortex\"],[\"Cortex\"],[\"Cortex\"],[\"Cortex\"],[\"Cortex\"],[\"Cortex\"],[\"Cortex\"],[\"Cortex\"],[\"Cortex\"],[\"Cortex\"],[\"Cortex\"]],\"hovertemplate\":\"<b>%{hovertext}</b><br><br>region=%{customdata[0]}<br>mouse=%{y}<extra></extra>\",\"hovertext\":[\"Camk2a\",\"Camk2a\",\"Dlg4\",\"Dlg4\",\"Gad1\",\"Gad1\",\"Gad1\",\"Gad1\",\"Gad1\",\"Gad2\",\"Gad2\",\"Gad2\",\"Gad2\",\"Gad2\",\"Shank1\",\"Shank1\",\"Slc17a7\",\"Slc17a7\",\"Slc6a3\"],\"legendgroup\":\"Cortex\",\"marker\":{\"color\":\"#EF553B\",\"opacity\":0.8,\"symbol\":\"circle\",\"size\":8},\"mode\":\"markers\",\"name\":\"Cortex\",\"orientation\":\"v\",\"showlegend\":true,\"x\":[0.875,0.875,1.875,1.875,2.875,2.875,2.875,2.875,2.875,3.875,3.875,3.875,3.875,3.875,4.875,4.875,5.875,5.875,6.875],\"xaxis\":\"x\",\"y\":[1,6,1,6,5,4,7,6,3,5,4,7,6,3,1,6,1,6,3],\"yaxis\":\"y\",\"type\":\"scatter\"},{\"customdata\":[[\"Hippocampus\"],[\"Hippocampus\"],[\"Hippocampus\"],[\"Hippocampus\"],[\"Hippocampus\"],[\"Hippocampus\"],[\"Hippocampus\"],[\"Hippocampus\"],[\"Hippocampus\"],[\"Hippocampus\"],[\"Hippocampus\"]],\"hovertemplate\":\"<b>%{hovertext}</b><br><br>region=%{customdata[0]}<br>mouse=%{y}<extra></extra>\",\"hovertext\":[\"Camk2a\",\"Camk2a\",\"Dlg4\",\"Dlg4\",\"Gad1\",\"Gad1\",\"Gad2\",\"Shank1\",\"Shank1\",\"Slc17a7\",\"Th\"],\"legendgroup\":\"Hippocampus\",\"marker\":{\"color\":\"#00cc96\",\"opacity\":0.8,\"symbol\":\"circle\",\"size\":8},\"mode\":\"markers\",\"name\":\"Hippocampus\",\"orientation\":\"v\",\"showlegend\":true,\"x\":[1.0,1.0,2.0,2.0,3.0,3.0,4.0,5.0,5.0,6.0,8.0],\"xaxis\":\"x\",\"y\":[1,6,1,6,6,3,3,1,6,1,6],\"yaxis\":\"y\",\"type\":\"scatter\"},{\"customdata\":[[\"OlfactoryBulb\"],[\"OlfactoryBulb\"],[\"OlfactoryBulb\"],[\"OlfactoryBulb\"],[\"OlfactoryBulb\"],[\"OlfactoryBulb\"],[\"OlfactoryBulb\"],[\"OlfactoryBulb\"],[\"OlfactoryBulb\"],[\"OlfactoryBulb\"],[\"OlfactoryBulb\"],[\"OlfactoryBulb\"],[\"OlfactoryBulb\"],[\"OlfactoryBulb\"],[\"OlfactoryBulb\"],[\"OlfactoryBulb\"]],\"hovertemplate\":\"<b>%{hovertext}</b><br><br>region=%{customdata[0]}<br>mouse=%{y}<extra></extra>\",\"hovertext\":[\"Camk2a\",\"Camk2a\",\"Dlg4\",\"Dlg4\",\"Gad1\",\"Gad1\",\"Gad1\",\"Gad2\",\"Gad2\",\"Gad2\",\"Shank1\",\"Shank1\",\"Slc17a7\",\"Slc17a7\",\"Th\",\"Th\"],\"legendgroup\":\"OlfactoryBulb\",\"marker\":{\"color\":\"#ab63fa\",\"opacity\":0.8,\"symbol\":\"circle\",\"size\":8},\"mode\":\"markers\",\"name\":\"OlfactoryBulb\",\"orientation\":\"v\",\"showlegend\":true,\"x\":[1.125,1.125,2.125,2.125,3.125,3.125,3.125,4.125,4.125,4.125,5.125,5.125,6.125,6.125,8.125,8.125],\"xaxis\":\"x\",\"y\":[1,6,1,6,1,3,6,1,3,6,1,6,1,6,3,6],\"yaxis\":\"y\",\"type\":\"scatter\"},{\"customdata\":[[\"Striatum\"],[\"Striatum\"],[\"Striatum\"],[\"Striatum\"],[\"Striatum\"],[\"Striatum\"],[\"Striatum\"],[\"Striatum\"],[\"Striatum\"],[\"Striatum\"],[\"Striatum\"],[\"Striatum\"]],\"hovertemplate\":\"<b>%{hovertext}</b><br><br>region=%{customdata[0]}<br>mouse=%{y}<extra></extra>\",\"hovertext\":[\"Camk2a\",\"Camk2a\",\"Dlg4\",\"Dlg4\",\"Dlg4\",\"Gad1\",\"Gad2\",\"Shank1\",\"Slc17a7\",\"Slc17a7\",\"Slc6a3\",\"Th\"],\"legendgroup\":\"Striatum\",\"marker\":{\"color\":\"#FFA15A\",\"opacity\":0.8,\"symbol\":\"circle\",\"size\":8},\"mode\":\"markers\",\"name\":\"Striatum\",\"orientation\":\"v\",\"showlegend\":true,\"x\":[1.25,1.25,2.25,2.25,2.25,3.25,4.25,5.25,6.25,6.25,7.25,8.25],\"xaxis\":\"x\",\"y\":[1,6,1,6,3,3,3,3,1,6,2,2],\"yaxis\":\"y\",\"type\":\"scatter\"}],                        {\"template\":{\"data\":{\"barpolar\":[{\"marker\":{\"line\":{\"color\":\"white\",\"width\":0.5},\"pattern\":{\"fillmode\":\"overlay\",\"size\":10,\"solidity\":0.2}},\"type\":\"barpolar\"}],\"bar\":[{\"error_x\":{\"color\":\"#2a3f5f\"},\"error_y\":{\"color\":\"#2a3f5f\"},\"marker\":{\"line\":{\"color\":\"white\",\"width\":0.5},\"pattern\":{\"fillmode\":\"overlay\",\"size\":10,\"solidity\":0.2}},\"type\":\"bar\"}],\"carpet\":[{\"aaxis\":{\"endlinecolor\":\"#2a3f5f\",\"gridcolor\":\"#C8D4E3\",\"linecolor\":\"#C8D4E3\",\"minorgridcolor\":\"#C8D4E3\",\"startlinecolor\":\"#2a3f5f\"},\"baxis\":{\"endlinecolor\":\"#2a3f5f\",\"gridcolor\":\"#C8D4E3\",\"linecolor\":\"#C8D4E3\",\"minorgridcolor\":\"#C8D4E3\",\"startlinecolor\":\"#2a3f5f\"},\"type\":\"carpet\"}],\"choropleth\":[{\"colorbar\":{\"outlinewidth\":0,\"ticks\":\"\"},\"type\":\"choropleth\"}],\"contourcarpet\":[{\"colorbar\":{\"outlinewidth\":0,\"ticks\":\"\"},\"type\":\"contourcarpet\"}],\"contour\":[{\"colorbar\":{\"outlinewidth\":0,\"ticks\":\"\"},\"colorscale\":[[0.0,\"#0d0887\"],[0.1111111111111111,\"#46039f\"],[0.2222222222222222,\"#7201a8\"],[0.3333333333333333,\"#9c179e\"],[0.4444444444444444,\"#bd3786\"],[0.5555555555555556,\"#d8576b\"],[0.6666666666666666,\"#ed7953\"],[0.7777777777777778,\"#fb9f3a\"],[0.8888888888888888,\"#fdca26\"],[1.0,\"#f0f921\"]],\"type\":\"contour\"}],\"heatmapgl\":[{\"colorbar\":{\"outlinewidth\":0,\"ticks\":\"\"},\"colorscale\":[[0.0,\"#0d0887\"],[0.1111111111111111,\"#46039f\"],[0.2222222222222222,\"#7201a8\"],[0.3333333333333333,\"#9c179e\"],[0.4444444444444444,\"#bd3786\"],[0.5555555555555556,\"#d8576b\"],[0.6666666666666666,\"#ed7953\"],[0.7777777777777778,\"#fb9f3a\"],[0.8888888888888888,\"#fdca26\"],[1.0,\"#f0f921\"]],\"type\":\"heatmapgl\"}],\"heatmap\":[{\"colorbar\":{\"outlinewidth\":0,\"ticks\":\"\"},\"colorscale\":[[0.0,\"#0d0887\"],[0.1111111111111111,\"#46039f\"],[0.2222222222222222,\"#7201a8\"],[0.3333333333333333,\"#9c179e\"],[0.4444444444444444,\"#bd3786\"],[0.5555555555555556,\"#d8576b\"],[0.6666666666666666,\"#ed7953\"],[0.7777777777777778,\"#fb9f3a\"],[0.8888888888888888,\"#fdca26\"],[1.0,\"#f0f921\"]],\"type\":\"heatmap\"}],\"histogram2dcontour\":[{\"colorbar\":{\"outlinewidth\":0,\"ticks\":\"\"},\"colorscale\":[[0.0,\"#0d0887\"],[0.1111111111111111,\"#46039f\"],[0.2222222222222222,\"#7201a8\"],[0.3333333333333333,\"#9c179e\"],[0.4444444444444444,\"#bd3786\"],[0.5555555555555556,\"#d8576b\"],[0.6666666666666666,\"#ed7953\"],[0.7777777777777778,\"#fb9f3a\"],[0.8888888888888888,\"#fdca26\"],[1.0,\"#f0f921\"]],\"type\":\"histogram2dcontour\"}],\"histogram2d\":[{\"colorbar\":{\"outlinewidth\":0,\"ticks\":\"\"},\"colorscale\":[[0.0,\"#0d0887\"],[0.1111111111111111,\"#46039f\"],[0.2222222222222222,\"#7201a8\"],[0.3333333333333333,\"#9c179e\"],[0.4444444444444444,\"#bd3786\"],[0.5555555555555556,\"#d8576b\"],[0.6666666666666666,\"#ed7953\"],[0.7777777777777778,\"#fb9f3a\"],[0.8888888888888888,\"#fdca26\"],[1.0,\"#f0f921\"]],\"type\":\"histogram2d\"}],\"histogram\":[{\"marker\":{\"pattern\":{\"fillmode\":\"overlay\",\"size\":10,\"solidity\":0.2}},\"type\":\"histogram\"}],\"mesh3d\":[{\"colorbar\":{\"outlinewidth\":0,\"ticks\":\"\"},\"type\":\"mesh3d\"}],\"parcoords\":[{\"line\":{\"colorbar\":{\"outlinewidth\":0,\"ticks\":\"\"}},\"type\":\"parcoords\"}],\"pie\":[{\"automargin\":true,\"type\":\"pie\"}],\"scatter3d\":[{\"line\":{\"colorbar\":{\"outlinewidth\":0,\"ticks\":\"\"}},\"marker\":{\"colorbar\":{\"outlinewidth\":0,\"ticks\":\"\"}},\"type\":\"scatter3d\"}],\"scattercarpet\":[{\"marker\":{\"colorbar\":{\"outlinewidth\":0,\"ticks\":\"\"}},\"type\":\"scattercarpet\"}],\"scattergeo\":[{\"marker\":{\"colorbar\":{\"outlinewidth\":0,\"ticks\":\"\"}},\"type\":\"scattergeo\"}],\"scattergl\":[{\"marker\":{\"colorbar\":{\"outlinewidth\":0,\"ticks\":\"\"}},\"type\":\"scattergl\"}],\"scattermapbox\":[{\"marker\":{\"colorbar\":{\"outlinewidth\":0,\"ticks\":\"\"}},\"type\":\"scattermapbox\"}],\"scatterpolargl\":[{\"marker\":{\"colorbar\":{\"outlinewidth\":0,\"ticks\":\"\"}},\"type\":\"scatterpolargl\"}],\"scatterpolar\":[{\"marker\":{\"colorbar\":{\"outlinewidth\":0,\"ticks\":\"\"}},\"type\":\"scatterpolar\"}],\"scatter\":[{\"fillpattern\":{\"fillmode\":\"overlay\",\"size\":10,\"solidity\":0.2},\"type\":\"scatter\"}],\"scatterternary\":[{\"marker\":{\"colorbar\":{\"outlinewidth\":0,\"ticks\":\"\"}},\"type\":\"scatterternary\"}],\"surface\":[{\"colorbar\":{\"outlinewidth\":0,\"ticks\":\"\"},\"colorscale\":[[0.0,\"#0d0887\"],[0.1111111111111111,\"#46039f\"],[0.2222222222222222,\"#7201a8\"],[0.3333333333333333,\"#9c179e\"],[0.4444444444444444,\"#bd3786\"],[0.5555555555555556,\"#d8576b\"],[0.6666666666666666,\"#ed7953\"],[0.7777777777777778,\"#fb9f3a\"],[0.8888888888888888,\"#fdca26\"],[1.0,\"#f0f921\"]],\"type\":\"surface\"}],\"table\":[{\"cells\":{\"fill\":{\"color\":\"#EBF0F8\"},\"line\":{\"color\":\"white\"}},\"header\":{\"fill\":{\"color\":\"#C8D4E3\"},\"line\":{\"color\":\"white\"}},\"type\":\"table\"}]},\"layout\":{\"annotationdefaults\":{\"arrowcolor\":\"#2a3f5f\",\"arrowhead\":0,\"arrowwidth\":1},\"autotypenumbers\":\"strict\",\"coloraxis\":{\"colorbar\":{\"outlinewidth\":0,\"ticks\":\"\"}},\"colorscale\":{\"diverging\":[[0,\"#8e0152\"],[0.1,\"#c51b7d\"],[0.2,\"#de77ae\"],[0.3,\"#f1b6da\"],[0.4,\"#fde0ef\"],[0.5,\"#f7f7f7\"],[0.6,\"#e6f5d0\"],[0.7,\"#b8e186\"],[0.8,\"#7fbc41\"],[0.9,\"#4d9221\"],[1,\"#276419\"]],\"sequential\":[[0.0,\"#0d0887\"],[0.1111111111111111,\"#46039f\"],[0.2222222222222222,\"#7201a8\"],[0.3333333333333333,\"#9c179e\"],[0.4444444444444444,\"#bd3786\"],[0.5555555555555556,\"#d8576b\"],[0.6666666666666666,\"#ed7953\"],[0.7777777777777778,\"#fb9f3a\"],[0.8888888888888888,\"#fdca26\"],[1.0,\"#f0f921\"]],\"sequentialminus\":[[0.0,\"#0d0887\"],[0.1111111111111111,\"#46039f\"],[0.2222222222222222,\"#7201a8\"],[0.3333333333333333,\"#9c179e\"],[0.4444444444444444,\"#bd3786\"],[0.5555555555555556,\"#d8576b\"],[0.6666666666666666,\"#ed7953\"],[0.7777777777777778,\"#fb9f3a\"],[0.8888888888888888,\"#fdca26\"],[1.0,\"#f0f921\"]]},\"colorway\":[\"#636efa\",\"#EF553B\",\"#00cc96\",\"#ab63fa\",\"#FFA15A\",\"#19d3f3\",\"#FF6692\",\"#B6E880\",\"#FF97FF\",\"#FECB52\"],\"font\":{\"color\":\"#2a3f5f\"},\"geo\":{\"bgcolor\":\"white\",\"lakecolor\":\"white\",\"landcolor\":\"white\",\"showlakes\":true,\"showland\":true,\"subunitcolor\":\"#C8D4E3\"},\"hoverlabel\":{\"align\":\"left\"},\"hovermode\":\"closest\",\"mapbox\":{\"style\":\"light\"},\"paper_bgcolor\":\"white\",\"plot_bgcolor\":\"white\",\"polar\":{\"angularaxis\":{\"gridcolor\":\"#EBF0F8\",\"linecolor\":\"#EBF0F8\",\"ticks\":\"\"},\"bgcolor\":\"white\",\"radialaxis\":{\"gridcolor\":\"#EBF0F8\",\"linecolor\":\"#EBF0F8\",\"ticks\":\"\"}},\"scene\":{\"xaxis\":{\"backgroundcolor\":\"white\",\"gridcolor\":\"#DFE8F3\",\"gridwidth\":2,\"linecolor\":\"#EBF0F8\",\"showbackground\":true,\"ticks\":\"\",\"zerolinecolor\":\"#EBF0F8\"},\"yaxis\":{\"backgroundcolor\":\"white\",\"gridcolor\":\"#DFE8F3\",\"gridwidth\":2,\"linecolor\":\"#EBF0F8\",\"showbackground\":true,\"ticks\":\"\",\"zerolinecolor\":\"#EBF0F8\"},\"zaxis\":{\"backgroundcolor\":\"white\",\"gridcolor\":\"#DFE8F3\",\"gridwidth\":2,\"linecolor\":\"#EBF0F8\",\"showbackground\":true,\"ticks\":\"\",\"zerolinecolor\":\"#EBF0F8\"}},\"shapedefaults\":{\"line\":{\"color\":\"#2a3f5f\"}},\"ternary\":{\"aaxis\":{\"gridcolor\":\"#DFE8F3\",\"linecolor\":\"#A2B1C6\",\"ticks\":\"\"},\"baxis\":{\"gridcolor\":\"#DFE8F3\",\"linecolor\":\"#A2B1C6\",\"ticks\":\"\"},\"bgcolor\":\"white\",\"caxis\":{\"gridcolor\":\"#DFE8F3\",\"linecolor\":\"#A2B1C6\",\"ticks\":\"\"}},\"title\":{\"x\":0.05},\"xaxis\":{\"automargin\":true,\"gridcolor\":\"#EBF0F8\",\"linecolor\":\"#EBF0F8\",\"ticks\":\"\",\"title\":{\"standoff\":15},\"zerolinecolor\":\"#EBF0F8\",\"zerolinewidth\":2},\"yaxis\":{\"automargin\":true,\"gridcolor\":\"#EBF0F8\",\"linecolor\":\"#EBF0F8\",\"ticks\":\"\",\"title\":{\"standoff\":15},\"zerolinecolor\":\"#EBF0F8\",\"zerolinewidth\":2}}},\"xaxis\":{\"anchor\":\"y\",\"domain\":[0.0,1.0],\"title\":{\"text\":\"gene\"},\"tickmode\":\"array\",\"tickvals\":[1,2,3,4,5,6,7,8],\"ticktext\":[\"Camk2a\",\"Dlg4\",\"Gad1\",\"Gad2\",\"Shank1\",\"Slc17a7\",\"Slc6a3\",\"Th\"]},\"yaxis\":{\"anchor\":\"x\",\"domain\":[0.0,1.0],\"title\":{\"text\":\"mouse\"},\"tickmode\":\"array\",\"tickvals\":[1,2,3,4,5,6,7],\"ticktext\":[\"CAMK2A\",\"DAT\",\"GAD2\",\"PV\",\"SST\",\"SYN1\",\"VIP\"]},\"legend\":{\"title\":{\"text\":\"region\"},\"tracegroupgap\":0},\"margin\":{\"t\":60}},                        {\"responsive\": true}                    ).then(function(){\n",
       "                            \n",
       "var gd = document.getElementById('d5989c5d-8e39-4699-bd84-4b90d9735bf2');\n",
       "var x = new MutationObserver(function (mutations, observer) {{\n",
       "        var display = window.getComputedStyle(gd).display;\n",
       "        if (!display || display === 'none') {{\n",
       "            console.log([gd, 'removed!']);\n",
       "            Plotly.purge(gd);\n",
       "            observer.disconnect();\n",
       "        }}\n",
       "}});\n",
       "\n",
       "// Listen for the removal of the full notebook cells\n",
       "var notebookContainer = gd.closest('#notebook-container');\n",
       "if (notebookContainer) {{\n",
       "    x.observe(notebookContainer, {childList: true});\n",
       "}}\n",
       "\n",
       "// Listen for the clearing of the current output cell\n",
       "var outputEl = gd.closest('.output');\n",
       "if (outputEl) {{\n",
       "    x.observe(outputEl, {childList: true});\n",
       "}}\n",
       "\n",
       "                        })                };                });            </script>        </div>"
      ]
     },
     "metadata": {},
     "output_type": "display_data"
    }
   ],
   "source": [
    "### --- PLOT ENRICHMENT --- ###\n",
    "df = df_enriched.set_index('protein')\n",
    "\n",
    "list_brain = []\n",
    "list_mouse = []\n",
    "for key in df.columns:\n",
    "    brain, mouse = str.split(key, sep='.')\n",
    "    list_brain.append(brain)\n",
    "    list_mouse.append(mouse)\n",
    "list_unq_brain = sorted(set(list_brain))\n",
    "list_unq_mouse = sorted(set(list_mouse))\n",
    "\n",
    "value_x_step = 0.125\n",
    "value_x_min = -0.25\n",
    "\n",
    "label_x = []\n",
    "label_y = list_unq_mouse\n",
    "label_gene = []\n",
    "label_region = []\n",
    "value_x = []\n",
    "value_y = []\n",
    "for value_x_tick, row_info in df_info.iterrows():\n",
    "    label_x.append(row_info['gene'])\n",
    "    row_enriched = df.loc[row_info['protein']]\n",
    "    for key, value in row_enriched.items():\n",
    "        if value == 1:\n",
    "            brain, mouse = str.split(key, sep='.')\n",
    "            value_x_shift = list_unq_brain.index(brain)\n",
    "            value_x_point = (value_x_tick + 1) + (value_x_min + value_x_step * value_x_shift)\n",
    "            value_x.append(value_x_point)\n",
    "            value_y.append(list_unq_mouse.index(mouse) + 1)\n",
    "            label_region.append(brain)\n",
    "            label_gene.append(row_info['gene'])\n",
    "\n",
    "df = pd.DataFrame({'x': value_x, 'mouse': value_y, 'region': label_region, 'gene': label_gene})\n",
    "\n",
    "label_y[label_y.index('Camk2a')] = 'CAMK2A'\n",
    "label_y[label_y.index('Syn1')] = 'SYN1'\n",
    "label_y[label_y.index('Gad2')] = 'GAD2'\n",
    "label_y[label_y.index('Dat1')] = 'DAT'\n",
    "\n",
    "\n",
    "\n",
    "fig = px.scatter(df, x='x', y='mouse', color='region', opacity=0.8,\n",
    "                 category_orders={'region': list_unq_brain},\n",
    "                 template='plotly_white',\n",
    "                 hover_name = 'gene',\n",
    "                 hover_data={'region':True,'x':False,'mouse':True})\n",
    "fig.update_traces(marker=dict(size=8))\n",
    "fig.update_layout(xaxis=dict(tickmode=\"array\", tickvals=np.arange(0, len(label_x)) + 1,\n",
    "                              ticktext=label_x),\n",
    "                  yaxis=dict(tickmode=\"array\", tickvals=np.arange(0, len(label_y)) + 1,\n",
    "                              ticktext=label_y),\n",
    "                 xaxis_title='gene',\n",
    "                 yaxis_title='mouse',\n",
    "                 )\n",
    "\n",
    "fig.show()"
   ]
  },
  {
   "cell_type": "code",
   "execution_count": null,
   "id": "fe893f95-e99c-4069-9e6c-3d2b89c2dce5",
   "metadata": {},
   "outputs": [],
   "source": []
  },
  {
   "cell_type": "code",
   "execution_count": null,
   "id": "8bff4eef-6261-44b6-80fb-5f7fbee13e93",
   "metadata": {},
   "outputs": [],
   "source": []
  }
 ],
 "metadata": {
  "kernelspec": {
   "display_name": "Python 3 (ipykernel)",
   "language": "python",
   "name": "python3"
  },
  "language_info": {
   "codemirror_mode": {
    "name": "ipython",
    "version": 3
   },
   "file_extension": ".py",
   "mimetype": "text/x-python",
   "name": "python",
   "nbconvert_exporter": "python",
   "pygments_lexer": "ipython3",
   "version": "3.11.3"
  }
 },
 "nbformat": 4,
 "nbformat_minor": 5
}
