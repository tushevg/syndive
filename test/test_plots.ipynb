{
 "cells": [
  {
   "cell_type": "code",
   "execution_count": 1,
   "id": "821b764f-3099-481c-ac77-da137994d09d",
   "metadata": {},
   "outputs": [],
   "source": [
    "import sqlite3\n",
    "import pandas as pd\n",
    "import numpy as np\n",
    "import plotly.express as px\n",
    "import random\n",
    "import re\n",
    "from plotly.subplots import make_subplots"
   ]
  },
  {
   "cell_type": "code",
   "execution_count": 3,
   "id": "e9a0e38a-2159-4631-a8b8-677dd6aa6915",
   "metadata": {
    "tags": []
   },
   "outputs": [],
   "source": [
    "import sys\n",
    "sys.path.append('../')\n",
    "import layouts.dbtools as db"
   ]
  },
  {
   "cell_type": "code",
   "execution_count": 4,
   "id": "8d1daedd-5998-4741-b312-9e5875d3e76f",
   "metadata": {
    "tags": []
   },
   "outputs": [],
   "source": [
    "### --- ALLOCATE DATA --- ###\n",
    "db_file = '../data/mpibr_synprot.db'\n",
    "query_list = ['Dlg4','Gad1', 'Gad2', \n",
    "               'Shank1', 'Slc17a7', 'Slc32a1', \n",
    "               'Slc6a3', 'Th', 'Camk2a']\n",
    "df_info = db.listToDataFrame(search_list=query_list, db_column='gene',\n",
    "                             db_table='info', db_file=db_file)\n",
    "df_enriched = db.listToDataFrame(search_list=df_info.index.to_list(), \n",
    "                                 db_column='protein', db_table='enriched', db_file=db_file)\n",
    "df_expressed = db.listToDataFrame(search_list=df_info.index.to_list(), \n",
    "                                  db_column='protein', db_table='expressed', db_file=db_file)"
   ]
  },
  {
   "cell_type": "code",
   "execution_count": 39,
   "id": "cce9fbc7-39d3-489b-9de6-0f1ac191bb50",
   "metadata": {
    "tags": []
   },
   "outputs": [
    {
     "name": "stdout",
     "output_type": "stream",
     "text": [
      "['Cortex', 'Cortical IN', 'Hippocampus', 'Striatum', 'Cerebellum', 'OlfactoryBulb']\n",
      "['Th', 'Gad2', 'Dlg4', 'Slc6a3', 'Gad1', 'Slc32a1', 'Camk2a', 'Shank1', 'Slc17a7']\n"
     ]
    },
    {
     "data": {
      "application/vnd.plotly.v1+json": {
       "config": {
        "plotlyServerURL": "https://plot.ly"
       },
       "data": [
        {
         "customdata": [
          [
           "OlfactoryBulb",
           "Camk2a-cre",
           "Gad2"
          ],
          [
           "Cortex",
           "Camk2a-cre",
           "Dlg4"
          ],
          [
           "Hippocampus",
           "Camk2a-cre",
           "Dlg4"
          ],
          [
           "Striatum",
           "Camk2a-cre",
           "Dlg4"
          ],
          [
           "OlfactoryBulb",
           "Camk2a-cre",
           "Dlg4"
          ],
          [
           "OlfactoryBulb",
           "Camk2a-cre",
           "Gad1"
          ],
          [
           "OlfactoryBulb",
           "Camk2a-cre",
           "Slc32a1"
          ],
          [
           "Cortex",
           "Camk2a-cre",
           "Camk2a"
          ],
          [
           "Hippocampus",
           "Camk2a-cre",
           "Camk2a"
          ],
          [
           "Striatum",
           "Camk2a-cre",
           "Camk2a"
          ],
          [
           "OlfactoryBulb",
           "Camk2a-cre",
           "Camk2a"
          ],
          [
           "Cortex",
           "Camk2a-cre",
           "Shank1"
          ],
          [
           "Hippocampus",
           "Camk2a-cre",
           "Shank1"
          ],
          [
           "OlfactoryBulb",
           "Camk2a-cre",
           "Shank1"
          ],
          [
           "Cortex",
           "Camk2a-cre",
           "Slc17a7"
          ],
          [
           "Hippocampus",
           "Camk2a-cre",
           "Slc17a7"
          ],
          [
           "Striatum",
           "Camk2a-cre",
           "Slc17a7"
          ],
          [
           "OlfactoryBulb",
           "Camk2a-cre",
           "Slc17a7"
          ]
         ],
         "hovertemplate": "<b>%{hovertext}</b><br><br>mouse line=%{customdata[1]}<br>y=%{y}<br>region=%{customdata[0]}<extra></extra>",
         "hovertext": [
          "Gad2",
          "Dlg4",
          "Dlg4",
          "Dlg4",
          "Dlg4",
          "Gad1",
          "Slc32a1",
          "Camk2a",
          "Camk2a",
          "Camk2a",
          "Camk2a",
          "Shank1",
          "Shank1",
          "Shank1",
          "Slc17a7",
          "Slc17a7",
          "Slc17a7",
          "Slc17a7"
         ],
         "legendgroup": "Camk2a-cre",
         "marker": {
          "color": "#1E90FF",
          "opacity": 0.8,
          "symbol": "circle"
         },
         "mode": "markers",
         "name": "Camk2a-cre",
         "orientation": "v",
         "showlegend": true,
         "type": "scatter",
         "x": [
          5.7,
          0.7,
          2.7,
          3.7,
          5.7,
          5.7,
          5.7,
          0.7,
          2.7,
          3.7,
          5.7,
          0.7,
          2.7,
          5.7,
          0.7,
          2.7,
          3.7,
          5.7
         ],
         "xaxis": "x",
         "y": [
          1,
          2,
          2,
          2,
          2,
          4,
          5,
          6,
          6,
          6,
          6,
          7,
          7,
          7,
          8,
          8,
          8,
          8
         ],
         "yaxis": "y"
        },
        {
         "customdata": [
          [
           "Striatum",
           "Dat1-cre",
           "Th"
          ],
          [
           "Striatum",
           "Dat1-cre",
           "Slc6a3"
          ]
         ],
         "hovertemplate": "<b>%{hovertext}</b><br><br>mouse line=%{customdata[1]}<br>y=%{y}<br>region=%{customdata[0]}<extra></extra>",
         "hovertext": [
          "Th",
          "Slc6a3"
         ],
         "legendgroup": "Dat1-cre",
         "marker": {
          "color": "#00BFFF",
          "opacity": 0.8,
          "symbol": "circle"
         },
         "mode": "markers",
         "name": "Dat1-cre",
         "orientation": "v",
         "showlegend": true,
         "type": "scatter",
         "x": [
          3.8,
          3.8
         ],
         "xaxis": "x",
         "y": [
          0,
          3
         ],
         "yaxis": "y"
        },
        {
         "customdata": [
          [
           "Hippocampus",
           "Syn1-cre",
           "Th"
          ],
          [
           "OlfactoryBulb",
           "Syn1-cre",
           "Th"
          ],
          [
           "Cortex",
           "Syn1-cre",
           "Gad2"
          ],
          [
           "Cerebellum",
           "Syn1-cre",
           "Gad2"
          ],
          [
           "OlfactoryBulb",
           "Syn1-cre",
           "Gad2"
          ],
          [
           "Hippocampus",
           "Syn1-cre",
           "Dlg4"
          ],
          [
           "Cortex",
           "Syn1-cre",
           "Dlg4"
          ],
          [
           "Striatum",
           "Syn1-cre",
           "Dlg4"
          ],
          [
           "Cerebellum",
           "Syn1-cre",
           "Dlg4"
          ],
          [
           "OlfactoryBulb",
           "Syn1-cre",
           "Dlg4"
          ],
          [
           "Hippocampus",
           "Syn1-cre",
           "Gad1"
          ],
          [
           "Cortex",
           "Syn1-cre",
           "Gad1"
          ],
          [
           "Cerebellum",
           "Syn1-cre",
           "Gad1"
          ],
          [
           "OlfactoryBulb",
           "Syn1-cre",
           "Gad1"
          ],
          [
           "Hippocampus",
           "Syn1-cre",
           "Slc32a1"
          ],
          [
           "Cortex",
           "Syn1-cre",
           "Slc32a1"
          ],
          [
           "Cerebellum",
           "Syn1-cre",
           "Slc32a1"
          ],
          [
           "OlfactoryBulb",
           "Syn1-cre",
           "Slc32a1"
          ],
          [
           "Hippocampus",
           "Syn1-cre",
           "Camk2a"
          ],
          [
           "Cortex",
           "Syn1-cre",
           "Camk2a"
          ],
          [
           "Striatum",
           "Syn1-cre",
           "Camk2a"
          ],
          [
           "Cerebellum",
           "Syn1-cre",
           "Camk2a"
          ],
          [
           "OlfactoryBulb",
           "Syn1-cre",
           "Camk2a"
          ],
          [
           "Hippocampus",
           "Syn1-cre",
           "Shank1"
          ],
          [
           "Cortex",
           "Syn1-cre",
           "Shank1"
          ],
          [
           "OlfactoryBulb",
           "Syn1-cre",
           "Shank1"
          ],
          [
           "Cortex",
           "Syn1-cre",
           "Slc17a7"
          ],
          [
           "Striatum",
           "Syn1-cre",
           "Slc17a7"
          ],
          [
           "OlfactoryBulb",
           "Syn1-cre",
           "Slc17a7"
          ]
         ],
         "hovertemplate": "<b>%{hovertext}</b><br><br>mouse line=%{customdata[1]}<br>y=%{y}<br>region=%{customdata[0]}<extra></extra>",
         "hovertext": [
          "Th",
          "Th",
          "Gad2",
          "Gad2",
          "Gad2",
          "Dlg4",
          "Dlg4",
          "Dlg4",
          "Dlg4",
          "Dlg4",
          "Gad1",
          "Gad1",
          "Gad1",
          "Gad1",
          "Slc32a1",
          "Slc32a1",
          "Slc32a1",
          "Slc32a1",
          "Camk2a",
          "Camk2a",
          "Camk2a",
          "Camk2a",
          "Camk2a",
          "Shank1",
          "Shank1",
          "Shank1",
          "Slc17a7",
          "Slc17a7",
          "Slc17a7"
         ],
         "legendgroup": "Syn1-cre",
         "marker": {
          "color": "#32CD32",
          "opacity": 0.8,
          "symbol": "circle"
         },
         "mode": "markers",
         "name": "Syn1-cre",
         "orientation": "v",
         "showlegend": true,
         "type": "scatter",
         "x": [
          2.9,
          5.9,
          0.9,
          4.9,
          5.9,
          2.9,
          0.9,
          3.9,
          4.9,
          5.9,
          2.9,
          0.9,
          4.9,
          5.9,
          2.9,
          0.9,
          4.9,
          5.9,
          2.9,
          0.9,
          3.9,
          4.9,
          5.9,
          2.9,
          0.9,
          5.9,
          0.9,
          3.9,
          5.9
         ],
         "xaxis": "x",
         "y": [
          0,
          0,
          1,
          1,
          1,
          2,
          2,
          2,
          2,
          2,
          4,
          4,
          4,
          4,
          5,
          5,
          5,
          5,
          6,
          6,
          6,
          6,
          6,
          7,
          7,
          7,
          8,
          8,
          8
         ],
         "yaxis": "y"
        },
        {
         "customdata": [
          [
           "OlfactoryBulb",
           "Gad2-cre",
           "Th"
          ],
          [
           "CorticalInterneurons",
           "Gad2-cre",
           "Gad2"
          ],
          [
           "Cortex",
           "Gad2-cre",
           "Gad2"
          ],
          [
           "Hippocampus",
           "Gad2-cre",
           "Gad2"
          ],
          [
           "Cerebellum",
           "Gad2-cre",
           "Gad2"
          ],
          [
           "OlfactoryBulb",
           "Gad2-cre",
           "Gad2"
          ],
          [
           "Striatum",
           "Gad2-cre",
           "Gad2"
          ],
          [
           "Cerebellum",
           "Gad2-cre",
           "Dlg4"
          ],
          [
           "Striatum",
           "Gad2-cre",
           "Dlg4"
          ],
          [
           "Cortex",
           "Gad2-cre",
           "Slc6a3"
          ],
          [
           "CorticalInterneurons",
           "Gad2-cre",
           "Gad1"
          ],
          [
           "Cortex",
           "Gad2-cre",
           "Gad1"
          ],
          [
           "Hippocampus",
           "Gad2-cre",
           "Gad1"
          ],
          [
           "Cerebellum",
           "Gad2-cre",
           "Gad1"
          ],
          [
           "OlfactoryBulb",
           "Gad2-cre",
           "Gad1"
          ],
          [
           "Striatum",
           "Gad2-cre",
           "Gad1"
          ],
          [
           "CorticalInterneurons",
           "Gad2-cre",
           "Slc32a1"
          ],
          [
           "Cortex",
           "Gad2-cre",
           "Slc32a1"
          ],
          [
           "Hippocampus",
           "Gad2-cre",
           "Slc32a1"
          ],
          [
           "Cerebellum",
           "Gad2-cre",
           "Slc32a1"
          ],
          [
           "OlfactoryBulb",
           "Gad2-cre",
           "Slc32a1"
          ],
          [
           "Striatum",
           "Gad2-cre",
           "Slc32a1"
          ],
          [
           "Cerebellum",
           "Gad2-cre",
           "Camk2a"
          ],
          [
           "Striatum",
           "Gad2-cre",
           "Shank1"
          ]
         ],
         "hovertemplate": "<b>%{hovertext}</b><br><br>mouse line=%{customdata[1]}<br>y=%{y}<br>region=%{customdata[0]}<extra></extra>",
         "hovertext": [
          "Th",
          "Gad2",
          "Gad2",
          "Gad2",
          "Gad2",
          "Gad2",
          "Gad2",
          "Dlg4",
          "Dlg4",
          "Slc6a3",
          "Gad1",
          "Gad1",
          "Gad1",
          "Gad1",
          "Gad1",
          "Gad1",
          "Slc32a1",
          "Slc32a1",
          "Slc32a1",
          "Slc32a1",
          "Slc32a1",
          "Slc32a1",
          "Camk2a",
          "Shank1"
         ],
         "legendgroup": "Gad2-cre",
         "marker": {
          "color": "#FF6347",
          "opacity": 0.8,
          "symbol": "circle"
         },
         "mode": "markers",
         "name": "Gad2-cre",
         "orientation": "v",
         "showlegend": true,
         "type": "scatter",
         "x": [
          6,
          2,
          1,
          3,
          5,
          6,
          4,
          5,
          4,
          1,
          2,
          1,
          3,
          5,
          6,
          4,
          2,
          1,
          3,
          5,
          6,
          4,
          5,
          4
         ],
         "xaxis": "x",
         "y": [
          0,
          1,
          1,
          1,
          1,
          1,
          1,
          2,
          2,
          3,
          4,
          4,
          4,
          4,
          4,
          4,
          5,
          5,
          5,
          5,
          5,
          5,
          6,
          7
         ],
         "yaxis": "y"
        },
        {
         "customdata": [
          [
           "CorticalInterneurons",
           "PV-cre",
           "Gad2"
          ],
          [
           "CorticalInterneurons",
           "PV-cre",
           "Gad1"
          ],
          [
           "CorticalInterneurons",
           "PV-cre",
           "Slc32a1"
          ]
         ],
         "hovertemplate": "<b>%{hovertext}</b><br><br>mouse line=%{customdata[1]}<br>y=%{y}<br>region=%{customdata[0]}<extra></extra>",
         "hovertext": [
          "Gad2",
          "Gad1",
          "Slc32a1"
         ],
         "legendgroup": "PV-cre",
         "marker": {
          "color": "#9400D3",
          "opacity": 0.8,
          "symbol": "circle"
         },
         "mode": "markers",
         "name": "PV-cre",
         "orientation": "v",
         "showlegend": true,
         "type": "scatter",
         "x": [
          2.1,
          2.1,
          2.1
         ],
         "xaxis": "x",
         "y": [
          1,
          4,
          5
         ],
         "yaxis": "y"
        },
        {
         "customdata": [
          [
           "CorticalInterneurons",
           "SST-cre",
           "Gad2"
          ],
          [
           "CorticalInterneurons",
           "SST-cre",
           "Gad1"
          ],
          [
           "CorticalInterneurons",
           "SST-cre",
           "Slc32a1"
          ]
         ],
         "hovertemplate": "<b>%{hovertext}</b><br><br>mouse line=%{customdata[1]}<br>y=%{y}<br>region=%{customdata[0]}<extra></extra>",
         "hovertext": [
          "Gad2",
          "Gad1",
          "Slc32a1"
         ],
         "legendgroup": "SST-cre",
         "marker": {
          "color": "#FFD700",
          "opacity": 0.8,
          "symbol": "circle"
         },
         "mode": "markers",
         "name": "SST-cre",
         "orientation": "v",
         "showlegend": true,
         "type": "scatter",
         "x": [
          2.2,
          2.2,
          2.2
         ],
         "xaxis": "x",
         "y": [
          1,
          4,
          5
         ],
         "yaxis": "y"
        },
        {
         "customdata": [
          [
           "CorticalInterneurons",
           "VIP-cre",
           "Gad2"
          ],
          [
           "CorticalInterneurons",
           "VIP-cre",
           "Gad1"
          ],
          [
           "CorticalInterneurons",
           "VIP-cre",
           "Slc32a1"
          ]
         ],
         "hovertemplate": "<b>%{hovertext}</b><br><br>mouse line=%{customdata[1]}<br>y=%{y}<br>region=%{customdata[0]}<extra></extra>",
         "hovertext": [
          "Gad2",
          "Gad1",
          "Slc32a1"
         ],
         "legendgroup": "VIP-cre",
         "marker": {
          "color": "#FFA500",
          "opacity": 0.8,
          "symbol": "circle"
         },
         "mode": "markers",
         "name": "VIP-cre",
         "orientation": "v",
         "showlegend": true,
         "type": "scatter",
         "x": [
          2.3000000000000003,
          2.3000000000000003,
          2.3000000000000003
         ],
         "xaxis": "x",
         "y": [
          1,
          4,
          5
         ],
         "yaxis": "y"
        }
       ],
       "layout": {
        "autosize": true,
        "legend": {
         "title": {
          "text": "mouse line"
         },
         "tracegroupgap": 0
        },
        "shapes": [
         {
          "line": {
           "color": "grey",
           "width": 0.5
          },
          "type": "line",
          "x0": 0.5,
          "x1": 0.5,
          "xref": "x",
          "y0": 0,
          "y1": 1,
          "yref": "y domain"
         },
         {
          "line": {
           "color": "grey",
           "width": 0.5
          },
          "type": "line",
          "x0": 1.5,
          "x1": 1.5,
          "xref": "x",
          "y0": 0,
          "y1": 1,
          "yref": "y domain"
         },
         {
          "line": {
           "color": "grey",
           "width": 0.5
          },
          "type": "line",
          "x0": 2.5,
          "x1": 2.5,
          "xref": "x",
          "y0": 0,
          "y1": 1,
          "yref": "y domain"
         },
         {
          "line": {
           "color": "grey",
           "width": 0.5
          },
          "type": "line",
          "x0": 3.5,
          "x1": 3.5,
          "xref": "x",
          "y0": 0,
          "y1": 1,
          "yref": "y domain"
         },
         {
          "line": {
           "color": "grey",
           "width": 0.5
          },
          "type": "line",
          "x0": 4.5,
          "x1": 4.5,
          "xref": "x",
          "y0": 0,
          "y1": 1,
          "yref": "y domain"
         },
         {
          "line": {
           "color": "grey",
           "width": 0.5
          },
          "type": "line",
          "x0": 5.5,
          "x1": 5.5,
          "xref": "x",
          "y0": 0,
          "y1": 1,
          "yref": "y domain"
         },
         {
          "line": {
           "color": "grey",
           "width": 0.5
          },
          "type": "line",
          "x0": 6.5,
          "x1": 6.5,
          "xref": "x",
          "y0": 0,
          "y1": 1,
          "yref": "y domain"
         }
        ],
        "template": {
         "data": {
          "bar": [
           {
            "error_x": {
             "color": "#2a3f5f"
            },
            "error_y": {
             "color": "#2a3f5f"
            },
            "marker": {
             "line": {
              "color": "white",
              "width": 0.5
             },
             "pattern": {
              "fillmode": "overlay",
              "size": 10,
              "solidity": 0.2
             }
            },
            "type": "bar"
           }
          ],
          "barpolar": [
           {
            "marker": {
             "line": {
              "color": "white",
              "width": 0.5
             },
             "pattern": {
              "fillmode": "overlay",
              "size": 10,
              "solidity": 0.2
             }
            },
            "type": "barpolar"
           }
          ],
          "carpet": [
           {
            "aaxis": {
             "endlinecolor": "#2a3f5f",
             "gridcolor": "#C8D4E3",
             "linecolor": "#C8D4E3",
             "minorgridcolor": "#C8D4E3",
             "startlinecolor": "#2a3f5f"
            },
            "baxis": {
             "endlinecolor": "#2a3f5f",
             "gridcolor": "#C8D4E3",
             "linecolor": "#C8D4E3",
             "minorgridcolor": "#C8D4E3",
             "startlinecolor": "#2a3f5f"
            },
            "type": "carpet"
           }
          ],
          "choropleth": [
           {
            "colorbar": {
             "outlinewidth": 0,
             "ticks": ""
            },
            "type": "choropleth"
           }
          ],
          "contour": [
           {
            "colorbar": {
             "outlinewidth": 0,
             "ticks": ""
            },
            "colorscale": [
             [
              0,
              "#0d0887"
             ],
             [
              0.1111111111111111,
              "#46039f"
             ],
             [
              0.2222222222222222,
              "#7201a8"
             ],
             [
              0.3333333333333333,
              "#9c179e"
             ],
             [
              0.4444444444444444,
              "#bd3786"
             ],
             [
              0.5555555555555556,
              "#d8576b"
             ],
             [
              0.6666666666666666,
              "#ed7953"
             ],
             [
              0.7777777777777778,
              "#fb9f3a"
             ],
             [
              0.8888888888888888,
              "#fdca26"
             ],
             [
              1,
              "#f0f921"
             ]
            ],
            "type": "contour"
           }
          ],
          "contourcarpet": [
           {
            "colorbar": {
             "outlinewidth": 0,
             "ticks": ""
            },
            "type": "contourcarpet"
           }
          ],
          "heatmap": [
           {
            "colorbar": {
             "outlinewidth": 0,
             "ticks": ""
            },
            "colorscale": [
             [
              0,
              "#0d0887"
             ],
             [
              0.1111111111111111,
              "#46039f"
             ],
             [
              0.2222222222222222,
              "#7201a8"
             ],
             [
              0.3333333333333333,
              "#9c179e"
             ],
             [
              0.4444444444444444,
              "#bd3786"
             ],
             [
              0.5555555555555556,
              "#d8576b"
             ],
             [
              0.6666666666666666,
              "#ed7953"
             ],
             [
              0.7777777777777778,
              "#fb9f3a"
             ],
             [
              0.8888888888888888,
              "#fdca26"
             ],
             [
              1,
              "#f0f921"
             ]
            ],
            "type": "heatmap"
           }
          ],
          "heatmapgl": [
           {
            "colorbar": {
             "outlinewidth": 0,
             "ticks": ""
            },
            "colorscale": [
             [
              0,
              "#0d0887"
             ],
             [
              0.1111111111111111,
              "#46039f"
             ],
             [
              0.2222222222222222,
              "#7201a8"
             ],
             [
              0.3333333333333333,
              "#9c179e"
             ],
             [
              0.4444444444444444,
              "#bd3786"
             ],
             [
              0.5555555555555556,
              "#d8576b"
             ],
             [
              0.6666666666666666,
              "#ed7953"
             ],
             [
              0.7777777777777778,
              "#fb9f3a"
             ],
             [
              0.8888888888888888,
              "#fdca26"
             ],
             [
              1,
              "#f0f921"
             ]
            ],
            "type": "heatmapgl"
           }
          ],
          "histogram": [
           {
            "marker": {
             "pattern": {
              "fillmode": "overlay",
              "size": 10,
              "solidity": 0.2
             }
            },
            "type": "histogram"
           }
          ],
          "histogram2d": [
           {
            "colorbar": {
             "outlinewidth": 0,
             "ticks": ""
            },
            "colorscale": [
             [
              0,
              "#0d0887"
             ],
             [
              0.1111111111111111,
              "#46039f"
             ],
             [
              0.2222222222222222,
              "#7201a8"
             ],
             [
              0.3333333333333333,
              "#9c179e"
             ],
             [
              0.4444444444444444,
              "#bd3786"
             ],
             [
              0.5555555555555556,
              "#d8576b"
             ],
             [
              0.6666666666666666,
              "#ed7953"
             ],
             [
              0.7777777777777778,
              "#fb9f3a"
             ],
             [
              0.8888888888888888,
              "#fdca26"
             ],
             [
              1,
              "#f0f921"
             ]
            ],
            "type": "histogram2d"
           }
          ],
          "histogram2dcontour": [
           {
            "colorbar": {
             "outlinewidth": 0,
             "ticks": ""
            },
            "colorscale": [
             [
              0,
              "#0d0887"
             ],
             [
              0.1111111111111111,
              "#46039f"
             ],
             [
              0.2222222222222222,
              "#7201a8"
             ],
             [
              0.3333333333333333,
              "#9c179e"
             ],
             [
              0.4444444444444444,
              "#bd3786"
             ],
             [
              0.5555555555555556,
              "#d8576b"
             ],
             [
              0.6666666666666666,
              "#ed7953"
             ],
             [
              0.7777777777777778,
              "#fb9f3a"
             ],
             [
              0.8888888888888888,
              "#fdca26"
             ],
             [
              1,
              "#f0f921"
             ]
            ],
            "type": "histogram2dcontour"
           }
          ],
          "mesh3d": [
           {
            "colorbar": {
             "outlinewidth": 0,
             "ticks": ""
            },
            "type": "mesh3d"
           }
          ],
          "parcoords": [
           {
            "line": {
             "colorbar": {
              "outlinewidth": 0,
              "ticks": ""
             }
            },
            "type": "parcoords"
           }
          ],
          "pie": [
           {
            "automargin": true,
            "type": "pie"
           }
          ],
          "scatter": [
           {
            "fillpattern": {
             "fillmode": "overlay",
             "size": 10,
             "solidity": 0.2
            },
            "type": "scatter"
           }
          ],
          "scatter3d": [
           {
            "line": {
             "colorbar": {
              "outlinewidth": 0,
              "ticks": ""
             }
            },
            "marker": {
             "colorbar": {
              "outlinewidth": 0,
              "ticks": ""
             }
            },
            "type": "scatter3d"
           }
          ],
          "scattercarpet": [
           {
            "marker": {
             "colorbar": {
              "outlinewidth": 0,
              "ticks": ""
             }
            },
            "type": "scattercarpet"
           }
          ],
          "scattergeo": [
           {
            "marker": {
             "colorbar": {
              "outlinewidth": 0,
              "ticks": ""
             }
            },
            "type": "scattergeo"
           }
          ],
          "scattergl": [
           {
            "marker": {
             "colorbar": {
              "outlinewidth": 0,
              "ticks": ""
             }
            },
            "type": "scattergl"
           }
          ],
          "scattermapbox": [
           {
            "marker": {
             "colorbar": {
              "outlinewidth": 0,
              "ticks": ""
             }
            },
            "type": "scattermapbox"
           }
          ],
          "scatterpolar": [
           {
            "marker": {
             "colorbar": {
              "outlinewidth": 0,
              "ticks": ""
             }
            },
            "type": "scatterpolar"
           }
          ],
          "scatterpolargl": [
           {
            "marker": {
             "colorbar": {
              "outlinewidth": 0,
              "ticks": ""
             }
            },
            "type": "scatterpolargl"
           }
          ],
          "scatterternary": [
           {
            "marker": {
             "colorbar": {
              "outlinewidth": 0,
              "ticks": ""
             }
            },
            "type": "scatterternary"
           }
          ],
          "surface": [
           {
            "colorbar": {
             "outlinewidth": 0,
             "ticks": ""
            },
            "colorscale": [
             [
              0,
              "#0d0887"
             ],
             [
              0.1111111111111111,
              "#46039f"
             ],
             [
              0.2222222222222222,
              "#7201a8"
             ],
             [
              0.3333333333333333,
              "#9c179e"
             ],
             [
              0.4444444444444444,
              "#bd3786"
             ],
             [
              0.5555555555555556,
              "#d8576b"
             ],
             [
              0.6666666666666666,
              "#ed7953"
             ],
             [
              0.7777777777777778,
              "#fb9f3a"
             ],
             [
              0.8888888888888888,
              "#fdca26"
             ],
             [
              1,
              "#f0f921"
             ]
            ],
            "type": "surface"
           }
          ],
          "table": [
           {
            "cells": {
             "fill": {
              "color": "#EBF0F8"
             },
             "line": {
              "color": "white"
             }
            },
            "header": {
             "fill": {
              "color": "#C8D4E3"
             },
             "line": {
              "color": "white"
             }
            },
            "type": "table"
           }
          ]
         },
         "layout": {
          "annotationdefaults": {
           "arrowcolor": "#2a3f5f",
           "arrowhead": 0,
           "arrowwidth": 1
          },
          "autotypenumbers": "strict",
          "coloraxis": {
           "colorbar": {
            "outlinewidth": 0,
            "ticks": ""
           }
          },
          "colorscale": {
           "diverging": [
            [
             0,
             "#8e0152"
            ],
            [
             0.1,
             "#c51b7d"
            ],
            [
             0.2,
             "#de77ae"
            ],
            [
             0.3,
             "#f1b6da"
            ],
            [
             0.4,
             "#fde0ef"
            ],
            [
             0.5,
             "#f7f7f7"
            ],
            [
             0.6,
             "#e6f5d0"
            ],
            [
             0.7,
             "#b8e186"
            ],
            [
             0.8,
             "#7fbc41"
            ],
            [
             0.9,
             "#4d9221"
            ],
            [
             1,
             "#276419"
            ]
           ],
           "sequential": [
            [
             0,
             "#0d0887"
            ],
            [
             0.1111111111111111,
             "#46039f"
            ],
            [
             0.2222222222222222,
             "#7201a8"
            ],
            [
             0.3333333333333333,
             "#9c179e"
            ],
            [
             0.4444444444444444,
             "#bd3786"
            ],
            [
             0.5555555555555556,
             "#d8576b"
            ],
            [
             0.6666666666666666,
             "#ed7953"
            ],
            [
             0.7777777777777778,
             "#fb9f3a"
            ],
            [
             0.8888888888888888,
             "#fdca26"
            ],
            [
             1,
             "#f0f921"
            ]
           ],
           "sequentialminus": [
            [
             0,
             "#0d0887"
            ],
            [
             0.1111111111111111,
             "#46039f"
            ],
            [
             0.2222222222222222,
             "#7201a8"
            ],
            [
             0.3333333333333333,
             "#9c179e"
            ],
            [
             0.4444444444444444,
             "#bd3786"
            ],
            [
             0.5555555555555556,
             "#d8576b"
            ],
            [
             0.6666666666666666,
             "#ed7953"
            ],
            [
             0.7777777777777778,
             "#fb9f3a"
            ],
            [
             0.8888888888888888,
             "#fdca26"
            ],
            [
             1,
             "#f0f921"
            ]
           ]
          },
          "colorway": [
           "#636efa",
           "#EF553B",
           "#00cc96",
           "#ab63fa",
           "#FFA15A",
           "#19d3f3",
           "#FF6692",
           "#B6E880",
           "#FF97FF",
           "#FECB52"
          ],
          "font": {
           "color": "#2a3f5f"
          },
          "geo": {
           "bgcolor": "white",
           "lakecolor": "white",
           "landcolor": "white",
           "showlakes": true,
           "showland": true,
           "subunitcolor": "#C8D4E3"
          },
          "hoverlabel": {
           "align": "left"
          },
          "hovermode": "closest",
          "mapbox": {
           "style": "light"
          },
          "paper_bgcolor": "white",
          "plot_bgcolor": "white",
          "polar": {
           "angularaxis": {
            "gridcolor": "#EBF0F8",
            "linecolor": "#EBF0F8",
            "ticks": ""
           },
           "bgcolor": "white",
           "radialaxis": {
            "gridcolor": "#EBF0F8",
            "linecolor": "#EBF0F8",
            "ticks": ""
           }
          },
          "scene": {
           "xaxis": {
            "backgroundcolor": "white",
            "gridcolor": "#DFE8F3",
            "gridwidth": 2,
            "linecolor": "#EBF0F8",
            "showbackground": true,
            "ticks": "",
            "zerolinecolor": "#EBF0F8"
           },
           "yaxis": {
            "backgroundcolor": "white",
            "gridcolor": "#DFE8F3",
            "gridwidth": 2,
            "linecolor": "#EBF0F8",
            "showbackground": true,
            "ticks": "",
            "zerolinecolor": "#EBF0F8"
           },
           "zaxis": {
            "backgroundcolor": "white",
            "gridcolor": "#DFE8F3",
            "gridwidth": 2,
            "linecolor": "#EBF0F8",
            "showbackground": true,
            "ticks": "",
            "zerolinecolor": "#EBF0F8"
           }
          },
          "shapedefaults": {
           "line": {
            "color": "#2a3f5f"
           }
          },
          "ternary": {
           "aaxis": {
            "gridcolor": "#DFE8F3",
            "linecolor": "#A2B1C6",
            "ticks": ""
           },
           "baxis": {
            "gridcolor": "#DFE8F3",
            "linecolor": "#A2B1C6",
            "ticks": ""
           },
           "bgcolor": "white",
           "caxis": {
            "gridcolor": "#DFE8F3",
            "linecolor": "#A2B1C6",
            "ticks": ""
           }
          },
          "title": {
           "x": 0.05
          },
          "xaxis": {
           "automargin": true,
           "gridcolor": "#EBF0F8",
           "linecolor": "#EBF0F8",
           "ticks": "",
           "title": {
            "standoff": 15
           },
           "zerolinecolor": "#EBF0F8",
           "zerolinewidth": 2
          },
          "yaxis": {
           "automargin": true,
           "gridcolor": "#EBF0F8",
           "linecolor": "#EBF0F8",
           "ticks": "",
           "title": {
            "standoff": 15
           },
           "zerolinecolor": "#EBF0F8",
           "zerolinewidth": 2
          }
         }
        },
        "title": {
         "text": "Enrichment"
        },
        "xaxis": {
         "anchor": "y",
         "domain": [
          0,
          1
         ],
         "range": [
          0.3,
          6.7
         ],
         "tickmode": "array",
         "ticktext": [
          "Cortex",
          "Cortical IN",
          "Hippocampus",
          "Striatum",
          "Cerebellum",
          "OlfactoryBulb"
         ],
         "tickvals": [
          1,
          2,
          3,
          4,
          5,
          6
         ],
         "title": {
          "text": ""
         },
         "type": "linear"
        },
        "yaxis": {
         "anchor": "x",
         "domain": [
          0,
          1
         ],
         "range": [
          -0.5,
          8.5
         ],
         "tickmode": "array",
         "ticktext": [
          "Th",
          "Gad2",
          "Dlg4",
          "Slc6a3",
          "Gad1",
          "Slc32a1",
          "Camk2a",
          "Shank1",
          "Slc17a7"
         ],
         "tickvals": [
          0,
          1,
          2,
          3,
          4,
          5,
          6,
          7,
          8
         ],
         "title": {
          "text": "gene"
         },
         "type": "linear"
        }
       }
      },
      "image/png": "[encoded data removed]",
      "text/html": [
       "<div>                            <div id=\"26ea144d-7b1a-4e3b-9df5-d840812e9aa1\" class=\"plotly-graph-div\" style=\"height:525px; width:100%;\"></div>            <script type=\"text/javascript\">                require([\"plotly\"], function(Plotly) {                    window.PLOTLYENV=window.PLOTLYENV || {};                                    if (document.getElementById(\"26ea144d-7b1a-4e3b-9df5-d840812e9aa1\")) {                    Plotly.newPlot(                        \"26ea144d-7b1a-4e3b-9df5-d840812e9aa1\",                        [{\"customdata\":[[\"OlfactoryBulb\",\"Camk2a-cre\",\"Gad2\"],[\"Cortex\",\"Camk2a-cre\",\"Dlg4\"],[\"Hippocampus\",\"Camk2a-cre\",\"Dlg4\"],[\"Striatum\",\"Camk2a-cre\",\"Dlg4\"],[\"OlfactoryBulb\",\"Camk2a-cre\",\"Dlg4\"],[\"OlfactoryBulb\",\"Camk2a-cre\",\"Gad1\"],[\"OlfactoryBulb\",\"Camk2a-cre\",\"Slc32a1\"],[\"Cortex\",\"Camk2a-cre\",\"Camk2a\"],[\"Hippocampus\",\"Camk2a-cre\",\"Camk2a\"],[\"Striatum\",\"Camk2a-cre\",\"Camk2a\"],[\"OlfactoryBulb\",\"Camk2a-cre\",\"Camk2a\"],[\"Cortex\",\"Camk2a-cre\",\"Shank1\"],[\"Hippocampus\",\"Camk2a-cre\",\"Shank1\"],[\"OlfactoryBulb\",\"Camk2a-cre\",\"Shank1\"],[\"Cortex\",\"Camk2a-cre\",\"Slc17a7\"],[\"Hippocampus\",\"Camk2a-cre\",\"Slc17a7\"],[\"Striatum\",\"Camk2a-cre\",\"Slc17a7\"],[\"OlfactoryBulb\",\"Camk2a-cre\",\"Slc17a7\"]],\"hovertemplate\":\"<b>%{hovertext}</b><br><br>mouse line=%{customdata[1]}<br>y=%{y}<br>region=%{customdata[0]}<extra></extra>\",\"hovertext\":[\"Gad2\",\"Dlg4\",\"Dlg4\",\"Dlg4\",\"Dlg4\",\"Gad1\",\"Slc32a1\",\"Camk2a\",\"Camk2a\",\"Camk2a\",\"Camk2a\",\"Shank1\",\"Shank1\",\"Shank1\",\"Slc17a7\",\"Slc17a7\",\"Slc17a7\",\"Slc17a7\"],\"legendgroup\":\"Camk2a-cre\",\"marker\":{\"color\":\"#1E90FF\",\"opacity\":0.8,\"symbol\":\"circle\"},\"mode\":\"markers\",\"name\":\"Camk2a-cre\",\"orientation\":\"v\",\"showlegend\":true,\"x\":[5.7,0.7,2.7,3.7,5.7,5.7,5.7,0.7,2.7,3.7,5.7,0.7,2.7,5.7,0.7,2.7,3.7,5.7],\"xaxis\":\"x\",\"y\":[1,2,2,2,2,4,5,6,6,6,6,7,7,7,8,8,8,8],\"yaxis\":\"y\",\"type\":\"scatter\"},{\"customdata\":[[\"Striatum\",\"Dat1-cre\",\"Th\"],[\"Striatum\",\"Dat1-cre\",\"Slc6a3\"]],\"hovertemplate\":\"<b>%{hovertext}</b><br><br>mouse line=%{customdata[1]}<br>y=%{y}<br>region=%{customdata[0]}<extra></extra>\",\"hovertext\":[\"Th\",\"Slc6a3\"],\"legendgroup\":\"Dat1-cre\",\"marker\":{\"color\":\"#00BFFF\",\"opacity\":0.8,\"symbol\":\"circle\"},\"mode\":\"markers\",\"name\":\"Dat1-cre\",\"orientation\":\"v\",\"showlegend\":true,\"x\":[3.8,3.8],\"xaxis\":\"x\",\"y\":[0,3],\"yaxis\":\"y\",\"type\":\"scatter\"},{\"customdata\":[[\"Hippocampus\",\"Syn1-cre\",\"Th\"],[\"OlfactoryBulb\",\"Syn1-cre\",\"Th\"],[\"Cortex\",\"Syn1-cre\",\"Gad2\"],[\"Cerebellum\",\"Syn1-cre\",\"Gad2\"],[\"OlfactoryBulb\",\"Syn1-cre\",\"Gad2\"],[\"Hippocampus\",\"Syn1-cre\",\"Dlg4\"],[\"Cortex\",\"Syn1-cre\",\"Dlg4\"],[\"Striatum\",\"Syn1-cre\",\"Dlg4\"],[\"Cerebellum\",\"Syn1-cre\",\"Dlg4\"],[\"OlfactoryBulb\",\"Syn1-cre\",\"Dlg4\"],[\"Hippocampus\",\"Syn1-cre\",\"Gad1\"],[\"Cortex\",\"Syn1-cre\",\"Gad1\"],[\"Cerebellum\",\"Syn1-cre\",\"Gad1\"],[\"OlfactoryBulb\",\"Syn1-cre\",\"Gad1\"],[\"Hippocampus\",\"Syn1-cre\",\"Slc32a1\"],[\"Cortex\",\"Syn1-cre\",\"Slc32a1\"],[\"Cerebellum\",\"Syn1-cre\",\"Slc32a1\"],[\"OlfactoryBulb\",\"Syn1-cre\",\"Slc32a1\"],[\"Hippocampus\",\"Syn1-cre\",\"Camk2a\"],[\"Cortex\",\"Syn1-cre\",\"Camk2a\"],[\"Striatum\",\"Syn1-cre\",\"Camk2a\"],[\"Cerebellum\",\"Syn1-cre\",\"Camk2a\"],[\"OlfactoryBulb\",\"Syn1-cre\",\"Camk2a\"],[\"Hippocampus\",\"Syn1-cre\",\"Shank1\"],[\"Cortex\",\"Syn1-cre\",\"Shank1\"],[\"OlfactoryBulb\",\"Syn1-cre\",\"Shank1\"],[\"Cortex\",\"Syn1-cre\",\"Slc17a7\"],[\"Striatum\",\"Syn1-cre\",\"Slc17a7\"],[\"OlfactoryBulb\",\"Syn1-cre\",\"Slc17a7\"]],\"hovertemplate\":\"<b>%{hovertext}</b><br><br>mouse line=%{customdata[1]}<br>y=%{y}<br>region=%{customdata[0]}<extra></extra>\",\"hovertext\":[\"Th\",\"Th\",\"Gad2\",\"Gad2\",\"Gad2\",\"Dlg4\",\"Dlg4\",\"Dlg4\",\"Dlg4\",\"Dlg4\",\"Gad1\",\"Gad1\",\"Gad1\",\"Gad1\",\"Slc32a1\",\"Slc32a1\",\"Slc32a1\",\"Slc32a1\",\"Camk2a\",\"Camk2a\",\"Camk2a\",\"Camk2a\",\"Camk2a\",\"Shank1\",\"Shank1\",\"Shank1\",\"Slc17a7\",\"Slc17a7\",\"Slc17a7\"],\"legendgroup\":\"Syn1-cre\",\"marker\":{\"color\":\"#32CD32\",\"opacity\":0.8,\"symbol\":\"circle\"},\"mode\":\"markers\",\"name\":\"Syn1-cre\",\"orientation\":\"v\",\"showlegend\":true,\"x\":[2.9,5.9,0.9,4.9,5.9,2.9,0.9,3.9,4.9,5.9,2.9,0.9,4.9,5.9,2.9,0.9,4.9,5.9,2.9,0.9,3.9,4.9,5.9,2.9,0.9,5.9,0.9,3.9,5.9],\"xaxis\":\"x\",\"y\":[0,0,1,1,1,2,2,2,2,2,4,4,4,4,5,5,5,5,6,6,6,6,6,7,7,7,8,8,8],\"yaxis\":\"y\",\"type\":\"scatter\"},{\"customdata\":[[\"OlfactoryBulb\",\"Gad2-cre\",\"Th\"],[\"CorticalInterneurons\",\"Gad2-cre\",\"Gad2\"],[\"Cortex\",\"Gad2-cre\",\"Gad2\"],[\"Hippocampus\",\"Gad2-cre\",\"Gad2\"],[\"Cerebellum\",\"Gad2-cre\",\"Gad2\"],[\"OlfactoryBulb\",\"Gad2-cre\",\"Gad2\"],[\"Striatum\",\"Gad2-cre\",\"Gad2\"],[\"Cerebellum\",\"Gad2-cre\",\"Dlg4\"],[\"Striatum\",\"Gad2-cre\",\"Dlg4\"],[\"Cortex\",\"Gad2-cre\",\"Slc6a3\"],[\"CorticalInterneurons\",\"Gad2-cre\",\"Gad1\"],[\"Cortex\",\"Gad2-cre\",\"Gad1\"],[\"Hippocampus\",\"Gad2-cre\",\"Gad1\"],[\"Cerebellum\",\"Gad2-cre\",\"Gad1\"],[\"OlfactoryBulb\",\"Gad2-cre\",\"Gad1\"],[\"Striatum\",\"Gad2-cre\",\"Gad1\"],[\"CorticalInterneurons\",\"Gad2-cre\",\"Slc32a1\"],[\"Cortex\",\"Gad2-cre\",\"Slc32a1\"],[\"Hippocampus\",\"Gad2-cre\",\"Slc32a1\"],[\"Cerebellum\",\"Gad2-cre\",\"Slc32a1\"],[\"OlfactoryBulb\",\"Gad2-cre\",\"Slc32a1\"],[\"Striatum\",\"Gad2-cre\",\"Slc32a1\"],[\"Cerebellum\",\"Gad2-cre\",\"Camk2a\"],[\"Striatum\",\"Gad2-cre\",\"Shank1\"]],\"hovertemplate\":\"<b>%{hovertext}</b><br><br>mouse line=%{customdata[1]}<br>y=%{y}<br>region=%{customdata[0]}<extra></extra>\",\"hovertext\":[\"Th\",\"Gad2\",\"Gad2\",\"Gad2\",\"Gad2\",\"Gad2\",\"Gad2\",\"Dlg4\",\"Dlg4\",\"Slc6a3\",\"Gad1\",\"Gad1\",\"Gad1\",\"Gad1\",\"Gad1\",\"Gad1\",\"Slc32a1\",\"Slc32a1\",\"Slc32a1\",\"Slc32a1\",\"Slc32a1\",\"Slc32a1\",\"Camk2a\",\"Shank1\"],\"legendgroup\":\"Gad2-cre\",\"marker\":{\"color\":\"#FF6347\",\"opacity\":0.8,\"symbol\":\"circle\"},\"mode\":\"markers\",\"name\":\"Gad2-cre\",\"orientation\":\"v\",\"showlegend\":true,\"x\":[6.0,2.0,1.0,3.0,5.0,6.0,4.0,5.0,4.0,1.0,2.0,1.0,3.0,5.0,6.0,4.0,2.0,1.0,3.0,5.0,6.0,4.0,5.0,4.0],\"xaxis\":\"x\",\"y\":[0,1,1,1,1,1,1,2,2,3,4,4,4,4,4,4,5,5,5,5,5,5,6,7],\"yaxis\":\"y\",\"type\":\"scatter\"},{\"customdata\":[[\"CorticalInterneurons\",\"PV-cre\",\"Gad2\"],[\"CorticalInterneurons\",\"PV-cre\",\"Gad1\"],[\"CorticalInterneurons\",\"PV-cre\",\"Slc32a1\"]],\"hovertemplate\":\"<b>%{hovertext}</b><br><br>mouse line=%{customdata[1]}<br>y=%{y}<br>region=%{customdata[0]}<extra></extra>\",\"hovertext\":[\"Gad2\",\"Gad1\",\"Slc32a1\"],\"legendgroup\":\"PV-cre\",\"marker\":{\"color\":\"#9400D3\",\"opacity\":0.8,\"symbol\":\"circle\"},\"mode\":\"markers\",\"name\":\"PV-cre\",\"orientation\":\"v\",\"showlegend\":true,\"x\":[2.1,2.1,2.1],\"xaxis\":\"x\",\"y\":[1,4,5],\"yaxis\":\"y\",\"type\":\"scatter\"},{\"customdata\":[[\"CorticalInterneurons\",\"SST-cre\",\"Gad2\"],[\"CorticalInterneurons\",\"SST-cre\",\"Gad1\"],[\"CorticalInterneurons\",\"SST-cre\",\"Slc32a1\"]],\"hovertemplate\":\"<b>%{hovertext}</b><br><br>mouse line=%{customdata[1]}<br>y=%{y}<br>region=%{customdata[0]}<extra></extra>\",\"hovertext\":[\"Gad2\",\"Gad1\",\"Slc32a1\"],\"legendgroup\":\"SST-cre\",\"marker\":{\"color\":\"#FFD700\",\"opacity\":0.8,\"symbol\":\"circle\"},\"mode\":\"markers\",\"name\":\"SST-cre\",\"orientation\":\"v\",\"showlegend\":true,\"x\":[2.2,2.2,2.2],\"xaxis\":\"x\",\"y\":[1,4,5],\"yaxis\":\"y\",\"type\":\"scatter\"},{\"customdata\":[[\"CorticalInterneurons\",\"VIP-cre\",\"Gad2\"],[\"CorticalInterneurons\",\"VIP-cre\",\"Gad1\"],[\"CorticalInterneurons\",\"VIP-cre\",\"Slc32a1\"]],\"hovertemplate\":\"<b>%{hovertext}</b><br><br>mouse line=%{customdata[1]}<br>y=%{y}<br>region=%{customdata[0]}<extra></extra>\",\"hovertext\":[\"Gad2\",\"Gad1\",\"Slc32a1\"],\"legendgroup\":\"VIP-cre\",\"marker\":{\"color\":\"#FFA500\",\"opacity\":0.8,\"symbol\":\"circle\"},\"mode\":\"markers\",\"name\":\"VIP-cre\",\"orientation\":\"v\",\"showlegend\":true,\"x\":[2.3000000000000003,2.3000000000000003,2.3000000000000003],\"xaxis\":\"x\",\"y\":[1,4,5],\"yaxis\":\"y\",\"type\":\"scatter\"}],                        {\"template\":{\"data\":{\"barpolar\":[{\"marker\":{\"line\":{\"color\":\"white\",\"width\":0.5},\"pattern\":{\"fillmode\":\"overlay\",\"size\":10,\"solidity\":0.2}},\"type\":\"barpolar\"}],\"bar\":[{\"error_x\":{\"color\":\"#2a3f5f\"},\"error_y\":{\"color\":\"#2a3f5f\"},\"marker\":{\"line\":{\"color\":\"white\",\"width\":0.5},\"pattern\":{\"fillmode\":\"overlay\",\"size\":10,\"solidity\":0.2}},\"type\":\"bar\"}],\"carpet\":[{\"aaxis\":{\"endlinecolor\":\"#2a3f5f\",\"gridcolor\":\"#C8D4E3\",\"linecolor\":\"#C8D4E3\",\"minorgridcolor\":\"#C8D4E3\",\"startlinecolor\":\"#2a3f5f\"},\"baxis\":{\"endlinecolor\":\"#2a3f5f\",\"gridcolor\":\"#C8D4E3\",\"linecolor\":\"#C8D4E3\",\"minorgridcolor\":\"#C8D4E3\",\"startlinecolor\":\"#2a3f5f\"},\"type\":\"carpet\"}],\"choropleth\":[{\"colorbar\":{\"outlinewidth\":0,\"ticks\":\"\"},\"type\":\"choropleth\"}],\"contourcarpet\":[{\"colorbar\":{\"outlinewidth\":0,\"ticks\":\"\"},\"type\":\"contourcarpet\"}],\"contour\":[{\"colorbar\":{\"outlinewidth\":0,\"ticks\":\"\"},\"colorscale\":[[0.0,\"#0d0887\"],[0.1111111111111111,\"#46039f\"],[0.2222222222222222,\"#7201a8\"],[0.3333333333333333,\"#9c179e\"],[0.4444444444444444,\"#bd3786\"],[0.5555555555555556,\"#d8576b\"],[0.6666666666666666,\"#ed7953\"],[0.7777777777777778,\"#fb9f3a\"],[0.8888888888888888,\"#fdca26\"],[1.0,\"#f0f921\"]],\"type\":\"contour\"}],\"heatmapgl\":[{\"colorbar\":{\"outlinewidth\":0,\"ticks\":\"\"},\"colorscale\":[[0.0,\"#0d0887\"],[0.1111111111111111,\"#46039f\"],[0.2222222222222222,\"#7201a8\"],[0.3333333333333333,\"#9c179e\"],[0.4444444444444444,\"#bd3786\"],[0.5555555555555556,\"#d8576b\"],[0.6666666666666666,\"#ed7953\"],[0.7777777777777778,\"#fb9f3a\"],[0.8888888888888888,\"#fdca26\"],[1.0,\"#f0f921\"]],\"type\":\"heatmapgl\"}],\"heatmap\":[{\"colorbar\":{\"outlinewidth\":0,\"ticks\":\"\"},\"colorscale\":[[0.0,\"#0d0887\"],[0.1111111111111111,\"#46039f\"],[0.2222222222222222,\"#7201a8\"],[0.3333333333333333,\"#9c179e\"],[0.4444444444444444,\"#bd3786\"],[0.5555555555555556,\"#d8576b\"],[0.6666666666666666,\"#ed7953\"],[0.7777777777777778,\"#fb9f3a\"],[0.8888888888888888,\"#fdca26\"],[1.0,\"#f0f921\"]],\"type\":\"heatmap\"}],\"histogram2dcontour\":[{\"colorbar\":{\"outlinewidth\":0,\"ticks\":\"\"},\"colorscale\":[[0.0,\"#0d0887\"],[0.1111111111111111,\"#46039f\"],[0.2222222222222222,\"#7201a8\"],[0.3333333333333333,\"#9c179e\"],[0.4444444444444444,\"#bd3786\"],[0.5555555555555556,\"#d8576b\"],[0.6666666666666666,\"#ed7953\"],[0.7777777777777778,\"#fb9f3a\"],[0.8888888888888888,\"#fdca26\"],[1.0,\"#f0f921\"]],\"type\":\"histogram2dcontour\"}],\"histogram2d\":[{\"colorbar\":{\"outlinewidth\":0,\"ticks\":\"\"},\"colorscale\":[[0.0,\"#0d0887\"],[0.1111111111111111,\"#46039f\"],[0.2222222222222222,\"#7201a8\"],[0.3333333333333333,\"#9c179e\"],[0.4444444444444444,\"#bd3786\"],[0.5555555555555556,\"#d8576b\"],[0.6666666666666666,\"#ed7953\"],[0.7777777777777778,\"#fb9f3a\"],[0.8888888888888888,\"#fdca26\"],[1.0,\"#f0f921\"]],\"type\":\"histogram2d\"}],\"histogram\":[{\"marker\":{\"pattern\":{\"fillmode\":\"overlay\",\"size\":10,\"solidity\":0.2}},\"type\":\"histogram\"}],\"mesh3d\":[{\"colorbar\":{\"outlinewidth\":0,\"ticks\":\"\"},\"type\":\"mesh3d\"}],\"parcoords\":[{\"line\":{\"colorbar\":{\"outlinewidth\":0,\"ticks\":\"\"}},\"type\":\"parcoords\"}],\"pie\":[{\"automargin\":true,\"type\":\"pie\"}],\"scatter3d\":[{\"line\":{\"colorbar\":{\"outlinewidth\":0,\"ticks\":\"\"}},\"marker\":{\"colorbar\":{\"outlinewidth\":0,\"ticks\":\"\"}},\"type\":\"scatter3d\"}],\"scattercarpet\":[{\"marker\":{\"colorbar\":{\"outlinewidth\":0,\"ticks\":\"\"}},\"type\":\"scattercarpet\"}],\"scattergeo\":[{\"marker\":{\"colorbar\":{\"outlinewidth\":0,\"ticks\":\"\"}},\"type\":\"scattergeo\"}],\"scattergl\":[{\"marker\":{\"colorbar\":{\"outlinewidth\":0,\"ticks\":\"\"}},\"type\":\"scattergl\"}],\"scattermapbox\":[{\"marker\":{\"colorbar\":{\"outlinewidth\":0,\"ticks\":\"\"}},\"type\":\"scattermapbox\"}],\"scatterpolargl\":[{\"marker\":{\"colorbar\":{\"outlinewidth\":0,\"ticks\":\"\"}},\"type\":\"scatterpolargl\"}],\"scatterpolar\":[{\"marker\":{\"colorbar\":{\"outlinewidth\":0,\"ticks\":\"\"}},\"type\":\"scatterpolar\"}],\"scatter\":[{\"fillpattern\":{\"fillmode\":\"overlay\",\"size\":10,\"solidity\":0.2},\"type\":\"scatter\"}],\"scatterternary\":[{\"marker\":{\"colorbar\":{\"outlinewidth\":0,\"ticks\":\"\"}},\"type\":\"scatterternary\"}],\"surface\":[{\"colorbar\":{\"outlinewidth\":0,\"ticks\":\"\"},\"colorscale\":[[0.0,\"#0d0887\"],[0.1111111111111111,\"#46039f\"],[0.2222222222222222,\"#7201a8\"],[0.3333333333333333,\"#9c179e\"],[0.4444444444444444,\"#bd3786\"],[0.5555555555555556,\"#d8576b\"],[0.6666666666666666,\"#ed7953\"],[0.7777777777777778,\"#fb9f3a\"],[0.8888888888888888,\"#fdca26\"],[1.0,\"#f0f921\"]],\"type\":\"surface\"}],\"table\":[{\"cells\":{\"fill\":{\"color\":\"#EBF0F8\"},\"line\":{\"color\":\"white\"}},\"header\":{\"fill\":{\"color\":\"#C8D4E3\"},\"line\":{\"color\":\"white\"}},\"type\":\"table\"}]},\"layout\":{\"annotationdefaults\":{\"arrowcolor\":\"#2a3f5f\",\"arrowhead\":0,\"arrowwidth\":1},\"autotypenumbers\":\"strict\",\"coloraxis\":{\"colorbar\":{\"outlinewidth\":0,\"ticks\":\"\"}},\"colorscale\":{\"diverging\":[[0,\"#8e0152\"],[0.1,\"#c51b7d\"],[0.2,\"#de77ae\"],[0.3,\"#f1b6da\"],[0.4,\"#fde0ef\"],[0.5,\"#f7f7f7\"],[0.6,\"#e6f5d0\"],[0.7,\"#b8e186\"],[0.8,\"#7fbc41\"],[0.9,\"#4d9221\"],[1,\"#276419\"]],\"sequential\":[[0.0,\"#0d0887\"],[0.1111111111111111,\"#46039f\"],[0.2222222222222222,\"#7201a8\"],[0.3333333333333333,\"#9c179e\"],[0.4444444444444444,\"#bd3786\"],[0.5555555555555556,\"#d8576b\"],[0.6666666666666666,\"#ed7953\"],[0.7777777777777778,\"#fb9f3a\"],[0.8888888888888888,\"#fdca26\"],[1.0,\"#f0f921\"]],\"sequentialminus\":[[0.0,\"#0d0887\"],[0.1111111111111111,\"#46039f\"],[0.2222222222222222,\"#7201a8\"],[0.3333333333333333,\"#9c179e\"],[0.4444444444444444,\"#bd3786\"],[0.5555555555555556,\"#d8576b\"],[0.6666666666666666,\"#ed7953\"],[0.7777777777777778,\"#fb9f3a\"],[0.8888888888888888,\"#fdca26\"],[1.0,\"#f0f921\"]]},\"colorway\":[\"#636efa\",\"#EF553B\",\"#00cc96\",\"#ab63fa\",\"#FFA15A\",\"#19d3f3\",\"#FF6692\",\"#B6E880\",\"#FF97FF\",\"#FECB52\"],\"font\":{\"color\":\"#2a3f5f\"},\"geo\":{\"bgcolor\":\"white\",\"lakecolor\":\"white\",\"landcolor\":\"white\",\"showlakes\":true,\"showland\":true,\"subunitcolor\":\"#C8D4E3\"},\"hoverlabel\":{\"align\":\"left\"},\"hovermode\":\"closest\",\"mapbox\":{\"style\":\"light\"},\"paper_bgcolor\":\"white\",\"plot_bgcolor\":\"white\",\"polar\":{\"angularaxis\":{\"gridcolor\":\"#EBF0F8\",\"linecolor\":\"#EBF0F8\",\"ticks\":\"\"},\"bgcolor\":\"white\",\"radialaxis\":{\"gridcolor\":\"#EBF0F8\",\"linecolor\":\"#EBF0F8\",\"ticks\":\"\"}},\"scene\":{\"xaxis\":{\"backgroundcolor\":\"white\",\"gridcolor\":\"#DFE8F3\",\"gridwidth\":2,\"linecolor\":\"#EBF0F8\",\"showbackground\":true,\"ticks\":\"\",\"zerolinecolor\":\"#EBF0F8\"},\"yaxis\":{\"backgroundcolor\":\"white\",\"gridcolor\":\"#DFE8F3\",\"gridwidth\":2,\"linecolor\":\"#EBF0F8\",\"showbackground\":true,\"ticks\":\"\",\"zerolinecolor\":\"#EBF0F8\"},\"zaxis\":{\"backgroundcolor\":\"white\",\"gridcolor\":\"#DFE8F3\",\"gridwidth\":2,\"linecolor\":\"#EBF0F8\",\"showbackground\":true,\"ticks\":\"\",\"zerolinecolor\":\"#EBF0F8\"}},\"shapedefaults\":{\"line\":{\"color\":\"#2a3f5f\"}},\"ternary\":{\"aaxis\":{\"gridcolor\":\"#DFE8F3\",\"linecolor\":\"#A2B1C6\",\"ticks\":\"\"},\"baxis\":{\"gridcolor\":\"#DFE8F3\",\"linecolor\":\"#A2B1C6\",\"ticks\":\"\"},\"bgcolor\":\"white\",\"caxis\":{\"gridcolor\":\"#DFE8F3\",\"linecolor\":\"#A2B1C6\",\"ticks\":\"\"}},\"title\":{\"x\":0.05},\"xaxis\":{\"automargin\":true,\"gridcolor\":\"#EBF0F8\",\"linecolor\":\"#EBF0F8\",\"ticks\":\"\",\"title\":{\"standoff\":15},\"zerolinecolor\":\"#EBF0F8\",\"zerolinewidth\":2},\"yaxis\":{\"automargin\":true,\"gridcolor\":\"#EBF0F8\",\"linecolor\":\"#EBF0F8\",\"ticks\":\"\",\"title\":{\"standoff\":15},\"zerolinecolor\":\"#EBF0F8\",\"zerolinewidth\":2}}},\"xaxis\":{\"anchor\":\"y\",\"domain\":[0.0,1.0],\"title\":{\"text\":\"\"},\"tickmode\":\"array\",\"tickvals\":[1,2,3,4,5,6],\"ticktext\":[\"Cortex\",\"Cortical IN\",\"Hippocampus\",\"Striatum\",\"Cerebellum\",\"OlfactoryBulb\"],\"range\":[0.3,6.7]},\"yaxis\":{\"anchor\":\"x\",\"domain\":[0.0,1.0],\"title\":{\"text\":\"gene\"},\"tickmode\":\"array\",\"tickvals\":[0,1,2,3,4,5,6,7,8],\"ticktext\":[\"Th\",\"Gad2\",\"Dlg4\",\"Slc6a3\",\"Gad1\",\"Slc32a1\",\"Camk2a\",\"Shank1\",\"Slc17a7\"],\"range\":[-0.5,8.5]},\"legend\":{\"title\":{\"text\":\"mouse line\"},\"tracegroupgap\":0},\"title\":{\"text\":\"Enrichment\"},\"shapes\":[{\"line\":{\"color\":\"grey\",\"width\":0.5},\"type\":\"line\",\"x0\":0.5,\"x1\":0.5,\"xref\":\"x\",\"y0\":0,\"y1\":1,\"yref\":\"y domain\"},{\"line\":{\"color\":\"grey\",\"width\":0.5},\"type\":\"line\",\"x0\":1.5,\"x1\":1.5,\"xref\":\"x\",\"y0\":0,\"y1\":1,\"yref\":\"y domain\"},{\"line\":{\"color\":\"grey\",\"width\":0.5},\"type\":\"line\",\"x0\":2.5,\"x1\":2.5,\"xref\":\"x\",\"y0\":0,\"y1\":1,\"yref\":\"y domain\"},{\"line\":{\"color\":\"grey\",\"width\":0.5},\"type\":\"line\",\"x0\":3.5,\"x1\":3.5,\"xref\":\"x\",\"y0\":0,\"y1\":1,\"yref\":\"y domain\"},{\"line\":{\"color\":\"grey\",\"width\":0.5},\"type\":\"line\",\"x0\":4.5,\"x1\":4.5,\"xref\":\"x\",\"y0\":0,\"y1\":1,\"yref\":\"y domain\"},{\"line\":{\"color\":\"grey\",\"width\":0.5},\"type\":\"line\",\"x0\":5.5,\"x1\":5.5,\"xref\":\"x\",\"y0\":0,\"y1\":1,\"yref\":\"y domain\"},{\"line\":{\"color\":\"grey\",\"width\":0.5},\"type\":\"line\",\"x0\":6.5,\"x1\":6.5,\"xref\":\"x\",\"y0\":0,\"y1\":1,\"yref\":\"y domain\"}]},                        {\"responsive\": true}                    ).then(function(){\n",
       "                            \n",
       "var gd = document.getElementById('26ea144d-7b1a-4e3b-9df5-d840812e9aa1');\n",
       "var x = new MutationObserver(function (mutations, observer) {{\n",
       "        var display = window.getComputedStyle(gd).display;\n",
       "        if (!display || display === 'none') {{\n",
       "            console.log([gd, 'removed!']);\n",
       "            Plotly.purge(gd);\n",
       "            observer.disconnect();\n",
       "        }}\n",
       "}});\n",
       "\n",
       "// Listen for the removal of the full notebook cells\n",
       "var notebookContainer = gd.closest('#notebook-container');\n",
       "if (notebookContainer) {{\n",
       "    x.observe(notebookContainer, {childList: true});\n",
       "}}\n",
       "\n",
       "// Listen for the clearing of the current output cell\n",
       "var outputEl = gd.closest('.output');\n",
       "if (outputEl) {{\n",
       "    x.observe(outputEl, {childList: true});\n",
       "}}\n",
       "\n",
       "                        })                };                });            </script>        </div>"
      ]
     },
     "metadata": {},
     "output_type": "display_data"
    }
   ],
   "source": [
    "### --- PLOT ENRICHMENT --- ###\n",
    "df = df_enriched\n",
    "\n",
    "list_region = []\n",
    "list_mouse = []\n",
    "for key in df.columns:\n",
    "    region, mouse = str.split(key, sep='.')\n",
    "    list_region.append(region)\n",
    "    list_mouse.append(mouse)\n",
    "\n",
    "list_unq_region = ['Cortex', 'CorticalInterneurons', 'Hippocampus', 'Striatum', 'Cerebellum', 'OlfactoryBulb']\n",
    "list_unq_mouse = ['Camk2a-cre', 'Dat1-cre', 'Syn1-cre', 'Gad2-cre', 'PV-cre', 'SST-cre', 'VIP-cre']\n",
    "\n",
    "value_x_step = 0.1\n",
    "value_x_min = -0.3\n",
    "\n",
    "label_x = list_unq_region\n",
    "label_y = []\n",
    "label_gene = []\n",
    "label_mouse = []\n",
    "label_region = []\n",
    "value_x = []\n",
    "value_y = []\n",
    "for protein, row_info in df_info.iterrows():\n",
    "    label_y.append(row_info['gene'])\n",
    "    row_enriched = df.loc[protein]\n",
    "    for key, value in row_enriched.items():\n",
    "        if value == 1:\n",
    "            region, mouse = str.split(key, sep='.')\n",
    "            value_x_shift = list_unq_mouse.index(mouse)\n",
    "            value_x_tick = list_unq_region.index(region) + 1\n",
    "            value_x_point = value_x_tick + (value_x_min + value_x_step * value_x_shift)\n",
    "            value_x.append(value_x_point)\n",
    "            value_y.append(len(label_y) - 1)\n",
    "            label_mouse.append(mouse)\n",
    "            label_gene.append(row_info['gene'])\n",
    "            label_region.append(region)\n",
    "\n",
    "df = pd.DataFrame({'x': value_x, 'y': value_y, 'mouse line': label_mouse, 'gene': label_gene, 'region': label_region})\n",
    "\n",
    "color_map = {'Camk2a-cre': '#1E90FF', \n",
    "             'Dat1-cre': '#00BFFF',\n",
    "             'Syn1-cre': '#32CD32',\n",
    "             'Gad2-cre': '#FF6347',\n",
    "             'PV-cre': '#9400D3',\n",
    "             'SST-cre': '#FFD700',\n",
    "             'VIP-cre': '#FFA500'}\n",
    "\n",
    "label_x[1] = 'Cortical IN'\n",
    "print(label_x)\n",
    "print(label_y)\n",
    "\n",
    "fig = px.scatter(df, x='x', y='y', color='mouse line', opacity=0.8,\n",
    "                 title='Enrichment',\n",
    "                 category_orders={'mouse line': list_unq_mouse},\n",
    "                 color_discrete_map=color_map,\n",
    "                 template='plotly_white',\n",
    "                 hover_name = 'gene',\n",
    "                 hover_data={'region':True,'x':False,'mouse line':True, 'gene':False})\n",
    "\n",
    "fig.update_layout(xaxis=dict(tickmode=\"array\", tickvals=np.arange(0, len(label_x)) + 1,\n",
    "                              ticktext=label_x),\n",
    "                  yaxis=dict(tickmode=\"array\", tickvals=np.arange(0, len(label_y)),\n",
    "                              ticktext=label_y),\n",
    "                  xaxis_range=[0.3, 6.7],\n",
    "                  yaxis_range=[-0.5, len(label_y) - 0.5],\n",
    "                  xaxis_title='',\n",
    "                  yaxis_title='gene',\n",
    "                 )\n",
    "\n",
    "for vidx in range(len(label_x)+1):\n",
    "    fig.add_vline(x=vidx + .5, line_color='grey', line_width=0.5)\n",
    "\n",
    "\n",
    "fig.show()"
   ]
  },
  {
   "cell_type": "code",
   "execution_count": 49,
   "id": "fe893f95-e99c-4069-9e6c-3d2b89c2dce5",
   "metadata": {
    "tags": []
   },
   "outputs": [
    {
     "name": "stdout",
     "output_type": "stream",
     "text": [
      "Th\n"
     ]
    },
    {
     "data": {
      "application/vnd.plotly.v1+json": {
       "config": {
        "plotlyServerURL": "https://plot.ly"
       },
       "data": [
        {
         "alignmentgroup": "True",
         "hovertemplate": "cell type=Unsorted<br>regions=%{x}<br>values=%{y}<extra></extra>",
         "legendgroup": "Unsorted",
         "marker": {
          "color": "#708090"
         },
         "name": "Unsorted",
         "notched": false,
         "offsetgroup": "Unsorted",
         "orientation": "v",
         "showlegend": true,
         "type": "box",
         "x": [
          "OlfactoryBulb",
          "OlfactoryBulb",
          "OlfactoryBulb",
          "OlfactoryBulb",
          "OlfactoryBulb",
          "OlfactoryBulb",
          "OlfactoryBulb",
          "OlfactoryBulb",
          "OlfactoryBulb",
          "OlfactoryBulb",
          "OlfactoryBulb",
          "OlfactoryBulb",
          "OlfactoryBulb",
          "OlfactoryBulb",
          "OlfactoryBulb",
          "OlfactoryBulb",
          "OlfactoryBulb",
          "Cerebellum",
          "Cerebellum",
          "Cerebellum",
          "Cerebellum",
          "Cerebellum",
          "Cerebellum",
          "Cerebellum",
          "Cerebellum",
          "Cerebellum",
          "Cerebellum",
          "Cerebellum",
          "Cerebellum",
          "Cerebellum",
          "Cortex",
          "Cortex",
          "Cortex",
          "Cortex",
          "Cortex",
          "Cortex",
          "Cortex",
          "Cortex",
          "Cortex",
          "Cortex",
          "Cortex",
          "Cortex",
          "Cortex",
          "Cortex",
          "Cortex",
          "Cortex",
          "Cortex",
          "Cortex",
          "Cortex",
          "Cortex",
          "Cortex",
          "Cortex",
          "Hippocampus",
          "Hippocampus",
          "Hippocampus",
          "Hippocampus",
          "Hippocampus",
          "Hippocampus",
          "Hippocampus",
          "Hippocampus",
          "Hippocampus",
          "Hippocampus",
          "Hippocampus",
          "Hippocampus",
          "Hippocampus",
          "Hippocampus",
          "Hippocampus",
          "Hippocampus",
          "Hippocampus",
          "Hippocampus",
          "Hippocampus",
          "Hippocampus",
          "Hippocampus",
          "Striatum",
          "Striatum",
          "Striatum",
          "Striatum",
          "Striatum",
          "Striatum",
          "Striatum",
          "Striatum",
          "Striatum",
          "Striatum",
          "Striatum",
          "Striatum",
          "Striatum",
          "Striatum",
          "Striatum",
          "Striatum",
          "Striatum",
          "Striatum",
          "Striatum",
          "Striatum",
          "Striatum",
          "Striatum",
          "Striatum",
          "Striatum",
          "Striatum",
          "Striatum",
          "Striatum",
          "Striatum",
          "Striatum",
          "Striatum",
          "Cortical IN",
          "Cortical IN",
          "Cortical IN",
          "Cortical IN",
          "Cortical IN",
          "Cortical IN",
          "Cortical IN",
          "Cortical IN",
          "Cortical IN",
          "Cortical IN",
          "Cortical IN",
          "Cortical IN",
          "Cortical IN",
          "Cortical IN",
          "Cortical IN",
          "Cortical IN",
          "Cortical IN",
          "Cortical IN",
          "Cortical IN",
          "Cortical IN",
          "Cortical IN",
          "Cortical IN",
          "Cortical IN",
          "Cortical IN",
          "Cortical IN",
          "Cortical IN",
          "Cortical IN",
          "Cortical IN",
          "Cortical IN"
         ],
         "x0": " ",
         "xaxis": "x",
         "y": [
          14.4877851893828,
          14.9257964479185,
          15.1250387993925,
          14.6491944097893,
          14.4952908373009,
          15.1159501147239,
          14.7763255349356,
          14.9571641931596,
          14.7100778329247,
          14.5219866886479,
          14.8572205238685,
          14.9246350507161,
          15.0565312012409,
          14.9907303747828,
          14.8004051206127,
          14.7807529627378,
          14.6108141890683,
          12.1019868198167,
          12.6626595585289,
          12.4973741378879,
          12.9693139764724,
          11.8113339475508,
          12.1691979473079,
          12.7842922750667,
          12.6067758748786,
          12.7451394767815,
          12.5631813625155,
          12.5554581774238,
          11.9503672240433,
          12.1529676102267,
          15.9495545376196,
          15.9926606904895,
          16.3494755796536,
          16.4824346884196,
          16.3773254141106,
          16.471758285394,
          16.7338775847133,
          16.5176050871153,
          16.1596110809435,
          16.3962270197846,
          16.4844596834477,
          16.4635854711206,
          16.3734413203836,
          16.5235910116465,
          16.656931475575,
          16.4155710072183,
          16.6957363303649,
          16.4239155920875,
          16.5290297478111,
          16.5755302678038,
          16.383066897306,
          16.6535444176147,
          16.0514150574306,
          16.6687289813319,
          16.3014042403277,
          16.8547362624524,
          16.8945982501706,
          16.5408659273257,
          16.7533219983217,
          16.7712348656774,
          16.3822361739323,
          16.6955670865934,
          16.4315568692807,
          16.4726313332172,
          16.8084866350682,
          16.8170398914843,
          16.3387466170851,
          16.8147753003344,
          16.5003088341928,
          16.6378406743743,
          16.8247228018752,
          16.8009108354031,
          16.8347307790965,
          15.6217442316099,
          15.9049916148402,
          15.881189467083,
          15.882587858356,
          16.4288790032884,
          16.1381163827991,
          15.9216399210476,
          16.5654144900334,
          16.2072587051671,
          15.6741938104514,
          16.5353156461292,
          16.1426897009913,
          15.957763174353,
          16.0452306344482,
          16.0584282969852,
          16.2271660601907,
          16.0468096975696,
          15.7880087776954,
          16.1805910617055,
          15.9821346537089,
          16.1380112797816,
          16.1882896374553,
          16.2790454833692,
          15.9834174964582,
          15.5961796768721,
          15.5483705403547,
          15.6732472719009,
          16.3308012970768,
          16.3213723658962,
          16.1330530247145,
          13.2814071188956,
          13.6353346318676,
          13.6590693877371,
          12.3972580850058,
          13.5845493483659,
          13.1557532005055,
          12.9464655311965,
          12.876072690668,
          13.3646954462026,
          13.5402166696022,
          13.3886691561933,
          13.3561219693455,
          13.2497007436213,
          13.0841899983278,
          13.6007174135848,
          13.3299794119595,
          12.6291247903651,
          13.181477853612,
          13.2102768991456,
          13.0633277012151,
          13.8428623653349,
          13.4201990014414,
          12.8577693381174,
          13.3486066915365,
          13.543238723337,
          13.0171980982161,
          13.387976719279,
          13.3427752692828,
          12.8429724999544
         ],
         "y0": " ",
         "yaxis": "y"
        },
        {
         "alignmentgroup": "True",
         "hovertemplate": "cell type=Camk2a-cre<br>regions=%{x}<br>values=%{y}<extra></extra>",
         "legendgroup": "Camk2a-cre",
         "marker": {
          "color": "#1E90FF"
         },
         "name": "Camk2a-cre",
         "notched": false,
         "offsetgroup": "Camk2a-cre",
         "orientation": "v",
         "showlegend": true,
         "type": "box",
         "x": [
          "OlfactoryBulb",
          "OlfactoryBulb",
          "OlfactoryBulb",
          "OlfactoryBulb",
          "OlfactoryBulb",
          "Cortex",
          "Cortex",
          "Cortex",
          "Cortex",
          "Cortex",
          "Cortex",
          "Hippocampus",
          "Hippocampus",
          "Hippocampus",
          "Hippocampus",
          "Hippocampus",
          "Hippocampus",
          "Hippocampus",
          "Striatum",
          "Striatum",
          "Striatum",
          "Striatum",
          "Striatum",
          "Striatum",
          "Striatum"
         ],
         "x0": " ",
         "xaxis": "x",
         "y": [
          15.9527557585252,
          15.9751069871885,
          15.8294410607995,
          15.9122700555479,
          15.9458420571394,
          16.8347470916413,
          16.755934710322,
          16.82192261428,
          16.9698435864642,
          16.8456310862273,
          16.9006620668688,
          16.5322161801666,
          16.7378529963891,
          17.1047586067179,
          17.0567882865744,
          16.9687422010401,
          16.7640816917376,
          16.9246243892634,
          16.7392137962715,
          16.4796130227046,
          16.4782699327577,
          16.5646253486383,
          16.7505632580393,
          16.5008163389848,
          16.6489550903446
         ],
         "y0": " ",
         "yaxis": "y"
        },
        {
         "alignmentgroup": "True",
         "hovertemplate": "cell type=Dat1-cre<br>regions=%{x}<br>values=%{y}<extra></extra>",
         "legendgroup": "Dat1-cre",
         "marker": {
          "color": "#00BFFF"
         },
         "name": "Dat1-cre",
         "notched": false,
         "offsetgroup": "Dat1-cre",
         "orientation": "v",
         "showlegend": true,
         "type": "box",
         "x": [
          "Striatum",
          "Striatum",
          "Striatum",
          "Striatum",
          "Striatum",
          "Striatum",
          "Striatum",
          "Striatum",
          "Striatum"
         ],
         "x0": " ",
         "xaxis": "x",
         "y": [
          14.465944262871,
          15.1181317682273,
          14.9650210233064,
          14.5405669513072,
          14.7385105113124,
          15.1635079121756,
          13.8354229704904,
          15.0540707387736,
          14.3327309113667
         ],
         "y0": " ",
         "yaxis": "y"
        },
        {
         "alignmentgroup": "True",
         "hovertemplate": "cell type=Gad2-cre<br>regions=%{x}<br>values=%{y}<extra></extra>",
         "legendgroup": "Gad2-cre",
         "marker": {
          "color": "#FF6347"
         },
         "name": "Gad2-cre",
         "notched": false,
         "offsetgroup": "Gad2-cre",
         "orientation": "v",
         "showlegend": true,
         "type": "box",
         "x": [
          "OlfactoryBulb",
          "OlfactoryBulb",
          "OlfactoryBulb",
          "OlfactoryBulb",
          "OlfactoryBulb",
          "Cerebellum",
          "Cerebellum",
          "Cerebellum",
          "Cerebellum",
          "Cerebellum",
          "Cerebellum",
          "Cerebellum",
          "Cortex",
          "Cortex",
          "Cortex",
          "Cortex",
          "Cortex",
          "Cortex",
          "Hippocampus",
          "Hippocampus",
          "Hippocampus",
          "Hippocampus",
          "Hippocampus",
          "Hippocampus",
          "Hippocampus",
          "Striatum",
          "Striatum",
          "Striatum",
          "Striatum",
          "Striatum",
          "Striatum",
          "Striatum",
          "Cortical IN",
          "Cortical IN",
          "Cortical IN",
          "Cortical IN",
          "Cortical IN",
          "Cortical IN",
          "Cortical IN"
         ],
         "x0": " ",
         "xaxis": "x",
         "y": [
          15.5704029446672,
          15.0750075224718,
          15.5036231841317,
          15.3636734668912,
          15.1261470654121,
          12.6896354356031,
          13.1502266168285,
          13.0451844637109,
          12.4309672868928,
          12.9556512955854,
          12.1677986257747,
          12.383271938037,
          15.710414213325,
          16.0412380527297,
          16.2247048946238,
          15.8344029122863,
          16.039042487532,
          16.3493682841588,
          14.6764885821378,
          16.3497584891718,
          15.9753780095927,
          15.8357868225894,
          15.954564932692,
          15.8120912194611,
          15.9884651324448,
          15.5062062115498,
          16.390472884953,
          16.5533041656673,
          16.0692312062246,
          16.539460213956,
          16.2485024478278,
          16.4698414508208,
          13.4660427304691,
          13.0991387651215,
          13.2689117156319,
          12.9438165976952,
          12.3827929399766,
          12.4706786240037,
          12.8391197083108
         ],
         "y0": " ",
         "yaxis": "y"
        },
        {
         "alignmentgroup": "True",
         "hovertemplate": "cell type=Syn1-cre<br>regions=%{x}<br>values=%{y}<extra></extra>",
         "legendgroup": "Syn1-cre",
         "marker": {
          "color": "#32CD32"
         },
         "name": "Syn1-cre",
         "notched": false,
         "offsetgroup": "Syn1-cre",
         "orientation": "v",
         "showlegend": true,
         "type": "box",
         "x": [
          "OlfactoryBulb",
          "OlfactoryBulb",
          "OlfactoryBulb",
          "OlfactoryBulb",
          "OlfactoryBulb",
          "OlfactoryBulb",
          "Cerebellum",
          "Cerebellum",
          "Cerebellum",
          "Cerebellum",
          "Cerebellum",
          "Cerebellum",
          "Cortex",
          "Cortex",
          "Cortex",
          "Cortex",
          "Cortex",
          "Cortex",
          "Cortex",
          "Hippocampus",
          "Hippocampus",
          "Hippocampus",
          "Hippocampus",
          "Hippocampus",
          "Hippocampus",
          "Striatum",
          "Striatum",
          "Striatum",
          "Striatum",
          "Striatum",
          "Striatum"
         ],
         "x0": " ",
         "xaxis": "x",
         "y": [
          15.3271118021873,
          15.2111572800621,
          15.2232169515494,
          15.6026586283044,
          15.558716792051,
          15.5625073285103,
          14.0873776806795,
          12.0293410020601,
          13.1117491933449,
          12.9809753361526,
          13.1912859234993,
          13.0015799698529,
          16.8522133099756,
          16.5498517820282,
          16.3682673813893,
          16.7674917626162,
          16.7312743462626,
          17.0364102623102,
          16.6308190233525,
          16.4213938940536,
          16.9774313752858,
          16.8552575948485,
          16.6500220034691,
          16.9972392533895,
          17.0649572068402,
          16.4412700049656,
          16.3352333354905,
          16.118250213796,
          16.5867727619728,
          16.5564288453529,
          16.4118674811528
         ],
         "y0": " ",
         "yaxis": "y"
        },
        {
         "alignmentgroup": "True",
         "hovertemplate": "cell type=PV-cre<br>regions=%{x}<br>values=%{y}<extra></extra>",
         "legendgroup": "PV-cre",
         "marker": {
          "color": "#9400D3"
         },
         "name": "PV-cre",
         "notched": false,
         "offsetgroup": "PV-cre",
         "orientation": "v",
         "showlegend": true,
         "type": "box",
         "x": [
          "Cortical IN",
          "Cortical IN",
          "Cortical IN",
          "Cortical IN",
          "Cortical IN",
          "Cortical IN",
          "Cortical IN"
         ],
         "x0": " ",
         "xaxis": "x",
         "y": [
          12.7881560678475,
          12.3555703459884,
          12.2881556859414,
          12.1125612143829,
          11.8839236603368,
          12.4702985221006,
          12.8439996652991
         ],
         "y0": " ",
         "yaxis": "y"
        },
        {
         "alignmentgroup": "True",
         "hovertemplate": "cell type=SST-cre<br>regions=%{x}<br>values=%{y}<extra></extra>",
         "legendgroup": "SST-cre",
         "marker": {
          "color": "#FFD700"
         },
         "name": "SST-cre",
         "notched": false,
         "offsetgroup": "SST-cre",
         "orientation": "v",
         "showlegend": true,
         "type": "box",
         "x": [
          "Cortical IN",
          "Cortical IN",
          "Cortical IN",
          "Cortical IN",
          "Cortical IN",
          "Cortical IN",
          "Cortical IN"
         ],
         "x0": " ",
         "xaxis": "x",
         "y": [
          13.224560268923,
          12.7284498350973,
          13.2044413036403,
          12.9416557184611,
          12.5072778279437,
          13.3290355299272,
          13.2853469628678
         ],
         "y0": " ",
         "yaxis": "y"
        },
        {
         "alignmentgroup": "True",
         "hovertemplate": "cell type=VIP-cre<br>regions=%{x}<br>values=%{y}<extra></extra>",
         "legendgroup": "VIP-cre",
         "marker": {
          "color": "#FFA500"
         },
         "name": "VIP-cre",
         "notched": false,
         "offsetgroup": "VIP-cre",
         "orientation": "v",
         "showlegend": true,
         "type": "box",
         "x": [
          "Cortical IN",
          "Cortical IN",
          "Cortical IN",
          "Cortical IN",
          "Cortical IN",
          "Cortical IN",
          "Cortical IN",
          "Cortical IN"
         ],
         "x0": " ",
         "xaxis": "x",
         "y": [
          13.5474373007733,
          12.8760190345486,
          13.32056225651,
          12.7459829157208,
          13.1710805431969,
          12.8433489988348,
          12.7855808704244,
          12.5303586082888
         ],
         "y0": " ",
         "yaxis": "y"
        }
       ],
       "layout": {
        "autosize": true,
        "boxmode": "group",
        "legend": {
         "title": {
          "text": "cell type"
         },
         "tracegroupgap": 0
        },
        "shapes": [
         {
          "line": {
           "color": "grey",
           "width": 0.5
          },
          "type": "line",
          "x0": 0.5,
          "x1": 0.5,
          "xref": "x",
          "y0": 0,
          "y1": 1,
          "yref": "y domain"
         },
         {
          "line": {
           "color": "grey",
           "width": 0.5
          },
          "type": "line",
          "x0": 1.5,
          "x1": 1.5,
          "xref": "x",
          "y0": 0,
          "y1": 1,
          "yref": "y domain"
         },
         {
          "line": {
           "color": "grey",
           "width": 0.5
          },
          "type": "line",
          "x0": 2.5,
          "x1": 2.5,
          "xref": "x",
          "y0": 0,
          "y1": 1,
          "yref": "y domain"
         },
         {
          "line": {
           "color": "grey",
           "width": 0.5
          },
          "type": "line",
          "x0": 3.5,
          "x1": 3.5,
          "xref": "x",
          "y0": 0,
          "y1": 1,
          "yref": "y domain"
         },
         {
          "line": {
           "color": "grey",
           "width": 0.5
          },
          "type": "line",
          "x0": 4.5,
          "x1": 4.5,
          "xref": "x",
          "y0": 0,
          "y1": 1,
          "yref": "y domain"
         }
        ],
        "template": {
         "data": {
          "bar": [
           {
            "error_x": {
             "color": "#2a3f5f"
            },
            "error_y": {
             "color": "#2a3f5f"
            },
            "marker": {
             "line": {
              "color": "white",
              "width": 0.5
             },
             "pattern": {
              "fillmode": "overlay",
              "size": 10,
              "solidity": 0.2
             }
            },
            "type": "bar"
           }
          ],
          "barpolar": [
           {
            "marker": {
             "line": {
              "color": "white",
              "width": 0.5
             },
             "pattern": {
              "fillmode": "overlay",
              "size": 10,
              "solidity": 0.2
             }
            },
            "type": "barpolar"
           }
          ],
          "carpet": [
           {
            "aaxis": {
             "endlinecolor": "#2a3f5f",
             "gridcolor": "#C8D4E3",
             "linecolor": "#C8D4E3",
             "minorgridcolor": "#C8D4E3",
             "startlinecolor": "#2a3f5f"
            },
            "baxis": {
             "endlinecolor": "#2a3f5f",
             "gridcolor": "#C8D4E3",
             "linecolor": "#C8D4E3",
             "minorgridcolor": "#C8D4E3",
             "startlinecolor": "#2a3f5f"
            },
            "type": "carpet"
           }
          ],
          "choropleth": [
           {
            "colorbar": {
             "outlinewidth": 0,
             "ticks": ""
            },
            "type": "choropleth"
           }
          ],
          "contour": [
           {
            "colorbar": {
             "outlinewidth": 0,
             "ticks": ""
            },
            "colorscale": [
             [
              0,
              "#0d0887"
             ],
             [
              0.1111111111111111,
              "#46039f"
             ],
             [
              0.2222222222222222,
              "#7201a8"
             ],
             [
              0.3333333333333333,
              "#9c179e"
             ],
             [
              0.4444444444444444,
              "#bd3786"
             ],
             [
              0.5555555555555556,
              "#d8576b"
             ],
             [
              0.6666666666666666,
              "#ed7953"
             ],
             [
              0.7777777777777778,
              "#fb9f3a"
             ],
             [
              0.8888888888888888,
              "#fdca26"
             ],
             [
              1,
              "#f0f921"
             ]
            ],
            "type": "contour"
           }
          ],
          "contourcarpet": [
           {
            "colorbar": {
             "outlinewidth": 0,
             "ticks": ""
            },
            "type": "contourcarpet"
           }
          ],
          "heatmap": [
           {
            "colorbar": {
             "outlinewidth": 0,
             "ticks": ""
            },
            "colorscale": [
             [
              0,
              "#0d0887"
             ],
             [
              0.1111111111111111,
              "#46039f"
             ],
             [
              0.2222222222222222,
              "#7201a8"
             ],
             [
              0.3333333333333333,
              "#9c179e"
             ],
             [
              0.4444444444444444,
              "#bd3786"
             ],
             [
              0.5555555555555556,
              "#d8576b"
             ],
             [
              0.6666666666666666,
              "#ed7953"
             ],
             [
              0.7777777777777778,
              "#fb9f3a"
             ],
             [
              0.8888888888888888,
              "#fdca26"
             ],
             [
              1,
              "#f0f921"
             ]
            ],
            "type": "heatmap"
           }
          ],
          "heatmapgl": [
           {
            "colorbar": {
             "outlinewidth": 0,
             "ticks": ""
            },
            "colorscale": [
             [
              0,
              "#0d0887"
             ],
             [
              0.1111111111111111,
              "#46039f"
             ],
             [
              0.2222222222222222,
              "#7201a8"
             ],
             [
              0.3333333333333333,
              "#9c179e"
             ],
             [
              0.4444444444444444,
              "#bd3786"
             ],
             [
              0.5555555555555556,
              "#d8576b"
             ],
             [
              0.6666666666666666,
              "#ed7953"
             ],
             [
              0.7777777777777778,
              "#fb9f3a"
             ],
             [
              0.8888888888888888,
              "#fdca26"
             ],
             [
              1,
              "#f0f921"
             ]
            ],
            "type": "heatmapgl"
           }
          ],
          "histogram": [
           {
            "marker": {
             "pattern": {
              "fillmode": "overlay",
              "size": 10,
              "solidity": 0.2
             }
            },
            "type": "histogram"
           }
          ],
          "histogram2d": [
           {
            "colorbar": {
             "outlinewidth": 0,
             "ticks": ""
            },
            "colorscale": [
             [
              0,
              "#0d0887"
             ],
             [
              0.1111111111111111,
              "#46039f"
             ],
             [
              0.2222222222222222,
              "#7201a8"
             ],
             [
              0.3333333333333333,
              "#9c179e"
             ],
             [
              0.4444444444444444,
              "#bd3786"
             ],
             [
              0.5555555555555556,
              "#d8576b"
             ],
             [
              0.6666666666666666,
              "#ed7953"
             ],
             [
              0.7777777777777778,
              "#fb9f3a"
             ],
             [
              0.8888888888888888,
              "#fdca26"
             ],
             [
              1,
              "#f0f921"
             ]
            ],
            "type": "histogram2d"
           }
          ],
          "histogram2dcontour": [
           {
            "colorbar": {
             "outlinewidth": 0,
             "ticks": ""
            },
            "colorscale": [
             [
              0,
              "#0d0887"
             ],
             [
              0.1111111111111111,
              "#46039f"
             ],
             [
              0.2222222222222222,
              "#7201a8"
             ],
             [
              0.3333333333333333,
              "#9c179e"
             ],
             [
              0.4444444444444444,
              "#bd3786"
             ],
             [
              0.5555555555555556,
              "#d8576b"
             ],
             [
              0.6666666666666666,
              "#ed7953"
             ],
             [
              0.7777777777777778,
              "#fb9f3a"
             ],
             [
              0.8888888888888888,
              "#fdca26"
             ],
             [
              1,
              "#f0f921"
             ]
            ],
            "type": "histogram2dcontour"
           }
          ],
          "mesh3d": [
           {
            "colorbar": {
             "outlinewidth": 0,
             "ticks": ""
            },
            "type": "mesh3d"
           }
          ],
          "parcoords": [
           {
            "line": {
             "colorbar": {
              "outlinewidth": 0,
              "ticks": ""
             }
            },
            "type": "parcoords"
           }
          ],
          "pie": [
           {
            "automargin": true,
            "type": "pie"
           }
          ],
          "scatter": [
           {
            "fillpattern": {
             "fillmode": "overlay",
             "size": 10,
             "solidity": 0.2
            },
            "type": "scatter"
           }
          ],
          "scatter3d": [
           {
            "line": {
             "colorbar": {
              "outlinewidth": 0,
              "ticks": ""
             }
            },
            "marker": {
             "colorbar": {
              "outlinewidth": 0,
              "ticks": ""
             }
            },
            "type": "scatter3d"
           }
          ],
          "scattercarpet": [
           {
            "marker": {
             "colorbar": {
              "outlinewidth": 0,
              "ticks": ""
             }
            },
            "type": "scattercarpet"
           }
          ],
          "scattergeo": [
           {
            "marker": {
             "colorbar": {
              "outlinewidth": 0,
              "ticks": ""
             }
            },
            "type": "scattergeo"
           }
          ],
          "scattergl": [
           {
            "marker": {
             "colorbar": {
              "outlinewidth": 0,
              "ticks": ""
             }
            },
            "type": "scattergl"
           }
          ],
          "scattermapbox": [
           {
            "marker": {
             "colorbar": {
              "outlinewidth": 0,
              "ticks": ""
             }
            },
            "type": "scattermapbox"
           }
          ],
          "scatterpolar": [
           {
            "marker": {
             "colorbar": {
              "outlinewidth": 0,
              "ticks": ""
             }
            },
            "type": "scatterpolar"
           }
          ],
          "scatterpolargl": [
           {
            "marker": {
             "colorbar": {
              "outlinewidth": 0,
              "ticks": ""
             }
            },
            "type": "scatterpolargl"
           }
          ],
          "scatterternary": [
           {
            "marker": {
             "colorbar": {
              "outlinewidth": 0,
              "ticks": ""
             }
            },
            "type": "scatterternary"
           }
          ],
          "surface": [
           {
            "colorbar": {
             "outlinewidth": 0,
             "ticks": ""
            },
            "colorscale": [
             [
              0,
              "#0d0887"
             ],
             [
              0.1111111111111111,
              "#46039f"
             ],
             [
              0.2222222222222222,
              "#7201a8"
             ],
             [
              0.3333333333333333,
              "#9c179e"
             ],
             [
              0.4444444444444444,
              "#bd3786"
             ],
             [
              0.5555555555555556,
              "#d8576b"
             ],
             [
              0.6666666666666666,
              "#ed7953"
             ],
             [
              0.7777777777777778,
              "#fb9f3a"
             ],
             [
              0.8888888888888888,
              "#fdca26"
             ],
             [
              1,
              "#f0f921"
             ]
            ],
            "type": "surface"
           }
          ],
          "table": [
           {
            "cells": {
             "fill": {
              "color": "#EBF0F8"
             },
             "line": {
              "color": "white"
             }
            },
            "header": {
             "fill": {
              "color": "#C8D4E3"
             },
             "line": {
              "color": "white"
             }
            },
            "type": "table"
           }
          ]
         },
         "layout": {
          "annotationdefaults": {
           "arrowcolor": "#2a3f5f",
           "arrowhead": 0,
           "arrowwidth": 1
          },
          "autotypenumbers": "strict",
          "coloraxis": {
           "colorbar": {
            "outlinewidth": 0,
            "ticks": ""
           }
          },
          "colorscale": {
           "diverging": [
            [
             0,
             "#8e0152"
            ],
            [
             0.1,
             "#c51b7d"
            ],
            [
             0.2,
             "#de77ae"
            ],
            [
             0.3,
             "#f1b6da"
            ],
            [
             0.4,
             "#fde0ef"
            ],
            [
             0.5,
             "#f7f7f7"
            ],
            [
             0.6,
             "#e6f5d0"
            ],
            [
             0.7,
             "#b8e186"
            ],
            [
             0.8,
             "#7fbc41"
            ],
            [
             0.9,
             "#4d9221"
            ],
            [
             1,
             "#276419"
            ]
           ],
           "sequential": [
            [
             0,
             "#0d0887"
            ],
            [
             0.1111111111111111,
             "#46039f"
            ],
            [
             0.2222222222222222,
             "#7201a8"
            ],
            [
             0.3333333333333333,
             "#9c179e"
            ],
            [
             0.4444444444444444,
             "#bd3786"
            ],
            [
             0.5555555555555556,
             "#d8576b"
            ],
            [
             0.6666666666666666,
             "#ed7953"
            ],
            [
             0.7777777777777778,
             "#fb9f3a"
            ],
            [
             0.8888888888888888,
             "#fdca26"
            ],
            [
             1,
             "#f0f921"
            ]
           ],
           "sequentialminus": [
            [
             0,
             "#0d0887"
            ],
            [
             0.1111111111111111,
             "#46039f"
            ],
            [
             0.2222222222222222,
             "#7201a8"
            ],
            [
             0.3333333333333333,
             "#9c179e"
            ],
            [
             0.4444444444444444,
             "#bd3786"
            ],
            [
             0.5555555555555556,
             "#d8576b"
            ],
            [
             0.6666666666666666,
             "#ed7953"
            ],
            [
             0.7777777777777778,
             "#fb9f3a"
            ],
            [
             0.8888888888888888,
             "#fdca26"
            ],
            [
             1,
             "#f0f921"
            ]
           ]
          },
          "colorway": [
           "#636efa",
           "#EF553B",
           "#00cc96",
           "#ab63fa",
           "#FFA15A",
           "#19d3f3",
           "#FF6692",
           "#B6E880",
           "#FF97FF",
           "#FECB52"
          ],
          "font": {
           "color": "#2a3f5f"
          },
          "geo": {
           "bgcolor": "white",
           "lakecolor": "white",
           "landcolor": "white",
           "showlakes": true,
           "showland": true,
           "subunitcolor": "#C8D4E3"
          },
          "hoverlabel": {
           "align": "left"
          },
          "hovermode": "closest",
          "mapbox": {
           "style": "light"
          },
          "paper_bgcolor": "white",
          "plot_bgcolor": "white",
          "polar": {
           "angularaxis": {
            "gridcolor": "#EBF0F8",
            "linecolor": "#EBF0F8",
            "ticks": ""
           },
           "bgcolor": "white",
           "radialaxis": {
            "gridcolor": "#EBF0F8",
            "linecolor": "#EBF0F8",
            "ticks": ""
           }
          },
          "scene": {
           "xaxis": {
            "backgroundcolor": "white",
            "gridcolor": "#DFE8F3",
            "gridwidth": 2,
            "linecolor": "#EBF0F8",
            "showbackground": true,
            "ticks": "",
            "zerolinecolor": "#EBF0F8"
           },
           "yaxis": {
            "backgroundcolor": "white",
            "gridcolor": "#DFE8F3",
            "gridwidth": 2,
            "linecolor": "#EBF0F8",
            "showbackground": true,
            "ticks": "",
            "zerolinecolor": "#EBF0F8"
           },
           "zaxis": {
            "backgroundcolor": "white",
            "gridcolor": "#DFE8F3",
            "gridwidth": 2,
            "linecolor": "#EBF0F8",
            "showbackground": true,
            "ticks": "",
            "zerolinecolor": "#EBF0F8"
           }
          },
          "shapedefaults": {
           "line": {
            "color": "#2a3f5f"
           }
          },
          "ternary": {
           "aaxis": {
            "gridcolor": "#DFE8F3",
            "linecolor": "#A2B1C6",
            "ticks": ""
           },
           "baxis": {
            "gridcolor": "#DFE8F3",
            "linecolor": "#A2B1C6",
            "ticks": ""
           },
           "bgcolor": "white",
           "caxis": {
            "gridcolor": "#DFE8F3",
            "linecolor": "#A2B1C6",
            "ticks": ""
           }
          },
          "title": {
           "x": 0.05
          },
          "xaxis": {
           "automargin": true,
           "gridcolor": "#EBF0F8",
           "linecolor": "#EBF0F8",
           "ticks": "",
           "title": {
            "standoff": 15
           },
           "zerolinecolor": "#EBF0F8",
           "zerolinewidth": 2
          },
          "yaxis": {
           "automargin": true,
           "gridcolor": "#EBF0F8",
           "linecolor": "#EBF0F8",
           "ticks": "",
           "title": {
            "standoff": 15
           },
           "zerolinecolor": "#EBF0F8",
           "zerolinewidth": 2
          }
         }
        },
        "title": {
         "text": "Abundance"
        },
        "xaxis": {
         "anchor": "y",
         "autorange": true,
         "categoryarray": [
          "Cortex",
          "Cortical IN",
          "Hippocampus",
          "Striatum",
          "Cerebellum",
          "OlfactoryBulb"
         ],
         "categoryorder": "array",
         "domain": [
          0,
          1
         ],
         "range": [
          -0.5248275862068965,
          5.5248275862068965
         ],
         "title": {
          "text": ""
         },
         "type": "category"
        },
        "yaxis": {
         "anchor": "x",
         "autorange": true,
         "domain": [
          0,
          1
         ],
         "range": [
          11.517254799819295,
          17.398837754449406
         ],
         "title": {
          "text": "protein abundance"
         },
         "type": "linear"
        }
       }
      },
      "image/png": "[encoded data removed]",
      "text/html": [
       "<div>                            <div id=\"411b55a4-d6d5-4b19-a5c5-d74e7e9b32af\" class=\"plotly-graph-div\" style=\"height:525px; width:100%;\"></div>            <script type=\"text/javascript\">                require([\"plotly\"], function(Plotly) {                    window.PLOTLYENV=window.PLOTLYENV || {};                                    if (document.getElementById(\"411b55a4-d6d5-4b19-a5c5-d74e7e9b32af\")) {                    Plotly.newPlot(                        \"411b55a4-d6d5-4b19-a5c5-d74e7e9b32af\",                        [{\"alignmentgroup\":\"True\",\"hovertemplate\":\"cell type=Unsorted<br>regions=%{x}<br>values=%{y}<extra></extra>\",\"legendgroup\":\"Unsorted\",\"marker\":{\"color\":\"#708090\"},\"name\":\"Unsorted\",\"notched\":false,\"offsetgroup\":\"Unsorted\",\"orientation\":\"v\",\"showlegend\":true,\"x\":[\"OlfactoryBulb\",\"OlfactoryBulb\",\"OlfactoryBulb\",\"OlfactoryBulb\",\"OlfactoryBulb\",\"OlfactoryBulb\",\"OlfactoryBulb\",\"OlfactoryBulb\",\"OlfactoryBulb\",\"OlfactoryBulb\",\"OlfactoryBulb\",\"OlfactoryBulb\",\"OlfactoryBulb\",\"OlfactoryBulb\",\"OlfactoryBulb\",\"OlfactoryBulb\",\"OlfactoryBulb\",\"Cerebellum\",\"Cerebellum\",\"Cerebellum\",\"Cerebellum\",\"Cerebellum\",\"Cerebellum\",\"Cerebellum\",\"Cerebellum\",\"Cerebellum\",\"Cerebellum\",\"Cerebellum\",\"Cerebellum\",\"Cerebellum\",\"Cortex\",\"Cortex\",\"Cortex\",\"Cortex\",\"Cortex\",\"Cortex\",\"Cortex\",\"Cortex\",\"Cortex\",\"Cortex\",\"Cortex\",\"Cortex\",\"Cortex\",\"Cortex\",\"Cortex\",\"Cortex\",\"Cortex\",\"Cortex\",\"Cortex\",\"Cortex\",\"Cortex\",\"Cortex\",\"Hippocampus\",\"Hippocampus\",\"Hippocampus\",\"Hippocampus\",\"Hippocampus\",\"Hippocampus\",\"Hippocampus\",\"Hippocampus\",\"Hippocampus\",\"Hippocampus\",\"Hippocampus\",\"Hippocampus\",\"Hippocampus\",\"Hippocampus\",\"Hippocampus\",\"Hippocampus\",\"Hippocampus\",\"Hippocampus\",\"Hippocampus\",\"Hippocampus\",\"Hippocampus\",\"Striatum\",\"Striatum\",\"Striatum\",\"Striatum\",\"Striatum\",\"Striatum\",\"Striatum\",\"Striatum\",\"Striatum\",\"Striatum\",\"Striatum\",\"Striatum\",\"Striatum\",\"Striatum\",\"Striatum\",\"Striatum\",\"Striatum\",\"Striatum\",\"Striatum\",\"Striatum\",\"Striatum\",\"Striatum\",\"Striatum\",\"Striatum\",\"Striatum\",\"Striatum\",\"Striatum\",\"Striatum\",\"Striatum\",\"Striatum\",\"Cortical IN\",\"Cortical IN\",\"Cortical IN\",\"Cortical IN\",\"Cortical IN\",\"Cortical IN\",\"Cortical IN\",\"Cortical IN\",\"Cortical IN\",\"Cortical IN\",\"Cortical IN\",\"Cortical IN\",\"Cortical IN\",\"Cortical IN\",\"Cortical IN\",\"Cortical IN\",\"Cortical IN\",\"Cortical IN\",\"Cortical IN\",\"Cortical IN\",\"Cortical IN\",\"Cortical IN\",\"Cortical IN\",\"Cortical IN\",\"Cortical IN\",\"Cortical IN\",\"Cortical IN\",\"Cortical IN\",\"Cortical IN\"],\"x0\":\" \",\"xaxis\":\"x\",\"y\":[14.4877851893828,14.9257964479185,15.1250387993925,14.6491944097893,14.4952908373009,15.1159501147239,14.7763255349356,14.9571641931596,14.7100778329247,14.5219866886479,14.8572205238685,14.9246350507161,15.0565312012409,14.9907303747828,14.8004051206127,14.7807529627378,14.6108141890683,12.1019868198167,12.6626595585289,12.4973741378879,12.9693139764724,11.8113339475508,12.1691979473079,12.7842922750667,12.6067758748786,12.7451394767815,12.5631813625155,12.5554581774238,11.9503672240433,12.1529676102267,15.9495545376196,15.9926606904895,16.3494755796536,16.4824346884196,16.3773254141106,16.471758285394,16.7338775847133,16.5176050871153,16.1596110809435,16.3962270197846,16.4844596834477,16.4635854711206,16.3734413203836,16.5235910116465,16.656931475575,16.4155710072183,16.6957363303649,16.4239155920875,16.5290297478111,16.5755302678038,16.383066897306,16.6535444176147,16.0514150574306,16.6687289813319,16.3014042403277,16.8547362624524,16.8945982501706,16.5408659273257,16.7533219983217,16.7712348656774,16.3822361739323,16.6955670865934,16.4315568692807,16.4726313332172,16.8084866350682,16.8170398914843,16.3387466170851,16.8147753003344,16.5003088341928,16.6378406743743,16.8247228018752,16.8009108354031,16.8347307790965,15.6217442316099,15.9049916148402,15.881189467083,15.882587858356,16.4288790032884,16.1381163827991,15.9216399210476,16.5654144900334,16.2072587051671,15.6741938104514,16.5353156461292,16.1426897009913,15.957763174353,16.0452306344482,16.0584282969852,16.2271660601907,16.0468096975696,15.7880087776954,16.1805910617055,15.9821346537089,16.1380112797816,16.1882896374553,16.2790454833692,15.9834174964582,15.5961796768721,15.5483705403547,15.6732472719009,16.3308012970768,16.3213723658962,16.1330530247145,13.2814071188956,13.6353346318676,13.6590693877371,12.3972580850058,13.5845493483659,13.1557532005055,12.9464655311965,12.876072690668,13.3646954462026,13.5402166696022,13.3886691561933,13.3561219693455,13.2497007436213,13.0841899983278,13.6007174135848,13.3299794119595,12.6291247903651,13.181477853612,13.2102768991456,13.0633277012151,13.8428623653349,13.4201990014414,12.8577693381174,13.3486066915365,13.543238723337,13.0171980982161,13.387976719279,13.3427752692828,12.8429724999544],\"y0\":\" \",\"yaxis\":\"y\",\"type\":\"box\"},{\"alignmentgroup\":\"True\",\"hovertemplate\":\"cell type=Camk2a-cre<br>regions=%{x}<br>values=%{y}<extra></extra>\",\"legendgroup\":\"Camk2a-cre\",\"marker\":{\"color\":\"#1E90FF\"},\"name\":\"Camk2a-cre\",\"notched\":false,\"offsetgroup\":\"Camk2a-cre\",\"orientation\":\"v\",\"showlegend\":true,\"x\":[\"OlfactoryBulb\",\"OlfactoryBulb\",\"OlfactoryBulb\",\"OlfactoryBulb\",\"OlfactoryBulb\",\"Cortex\",\"Cortex\",\"Cortex\",\"Cortex\",\"Cortex\",\"Cortex\",\"Hippocampus\",\"Hippocampus\",\"Hippocampus\",\"Hippocampus\",\"Hippocampus\",\"Hippocampus\",\"Hippocampus\",\"Striatum\",\"Striatum\",\"Striatum\",\"Striatum\",\"Striatum\",\"Striatum\",\"Striatum\"],\"x0\":\" \",\"xaxis\":\"x\",\"y\":[15.9527557585252,15.9751069871885,15.8294410607995,15.9122700555479,15.9458420571394,16.8347470916413,16.755934710322,16.82192261428,16.9698435864642,16.8456310862273,16.9006620668688,16.5322161801666,16.7378529963891,17.1047586067179,17.0567882865744,16.9687422010401,16.7640816917376,16.9246243892634,16.7392137962715,16.4796130227046,16.4782699327577,16.5646253486383,16.7505632580393,16.5008163389848,16.6489550903446],\"y0\":\" \",\"yaxis\":\"y\",\"type\":\"box\"},{\"alignmentgroup\":\"True\",\"hovertemplate\":\"cell type=Dat1-cre<br>regions=%{x}<br>values=%{y}<extra></extra>\",\"legendgroup\":\"Dat1-cre\",\"marker\":{\"color\":\"#00BFFF\"},\"name\":\"Dat1-cre\",\"notched\":false,\"offsetgroup\":\"Dat1-cre\",\"orientation\":\"v\",\"showlegend\":true,\"x\":[\"Striatum\",\"Striatum\",\"Striatum\",\"Striatum\",\"Striatum\",\"Striatum\",\"Striatum\",\"Striatum\",\"Striatum\"],\"x0\":\" \",\"xaxis\":\"x\",\"y\":[14.465944262871,15.1181317682273,14.9650210233064,14.5405669513072,14.7385105113124,15.1635079121756,13.8354229704904,15.0540707387736,14.3327309113667],\"y0\":\" \",\"yaxis\":\"y\",\"type\":\"box\"},{\"alignmentgroup\":\"True\",\"hovertemplate\":\"cell type=Gad2-cre<br>regions=%{x}<br>values=%{y}<extra></extra>\",\"legendgroup\":\"Gad2-cre\",\"marker\":{\"color\":\"#FF6347\"},\"name\":\"Gad2-cre\",\"notched\":false,\"offsetgroup\":\"Gad2-cre\",\"orientation\":\"v\",\"showlegend\":true,\"x\":[\"OlfactoryBulb\",\"OlfactoryBulb\",\"OlfactoryBulb\",\"OlfactoryBulb\",\"OlfactoryBulb\",\"Cerebellum\",\"Cerebellum\",\"Cerebellum\",\"Cerebellum\",\"Cerebellum\",\"Cerebellum\",\"Cerebellum\",\"Cortex\",\"Cortex\",\"Cortex\",\"Cortex\",\"Cortex\",\"Cortex\",\"Hippocampus\",\"Hippocampus\",\"Hippocampus\",\"Hippocampus\",\"Hippocampus\",\"Hippocampus\",\"Hippocampus\",\"Striatum\",\"Striatum\",\"Striatum\",\"Striatum\",\"Striatum\",\"Striatum\",\"Striatum\",\"Cortical IN\",\"Cortical IN\",\"Cortical IN\",\"Cortical IN\",\"Cortical IN\",\"Cortical IN\",\"Cortical IN\"],\"x0\":\" \",\"xaxis\":\"x\",\"y\":[15.5704029446672,15.0750075224718,15.5036231841317,15.3636734668912,15.1261470654121,12.6896354356031,13.1502266168285,13.0451844637109,12.4309672868928,12.9556512955854,12.1677986257747,12.383271938037,15.710414213325,16.0412380527297,16.2247048946238,15.8344029122863,16.039042487532,16.3493682841588,14.6764885821378,16.3497584891718,15.9753780095927,15.8357868225894,15.954564932692,15.8120912194611,15.9884651324448,15.5062062115498,16.390472884953,16.5533041656673,16.0692312062246,16.539460213956,16.2485024478278,16.4698414508208,13.4660427304691,13.0991387651215,13.2689117156319,12.9438165976952,12.3827929399766,12.4706786240037,12.8391197083108],\"y0\":\" \",\"yaxis\":\"y\",\"type\":\"box\"},{\"alignmentgroup\":\"True\",\"hovertemplate\":\"cell type=Syn1-cre<br>regions=%{x}<br>values=%{y}<extra></extra>\",\"legendgroup\":\"Syn1-cre\",\"marker\":{\"color\":\"#32CD32\"},\"name\":\"Syn1-cre\",\"notched\":false,\"offsetgroup\":\"Syn1-cre\",\"orientation\":\"v\",\"showlegend\":true,\"x\":[\"OlfactoryBulb\",\"OlfactoryBulb\",\"OlfactoryBulb\",\"OlfactoryBulb\",\"OlfactoryBulb\",\"OlfactoryBulb\",\"Cerebellum\",\"Cerebellum\",\"Cerebellum\",\"Cerebellum\",\"Cerebellum\",\"Cerebellum\",\"Cortex\",\"Cortex\",\"Cortex\",\"Cortex\",\"Cortex\",\"Cortex\",\"Cortex\",\"Hippocampus\",\"Hippocampus\",\"Hippocampus\",\"Hippocampus\",\"Hippocampus\",\"Hippocampus\",\"Striatum\",\"Striatum\",\"Striatum\",\"Striatum\",\"Striatum\",\"Striatum\"],\"x0\":\" \",\"xaxis\":\"x\",\"y\":[15.3271118021873,15.2111572800621,15.2232169515494,15.6026586283044,15.558716792051,15.5625073285103,14.0873776806795,12.0293410020601,13.1117491933449,12.9809753361526,13.1912859234993,13.0015799698529,16.8522133099756,16.5498517820282,16.3682673813893,16.7674917626162,16.7312743462626,17.0364102623102,16.6308190233525,16.4213938940536,16.9774313752858,16.8552575948485,16.6500220034691,16.9972392533895,17.0649572068402,16.4412700049656,16.3352333354905,16.118250213796,16.5867727619728,16.5564288453529,16.4118674811528],\"y0\":\" \",\"yaxis\":\"y\",\"type\":\"box\"},{\"alignmentgroup\":\"True\",\"hovertemplate\":\"cell type=PV-cre<br>regions=%{x}<br>values=%{y}<extra></extra>\",\"legendgroup\":\"PV-cre\",\"marker\":{\"color\":\"#9400D3\"},\"name\":\"PV-cre\",\"notched\":false,\"offsetgroup\":\"PV-cre\",\"orientation\":\"v\",\"showlegend\":true,\"x\":[\"Cortical IN\",\"Cortical IN\",\"Cortical IN\",\"Cortical IN\",\"Cortical IN\",\"Cortical IN\",\"Cortical IN\"],\"x0\":\" \",\"xaxis\":\"x\",\"y\":[12.7881560678475,12.3555703459884,12.2881556859414,12.1125612143829,11.8839236603368,12.4702985221006,12.8439996652991],\"y0\":\" \",\"yaxis\":\"y\",\"type\":\"box\"},{\"alignmentgroup\":\"True\",\"hovertemplate\":\"cell type=SST-cre<br>regions=%{x}<br>values=%{y}<extra></extra>\",\"legendgroup\":\"SST-cre\",\"marker\":{\"color\":\"#FFD700\"},\"name\":\"SST-cre\",\"notched\":false,\"offsetgroup\":\"SST-cre\",\"orientation\":\"v\",\"showlegend\":true,\"x\":[\"Cortical IN\",\"Cortical IN\",\"Cortical IN\",\"Cortical IN\",\"Cortical IN\",\"Cortical IN\",\"Cortical IN\"],\"x0\":\" \",\"xaxis\":\"x\",\"y\":[13.224560268923,12.7284498350973,13.2044413036403,12.9416557184611,12.5072778279437,13.3290355299272,13.2853469628678],\"y0\":\" \",\"yaxis\":\"y\",\"type\":\"box\"},{\"alignmentgroup\":\"True\",\"hovertemplate\":\"cell type=VIP-cre<br>regions=%{x}<br>values=%{y}<extra></extra>\",\"legendgroup\":\"VIP-cre\",\"marker\":{\"color\":\"#FFA500\"},\"name\":\"VIP-cre\",\"notched\":false,\"offsetgroup\":\"VIP-cre\",\"orientation\":\"v\",\"showlegend\":true,\"x\":[\"Cortical IN\",\"Cortical IN\",\"Cortical IN\",\"Cortical IN\",\"Cortical IN\",\"Cortical IN\",\"Cortical IN\",\"Cortical IN\"],\"x0\":\" \",\"xaxis\":\"x\",\"y\":[13.5474373007733,12.8760190345486,13.32056225651,12.7459829157208,13.1710805431969,12.8433489988348,12.7855808704244,12.5303586082888],\"y0\":\" \",\"yaxis\":\"y\",\"type\":\"box\"}],                        {\"template\":{\"data\":{\"barpolar\":[{\"marker\":{\"line\":{\"color\":\"white\",\"width\":0.5},\"pattern\":{\"fillmode\":\"overlay\",\"size\":10,\"solidity\":0.2}},\"type\":\"barpolar\"}],\"bar\":[{\"error_x\":{\"color\":\"#2a3f5f\"},\"error_y\":{\"color\":\"#2a3f5f\"},\"marker\":{\"line\":{\"color\":\"white\",\"width\":0.5},\"pattern\":{\"fillmode\":\"overlay\",\"size\":10,\"solidity\":0.2}},\"type\":\"bar\"}],\"carpet\":[{\"aaxis\":{\"endlinecolor\":\"#2a3f5f\",\"gridcolor\":\"#C8D4E3\",\"linecolor\":\"#C8D4E3\",\"minorgridcolor\":\"#C8D4E3\",\"startlinecolor\":\"#2a3f5f\"},\"baxis\":{\"endlinecolor\":\"#2a3f5f\",\"gridcolor\":\"#C8D4E3\",\"linecolor\":\"#C8D4E3\",\"minorgridcolor\":\"#C8D4E3\",\"startlinecolor\":\"#2a3f5f\"},\"type\":\"carpet\"}],\"choropleth\":[{\"colorbar\":{\"outlinewidth\":0,\"ticks\":\"\"},\"type\":\"choropleth\"}],\"contourcarpet\":[{\"colorbar\":{\"outlinewidth\":0,\"ticks\":\"\"},\"type\":\"contourcarpet\"}],\"contour\":[{\"colorbar\":{\"outlinewidth\":0,\"ticks\":\"\"},\"colorscale\":[[0.0,\"#0d0887\"],[0.1111111111111111,\"#46039f\"],[0.2222222222222222,\"#7201a8\"],[0.3333333333333333,\"#9c179e\"],[0.4444444444444444,\"#bd3786\"],[0.5555555555555556,\"#d8576b\"],[0.6666666666666666,\"#ed7953\"],[0.7777777777777778,\"#fb9f3a\"],[0.8888888888888888,\"#fdca26\"],[1.0,\"#f0f921\"]],\"type\":\"contour\"}],\"heatmapgl\":[{\"colorbar\":{\"outlinewidth\":0,\"ticks\":\"\"},\"colorscale\":[[0.0,\"#0d0887\"],[0.1111111111111111,\"#46039f\"],[0.2222222222222222,\"#7201a8\"],[0.3333333333333333,\"#9c179e\"],[0.4444444444444444,\"#bd3786\"],[0.5555555555555556,\"#d8576b\"],[0.6666666666666666,\"#ed7953\"],[0.7777777777777778,\"#fb9f3a\"],[0.8888888888888888,\"#fdca26\"],[1.0,\"#f0f921\"]],\"type\":\"heatmapgl\"}],\"heatmap\":[{\"colorbar\":{\"outlinewidth\":0,\"ticks\":\"\"},\"colorscale\":[[0.0,\"#0d0887\"],[0.1111111111111111,\"#46039f\"],[0.2222222222222222,\"#7201a8\"],[0.3333333333333333,\"#9c179e\"],[0.4444444444444444,\"#bd3786\"],[0.5555555555555556,\"#d8576b\"],[0.6666666666666666,\"#ed7953\"],[0.7777777777777778,\"#fb9f3a\"],[0.8888888888888888,\"#fdca26\"],[1.0,\"#f0f921\"]],\"type\":\"heatmap\"}],\"histogram2dcontour\":[{\"colorbar\":{\"outlinewidth\":0,\"ticks\":\"\"},\"colorscale\":[[0.0,\"#0d0887\"],[0.1111111111111111,\"#46039f\"],[0.2222222222222222,\"#7201a8\"],[0.3333333333333333,\"#9c179e\"],[0.4444444444444444,\"#bd3786\"],[0.5555555555555556,\"#d8576b\"],[0.6666666666666666,\"#ed7953\"],[0.7777777777777778,\"#fb9f3a\"],[0.8888888888888888,\"#fdca26\"],[1.0,\"#f0f921\"]],\"type\":\"histogram2dcontour\"}],\"histogram2d\":[{\"colorbar\":{\"outlinewidth\":0,\"ticks\":\"\"},\"colorscale\":[[0.0,\"#0d0887\"],[0.1111111111111111,\"#46039f\"],[0.2222222222222222,\"#7201a8\"],[0.3333333333333333,\"#9c179e\"],[0.4444444444444444,\"#bd3786\"],[0.5555555555555556,\"#d8576b\"],[0.6666666666666666,\"#ed7953\"],[0.7777777777777778,\"#fb9f3a\"],[0.8888888888888888,\"#fdca26\"],[1.0,\"#f0f921\"]],\"type\":\"histogram2d\"}],\"histogram\":[{\"marker\":{\"pattern\":{\"fillmode\":\"overlay\",\"size\":10,\"solidity\":0.2}},\"type\":\"histogram\"}],\"mesh3d\":[{\"colorbar\":{\"outlinewidth\":0,\"ticks\":\"\"},\"type\":\"mesh3d\"}],\"parcoords\":[{\"line\":{\"colorbar\":{\"outlinewidth\":0,\"ticks\":\"\"}},\"type\":\"parcoords\"}],\"pie\":[{\"automargin\":true,\"type\":\"pie\"}],\"scatter3d\":[{\"line\":{\"colorbar\":{\"outlinewidth\":0,\"ticks\":\"\"}},\"marker\":{\"colorbar\":{\"outlinewidth\":0,\"ticks\":\"\"}},\"type\":\"scatter3d\"}],\"scattercarpet\":[{\"marker\":{\"colorbar\":{\"outlinewidth\":0,\"ticks\":\"\"}},\"type\":\"scattercarpet\"}],\"scattergeo\":[{\"marker\":{\"colorbar\":{\"outlinewidth\":0,\"ticks\":\"\"}},\"type\":\"scattergeo\"}],\"scattergl\":[{\"marker\":{\"colorbar\":{\"outlinewidth\":0,\"ticks\":\"\"}},\"type\":\"scattergl\"}],\"scattermapbox\":[{\"marker\":{\"colorbar\":{\"outlinewidth\":0,\"ticks\":\"\"}},\"type\":\"scattermapbox\"}],\"scatterpolargl\":[{\"marker\":{\"colorbar\":{\"outlinewidth\":0,\"ticks\":\"\"}},\"type\":\"scatterpolargl\"}],\"scatterpolar\":[{\"marker\":{\"colorbar\":{\"outlinewidth\":0,\"ticks\":\"\"}},\"type\":\"scatterpolar\"}],\"scatter\":[{\"fillpattern\":{\"fillmode\":\"overlay\",\"size\":10,\"solidity\":0.2},\"type\":\"scatter\"}],\"scatterternary\":[{\"marker\":{\"colorbar\":{\"outlinewidth\":0,\"ticks\":\"\"}},\"type\":\"scatterternary\"}],\"surface\":[{\"colorbar\":{\"outlinewidth\":0,\"ticks\":\"\"},\"colorscale\":[[0.0,\"#0d0887\"],[0.1111111111111111,\"#46039f\"],[0.2222222222222222,\"#7201a8\"],[0.3333333333333333,\"#9c179e\"],[0.4444444444444444,\"#bd3786\"],[0.5555555555555556,\"#d8576b\"],[0.6666666666666666,\"#ed7953\"],[0.7777777777777778,\"#fb9f3a\"],[0.8888888888888888,\"#fdca26\"],[1.0,\"#f0f921\"]],\"type\":\"surface\"}],\"table\":[{\"cells\":{\"fill\":{\"color\":\"#EBF0F8\"},\"line\":{\"color\":\"white\"}},\"header\":{\"fill\":{\"color\":\"#C8D4E3\"},\"line\":{\"color\":\"white\"}},\"type\":\"table\"}]},\"layout\":{\"annotationdefaults\":{\"arrowcolor\":\"#2a3f5f\",\"arrowhead\":0,\"arrowwidth\":1},\"autotypenumbers\":\"strict\",\"coloraxis\":{\"colorbar\":{\"outlinewidth\":0,\"ticks\":\"\"}},\"colorscale\":{\"diverging\":[[0,\"#8e0152\"],[0.1,\"#c51b7d\"],[0.2,\"#de77ae\"],[0.3,\"#f1b6da\"],[0.4,\"#fde0ef\"],[0.5,\"#f7f7f7\"],[0.6,\"#e6f5d0\"],[0.7,\"#b8e186\"],[0.8,\"#7fbc41\"],[0.9,\"#4d9221\"],[1,\"#276419\"]],\"sequential\":[[0.0,\"#0d0887\"],[0.1111111111111111,\"#46039f\"],[0.2222222222222222,\"#7201a8\"],[0.3333333333333333,\"#9c179e\"],[0.4444444444444444,\"#bd3786\"],[0.5555555555555556,\"#d8576b\"],[0.6666666666666666,\"#ed7953\"],[0.7777777777777778,\"#fb9f3a\"],[0.8888888888888888,\"#fdca26\"],[1.0,\"#f0f921\"]],\"sequentialminus\":[[0.0,\"#0d0887\"],[0.1111111111111111,\"#46039f\"],[0.2222222222222222,\"#7201a8\"],[0.3333333333333333,\"#9c179e\"],[0.4444444444444444,\"#bd3786\"],[0.5555555555555556,\"#d8576b\"],[0.6666666666666666,\"#ed7953\"],[0.7777777777777778,\"#fb9f3a\"],[0.8888888888888888,\"#fdca26\"],[1.0,\"#f0f921\"]]},\"colorway\":[\"#636efa\",\"#EF553B\",\"#00cc96\",\"#ab63fa\",\"#FFA15A\",\"#19d3f3\",\"#FF6692\",\"#B6E880\",\"#FF97FF\",\"#FECB52\"],\"font\":{\"color\":\"#2a3f5f\"},\"geo\":{\"bgcolor\":\"white\",\"lakecolor\":\"white\",\"landcolor\":\"white\",\"showlakes\":true,\"showland\":true,\"subunitcolor\":\"#C8D4E3\"},\"hoverlabel\":{\"align\":\"left\"},\"hovermode\":\"closest\",\"mapbox\":{\"style\":\"light\"},\"paper_bgcolor\":\"white\",\"plot_bgcolor\":\"white\",\"polar\":{\"angularaxis\":{\"gridcolor\":\"#EBF0F8\",\"linecolor\":\"#EBF0F8\",\"ticks\":\"\"},\"bgcolor\":\"white\",\"radialaxis\":{\"gridcolor\":\"#EBF0F8\",\"linecolor\":\"#EBF0F8\",\"ticks\":\"\"}},\"scene\":{\"xaxis\":{\"backgroundcolor\":\"white\",\"gridcolor\":\"#DFE8F3\",\"gridwidth\":2,\"linecolor\":\"#EBF0F8\",\"showbackground\":true,\"ticks\":\"\",\"zerolinecolor\":\"#EBF0F8\"},\"yaxis\":{\"backgroundcolor\":\"white\",\"gridcolor\":\"#DFE8F3\",\"gridwidth\":2,\"linecolor\":\"#EBF0F8\",\"showbackground\":true,\"ticks\":\"\",\"zerolinecolor\":\"#EBF0F8\"},\"zaxis\":{\"backgroundcolor\":\"white\",\"gridcolor\":\"#DFE8F3\",\"gridwidth\":2,\"linecolor\":\"#EBF0F8\",\"showbackground\":true,\"ticks\":\"\",\"zerolinecolor\":\"#EBF0F8\"}},\"shapedefaults\":{\"line\":{\"color\":\"#2a3f5f\"}},\"ternary\":{\"aaxis\":{\"gridcolor\":\"#DFE8F3\",\"linecolor\":\"#A2B1C6\",\"ticks\":\"\"},\"baxis\":{\"gridcolor\":\"#DFE8F3\",\"linecolor\":\"#A2B1C6\",\"ticks\":\"\"},\"bgcolor\":\"white\",\"caxis\":{\"gridcolor\":\"#DFE8F3\",\"linecolor\":\"#A2B1C6\",\"ticks\":\"\"}},\"title\":{\"x\":0.05},\"xaxis\":{\"automargin\":true,\"gridcolor\":\"#EBF0F8\",\"linecolor\":\"#EBF0F8\",\"ticks\":\"\",\"title\":{\"standoff\":15},\"zerolinecolor\":\"#EBF0F8\",\"zerolinewidth\":2},\"yaxis\":{\"automargin\":true,\"gridcolor\":\"#EBF0F8\",\"linecolor\":\"#EBF0F8\",\"ticks\":\"\",\"title\":{\"standoff\":15},\"zerolinecolor\":\"#EBF0F8\",\"zerolinewidth\":2}}},\"xaxis\":{\"anchor\":\"y\",\"domain\":[0.0,1.0],\"title\":{\"text\":\"\"},\"categoryorder\":\"array\",\"categoryarray\":[\"Cortex\",\"Cortical IN\",\"Hippocampus\",\"Striatum\",\"Cerebellum\",\"OlfactoryBulb\"]},\"yaxis\":{\"anchor\":\"x\",\"domain\":[0.0,1.0],\"title\":{\"text\":\"protein abundance\"}},\"legend\":{\"title\":{\"text\":\"cell type\"},\"tracegroupgap\":0},\"title\":{\"text\":\"Abundance\"},\"boxmode\":\"group\",\"shapes\":[{\"line\":{\"color\":\"grey\",\"width\":0.5},\"type\":\"line\",\"x0\":0.5,\"x1\":0.5,\"xref\":\"x\",\"y0\":0,\"y1\":1,\"yref\":\"y domain\"},{\"line\":{\"color\":\"grey\",\"width\":0.5},\"type\":\"line\",\"x0\":1.5,\"x1\":1.5,\"xref\":\"x\",\"y0\":0,\"y1\":1,\"yref\":\"y domain\"},{\"line\":{\"color\":\"grey\",\"width\":0.5},\"type\":\"line\",\"x0\":2.5,\"x1\":2.5,\"xref\":\"x\",\"y0\":0,\"y1\":1,\"yref\":\"y domain\"},{\"line\":{\"color\":\"grey\",\"width\":0.5},\"type\":\"line\",\"x0\":3.5,\"x1\":3.5,\"xref\":\"x\",\"y0\":0,\"y1\":1,\"yref\":\"y domain\"},{\"line\":{\"color\":\"grey\",\"width\":0.5},\"type\":\"line\",\"x0\":4.5,\"x1\":4.5,\"xref\":\"x\",\"y0\":0,\"y1\":1,\"yref\":\"y domain\"}]},                        {\"responsive\": true}                    ).then(function(){\n",
       "                            \n",
       "var gd = document.getElementById('411b55a4-d6d5-4b19-a5c5-d74e7e9b32af');\n",
       "var x = new MutationObserver(function (mutations, observer) {{\n",
       "        var display = window.getComputedStyle(gd).display;\n",
       "        if (!display || display === 'none') {{\n",
       "            console.log([gd, 'removed!']);\n",
       "            Plotly.purge(gd);\n",
       "            observer.disconnect();\n",
       "        }}\n",
       "}});\n",
       "\n",
       "// Listen for the removal of the full notebook cells\n",
       "var notebookContainer = gd.closest('#notebook-container');\n",
       "if (notebookContainer) {{\n",
       "    x.observe(notebookContainer, {childList: true});\n",
       "}}\n",
       "\n",
       "// Listen for the clearing of the current output cell\n",
       "var outputEl = gd.closest('.output');\n",
       "if (outputEl) {{\n",
       "    x.observe(outputEl, {childList: true});\n",
       "}}\n",
       "\n",
       "                        })                };                });            </script>        </div>"
      ]
     },
     "metadata": {},
     "output_type": "display_data"
    }
   ],
   "source": [
    "### --- PLOT EXPRESSION --- ###\n",
    "search_key='Camk2a'\n",
    "search_term = df_info[df_info['gene'] == search_key].index[0]\n",
    "print(df_info['gene'].iloc[0])\n",
    "\n",
    "record = df_expressed.loc[search_term]\n",
    "list_regions = []\n",
    "list_celltypes = []\n",
    "list_values = []\n",
    "for key, value in record.items():\n",
    "    if value > 0:\n",
    "        key = re.sub(r'\\.\\d+$', '', key)\n",
    "        region, celltype = str.split(key, sep='.')\n",
    "        region = region.replace('CorticalInterneurons', 'Cortical IN')\n",
    "        list_regions.append(region)\n",
    "        list_celltypes.append(celltype)\n",
    "        list_values.append(value)\n",
    "df = pd.DataFrame({'values': list_values, 'regions': list_regions, 'cell type': list_celltypes})\n",
    "\n",
    "\n",
    "list_unq_region = ['Cortex', 'Cortical IN', 'Hippocampus', 'Striatum', 'Cerebellum', 'OlfactoryBulb']\n",
    "list_unq_mouse = ['Camk2a-cre', 'Dat1-cre', 'Syn1-cre', 'Gad2-cre', 'PV-cre', 'SST-cre', 'VIP-cre']\n",
    "\n",
    "color_map = {'Unsorted': '#708090', \n",
    "             'Camk2a-cre': '#1E90FF', \n",
    "             'Dat1-cre': '#00BFFF',\n",
    "             'Syn1-cre': '#32CD32',\n",
    "             'Gad2-cre': '#FF6347',\n",
    "             'PV-cre': '#9400D3',\n",
    "             'SST-cre': '#FFD700',\n",
    "             'VIP-cre': '#FFA500'}\n",
    "\n",
    "fig = px.box(df, x='regions', y='values', \n",
    "             color='cell type',\n",
    "             color_discrete_map=color_map,\n",
    "             title='Abundance',\n",
    "             category_orders={'regions': list_unq_region, 'mouse line': list_unq_mouse},\n",
    "             template='plotly_white')\n",
    "\n",
    "for vidx in range(len(list_unq_region) - 1):\n",
    "    fig.add_vline(x=vidx + .5, line_color='grey', line_width=0.5)\n",
    "\n",
    "    \n",
    "fig.update_layout(xaxis_title='',\n",
    "                  yaxis_title='protein abundance')\n",
    "    \n",
    "# # Show the plot\n",
    "fig.show()\n",
    "\n"
   ]
  },
  {
   "cell_type": "code",
   "execution_count": null,
   "id": "5d475995-7478-484f-8f47-00a419953aaa",
   "metadata": {},
   "outputs": [],
   "source": []
  }
 ],
 "metadata": {
  "kernelspec": {
   "display_name": "Python 3 (ipykernel)",
   "language": "python",
   "name": "python3"
  },
  "language_info": {
   "codemirror_mode": {
    "name": "ipython",
    "version": 3
   },
   "file_extension": ".py",
   "mimetype": "text/x-python",
   "name": "python",
   "nbconvert_exporter": "python",
   "pygments_lexer": "ipython3",
   "version": "3.11.4"
  }
 },
 "nbformat": 4,
 "nbformat_minor": 5
}
